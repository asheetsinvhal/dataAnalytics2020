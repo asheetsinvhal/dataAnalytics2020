{
  "nbformat": 4,
  "nbformat_minor": 0,
  "metadata": {
    "kernelspec": {
      "display_name": "Python 3",
      "language": "python",
      "name": "python3"
    },
    "language_info": {
      "codemirror_mode": {
        "name": "ipython",
        "version": 3
      },
      "file_extension": ".py",
      "mimetype": "text/x-python",
      "name": "python",
      "nbconvert_exporter": "python",
      "pygments_lexer": "ipython3",
      "version": "3.7.3"
    },
    "colab": {
      "name": "HRAx-Predict Empl Job change.ipynb",
      "provenance": []
    },
    "widgets": {
      "application/vnd.jupyter.widget-state+json": {
        "491be0756e3044988998ed272be6b8ef": {
          "model_module": "@jupyter-widgets/controls",
          "model_name": "IntProgressModel",
          "state": {
            "_view_name": "ProgressView",
            "style": "IPY_MODEL_55920f88c2624099a31cb1242f3dfb24",
            "_dom_classes": [],
            "description": "Processing: ",
            "_model_name": "IntProgressModel",
            "bar_style": "",
            "max": 13,
            "_view_module": "@jupyter-widgets/controls",
            "_model_module_version": "1.5.0",
            "value": 3,
            "_view_count": null,
            "_view_module_version": "1.5.0",
            "orientation": "horizontal",
            "min": 0,
            "description_tooltip": null,
            "_model_module": "@jupyter-widgets/controls",
            "layout": "IPY_MODEL_34f5a06d357342d6ad485d2d55de7be1"
          }
        },
        "55920f88c2624099a31cb1242f3dfb24": {
          "model_module": "@jupyter-widgets/controls",
          "model_name": "ProgressStyleModel",
          "state": {
            "_view_name": "StyleView",
            "_model_name": "ProgressStyleModel",
            "description_width": "",
            "_view_module": "@jupyter-widgets/base",
            "_model_module_version": "1.5.0",
            "_view_count": null,
            "_view_module_version": "1.2.0",
            "bar_color": null,
            "_model_module": "@jupyter-widgets/controls"
          }
        },
        "34f5a06d357342d6ad485d2d55de7be1": {
          "model_module": "@jupyter-widgets/base",
          "model_name": "LayoutModel",
          "state": {
            "_view_name": "LayoutView",
            "grid_template_rows": null,
            "right": null,
            "justify_content": null,
            "_view_module": "@jupyter-widgets/base",
            "overflow": null,
            "_model_module_version": "1.2.0",
            "_view_count": null,
            "flex_flow": null,
            "width": null,
            "min_width": null,
            "border": null,
            "align_items": null,
            "bottom": null,
            "_model_module": "@jupyter-widgets/base",
            "top": null,
            "grid_column": null,
            "overflow_y": null,
            "overflow_x": null,
            "grid_auto_flow": null,
            "grid_area": null,
            "grid_template_columns": null,
            "flex": null,
            "_model_name": "LayoutModel",
            "justify_items": null,
            "grid_row": null,
            "max_height": null,
            "align_content": null,
            "visibility": null,
            "align_self": null,
            "height": null,
            "min_height": null,
            "padding": null,
            "grid_auto_rows": null,
            "grid_gap": null,
            "max_width": null,
            "order": null,
            "_view_module_version": "1.2.0",
            "grid_template_areas": null,
            "object_position": null,
            "object_fit": null,
            "grid_auto_columns": null,
            "margin": null,
            "display": null,
            "left": null
          }
        },
        "7ca78d61282541bda8855aa84ac01a04": {
          "model_module": "@jupyter-widgets/controls",
          "model_name": "TextModel",
          "state": {
            "_view_name": "TextView",
            "style": "IPY_MODEL_51c8e771931a424ea6b4a101b5ed3a69",
            "_dom_classes": [],
            "description": "",
            "_model_name": "TextModel",
            "placeholder": "​",
            "_view_module": "@jupyter-widgets/controls",
            "_model_module_version": "1.5.0",
            "value": "Following data types have been inferred automatically, if they are correct press enter to continue or type 'quit' otherwise.",
            "_view_count": null,
            "disabled": false,
            "_view_module_version": "1.5.0",
            "continuous_update": true,
            "description_tooltip": null,
            "_model_module": "@jupyter-widgets/controls",
            "layout": "IPY_MODEL_1ed19058fd144085b1c7fbb2f5320272"
          }
        },
        "51c8e771931a424ea6b4a101b5ed3a69": {
          "model_module": "@jupyter-widgets/controls",
          "model_name": "DescriptionStyleModel",
          "state": {
            "_view_name": "StyleView",
            "_model_name": "DescriptionStyleModel",
            "description_width": "",
            "_view_module": "@jupyter-widgets/base",
            "_model_module_version": "1.5.0",
            "_view_count": null,
            "_view_module_version": "1.2.0",
            "_model_module": "@jupyter-widgets/controls"
          }
        },
        "1ed19058fd144085b1c7fbb2f5320272": {
          "model_module": "@jupyter-widgets/base",
          "model_name": "LayoutModel",
          "state": {
            "_view_name": "LayoutView",
            "grid_template_rows": null,
            "right": null,
            "justify_content": null,
            "_view_module": "@jupyter-widgets/base",
            "overflow": null,
            "_model_module_version": "1.2.0",
            "_view_count": null,
            "flex_flow": null,
            "width": "100%",
            "min_width": null,
            "border": null,
            "align_items": null,
            "bottom": null,
            "_model_module": "@jupyter-widgets/base",
            "top": null,
            "grid_column": null,
            "overflow_y": null,
            "overflow_x": null,
            "grid_auto_flow": null,
            "grid_area": null,
            "grid_template_columns": null,
            "flex": null,
            "_model_name": "LayoutModel",
            "justify_items": null,
            "grid_row": null,
            "max_height": null,
            "align_content": null,
            "visibility": null,
            "align_self": null,
            "height": null,
            "min_height": null,
            "padding": null,
            "grid_auto_rows": null,
            "grid_gap": null,
            "max_width": null,
            "order": null,
            "_view_module_version": "1.2.0",
            "grid_template_areas": null,
            "object_position": null,
            "object_fit": null,
            "grid_auto_columns": null,
            "margin": null,
            "display": null,
            "left": null
          }
        },
        "0f4bd49c0def450193598a6019d56396": {
          "model_module": "@jupyter-widgets/controls",
          "model_name": "IntProgressModel",
          "state": {
            "_view_name": "ProgressView",
            "style": "IPY_MODEL_ed0260438850465f97b2cc53d5c1e818",
            "_dom_classes": [],
            "description": "Processing: ",
            "_model_name": "IntProgressModel",
            "bar_style": "",
            "max": 170,
            "_view_module": "@jupyter-widgets/controls",
            "_model_module_version": "1.5.0",
            "value": 170,
            "_view_count": null,
            "_view_module_version": "1.5.0",
            "orientation": "horizontal",
            "min": 0,
            "description_tooltip": null,
            "_model_module": "@jupyter-widgets/controls",
            "layout": "IPY_MODEL_d09d2caca80946379dca6ae5edfd8eff"
          }
        },
        "ed0260438850465f97b2cc53d5c1e818": {
          "model_module": "@jupyter-widgets/controls",
          "model_name": "ProgressStyleModel",
          "state": {
            "_view_name": "StyleView",
            "_model_name": "ProgressStyleModel",
            "description_width": "",
            "_view_module": "@jupyter-widgets/base",
            "_model_module_version": "1.5.0",
            "_view_count": null,
            "_view_module_version": "1.2.0",
            "bar_color": null,
            "_model_module": "@jupyter-widgets/controls"
          }
        },
        "d09d2caca80946379dca6ae5edfd8eff": {
          "model_module": "@jupyter-widgets/base",
          "model_name": "LayoutModel",
          "state": {
            "_view_name": "LayoutView",
            "grid_template_rows": null,
            "right": null,
            "justify_content": null,
            "_view_module": "@jupyter-widgets/base",
            "overflow": null,
            "_model_module_version": "1.2.0",
            "_view_count": null,
            "flex_flow": null,
            "width": null,
            "min_width": null,
            "border": null,
            "align_items": null,
            "bottom": null,
            "_model_module": "@jupyter-widgets/base",
            "top": null,
            "grid_column": null,
            "overflow_y": null,
            "overflow_x": null,
            "grid_auto_flow": null,
            "grid_area": null,
            "grid_template_columns": null,
            "flex": null,
            "_model_name": "LayoutModel",
            "justify_items": null,
            "grid_row": null,
            "max_height": null,
            "align_content": null,
            "visibility": null,
            "align_self": null,
            "height": null,
            "min_height": null,
            "padding": null,
            "grid_auto_rows": null,
            "grid_gap": null,
            "max_width": null,
            "order": null,
            "_view_module_version": "1.2.0",
            "grid_template_areas": null,
            "object_position": null,
            "object_fit": null,
            "grid_auto_columns": null,
            "margin": null,
            "display": null,
            "left": null
          }
        }
      }
    }
  },
  "cells": [
    {
      "cell_type": "markdown",
      "metadata": {
        "id": "voeIdwbkQwY1",
        "colab_type": "text"
      },
      "source": [
        "### Classification problem"
      ]
    },
    {
      "cell_type": "markdown",
      "metadata": {
        "id": "YQ04cxDtQjTw",
        "colab_type": "text"
      },
      "source": [
        "#### To design a model that uses the current credentials/demographics/experience to predict the probability of an enrollee to look for a new job.\n",
        "\n",
        "Data Dictionary \n",
        "Variable\n",
        "\n",
        "Description\n",
        "\n",
        "enrollee_id\n",
        "-Unique ID for enrollee\n",
        "\n",
        "city\n",
        "-City code\n",
        "\n",
        "city_development_index\n",
        "-Developement index of the city (scaled)\n",
        "\n",
        "gender\n",
        "-Gender\n",
        "\n",
        "relevent_experience\n",
        "-Relevent experience\n",
        "\n",
        "enrolled_university\n",
        "-Type of University course enrolled if any\n",
        "\n",
        "education_level\n",
        "-Education level\n",
        "\n",
        "major_discipline\n",
        "-Major discipline\n",
        "\n",
        "experience\n",
        "-Total experience in years\n",
        "\n",
        "company_size\n",
        "-No of employees in current employer's company\n",
        "\n",
        "company_type\n",
        "-Type of current employer\n",
        "\n",
        "last_new_job\n",
        "-Difference in years between previous job and current job\n",
        "\n",
        "training_hours\n",
        "-training hours completed\n",
        "\n",
        "target\n",
        "\n",
        "0 – Not looking for job change, 1 – Looking for a job change\n",
        "\n",
        " \n",
        "\n",
        "Note that the dataset has a number of missing values and must be treated accordingly before fitting any model. You can refer to this article for a primer on how to deal with missing values.\n",
        "\n",
        "sample_submission.csv\n",
        "\n",
        "\n",
        "Column Name\tDescription\n",
        "enrollee_id\n",
        "\n",
        "Unique ID for enrollee\n",
        "\n",
        "\n",
        "target\n",
        "\n",
        "\n",
        "probability of an enrollee looking for a job change\n",
        "\n",
        "Evaluation Metric\n",
        "The evaluation metric for this competition is AUC-ROC score.\n",
        "\n"
      ]
    },
    {
      "cell_type": "markdown",
      "metadata": {
        "id": "uNT6T8IISaPr",
        "colab_type": "text"
      },
      "source": [
        "## Importing dataset"
      ]
    },
    {
      "cell_type": "code",
      "metadata": {
        "id": "1L7unlipP-YY",
        "colab_type": "code",
        "colab": {
          "base_uri": "https://localhost:8080/",
          "height": 72
        },
        "outputId": "197822fd-1f07-44a3-ffab-6f4f1db8d0a6"
      },
      "source": [
        "import pandas as pd\n",
        "import numpy as np\n",
        "import matplotlib.pyplot as plt\n",
        "%matplotlib inline\n",
        "import seaborn as sns\n",
        "plt.style.use('ggplot')\n",
        "import os\n",
        "import warnings\n",
        "warnings.filterwarnings('ignore')"
      ],
      "execution_count": 1,
      "outputs": [
        {
          "output_type": "stream",
          "text": [
            "/usr/local/lib/python3.6/dist-packages/statsmodels/tools/_testing.py:19: FutureWarning: pandas.util.testing is deprecated. Use the functions in the public API at pandas.testing instead.\n",
            "  import pandas.util.testing as tm\n"
          ],
          "name": "stderr"
        }
      ]
    },
    {
      "cell_type": "code",
      "metadata": {
        "id": "BE80dn5VP-Yt",
        "colab_type": "code",
        "colab": {}
      },
      "source": [
        "\n",
        "pd.options.display.max_columns = 100\n",
        "pd.options.display.max_rows = 200"
      ],
      "execution_count": 0,
      "outputs": []
    },
    {
      "cell_type": "code",
      "metadata": {
        "id": "IIdxiXSWP-Y5",
        "colab_type": "code",
        "colab": {}
      },
      "source": [
        "#path2 = 'D:/Programming/Python/Jupyter Notebook Files/Competitions/HR Analytics/JanataHack/'\n",
        "path = '/content/drive/My Drive/Colab Notebooks/Datasets/HR Analytics/'\n",
        "os.chdir(path)\n"
      ],
      "execution_count": 0,
      "outputs": []
    },
    {
      "cell_type": "code",
      "metadata": {
        "id": "0ZlVMbxPP-ZH",
        "colab_type": "code",
        "colab": {}
      },
      "source": [
        "train = pd.read_csv(path+'train_jqd04QH.csv')\n",
        "test = pd.read_csv(path+'test_KaymcHn.csv')"
      ],
      "execution_count": 0,
      "outputs": []
    },
    {
      "cell_type": "code",
      "metadata": {
        "id": "iwVh6v3hP-ZW",
        "colab_type": "code",
        "colab": {
          "base_uri": "https://localhost:8080/",
          "height": 291
        },
        "outputId": "6bb60674-057d-4338-f930-0871cbe3aabf"
      },
      "source": [
        "train.head()"
      ],
      "execution_count": 5,
      "outputs": [
        {
          "output_type": "execute_result",
          "data": {
            "text/html": [
              "<div>\n",
              "<style scoped>\n",
              "    .dataframe tbody tr th:only-of-type {\n",
              "        vertical-align: middle;\n",
              "    }\n",
              "\n",
              "    .dataframe tbody tr th {\n",
              "        vertical-align: top;\n",
              "    }\n",
              "\n",
              "    .dataframe thead th {\n",
              "        text-align: right;\n",
              "    }\n",
              "</style>\n",
              "<table border=\"1\" class=\"dataframe\">\n",
              "  <thead>\n",
              "    <tr style=\"text-align: right;\">\n",
              "      <th></th>\n",
              "      <th>enrollee_id</th>\n",
              "      <th>city</th>\n",
              "      <th>city_development_index</th>\n",
              "      <th>gender</th>\n",
              "      <th>relevent_experience</th>\n",
              "      <th>enrolled_university</th>\n",
              "      <th>education_level</th>\n",
              "      <th>major_discipline</th>\n",
              "      <th>experience</th>\n",
              "      <th>company_size</th>\n",
              "      <th>company_type</th>\n",
              "      <th>last_new_job</th>\n",
              "      <th>training_hours</th>\n",
              "      <th>target</th>\n",
              "    </tr>\n",
              "  </thead>\n",
              "  <tbody>\n",
              "    <tr>\n",
              "      <th>0</th>\n",
              "      <td>23798</td>\n",
              "      <td>city_149</td>\n",
              "      <td>0.689</td>\n",
              "      <td>Male</td>\n",
              "      <td>Has relevent experience</td>\n",
              "      <td>no_enrollment</td>\n",
              "      <td>Graduate</td>\n",
              "      <td>STEM</td>\n",
              "      <td>3</td>\n",
              "      <td>100-500</td>\n",
              "      <td>Pvt Ltd</td>\n",
              "      <td>1</td>\n",
              "      <td>106</td>\n",
              "      <td>0</td>\n",
              "    </tr>\n",
              "    <tr>\n",
              "      <th>1</th>\n",
              "      <td>29166</td>\n",
              "      <td>city_83</td>\n",
              "      <td>0.923</td>\n",
              "      <td>Male</td>\n",
              "      <td>Has relevent experience</td>\n",
              "      <td>no_enrollment</td>\n",
              "      <td>Graduate</td>\n",
              "      <td>STEM</td>\n",
              "      <td>14</td>\n",
              "      <td>&lt;10</td>\n",
              "      <td>Funded Startup</td>\n",
              "      <td>1</td>\n",
              "      <td>69</td>\n",
              "      <td>0</td>\n",
              "    </tr>\n",
              "    <tr>\n",
              "      <th>2</th>\n",
              "      <td>46</td>\n",
              "      <td>city_16</td>\n",
              "      <td>0.910</td>\n",
              "      <td>NaN</td>\n",
              "      <td>Has relevent experience</td>\n",
              "      <td>no_enrollment</td>\n",
              "      <td>Graduate</td>\n",
              "      <td>STEM</td>\n",
              "      <td>6</td>\n",
              "      <td>50-99</td>\n",
              "      <td>Public Sector</td>\n",
              "      <td>2</td>\n",
              "      <td>4</td>\n",
              "      <td>0</td>\n",
              "    </tr>\n",
              "    <tr>\n",
              "      <th>3</th>\n",
              "      <td>18527</td>\n",
              "      <td>city_64</td>\n",
              "      <td>0.666</td>\n",
              "      <td>Male</td>\n",
              "      <td>Has relevent experience</td>\n",
              "      <td>no_enrollment</td>\n",
              "      <td>Graduate</td>\n",
              "      <td>STEM</td>\n",
              "      <td>14</td>\n",
              "      <td>50-99</td>\n",
              "      <td>Pvt Ltd</td>\n",
              "      <td>1</td>\n",
              "      <td>26</td>\n",
              "      <td>0</td>\n",
              "    </tr>\n",
              "    <tr>\n",
              "      <th>4</th>\n",
              "      <td>21751</td>\n",
              "      <td>city_100</td>\n",
              "      <td>0.887</td>\n",
              "      <td>NaN</td>\n",
              "      <td>No relevent experience</td>\n",
              "      <td>no_enrollment</td>\n",
              "      <td>Masters</td>\n",
              "      <td>STEM</td>\n",
              "      <td>8</td>\n",
              "      <td>NaN</td>\n",
              "      <td>NaN</td>\n",
              "      <td>2</td>\n",
              "      <td>88</td>\n",
              "      <td>1</td>\n",
              "    </tr>\n",
              "  </tbody>\n",
              "</table>\n",
              "</div>"
            ],
            "text/plain": [
              "   enrollee_id      city  city_development_index gender  \\\n",
              "0        23798  city_149                   0.689   Male   \n",
              "1        29166   city_83                   0.923   Male   \n",
              "2           46   city_16                   0.910    NaN   \n",
              "3        18527   city_64                   0.666   Male   \n",
              "4        21751  city_100                   0.887    NaN   \n",
              "\n",
              "       relevent_experience enrolled_university education_level  \\\n",
              "0  Has relevent experience       no_enrollment        Graduate   \n",
              "1  Has relevent experience       no_enrollment        Graduate   \n",
              "2  Has relevent experience       no_enrollment        Graduate   \n",
              "3  Has relevent experience       no_enrollment        Graduate   \n",
              "4   No relevent experience       no_enrollment         Masters   \n",
              "\n",
              "  major_discipline experience company_size    company_type last_new_job  \\\n",
              "0             STEM          3      100-500         Pvt Ltd            1   \n",
              "1             STEM         14          <10  Funded Startup            1   \n",
              "2             STEM          6        50-99   Public Sector            2   \n",
              "3             STEM         14        50-99         Pvt Ltd            1   \n",
              "4             STEM          8          NaN             NaN            2   \n",
              "\n",
              "   training_hours  target  \n",
              "0             106       0  \n",
              "1              69       0  \n",
              "2               4       0  \n",
              "3              26       0  \n",
              "4              88       1  "
            ]
          },
          "metadata": {
            "tags": []
          },
          "execution_count": 5
        }
      ]
    },
    {
      "cell_type": "code",
      "metadata": {
        "id": "-M3ptCs9P-Zu",
        "colab_type": "code",
        "colab": {
          "base_uri": "https://localhost:8080/",
          "height": 239
        },
        "outputId": "171acf71-cc36-4b05-f6b3-fb9a6b289ab7"
      },
      "source": [
        "test.head()"
      ],
      "execution_count": 6,
      "outputs": [
        {
          "output_type": "execute_result",
          "data": {
            "text/html": [
              "<div>\n",
              "<style scoped>\n",
              "    .dataframe tbody tr th:only-of-type {\n",
              "        vertical-align: middle;\n",
              "    }\n",
              "\n",
              "    .dataframe tbody tr th {\n",
              "        vertical-align: top;\n",
              "    }\n",
              "\n",
              "    .dataframe thead th {\n",
              "        text-align: right;\n",
              "    }\n",
              "</style>\n",
              "<table border=\"1\" class=\"dataframe\">\n",
              "  <thead>\n",
              "    <tr style=\"text-align: right;\">\n",
              "      <th></th>\n",
              "      <th>enrollee_id</th>\n",
              "      <th>city</th>\n",
              "      <th>city_development_index</th>\n",
              "      <th>gender</th>\n",
              "      <th>relevent_experience</th>\n",
              "      <th>enrolled_university</th>\n",
              "      <th>education_level</th>\n",
              "      <th>major_discipline</th>\n",
              "      <th>experience</th>\n",
              "      <th>company_size</th>\n",
              "      <th>company_type</th>\n",
              "      <th>last_new_job</th>\n",
              "      <th>training_hours</th>\n",
              "    </tr>\n",
              "  </thead>\n",
              "  <tbody>\n",
              "    <tr>\n",
              "      <th>0</th>\n",
              "      <td>16548</td>\n",
              "      <td>city_33</td>\n",
              "      <td>0.448</td>\n",
              "      <td>NaN</td>\n",
              "      <td>No relevent experience</td>\n",
              "      <td>Full time course</td>\n",
              "      <td>Graduate</td>\n",
              "      <td>STEM</td>\n",
              "      <td>&lt;1</td>\n",
              "      <td>1000-4999</td>\n",
              "      <td>Public Sector</td>\n",
              "      <td>NaN</td>\n",
              "      <td>15</td>\n",
              "    </tr>\n",
              "    <tr>\n",
              "      <th>1</th>\n",
              "      <td>12036</td>\n",
              "      <td>city_28</td>\n",
              "      <td>0.939</td>\n",
              "      <td>Male</td>\n",
              "      <td>No relevent experience</td>\n",
              "      <td>no_enrollment</td>\n",
              "      <td>Graduate</td>\n",
              "      <td>STEM</td>\n",
              "      <td>&gt;20</td>\n",
              "      <td>50-99</td>\n",
              "      <td>Pvt Ltd</td>\n",
              "      <td>1</td>\n",
              "      <td>94</td>\n",
              "    </tr>\n",
              "    <tr>\n",
              "      <th>2</th>\n",
              "      <td>11061</td>\n",
              "      <td>city_103</td>\n",
              "      <td>0.920</td>\n",
              "      <td>Male</td>\n",
              "      <td>No relevent experience</td>\n",
              "      <td>Full time course</td>\n",
              "      <td>Graduate</td>\n",
              "      <td>STEM</td>\n",
              "      <td>3</td>\n",
              "      <td>NaN</td>\n",
              "      <td>NaN</td>\n",
              "      <td>1</td>\n",
              "      <td>17</td>\n",
              "    </tr>\n",
              "    <tr>\n",
              "      <th>3</th>\n",
              "      <td>5032</td>\n",
              "      <td>city_104</td>\n",
              "      <td>0.924</td>\n",
              "      <td>Male</td>\n",
              "      <td>No relevent experience</td>\n",
              "      <td>no_enrollment</td>\n",
              "      <td>Phd</td>\n",
              "      <td>STEM</td>\n",
              "      <td>&gt;20</td>\n",
              "      <td>50-99</td>\n",
              "      <td>Pvt Ltd</td>\n",
              "      <td>2</td>\n",
              "      <td>76</td>\n",
              "    </tr>\n",
              "    <tr>\n",
              "      <th>4</th>\n",
              "      <td>17599</td>\n",
              "      <td>city_77</td>\n",
              "      <td>0.830</td>\n",
              "      <td>Male</td>\n",
              "      <td>Has relevent experience</td>\n",
              "      <td>no_enrollment</td>\n",
              "      <td>Graduate</td>\n",
              "      <td>STEM</td>\n",
              "      <td>6</td>\n",
              "      <td>&lt;10</td>\n",
              "      <td>Pvt Ltd</td>\n",
              "      <td>2</td>\n",
              "      <td>65</td>\n",
              "    </tr>\n",
              "  </tbody>\n",
              "</table>\n",
              "</div>"
            ],
            "text/plain": [
              "   enrollee_id      city  city_development_index gender  \\\n",
              "0        16548   city_33                   0.448    NaN   \n",
              "1        12036   city_28                   0.939   Male   \n",
              "2        11061  city_103                   0.920   Male   \n",
              "3         5032  city_104                   0.924   Male   \n",
              "4        17599   city_77                   0.830   Male   \n",
              "\n",
              "       relevent_experience enrolled_university education_level  \\\n",
              "0   No relevent experience    Full time course        Graduate   \n",
              "1   No relevent experience       no_enrollment        Graduate   \n",
              "2   No relevent experience    Full time course        Graduate   \n",
              "3   No relevent experience       no_enrollment             Phd   \n",
              "4  Has relevent experience       no_enrollment        Graduate   \n",
              "\n",
              "  major_discipline experience company_size   company_type last_new_job  \\\n",
              "0             STEM         <1    1000-4999  Public Sector          NaN   \n",
              "1             STEM        >20        50-99        Pvt Ltd            1   \n",
              "2             STEM          3          NaN            NaN            1   \n",
              "3             STEM        >20        50-99        Pvt Ltd            2   \n",
              "4             STEM          6          <10        Pvt Ltd            2   \n",
              "\n",
              "   training_hours  \n",
              "0              15  \n",
              "1              94  \n",
              "2              17  \n",
              "3              76  \n",
              "4              65  "
            ]
          },
          "metadata": {
            "tags": []
          },
          "execution_count": 6
        }
      ]
    },
    {
      "cell_type": "code",
      "metadata": {
        "id": "u5998nFNP-Z9",
        "colab_type": "code",
        "colab": {
          "base_uri": "https://localhost:8080/",
          "height": 381
        },
        "outputId": "fd606f7a-d1b7-47c4-cf1d-bc727c07a920"
      },
      "source": [
        "train.info()"
      ],
      "execution_count": 7,
      "outputs": [
        {
          "output_type": "stream",
          "text": [
            "<class 'pandas.core.frame.DataFrame'>\n",
            "RangeIndex: 18359 entries, 0 to 18358\n",
            "Data columns (total 14 columns):\n",
            " #   Column                  Non-Null Count  Dtype  \n",
            "---  ------                  --------------  -----  \n",
            " 0   enrollee_id             18359 non-null  int64  \n",
            " 1   city                    18359 non-null  object \n",
            " 2   city_development_index  18359 non-null  float64\n",
            " 3   gender                  14261 non-null  object \n",
            " 4   relevent_experience     18359 non-null  object \n",
            " 5   enrolled_university     18017 non-null  object \n",
            " 6   education_level         17902 non-null  object \n",
            " 7   major_discipline        15521 non-null  object \n",
            " 8   experience              18300 non-null  object \n",
            " 9   company_size            13580 non-null  object \n",
            " 10  company_type            13320 non-null  object \n",
            " 11  last_new_job            17992 non-null  object \n",
            " 12  training_hours          18359 non-null  int64  \n",
            " 13  target                  18359 non-null  int64  \n",
            "dtypes: float64(1), int64(3), object(10)\n",
            "memory usage: 2.0+ MB\n"
          ],
          "name": "stdout"
        }
      ]
    },
    {
      "cell_type": "code",
      "metadata": {
        "id": "UU96MP1jP-aN",
        "colab_type": "code",
        "colab": {
          "base_uri": "https://localhost:8080/",
          "height": 364
        },
        "outputId": "1fc38682-b6fa-488c-8e28-ae519b7342a1"
      },
      "source": [
        "test.info()"
      ],
      "execution_count": 8,
      "outputs": [
        {
          "output_type": "stream",
          "text": [
            "<class 'pandas.core.frame.DataFrame'>\n",
            "RangeIndex: 15021 entries, 0 to 15020\n",
            "Data columns (total 13 columns):\n",
            " #   Column                  Non-Null Count  Dtype  \n",
            "---  ------                  --------------  -----  \n",
            " 0   enrollee_id             15021 non-null  int64  \n",
            " 1   city                    15021 non-null  object \n",
            " 2   city_development_index  15021 non-null  float64\n",
            " 3   gender                  11633 non-null  object \n",
            " 4   relevent_experience     15021 non-null  object \n",
            " 5   enrolled_university     14742 non-null  object \n",
            " 6   education_level         14626 non-null  object \n",
            " 7   major_discipline        12628 non-null  object \n",
            " 8   experience              14977 non-null  object \n",
            " 9   company_size            10970 non-null  object \n",
            " 10  company_type            10691 non-null  object \n",
            " 11  last_new_job            14717 non-null  object \n",
            " 12  training_hours          15021 non-null  int64  \n",
            "dtypes: float64(1), int64(2), object(10)\n",
            "memory usage: 1.5+ MB\n"
          ],
          "name": "stdout"
        }
      ]
    },
    {
      "cell_type": "code",
      "metadata": {
        "id": "-Dpeme4FP-aX",
        "colab_type": "code",
        "colab": {
          "base_uri": "https://localhost:8080/",
          "height": 294
        },
        "outputId": "bfc33898-f3a6-4abd-bf96-7d35f4bf62e0"
      },
      "source": [
        "train.describe()"
      ],
      "execution_count": 9,
      "outputs": [
        {
          "output_type": "execute_result",
          "data": {
            "text/html": [
              "<div>\n",
              "<style scoped>\n",
              "    .dataframe tbody tr th:only-of-type {\n",
              "        vertical-align: middle;\n",
              "    }\n",
              "\n",
              "    .dataframe tbody tr th {\n",
              "        vertical-align: top;\n",
              "    }\n",
              "\n",
              "    .dataframe thead th {\n",
              "        text-align: right;\n",
              "    }\n",
              "</style>\n",
              "<table border=\"1\" class=\"dataframe\">\n",
              "  <thead>\n",
              "    <tr style=\"text-align: right;\">\n",
              "      <th></th>\n",
              "      <th>enrollee_id</th>\n",
              "      <th>city_development_index</th>\n",
              "      <th>training_hours</th>\n",
              "      <th>target</th>\n",
              "    </tr>\n",
              "  </thead>\n",
              "  <tbody>\n",
              "    <tr>\n",
              "      <th>count</th>\n",
              "      <td>18359.000000</td>\n",
              "      <td>18359.000000</td>\n",
              "      <td>18359.000000</td>\n",
              "      <td>18359.000000</td>\n",
              "    </tr>\n",
              "    <tr>\n",
              "      <th>mean</th>\n",
              "      <td>16729.360096</td>\n",
              "      <td>0.847140</td>\n",
              "      <td>65.899014</td>\n",
              "      <td>0.132088</td>\n",
              "    </tr>\n",
              "    <tr>\n",
              "      <th>std</th>\n",
              "      <td>9643.749725</td>\n",
              "      <td>0.110189</td>\n",
              "      <td>60.885300</td>\n",
              "      <td>0.338595</td>\n",
              "    </tr>\n",
              "    <tr>\n",
              "      <th>min</th>\n",
              "      <td>1.000000</td>\n",
              "      <td>0.448000</td>\n",
              "      <td>1.000000</td>\n",
              "      <td>0.000000</td>\n",
              "    </tr>\n",
              "    <tr>\n",
              "      <th>25%</th>\n",
              "      <td>8378.500000</td>\n",
              "      <td>0.796000</td>\n",
              "      <td>23.000000</td>\n",
              "      <td>0.000000</td>\n",
              "    </tr>\n",
              "    <tr>\n",
              "      <th>50%</th>\n",
              "      <td>16706.000000</td>\n",
              "      <td>0.910000</td>\n",
              "      <td>47.000000</td>\n",
              "      <td>0.000000</td>\n",
              "    </tr>\n",
              "    <tr>\n",
              "      <th>75%</th>\n",
              "      <td>25148.500000</td>\n",
              "      <td>0.920000</td>\n",
              "      <td>89.000000</td>\n",
              "      <td>0.000000</td>\n",
              "    </tr>\n",
              "    <tr>\n",
              "      <th>max</th>\n",
              "      <td>33380.000000</td>\n",
              "      <td>0.949000</td>\n",
              "      <td>336.000000</td>\n",
              "      <td>1.000000</td>\n",
              "    </tr>\n",
              "  </tbody>\n",
              "</table>\n",
              "</div>"
            ],
            "text/plain": [
              "        enrollee_id  city_development_index  training_hours        target\n",
              "count  18359.000000            18359.000000    18359.000000  18359.000000\n",
              "mean   16729.360096                0.847140       65.899014      0.132088\n",
              "std     9643.749725                0.110189       60.885300      0.338595\n",
              "min        1.000000                0.448000        1.000000      0.000000\n",
              "25%     8378.500000                0.796000       23.000000      0.000000\n",
              "50%    16706.000000                0.910000       47.000000      0.000000\n",
              "75%    25148.500000                0.920000       89.000000      0.000000\n",
              "max    33380.000000                0.949000      336.000000      1.000000"
            ]
          },
          "metadata": {
            "tags": []
          },
          "execution_count": 9
        }
      ]
    },
    {
      "cell_type": "markdown",
      "metadata": {
        "id": "6w-JKsQtSii9",
        "colab_type": "text"
      },
      "source": [
        "## Missing values\n",
        "As there are missing values in the dataset, we will find out which features have missing values and the percentage of missing values"
      ]
    },
    {
      "cell_type": "code",
      "metadata": {
        "id": "jiHSsyXUP-ae",
        "colab_type": "code",
        "colab": {}
      },
      "source": [
        "def missing_values_table(df):\n",
        "    mis_val = df.isnull().sum()\n",
        "    mis_val_percent = 100 * df.isnull().mean()\n",
        "    mis_val_table = pd.concat([mis_val, mis_val_percent], axis=1)\n",
        "    mis_val_table_ren_columns = mis_val_table.rename(columns = {0 : 'Missing Values', 1 : '% of Total Values'})\n",
        "    mis_val_table_ren_columns = mis_val_table_ren_columns[mis_val_table_ren_columns.iloc[:,1] != 0].sort_values(\n",
        "                                                            '% of Total Values', ascending=False).round(3)\n",
        "    print (\"Your selected dataframe has \" + str(df.shape[1]) + \" columns.\\n\"     \n",
        "            \"There are \" + str(mis_val_table_ren_columns.shape[0]) + \" columns that have missing values.\")\n",
        "    return mis_val_table_ren_columns"
      ],
      "execution_count": 0,
      "outputs": []
    },
    {
      "cell_type": "code",
      "metadata": {
        "id": "voeTO3VzP-am",
        "colab_type": "code",
        "colab": {
          "base_uri": "https://localhost:8080/",
          "height": 329
        },
        "outputId": "9082ea1d-19ce-46fd-ee51-b49cb912b8bd"
      },
      "source": [
        "missing_values_table(train)"
      ],
      "execution_count": 11,
      "outputs": [
        {
          "output_type": "stream",
          "text": [
            "Your selected dataframe has 14 columns.\n",
            "There are 8 columns that have missing values.\n"
          ],
          "name": "stdout"
        },
        {
          "output_type": "execute_result",
          "data": {
            "text/html": [
              "<div>\n",
              "<style scoped>\n",
              "    .dataframe tbody tr th:only-of-type {\n",
              "        vertical-align: middle;\n",
              "    }\n",
              "\n",
              "    .dataframe tbody tr th {\n",
              "        vertical-align: top;\n",
              "    }\n",
              "\n",
              "    .dataframe thead th {\n",
              "        text-align: right;\n",
              "    }\n",
              "</style>\n",
              "<table border=\"1\" class=\"dataframe\">\n",
              "  <thead>\n",
              "    <tr style=\"text-align: right;\">\n",
              "      <th></th>\n",
              "      <th>Missing Values</th>\n",
              "      <th>% of Total Values</th>\n",
              "    </tr>\n",
              "  </thead>\n",
              "  <tbody>\n",
              "    <tr>\n",
              "      <th>company_type</th>\n",
              "      <td>5039</td>\n",
              "      <td>27.447</td>\n",
              "    </tr>\n",
              "    <tr>\n",
              "      <th>company_size</th>\n",
              "      <td>4779</td>\n",
              "      <td>26.031</td>\n",
              "    </tr>\n",
              "    <tr>\n",
              "      <th>gender</th>\n",
              "      <td>4098</td>\n",
              "      <td>22.321</td>\n",
              "    </tr>\n",
              "    <tr>\n",
              "      <th>major_discipline</th>\n",
              "      <td>2838</td>\n",
              "      <td>15.458</td>\n",
              "    </tr>\n",
              "    <tr>\n",
              "      <th>education_level</th>\n",
              "      <td>457</td>\n",
              "      <td>2.489</td>\n",
              "    </tr>\n",
              "    <tr>\n",
              "      <th>last_new_job</th>\n",
              "      <td>367</td>\n",
              "      <td>1.999</td>\n",
              "    </tr>\n",
              "    <tr>\n",
              "      <th>enrolled_university</th>\n",
              "      <td>342</td>\n",
              "      <td>1.863</td>\n",
              "    </tr>\n",
              "    <tr>\n",
              "      <th>experience</th>\n",
              "      <td>59</td>\n",
              "      <td>0.321</td>\n",
              "    </tr>\n",
              "  </tbody>\n",
              "</table>\n",
              "</div>"
            ],
            "text/plain": [
              "                     Missing Values  % of Total Values\n",
              "company_type                   5039             27.447\n",
              "company_size                   4779             26.031\n",
              "gender                         4098             22.321\n",
              "major_discipline               2838             15.458\n",
              "education_level                 457              2.489\n",
              "last_new_job                    367              1.999\n",
              "enrolled_university             342              1.863\n",
              "experience                       59              0.321"
            ]
          },
          "metadata": {
            "tags": []
          },
          "execution_count": 11
        }
      ]
    },
    {
      "cell_type": "markdown",
      "metadata": {
        "id": "0Aj9SM3eP-as",
        "colab_type": "text"
      },
      "source": [
        "## Exploratory data analysis"
      ]
    },
    {
      "cell_type": "markdown",
      "metadata": {
        "id": "vTdQ4NAKSyC4",
        "colab_type": "text"
      },
      "source": [
        "### Target variable"
      ]
    },
    {
      "cell_type": "code",
      "metadata": {
        "id": "J2h2PwxuP-au",
        "colab_type": "code",
        "colab": {
          "base_uri": "https://localhost:8080/",
          "height": 299
        },
        "outputId": "f4a9d8d2-890b-4374-c5b3-f1a82b6e117b"
      },
      "source": [
        "sns.countplot(train['target']);\n",
        "plt.title(\"Distribution of Target Variable\");"
      ],
      "execution_count": 12,
      "outputs": [
        {
          "output_type": "display_data",
          "data": {
            "image/png": "[encoded data removed]",
            "text/plain": [
              "<Figure size 432x288 with 1 Axes>"
            ]
          },
          "metadata": {
            "tags": [],
            "needs_background": "light"
          }
        }
      ]
    },
    {
      "cell_type": "code",
      "metadata": {
        "id": "152xmICZP-a2",
        "colab_type": "code",
        "colab": {
          "base_uri": "https://localhost:8080/",
          "height": 69
        },
        "outputId": "6aa2cca6-5f48-4734-8257-21f50f230749"
      },
      "source": [
        "train['target'].value_counts(dropna=False)/len(train)"
      ],
      "execution_count": 13,
      "outputs": [
        {
          "output_type": "execute_result",
          "data": {
            "text/plain": [
              "0    0.867912\n",
              "1    0.132088\n",
              "Name: target, dtype: float64"
            ]
          },
          "metadata": {
            "tags": []
          },
          "execution_count": 13
        }
      ]
    },
    {
      "cell_type": "code",
      "metadata": {
        "id": "d0SLkdD3P-a8",
        "colab_type": "code",
        "colab": {
          "base_uri": "https://localhost:8080/",
          "height": 300
        },
        "outputId": "2b551f23-10d5-4a55-92ce-a41d7564d7af"
      },
      "source": [
        "sns.countplot(train['city']);\n",
        "plt.title(\"Distribution of City Variable\");"
      ],
      "execution_count": 14,
      "outputs": [
        {
          "output_type": "display_data",
          "data": {
            "image/png": "[encoded data removed]",
            "text/plain": [
              "<Figure size 432x288 with 1 Axes>"
            ]
          },
          "metadata": {
            "tags": [],
            "needs_background": "light"
          }
        }
      ]
    },
    {
      "cell_type": "markdown",
      "metadata": {
        "id": "hNInvsg1P-bD",
        "colab_type": "text"
      },
      "source": [
        "Making a better plot"
      ]
    },
    {
      "cell_type": "code",
      "metadata": {
        "id": "zNsY-JDOP-bE",
        "colab_type": "code",
        "colab": {
          "base_uri": "https://localhost:8080/",
          "height": 395
        },
        "outputId": "22a10773-3b62-435d-c1cf-14c46dcaa9f4"
      },
      "source": [
        "plt.figure(figsize=(16,6));\n",
        "sns.barplot(x=train['city'].value_counts(dropna=False).index.values,y=train['city'].value_counts(dropna=False).values);\n",
        "plt.xticks(rotation=90);\n",
        "plt.xlabel(\"City_Id\");\n",
        "plt.ylabel(\"Count\");\n",
        "plt.title(\"Count of City_Id's\");"
      ],
      "execution_count": 15,
      "outputs": [
        {
          "output_type": "display_data",
          "data": {
            "image/png": "[encoded data removed]",
            "text/plain": [
              "<Figure size 1152x432 with 1 Axes>"
            ]
          },
          "metadata": {
            "tags": [],
            "needs_background": "light"
          }
        }
      ]
    },
    {
      "cell_type": "code",
      "metadata": {
        "id": "0hWtuHrgP-bK",
        "colab_type": "code",
        "colab": {
          "base_uri": "https://localhost:8080/",
          "height": 177
        },
        "outputId": "aa35f2e4-210e-4258-afbb-6601d2e4e876"
      },
      "source": [
        "y = 'target'\n",
        "cols = [ i for i in train.columns if train.dtypes[i] != 'object']\n",
        "cols.remove(y)\n",
        "\n",
        "final = pd.melt(train, id_vars=y, value_vars=cols)\n",
        "gph = sns.FacetGrid(final, col=\"variable\", col_wrap=5, sharex=False, sharey=False, hue=y,palette='husl' )\n",
        "gph = gph.map(sns.distplot,\"value\", kde=True).add_legend()"
      ],
      "execution_count": 16,
      "outputs": [
        {
          "output_type": "display_data",
          "data": {
            "image/png": "[encoded data removed]",
            "text/plain": [
              "<Figure size 1122.38x216 with 3 Axes>"
            ]
          },
          "metadata": {
            "tags": [],
            "needs_background": "light"
          }
        }
      ]
    },
    {
      "cell_type": "markdown",
      "metadata": {
        "id": "nYXQhiGnS52p",
        "colab_type": "text"
      },
      "source": [
        "The training hours variable needs furthur analysis as it has values lesser than 10 hours which does not make sense."
      ]
    },
    {
      "cell_type": "code",
      "metadata": {
        "id": "JuAe4GrmVJ5u",
        "colab_type": "code",
        "colab": {
          "base_uri": "https://localhost:8080/",
          "height": 173
        },
        "outputId": "88a43383-c22a-4853-b8ab-256c67130dcb"
      },
      "source": [
        "train['training_hours'].describe()"
      ],
      "execution_count": 17,
      "outputs": [
        {
          "output_type": "execute_result",
          "data": {
            "text/plain": [
              "count    18359.000000\n",
              "mean        65.899014\n",
              "std         60.885300\n",
              "min          1.000000\n",
              "25%         23.000000\n",
              "50%         47.000000\n",
              "75%         89.000000\n",
              "max        336.000000\n",
              "Name: training_hours, dtype: float64"
            ]
          },
          "metadata": {
            "tags": []
          },
          "execution_count": 17
        }
      ]
    },
    {
      "cell_type": "code",
      "metadata": {
        "id": "g31Icx2DVJm-",
        "colab_type": "code",
        "colab": {
          "base_uri": "https://localhost:8080/",
          "height": 299
        },
        "outputId": "c171c587-254e-492e-8acd-16cdc400716c"
      },
      "source": [
        "sns.distplot(train['training_hours'])"
      ],
      "execution_count": 18,
      "outputs": [
        {
          "output_type": "execute_result",
          "data": {
            "text/plain": [
              "<matplotlib.axes._subplots.AxesSubplot at 0x7f43679029e8>"
            ]
          },
          "metadata": {
            "tags": []
          },
          "execution_count": 18
        },
        {
          "output_type": "display_data",
          "data": {
            "image/png": "[encoded data removed]",
            "text/plain": [
              "<Figure size 432x288 with 1 Axes>"
            ]
          },
          "metadata": {
            "tags": [],
            "needs_background": "light"
          }
        }
      ]
    },
    {
      "cell_type": "code",
      "metadata": {
        "id": "dwCMQdsAVSeg",
        "colab_type": "code",
        "colab": {
          "base_uri": "https://localhost:8080/",
          "height": 299
        },
        "outputId": "4d47a040-42e7-4d0c-fdcf-4682289e0543"
      },
      "source": [
        "sns.boxplot(train['training_hours'])"
      ],
      "execution_count": 19,
      "outputs": [
        {
          "output_type": "execute_result",
          "data": {
            "text/plain": [
              "<matplotlib.axes._subplots.AxesSubplot at 0x7f43631acef0>"
            ]
          },
          "metadata": {
            "tags": []
          },
          "execution_count": 19
        },
        {
          "output_type": "display_data",
          "data": {
            "image/png": "[encoded data removed]",
            "text/plain": [
              "<Figure size 432x288 with 1 Axes>"
            ]
          },
          "metadata": {
            "tags": [],
            "needs_background": "light"
          }
        }
      ]
    },
    {
      "cell_type": "markdown",
      "metadata": {
        "id": "VIuNdMyPVkaP",
        "colab_type": "text"
      },
      "source": [
        "We can drop off values ~180 hours as they might distort our classification model"
      ]
    },
    {
      "cell_type": "code",
      "metadata": {
        "id": "s8BbXeK5P-bN",
        "colab_type": "code",
        "colab": {
          "base_uri": "https://localhost:8080/",
          "height": 1000
        },
        "outputId": "7261f199-0bdc-4d08-83a5-de06f3a3138f"
      },
      "source": [
        "for x in train.columns:\n",
        "    print(x+':')\n",
        "    print(train[x].unique())"
      ],
      "execution_count": 20,
      "outputs": [
        {
          "output_type": "stream",
          "text": [
            "enrollee_id:\n",
            "[23798 29166    46 ... 11514  1689  5995]\n",
            "city:\n",
            "['city_149' 'city_83' 'city_16' 'city_64' 'city_100' 'city_21' 'city_114'\n",
            " 'city_103' 'city_97' 'city_160' 'city_65' 'city_90' 'city_75' 'city_136'\n",
            " 'city_159' 'city_67' 'city_28' 'city_10' 'city_73' 'city_76' 'city_104'\n",
            " 'city_27' 'city_30' 'city_61' 'city_99' 'city_41' 'city_142' 'city_9'\n",
            " 'city_116' 'city_128' 'city_74' 'city_69' 'city_1' 'city_176' 'city_40'\n",
            " 'city_123' 'city_152' 'city_165' 'city_89' 'city_36' 'city_44' 'city_46'\n",
            " 'city_45' 'city_134' 'city_93' 'city_180' 'city_162' 'city_84' 'city_138'\n",
            " 'city_173' 'city_19' 'city_71' 'city_158' 'city_23' 'city_102' 'city_105'\n",
            " 'city_91' 'city_11' 'city_13' 'city_57' 'city_20' 'city_14' 'city_37'\n",
            " 'city_115' 'city_50' 'city_167' 'city_12' 'city_143' 'city_126' 'city_77'\n",
            " 'city_101' 'city_150' 'city_179' 'city_107' 'city_175' 'city_146'\n",
            " 'city_98' 'city_166' 'city_118' 'city_129' 'city_127' 'city_24' 'city_81'\n",
            " 'city_26' 'city_139' 'city_94' 'city_70' 'city_145' 'city_157' 'city_111'\n",
            " 'city_78' 'city_80' 'city_33' 'city_7' 'city_72' 'city_43' 'city_144'\n",
            " 'city_39' 'city_59' 'city_48' 'city_131' 'city_121' 'city_141' 'city_42'\n",
            " 'city_117' 'city_55' 'city_54' 'city_8' 'city_62' 'city_53' 'city_106'\n",
            " 'city_155' 'city_133' 'city_171' 'city_2' 'city_120' 'city_18' 'city_79'\n",
            " 'city_31' 'city_109' 'city_25' 'city_82' 'city_140']\n",
            "city_development_index:\n",
            "[0.689 0.923 0.91  0.666 0.887 0.624 0.926 0.92  0.925 0.802 0.698 0.939\n",
            " 0.897 0.843 0.855 0.895 0.754 0.924 0.848 0.913 0.915 0.827 0.727 0.743\n",
            " 0.527 0.579 0.856 0.847 0.764 0.776 0.738 0.903 0.893 0.725 0.762 0.89\n",
            " 0.865 0.767 0.836 0.878 0.682 0.884 0.766 0.899 0.804 0.794 0.691 0.55\n",
            " 0.866 0.796 0.789 0.896 0.921 0.64  0.74  0.479 0.83  0.558 0.512 0.518\n",
            " 0.735 0.949 0.649 0.722 0.625 0.745 0.73  0.487 0.555 0.769 0.448 0.647\n",
            " 0.795 0.516 0.84  0.898 0.775 0.493 0.68  0.781 0.763 0.563 0.739 0.645\n",
            " 0.556 0.742 0.664 0.788 0.78  0.824 0.807 0.701 0.693]\n",
            "gender:\n",
            "['Male' nan 'Female' 'Other']\n",
            "relevent_experience:\n",
            "['Has relevent experience' 'No relevent experience']\n",
            "enrolled_university:\n",
            "['no_enrollment' 'Full time course' 'Part time course' nan]\n",
            "education_level:\n",
            "['Graduate' 'Masters' 'High School' 'Phd' nan 'Primary School']\n",
            "major_discipline:\n",
            "['STEM' 'Other' 'No Major' nan 'Business Degree' 'Arts' 'Humanities']\n",
            "experience:\n",
            "['3' '14' '6' '8' '>20' '4' '9' '15' '10' '1' '5' '16' '11' '12' '7' '2'\n",
            " '13' '<1' '19' '18' '17' nan '20']\n",
            "company_size:\n",
            "['100-500' '<10' '50-99' nan '5000-9999' '10000+' '1000-4999' '500-999'\n",
            " '10/49']\n",
            "company_type:\n",
            "['Pvt Ltd' 'Funded Startup' 'Public Sector' nan 'Early Stage Startup'\n",
            " 'NGO' 'Other']\n",
            "last_new_job:\n",
            "['1' '2' '3' '>4' 'never' '4' nan]\n",
            "training_hours:\n",
            "[106  69   4  26  88  34  23   8  10  85  55  13  51  28  35  42  45  11\n",
            "  12  54  89  41 298 101 114 104  53  39  20 109   3  68 262  16  22  67\n",
            "  43   7  30   9 112  21 166 110  18  79  98  65  61  44 170 132 145  48\n",
            "  46  37  86  96  33 152 168 128 102   6  50  36  90 164  56  32  17 126\n",
            "  72  15  80  25  31 160  66  24 200  47  83  58  29 206  14 105  91 218\n",
            "  75  57  19 144  92  94 184  62 140  52 258 178 270 108 157 156 123  59\n",
            "  82  60   2 196  95  84   5 146 202 100 111 254  27 336  64 107  76  38\n",
            " 134 330 204 320  74  73  40  87 316 118 122 282 248 153 147  70 131 113\n",
            " 216 292  81 176  78 222 163  63 280 210 294 264 155  77  97 224 180 236\n",
            " 125 162 116 158 256  49  71 326   1 238 124 268 214 192 232 276 165 138\n",
            " 310 167 288 117  99 198 240 119 136 139 150 266 220 172 133 284 272 312\n",
            " 306 130 154 188 174 182 332 290 120 121 328 190 308 278 322 244 324 143\n",
            " 194 129 103 246 127 142 151 212 300 314 135 250 234 149 141 161 148 242\n",
            " 226 304 228 260 286 302 334]\n",
            "target:\n",
            "[0 1]\n"
          ],
          "name": "stdout"
        }
      ]
    },
    {
      "cell_type": "markdown",
      "metadata": {
        "id": "KkPFuYXVP-bR",
        "colab_type": "text"
      },
      "source": [
        "## Preprocessing"
      ]
    },
    {
      "cell_type": "code",
      "metadata": {
        "id": "eYOyAfIpP-bS",
        "colab_type": "code",
        "colab": {
          "base_uri": "https://localhost:8080/",
          "height": 299
        },
        "outputId": "b5d2f7f3-cd46-4d95-f6fd-4bf062d4c507"
      },
      "source": [
        "sns.countplot(train['gender']);\n",
        "plt.title(\"Distribution of Gender Variable\");"
      ],
      "execution_count": 21,
      "outputs": [
        {
          "output_type": "display_data",
          "data": {
            "image/png": "[encoded data removed]",
            "text/plain": [
              "<Figure size 432x288 with 1 Axes>"
            ]
          },
          "metadata": {
            "tags": [],
            "needs_background": "light"
          }
        }
      ]
    },
    {
      "cell_type": "code",
      "metadata": {
        "id": "pq_nx1moWVJX",
        "colab_type": "code",
        "colab": {
          "base_uri": "https://localhost:8080/",
          "height": 104
        },
        "outputId": "c880fa08-42a3-445c-cda8-01d2f0442ca2"
      },
      "source": [
        "train['gender'].value_counts(dropna=False)/len(train)"
      ],
      "execution_count": 22,
      "outputs": [
        {
          "output_type": "execute_result",
          "data": {
            "text/plain": [
              "Male      0.701781\n",
              "NaN       0.223215\n",
              "Female    0.064709\n",
              "Other     0.010295\n",
              "Name: gender, dtype: float64"
            ]
          },
          "metadata": {
            "tags": []
          },
          "execution_count": 22
        }
      ]
    },
    {
      "cell_type": "code",
      "metadata": {
        "id": "-V-JO00HP-bY",
        "colab_type": "code",
        "colab": {}
      },
      "source": [
        "train['gender'].fillna('Female',inplace=True)\n",
        "test['gender'].fillna('Female',inplace=True)\n",
        "\n",
        "gender_dict = {'Other':0,'Female':1,'Male':2} \n",
        "#Giving higher weightage to Males as they are in highest proportion\n",
        "train['gender'] = train['gender'].apply(lambda x: gender_dict[x])\n",
        "test['gender'] = test['gender'].apply(lambda x: gender_dict[x])"
      ],
      "execution_count": 0,
      "outputs": []
    },
    {
      "cell_type": "code",
      "metadata": {
        "id": "oZZX747PP-bb",
        "colab_type": "code",
        "colab": {
          "base_uri": "https://localhost:8080/",
          "height": 104
        },
        "outputId": "a2d40f72-7d8c-4fcd-cfc8-e789d85ba338"
      },
      "source": [
        "train['enrolled_university'].value_counts(dropna=False)/len(train)"
      ],
      "execution_count": 24,
      "outputs": [
        {
          "output_type": "execute_result",
          "data": {
            "text/plain": [
              "no_enrollment       0.743995\n",
              "Full time course    0.173593\n",
              "Part time course    0.063783\n",
              "NaN                 0.018628\n",
              "Name: enrolled_university, dtype: float64"
            ]
          },
          "metadata": {
            "tags": []
          },
          "execution_count": 24
        }
      ]
    },
    {
      "cell_type": "code",
      "metadata": {
        "id": "zd5EvotlP-bg",
        "colab_type": "code",
        "colab": {}
      },
      "source": [
        "train['enrolled_university'].fillna('Missing',inplace=True)\n",
        "test['enrolled_university'].fillna('Missing',inplace=True)\n",
        "\n",
        "enrolled_university_dict = {'Missing':0,'no_enrollment':1,'Part time course':2, 'Full time course':3} \n",
        "train['enrolled_university'] = train['enrolled_university'].apply(lambda x: enrolled_university_dict[x])\n",
        "test['enrolled_university'] = test['enrolled_university'].apply(lambda x: enrolled_university_dict[x])"
      ],
      "execution_count": 0,
      "outputs": []
    },
    {
      "cell_type": "code",
      "metadata": {
        "id": "Uc4V6ZAAP-bl",
        "colab_type": "code",
        "colab": {
          "base_uri": "https://localhost:8080/",
          "height": 139
        },
        "outputId": "a4443877-fbd8-42f5-d95b-ebb277949542"
      },
      "source": [
        "train['education_level'].value_counts(dropna=False)/len(train)"
      ],
      "execution_count": 26,
      "outputs": [
        {
          "output_type": "execute_result",
          "data": {
            "text/plain": [
              "Graduate          0.586579\n",
              "Masters           0.235252\n",
              "High School       0.110681\n",
              "Phd               0.025001\n",
              "NaN               0.024892\n",
              "Primary School    0.017594\n",
              "Name: education_level, dtype: float64"
            ]
          },
          "metadata": {
            "tags": []
          },
          "execution_count": 26
        }
      ]
    },
    {
      "cell_type": "code",
      "metadata": {
        "id": "djKuTYD-P-bp",
        "colab_type": "code",
        "colab": {}
      },
      "source": [
        "train['education_level'].fillna('Missing',inplace=True)\n",
        "test['education_level'].fillna('Missing',inplace=True)\n",
        "\n",
        "education_level_dict = {'Missing':0,'Primary School':1,'High School':2, 'Graduate':3, 'Masters':4, 'Phd':5} \n",
        "train['education_level'] = train['education_level'].apply(lambda x: education_level_dict[x])\n",
        "test['education_level'] = test['education_level'].apply(lambda x: education_level_dict[x])"
      ],
      "execution_count": 0,
      "outputs": []
    },
    {
      "cell_type": "code",
      "metadata": {
        "id": "S5zDs4AHP-bs",
        "colab_type": "code",
        "colab": {
          "base_uri": "https://localhost:8080/",
          "height": 156
        },
        "outputId": "6d8008bf-16e0-4698-e9c0-a7ac0a3d29e9"
      },
      "source": [
        "train['major_discipline'].value_counts(dropna=False)/len(train)"
      ],
      "execution_count": 28,
      "outputs": [
        {
          "output_type": "execute_result",
          "data": {
            "text/plain": [
              "STEM               0.748298\n",
              "NaN                0.154584\n",
              "Humanities         0.037475\n",
              "Other              0.018683\n",
              "Business Degree    0.016722\n",
              "Arts               0.013018\n",
              "No Major           0.011221\n",
              "Name: major_discipline, dtype: float64"
            ]
          },
          "metadata": {
            "tags": []
          },
          "execution_count": 28
        }
      ]
    },
    {
      "cell_type": "code",
      "metadata": {
        "id": "J924bS9DP-bw",
        "colab_type": "code",
        "colab": {}
      },
      "source": [
        "train['major_discipline'].fillna('Missing',inplace=True)\n",
        "test['major_discipline'].fillna('Missing',inplace=True)\n",
        "\n",
        "education_level_dict = {'Missing':0,'No Major':1,'Other':2, 'Humanities':3, 'Arts':4, 'Business Degree':5, 'STEM':6} \n",
        "train['major_discipline'] = train['major_discipline'].apply(lambda x: education_level_dict[x])\n",
        "test['major_discipline'] = test['major_discipline'].apply(lambda x: education_level_dict[x])"
      ],
      "execution_count": 0,
      "outputs": []
    },
    {
      "cell_type": "code",
      "metadata": {
        "id": "1bTf1Q7LP-b3",
        "colab_type": "code",
        "colab": {
          "base_uri": "https://localhost:8080/",
          "height": 191
        },
        "outputId": "215a73a7-7e74-4299-ad43-4af6673df9bc"
      },
      "source": [
        "train['company_size'].value_counts(dropna=False)/len(train)"
      ],
      "execution_count": 30,
      "outputs": [
        {
          "output_type": "execute_result",
          "data": {
            "text/plain": [
              "NaN          0.260308\n",
              "50-99        0.169944\n",
              "100-500      0.146958\n",
              "10000+       0.111335\n",
              "10/49        0.079852\n",
              "1000-4999    0.076202\n",
              "<10          0.074078\n",
              "500-999      0.049131\n",
              "5000-9999    0.032191\n",
              "Name: company_size, dtype: float64"
            ]
          },
          "metadata": {
            "tags": []
          },
          "execution_count": 30
        }
      ]
    },
    {
      "cell_type": "code",
      "metadata": {
        "id": "UJK6a5YfP-b8",
        "colab_type": "code",
        "colab": {}
      },
      "source": [
        "train['company_size'].replace({\"10/49\":\"10-49\"},inplace=True)"
      ],
      "execution_count": 0,
      "outputs": []
    },
    {
      "cell_type": "code",
      "metadata": {
        "id": "1pUgSwpAP-cB",
        "colab_type": "code",
        "colab": {
          "base_uri": "https://localhost:8080/",
          "height": 191
        },
        "outputId": "361c6286-c53d-461e-c874-4a1481797327"
      },
      "source": [
        "train['company_size'].value_counts(dropna=False)/len(train)"
      ],
      "execution_count": 32,
      "outputs": [
        {
          "output_type": "execute_result",
          "data": {
            "text/plain": [
              "NaN          0.260308\n",
              "50-99        0.169944\n",
              "100-500      0.146958\n",
              "10000+       0.111335\n",
              "10-49        0.079852\n",
              "1000-4999    0.076202\n",
              "<10          0.074078\n",
              "500-999      0.049131\n",
              "5000-9999    0.032191\n",
              "Name: company_size, dtype: float64"
            ]
          },
          "metadata": {
            "tags": []
          },
          "execution_count": 32
        }
      ]
    },
    {
      "cell_type": "code",
      "metadata": {
        "id": "gdm_Vfd3P-cG",
        "colab_type": "code",
        "colab": {}
      },
      "source": [
        "def company_size_binning(x):\n",
        "    if x==\"<10\":\n",
        "        return \"Very Small\"\n",
        "    elif x==\"10-49\":\n",
        "        return \"Small\"\n",
        "    elif x==\"50-99\":\n",
        "        return \"Small\"\n",
        "    elif x==\"100-500\":\n",
        "        return \"Small\"\n",
        "    elif x==\"500-999\":\n",
        "        return \"Medium\"\n",
        "    elif x==\"1000-4999\":\n",
        "        return \"Medium\"\n",
        "    elif x==\"5000-9999\":\n",
        "        return \"Large\"\n",
        "    elif x==\"10000+\":\n",
        "        return \"Large\"\n",
        "    else:\n",
        "        return \"Missing\""
      ],
      "execution_count": 0,
      "outputs": []
    },
    {
      "cell_type": "code",
      "metadata": {
        "id": "bCfU1n_hP-cJ",
        "colab_type": "code",
        "colab": {}
      },
      "source": [
        "train['company_size'] = train['company_size'].apply(company_size_binning)\n",
        "test['company_size'] = test['company_size'].apply(company_size_binning)"
      ],
      "execution_count": 0,
      "outputs": []
    },
    {
      "cell_type": "code",
      "metadata": {
        "id": "5qolZtG3P-cP",
        "colab_type": "code",
        "colab": {
          "base_uri": "https://localhost:8080/",
          "height": 121
        },
        "outputId": "1229510c-4910-4f62-c8ed-f974acf9940f"
      },
      "source": [
        "train['company_size'].value_counts(dropna=False)/len(train)"
      ],
      "execution_count": 35,
      "outputs": [
        {
          "output_type": "execute_result",
          "data": {
            "text/plain": [
              "Small         0.396754\n",
              "Missing       0.260308\n",
              "Large         0.143526\n",
              "Medium        0.125334\n",
              "Very Small    0.074078\n",
              "Name: company_size, dtype: float64"
            ]
          },
          "metadata": {
            "tags": []
          },
          "execution_count": 35
        }
      ]
    },
    {
      "cell_type": "code",
      "metadata": {
        "id": "JwZtdpNQP-cT",
        "colab_type": "code",
        "colab": {
          "base_uri": "https://localhost:8080/",
          "height": 156
        },
        "outputId": "9cebb6be-5d92-4226-f4a3-216e1950a1e8"
      },
      "source": [
        "train['company_type'].value_counts(dropna=False)/len(train)"
      ],
      "execution_count": 36,
      "outputs": [
        {
          "output_type": "execute_result",
          "data": {
            "text/plain": [
              "Pvt Ltd                0.547470\n",
              "NaN                    0.274470\n",
              "Funded Startup         0.056539\n",
              "Public Sector          0.054251\n",
              "Early Stage Startup    0.031701\n",
              "NGO                    0.029087\n",
              "Other                  0.006482\n",
              "Name: company_type, dtype: float64"
            ]
          },
          "metadata": {
            "tags": []
          },
          "execution_count": 36
        }
      ]
    },
    {
      "cell_type": "code",
      "metadata": {
        "id": "g3m0mfL6P-cX",
        "colab_type": "code",
        "colab": {}
      },
      "source": [
        "train['company_type'].fillna('Missing',inplace=True)\n",
        "test['company_type'].fillna('Missing',inplace=True)\n",
        "\n",
        "company_type_dict = {'Missing':0,'Other':1,'Public Sector':2, 'Pvt Ltd':3, 'Funded Startup':4, 'Early Stage Startup':5, 'NGO':6} \n",
        "train['company_type'] = train['company_type'].apply(lambda x: company_type_dict[x])\n",
        "test['company_type'] = test['company_type'].apply(lambda x: company_type_dict[x])"
      ],
      "execution_count": 0,
      "outputs": []
    },
    {
      "cell_type": "code",
      "metadata": {
        "id": "KH2NJyHRP-cc",
        "colab_type": "code",
        "colab": {
          "base_uri": "https://localhost:8080/",
          "height": 156
        },
        "outputId": "3b0fa2a8-6bfc-4959-e29e-cc11043244e6"
      },
      "source": [
        "train['last_new_job'].value_counts(dropna=False)/len(train)"
      ],
      "execution_count": 38,
      "outputs": [
        {
          "output_type": "execute_result",
          "data": {
            "text/plain": [
              "1        0.412168\n",
              ">4       0.181873\n",
              "2        0.154420\n",
              "never    0.119070\n",
              "4        0.056539\n",
              "3        0.055940\n",
              "NaN      0.019990\n",
              "Name: last_new_job, dtype: float64"
            ]
          },
          "metadata": {
            "tags": []
          },
          "execution_count": 38
        }
      ]
    },
    {
      "cell_type": "code",
      "metadata": {
        "id": "csqWJ819P-ci",
        "colab_type": "code",
        "colab": {}
      },
      "source": [
        "def last_new_job_binning(x):\n",
        "    if x==\"never\":\n",
        "        return 0\n",
        "    elif x==\"1\":\n",
        "        return 1\n",
        "    elif x==\"2\":\n",
        "        return 2\n",
        "    elif x==\"3\":\n",
        "        return 3\n",
        "    elif x==\"4\":\n",
        "        return 4\n",
        "    elif x==\">4\":\n",
        "        return 5\n",
        "    else:\n",
        "        return \"Missing\""
      ],
      "execution_count": 0,
      "outputs": []
    },
    {
      "cell_type": "code",
      "metadata": {
        "id": "fTGAAPKEP-cq",
        "colab_type": "code",
        "colab": {}
      },
      "source": [
        "train['last_new_job'] = train['last_new_job'].apply(last_new_job_binning)\n",
        "test['last_new_job'] = test['last_new_job'].apply(last_new_job_binning)"
      ],
      "execution_count": 0,
      "outputs": []
    },
    {
      "cell_type": "code",
      "metadata": {
        "id": "4f6v0cfkP-c7",
        "colab_type": "code",
        "colab": {
          "base_uri": "https://localhost:8080/",
          "height": 433
        },
        "outputId": "7e8f5991-9475-4637-8bec-82deed0ead34"
      },
      "source": [
        "(train['experience'].value_counts(dropna=False)/len(train)).sort_values(ascending=False)"
      ],
      "execution_count": 41,
      "outputs": [
        {
          "output_type": "execute_result",
          "data": {
            "text/plain": [
              ">20    0.187211\n",
              "5      0.071300\n",
              "4      0.068086\n",
              "3      0.063130\n",
              "6      0.061278\n",
              "2      0.054033\n",
              "9      0.053325\n",
              "10     0.052672\n",
              "7      0.051746\n",
              "8      0.041124\n",
              "15     0.037856\n",
              "11     0.036331\n",
              "14     0.032790\n",
              "16     0.029904\n",
              "12     0.027071\n",
              "1      0.024620\n",
              "<1     0.022659\n",
              "13     0.022441\n",
              "17     0.018901\n",
              "19     0.016777\n",
              "18     0.015578\n",
              "20     0.007953\n",
              "NaN    0.003214\n",
              "Name: experience, dtype: float64"
            ]
          },
          "metadata": {
            "tags": []
          },
          "execution_count": 41
        }
      ]
    },
    {
      "cell_type": "code",
      "metadata": {
        "id": "R9CwhTbOeRCb",
        "colab_type": "code",
        "colab": {
          "base_uri": "https://localhost:8080/",
          "height": 319
        },
        "outputId": "d4700a3f-052f-4952-8c57-702d57f81e69"
      },
      "source": [
        "train.groupby('experience')['target'].value_counts().unstack().plot(kind='bar',title=\"Distribution of Target Variable by Experience\")\n",
        "plt.xlabel(\"experience\")\n",
        "plt.ylabel(\"Count\")\n",
        "plt.xticks(rotation=45)"
      ],
      "execution_count": 45,
      "outputs": [
        {
          "output_type": "execute_result",
          "data": {
            "text/plain": [
              "(array([0, 1, 2, 3]), <a list of 4 Text major ticklabel objects>)"
            ]
          },
          "metadata": {
            "tags": []
          },
          "execution_count": 45
        },
        {
          "output_type": "display_data",
          "data": {
            "image/png": "[encoded data removed]",
            "text/plain": [
              "<Figure size 432x288 with 1 Axes>"
            ]
          },
          "metadata": {
            "tags": [],
            "needs_background": "light"
          }
        }
      ]
    },
    {
      "cell_type": "code",
      "metadata": {
        "id": "NRVbgU3sP-dE",
        "colab_type": "code",
        "colab": {}
      },
      "source": [
        "def experience_binning(x):\n",
        "    if x<=5:\n",
        "        return 4\n",
        "    elif (x>5 and x<=10):\n",
        "        return 3\n",
        "    elif (x>10 and x<=15):\n",
        "        return 2\n",
        "    elif (x>15):\n",
        "        return 1\n",
        "    else:\n",
        "        return 0"
      ],
      "execution_count": 0,
      "outputs": []
    },
    {
      "cell_type": "markdown",
      "metadata": {
        "id": "3lfRqAeEeL4E",
        "colab_type": "text"
      },
      "source": [
        "Candidates with higher experince are less likely to switch."
      ]
    },
    {
      "cell_type": "code",
      "metadata": {
        "id": "hq7IfwdFP-dM",
        "colab_type": "code",
        "colab": {
          "base_uri": "https://localhost:8080/",
          "height": 104
        },
        "outputId": "bf234115-eada-47c8-ee69-feacb9a3bfe7"
      },
      "source": [
        "train['experience'] = train['experience'].replace({\"<1\":\"0\",\">20\":\"21\"})\n",
        "train['experience'].fillna(\"0\",inplace=True)\n",
        "train['experience'] = train['experience'].astype(int)\n",
        "train['experience'] = train['experience'].apply(experience_binning)\n",
        "\n",
        "test['experience'] = test['experience'].replace({\"<1\":\"0\",\">20\":\"21\"})\n",
        "test['experience'].fillna(\"0\",inplace=True)\n",
        "test['experience'] = test['experience'].astype(int)\n",
        "test['experience'] = test['experience'].apply(experience_binning)\n",
        "\n",
        "print(train['experience'].value_counts(dropna=False)/len(train))"
      ],
      "execution_count": 43,
      "outputs": [
        {
          "output_type": "stream",
          "text": [
            "4    0.307043\n",
            "1    0.276322\n",
            "3    0.260145\n",
            "2    0.156490\n",
            "Name: experience, dtype: float64\n"
          ],
          "name": "stdout"
        }
      ]
    },
    {
      "cell_type": "markdown",
      "metadata": {
        "id": "CknwFQ4ZdfoG",
        "colab_type": "text"
      },
      "source": [
        "## Model Building"
      ]
    },
    {
      "cell_type": "markdown",
      "metadata": {
        "id": "xHQoX7J4dfIm",
        "colab_type": "text"
      },
      "source": [
        "We build a model on inital dataset with cleaning up of missing values."
      ]
    },
    {
      "cell_type": "code",
      "metadata": {
        "id": "x7H7vxVarSEr",
        "colab_type": "code",
        "colab": {
          "base_uri": "https://localhost:8080/",
          "height": 1000
        },
        "outputId": "54fecae7-ba17-4921-871f-d0a390201676"
      },
      "source": [
        "pip install pycaret"
      ],
      "execution_count": 47,
      "outputs": [
        {
          "output_type": "stream",
          "text": [
            "Collecting pycaret\n",
            "\u001b[?25l  Downloading https://files.pythonhosted.org/packages/c7/41/f7fa05b6ce3cb3096a35fb5ac6dc0f2bb23e8304f068618fb2501be0a562/pycaret-1.0.0-py3-none-any.whl (188kB)\n",
            "\r\u001b[K     |█▊                              | 10kB 16.8MB/s eta 0:00:01\r\u001b[K     |███▌                            | 20kB 3.1MB/s eta 0:00:01\r\u001b[K     |█████▏                          | 30kB 4.1MB/s eta 0:00:01\r\u001b[K     |███████                         | 40kB 4.4MB/s eta 0:00:01\r\u001b[K     |████████▊                       | 51kB 3.5MB/s eta 0:00:01\r\u001b[K     |██████████▍                     | 61kB 4.0MB/s eta 0:00:01\r\u001b[K     |████████████▏                   | 71kB 4.2MB/s eta 0:00:01\r\u001b[K     |██████████████                  | 81kB 4.7MB/s eta 0:00:01\r\u001b[K     |███████████████▋                | 92kB 5.0MB/s eta 0:00:01\r\u001b[K     |█████████████████▍              | 102kB 4.8MB/s eta 0:00:01\r\u001b[K     |███████████████████▏            | 112kB 4.8MB/s eta 0:00:01\r\u001b[K     |████████████████████▉           | 122kB 4.8MB/s eta 0:00:01\r\u001b[K     |██████████████████████▋         | 133kB 4.8MB/s eta 0:00:01\r\u001b[K     |████████████████████████▍       | 143kB 4.8MB/s eta 0:00:01\r\u001b[K     |██████████████████████████      | 153kB 4.8MB/s eta 0:00:01\r\u001b[K     |███████████████████████████▉    | 163kB 4.8MB/s eta 0:00:01\r\u001b[K     |█████████████████████████████▋  | 174kB 4.8MB/s eta 0:00:01\r\u001b[K     |███████████████████████████████▎| 184kB 4.8MB/s eta 0:00:01\r\u001b[K     |████████████████████████████████| 194kB 4.8MB/s \n",
            "\u001b[?25hCollecting kmodes==0.10.1\n",
            "  Downloading https://files.pythonhosted.org/packages/79/c0/f7d8a0eb41ac6f302b4bc100f91b6e0f2558425ccfefaa0ec0430f77ee97/kmodes-0.10.1-py2.py3-none-any.whl\n",
            "Requirement already satisfied: xgboost==0.90 in /usr/local/lib/python3.6/dist-packages (from pycaret) (0.90)\n",
            "Requirement already satisfied: ipywidgets in /usr/local/lib/python3.6/dist-packages (from pycaret) (7.5.1)\n",
            "Requirement already satisfied: numpy in /usr/local/lib/python3.6/dist-packages (from pycaret) (1.18.4)\n",
            "Requirement already satisfied: joblib in /usr/local/lib/python3.6/dist-packages (from pycaret) (0.15.1)\n",
            "Collecting pandas-profiling==2.3.0\n",
            "\u001b[?25l  Downloading https://files.pythonhosted.org/packages/2c/2f/aae19e2173c10a9bb7fee5f5cad35dbe53a393960fc91abc477dcc4661e8/pandas-profiling-2.3.0.tar.gz (127kB)\n",
            "\u001b[K     |████████████████████████████████| 133kB 16.3MB/s \n",
            "\u001b[?25hCollecting lightgbm==2.3.1\n",
            "\u001b[?25l  Downloading https://files.pythonhosted.org/packages/0b/9d/ddcb2f43aca194987f1a99e27edf41cf9bc39ea750c3371c2a62698c509a/lightgbm-2.3.1-py2.py3-none-manylinux1_x86_64.whl (1.2MB)\n",
            "\u001b[K     |████████████████████████████████| 1.2MB 15.3MB/s \n",
            "\u001b[?25hCollecting pyLDAvis\n",
            "\u001b[?25l  Downloading https://files.pythonhosted.org/packages/a5/3a/af82e070a8a96e13217c8f362f9a73e82d61ac8fff3a2561946a97f96266/pyLDAvis-2.1.2.tar.gz (1.6MB)\n",
            "\u001b[K     |████████████████████████████████| 1.6MB 42.7MB/s \n",
            "\u001b[?25hCollecting shap==0.32.1\n",
            "\u001b[?25l  Downloading https://files.pythonhosted.org/packages/57/43/08f152a59a1d60f0328b476bdd58c791498989981ab9c6d595ec5448a86a/shap-0.32.1.tar.gz (259kB)\n",
            "\u001b[K     |████████████████████████████████| 266kB 43.0MB/s \n",
            "\u001b[?25hRequirement already satisfied: gensim in /usr/local/lib/python3.6/dist-packages (from pycaret) (3.6.0)\n",
            "Collecting scikit-learn==0.22\n",
            "\u001b[?25l  Downloading https://files.pythonhosted.org/packages/2e/d0/860c4f6a7027e00acff373d9f5327f4ae3ed5872234b3cbdd7bcb52e5eff/scikit_learn-0.22-cp36-cp36m-manylinux1_x86_64.whl (7.0MB)\n",
            "\u001b[K     |████████████████████████████████| 7.0MB 41.3MB/s \n",
            "\u001b[?25hCollecting catboost==0.20.2\n",
            "\u001b[?25l  Downloading https://files.pythonhosted.org/packages/97/c4/586923de4634f88a31fd1b4966e15707a912b98b6f4566651b5ef58f36b5/catboost-0.20.2-cp36-none-manylinux1_x86_64.whl (63.9MB)\n",
            "\u001b[K     |████████████████████████████████| 63.9MB 63kB/s \n",
            "\u001b[?25hRequirement already satisfied: pandas in /usr/local/lib/python3.6/dist-packages (from pycaret) (1.0.4)\n",
            "Requirement already satisfied: umap-learn in /usr/local/lib/python3.6/dist-packages (from pycaret) (0.4.3)\n",
            "Requirement already satisfied: matplotlib in /usr/local/lib/python3.6/dist-packages (from pycaret) (3.2.1)\n",
            "Requirement already satisfied: textblob in /usr/local/lib/python3.6/dist-packages (from pycaret) (0.15.3)\n",
            "Requirement already satisfied: nltk in /usr/local/lib/python3.6/dist-packages (from pycaret) (3.2.5)\n",
            "Collecting yellowbrick==1.0.1\n",
            "\u001b[?25l  Downloading https://files.pythonhosted.org/packages/d1/cf/6d6ab47c0759d246262f9bdb53e89be3814bf1774bc51fffff995f5859f9/yellowbrick-1.0.1-py3-none-any.whl (378kB)\n",
            "\u001b[K     |████████████████████████████████| 389kB 36.4MB/s \n",
            "\u001b[?25hCollecting DateTime==4.3\n",
            "\u001b[?25l  Downloading https://files.pythonhosted.org/packages/73/22/a5297f3a1f92468cc737f8ce7ba6e5f245fcfafeae810ba37bd1039ea01c/DateTime-4.3-py2.py3-none-any.whl (60kB)\n",
            "\u001b[K     |████████████████████████████████| 61kB 7.3MB/s \n",
            "\u001b[?25hRequirement already satisfied: mlxtend in /usr/local/lib/python3.6/dist-packages (from pycaret) (0.14.0)\n",
            "Collecting datefinder==0.7.0\n",
            "  Downloading https://files.pythonhosted.org/packages/16/2b/af8efaee30c0ba4238cb4d0645a07100d33d11d20a8783c443ed8b813eb9/datefinder-0.7.0-py2.py3-none-any.whl\n",
            "Requirement already satisfied: seaborn in /usr/local/lib/python3.6/dist-packages (from pycaret) (0.10.1)\n",
            "Requirement already satisfied: spacy in /usr/local/lib/python3.6/dist-packages (from pycaret) (2.2.4)\n",
            "Collecting awscli\n",
            "\u001b[?25l  Downloading https://files.pythonhosted.org/packages/b5/1f/04b4be359b419c0a9deb5e11d1bd23e20cec6832297cb56cc21e17751c8e/awscli-1.18.74-py2.py3-none-any.whl (3.1MB)\n",
            "\u001b[K     |████████████████████████████████| 3.1MB 43.2MB/s \n",
            "\u001b[?25hCollecting pyod\n",
            "\u001b[?25l  Downloading https://files.pythonhosted.org/packages/cf/68/99df05e5666248e9c10359457e2da1b89943f5ac96749ceb1c131001eb88/pyod-0.8.0.tar.gz (93kB)\n",
            "\u001b[K     |████████████████████████████████| 102kB 11.1MB/s \n",
            "\u001b[?25hRequirement already satisfied: plotly==4.4.1 in /usr/local/lib/python3.6/dist-packages (from pycaret) (4.4.1)\n",
            "Collecting cufflinks==0.17.0\n",
            "\u001b[?25l  Downloading https://files.pythonhosted.org/packages/e3/79/1b8673b2723e02919307d558896dbcedcb46807c4e29acd25cfe43a36c8b/cufflinks-0.17.0.tar.gz (81kB)\n",
            "\u001b[K     |████████████████████████████████| 81kB 8.7MB/s \n",
            "\u001b[?25hRequirement already satisfied: IPython in /usr/local/lib/python3.6/dist-packages (from pycaret) (5.5.0)\n",
            "Requirement already satisfied: wordcloud in /usr/local/lib/python3.6/dist-packages (from pycaret) (1.5.0)\n",
            "Requirement already satisfied: scipy>=0.13.3 in /usr/local/lib/python3.6/dist-packages (from kmodes==0.10.1->pycaret) (1.4.1)\n",
            "Requirement already satisfied: ipykernel>=4.5.1 in /usr/local/lib/python3.6/dist-packages (from ipywidgets->pycaret) (4.10.1)\n",
            "Requirement already satisfied: widgetsnbextension~=3.5.0 in /usr/local/lib/python3.6/dist-packages (from ipywidgets->pycaret) (3.5.1)\n",
            "Requirement already satisfied: traitlets>=4.3.1 in /usr/local/lib/python3.6/dist-packages (from ipywidgets->pycaret) (4.3.3)\n",
            "Requirement already satisfied: nbformat>=4.2.0 in /usr/local/lib/python3.6/dist-packages (from ipywidgets->pycaret) (5.0.6)\n",
            "Requirement already satisfied: jinja2>=2.8 in /usr/local/lib/python3.6/dist-packages (from pandas-profiling==2.3.0->pycaret) (2.11.2)\n",
            "Requirement already satisfied: missingno>=0.4.2 in /usr/local/lib/python3.6/dist-packages (from pandas-profiling==2.3.0->pycaret) (0.4.2)\n",
            "Collecting htmlmin>=0.1.12\n",
            "  Downloading https://files.pythonhosted.org/packages/b3/e7/fcd59e12169de19f0131ff2812077f964c6b960e7c09804d30a7bf2ab461/htmlmin-0.1.12.tar.gz\n",
            "Collecting phik>=0.9.8\n",
            "\u001b[?25l  Downloading https://files.pythonhosted.org/packages/01/5a/7ef1c04ce62cd72f900c06298dc2385840550d5c653a0dbc19109a5477e6/phik-0.10.0-py3-none-any.whl (599kB)\n",
            "\u001b[K     |████████████████████████████████| 604kB 24.5MB/s \n",
            "\u001b[?25hCollecting confuse>=1.0.0\n",
            "  Downloading https://files.pythonhosted.org/packages/f7/64/85dbcea372efee5cba13eaa10a3bfa7019b8fe0c3c8314d8e189116e477a/confuse-1.1.0.tar.gz\n",
            "Requirement already satisfied: astropy in /usr/local/lib/python3.6/dist-packages (from pandas-profiling==2.3.0->pycaret) (4.0.1.post1)\n",
            "Requirement already satisfied: wheel>=0.23.0 in /usr/local/lib/python3.6/dist-packages (from pyLDAvis->pycaret) (0.34.2)\n",
            "Requirement already satisfied: numexpr in /usr/local/lib/python3.6/dist-packages (from pyLDAvis->pycaret) (2.7.1)\n",
            "Requirement already satisfied: pytest in /usr/local/lib/python3.6/dist-packages (from pyLDAvis->pycaret) (3.6.4)\n",
            "Requirement already satisfied: future in /usr/local/lib/python3.6/dist-packages (from pyLDAvis->pycaret) (0.16.0)\n",
            "Collecting funcy\n",
            "\u001b[?25l  Downloading https://files.pythonhosted.org/packages/ce/4b/6ffa76544e46614123de31574ad95758c421aae391a1764921b8a81e1eae/funcy-1.14.tar.gz (548kB)\n",
            "\u001b[K     |████████████████████████████████| 552kB 42.3MB/s \n",
            "\u001b[?25hRequirement already satisfied: tqdm>4.25.0 in /usr/local/lib/python3.6/dist-packages (from shap==0.32.1->pycaret) (4.41.1)\n",
            "Requirement already satisfied: smart-open>=1.2.1 in /usr/local/lib/python3.6/dist-packages (from gensim->pycaret) (2.0.0)\n",
            "Requirement already satisfied: six>=1.5.0 in /usr/local/lib/python3.6/dist-packages (from gensim->pycaret) (1.12.0)\n",
            "Requirement already satisfied: graphviz in /usr/local/lib/python3.6/dist-packages (from catboost==0.20.2->pycaret) (0.10.1)\n",
            "Requirement already satisfied: pytz>=2017.2 in /usr/local/lib/python3.6/dist-packages (from pandas->pycaret) (2018.9)\n",
            "Requirement already satisfied: python-dateutil>=2.6.1 in /usr/local/lib/python3.6/dist-packages (from pandas->pycaret) (2.8.1)\n",
            "Requirement already satisfied: tbb in /usr/local/lib/python3.6/dist-packages (from umap-learn->pycaret) (2020.0.133)\n",
            "Requirement already satisfied: numba!=0.47,>=0.46 in /usr/local/lib/python3.6/dist-packages (from umap-learn->pycaret) (0.48.0)\n",
            "Requirement already satisfied: kiwisolver>=1.0.1 in /usr/local/lib/python3.6/dist-packages (from matplotlib->pycaret) (1.2.0)\n",
            "Requirement already satisfied: pyparsing!=2.0.4,!=2.1.2,!=2.1.6,>=2.0.1 in /usr/local/lib/python3.6/dist-packages (from matplotlib->pycaret) (2.4.7)\n",
            "Requirement already satisfied: cycler>=0.10 in /usr/local/lib/python3.6/dist-packages (from matplotlib->pycaret) (0.10.0)\n",
            "Collecting zope.interface\n",
            "\u001b[?25l  Downloading https://files.pythonhosted.org/packages/57/33/565274c28a11af60b7cfc0519d46bde4125fcd7d32ebc0a81b480d0e8da6/zope.interface-5.1.0-cp36-cp36m-manylinux2010_x86_64.whl (234kB)\n",
            "\u001b[K     |████████████████████████████████| 235kB 44.6MB/s \n",
            "\u001b[?25hRequirement already satisfied: setuptools in /usr/local/lib/python3.6/dist-packages (from mlxtend->pycaret) (47.1.1)\n",
            "Requirement already satisfied: regex>=2017.02.08 in /usr/local/lib/python3.6/dist-packages (from datefinder==0.7.0->pycaret) (2019.12.20)\n",
            "Requirement already satisfied: thinc==7.4.0 in /usr/local/lib/python3.6/dist-packages (from spacy->pycaret) (7.4.0)\n",
            "Requirement already satisfied: wasabi<1.1.0,>=0.4.0 in /usr/local/lib/python3.6/dist-packages (from spacy->pycaret) (0.6.0)\n",
            "Requirement already satisfied: srsly<1.1.0,>=1.0.2 in /usr/local/lib/python3.6/dist-packages (from spacy->pycaret) (1.0.2)\n",
            "Requirement already satisfied: catalogue<1.1.0,>=0.0.7 in /usr/local/lib/python3.6/dist-packages (from spacy->pycaret) (1.0.0)\n",
            "Requirement already satisfied: plac<1.2.0,>=0.9.6 in /usr/local/lib/python3.6/dist-packages (from spacy->pycaret) (1.1.3)\n",
            "Requirement already satisfied: murmurhash<1.1.0,>=0.28.0 in /usr/local/lib/python3.6/dist-packages (from spacy->pycaret) (1.0.2)\n",
            "Requirement already satisfied: cymem<2.1.0,>=2.0.2 in /usr/local/lib/python3.6/dist-packages (from spacy->pycaret) (2.0.3)\n",
            "Requirement already satisfied: requests<3.0.0,>=2.13.0 in /usr/local/lib/python3.6/dist-packages (from spacy->pycaret) (2.23.0)\n",
            "Requirement already satisfied: preshed<3.1.0,>=3.0.2 in /usr/local/lib/python3.6/dist-packages (from spacy->pycaret) (3.0.2)\n",
            "Requirement already satisfied: blis<0.5.0,>=0.4.0 in /usr/local/lib/python3.6/dist-packages (from spacy->pycaret) (0.4.1)\n",
            "Requirement already satisfied: docutils<0.16,>=0.10 in /usr/local/lib/python3.6/dist-packages (from awscli->pycaret) (0.15.2)\n",
            "Collecting botocore==1.16.24\n",
            "\u001b[?25l  Downloading https://files.pythonhosted.org/packages/7f/66/e0d17816e957ee440bd75b13a7f94ba973861a2af2c75f1722129fb881b5/botocore-1.16.24-py2.py3-none-any.whl (6.2MB)\n",
            "\u001b[K     |████████████████████████████████| 6.2MB 41.8MB/s \n",
            "\u001b[?25hRequirement already satisfied: s3transfer<0.4.0,>=0.3.0 in /usr/local/lib/python3.6/dist-packages (from awscli->pycaret) (0.3.3)\n",
            "Collecting colorama<0.4.4,>=0.2.5; python_version != \"3.4\"\n",
            "  Downloading https://files.pythonhosted.org/packages/c9/dc/45cdef1b4d119eb96316b3117e6d5708a08029992b2fee2c143c7a0a5cc5/colorama-0.4.3-py2.py3-none-any.whl\n",
            "Requirement already satisfied: PyYAML<5.4,>=3.10; python_version != \"3.4\" in /usr/local/lib/python3.6/dist-packages (from awscli->pycaret) (3.13)\n",
            "Collecting rsa<=3.5.0,>=3.1.2\n",
            "\u001b[?25l  Downloading https://files.pythonhosted.org/packages/e1/ae/baedc9cb175552e95f3395c43055a6a5e125ae4d48a1d7a924baca83e92e/rsa-3.4.2-py2.py3-none-any.whl (46kB)\n",
            "\u001b[K     |████████████████████████████████| 51kB 3.7MB/s \n",
            "\u001b[?25hCollecting combo\n",
            "  Downloading https://files.pythonhosted.org/packages/78/52/e880bd923eba122515307d29ab43c1c356bad60610c27bed2cdec25d0240/combo-0.1.0.tar.gz\n",
            "Collecting suod\n",
            "\u001b[?25l  Downloading https://files.pythonhosted.org/packages/a1/87/9170cabe1b5e10a7d095c0e28f2e30e7c1886a13f063de85d3cfacc06f4b/suod-0.0.4.tar.gz (2.1MB)\n",
            "\u001b[K     |████████████████████████████████| 2.1MB 34.5MB/s \n",
            "\u001b[?25hRequirement already satisfied: retrying>=1.3.3 in /usr/local/lib/python3.6/dist-packages (from plotly==4.4.1->pycaret) (1.3.3)\n",
            "Collecting chart-studio>=1.0.0\n",
            "\u001b[?25l  Downloading https://files.pythonhosted.org/packages/ca/ce/330794a6b6ca4b9182c38fc69dd2a9cbff60fd49421cb8648ee5fee352dc/chart_studio-1.1.0-py3-none-any.whl (64kB)\n",
            "\u001b[K     |████████████████████████████████| 71kB 8.3MB/s \n",
            "\u001b[?25hRequirement already satisfied: colorlover>=0.2.1 in /usr/local/lib/python3.6/dist-packages (from cufflinks==0.17.0->pycaret) (0.3.0)\n",
            "Requirement already satisfied: pexpect; sys_platform != \"win32\" in /usr/local/lib/python3.6/dist-packages (from IPython->pycaret) (4.8.0)\n",
            "Requirement already satisfied: decorator in /usr/local/lib/python3.6/dist-packages (from IPython->pycaret) (4.4.2)\n",
            "Requirement already satisfied: prompt-toolkit<2.0.0,>=1.0.4 in /usr/local/lib/python3.6/dist-packages (from IPython->pycaret) (1.0.18)\n",
            "Requirement already satisfied: pygments in /usr/local/lib/python3.6/dist-packages (from IPython->pycaret) (2.1.3)\n",
            "Requirement already satisfied: simplegeneric>0.8 in /usr/local/lib/python3.6/dist-packages (from IPython->pycaret) (0.8.1)\n",
            "Requirement already satisfied: pickleshare in /usr/local/lib/python3.6/dist-packages (from IPython->pycaret) (0.7.5)\n",
            "Requirement already satisfied: pillow in /usr/local/lib/python3.6/dist-packages (from wordcloud->pycaret) (7.0.0)\n",
            "Requirement already satisfied: jupyter-client in /usr/local/lib/python3.6/dist-packages (from ipykernel>=4.5.1->ipywidgets->pycaret) (5.3.4)\n",
            "Requirement already satisfied: tornado>=4.0 in /usr/local/lib/python3.6/dist-packages (from ipykernel>=4.5.1->ipywidgets->pycaret) (4.5.3)\n",
            "Requirement already satisfied: notebook>=4.4.1 in /usr/local/lib/python3.6/dist-packages (from widgetsnbextension~=3.5.0->ipywidgets->pycaret) (5.2.2)\n",
            "Requirement already satisfied: ipython-genutils in /usr/local/lib/python3.6/dist-packages (from traitlets>=4.3.1->ipywidgets->pycaret) (0.2.0)\n",
            "Requirement already satisfied: jsonschema!=2.5.0,>=2.4 in /usr/local/lib/python3.6/dist-packages (from nbformat>=4.2.0->ipywidgets->pycaret) (2.6.0)\n",
            "Requirement already satisfied: jupyter-core in /usr/local/lib/python3.6/dist-packages (from nbformat>=4.2.0->ipywidgets->pycaret) (4.6.3)\n",
            "Requirement already satisfied: MarkupSafe>=0.23 in /usr/local/lib/python3.6/dist-packages (from jinja2>=2.8->pandas-profiling==2.3.0->pycaret) (1.1.1)\n",
            "Requirement already satisfied: atomicwrites>=1.0 in /usr/local/lib/python3.6/dist-packages (from pytest->pyLDAvis->pycaret) (1.4.0)\n",
            "Requirement already satisfied: more-itertools>=4.0.0 in /usr/local/lib/python3.6/dist-packages (from pytest->pyLDAvis->pycaret) (8.3.0)\n",
            "Requirement already satisfied: pluggy<0.8,>=0.5 in /usr/local/lib/python3.6/dist-packages (from pytest->pyLDAvis->pycaret) (0.7.1)\n",
            "Requirement already satisfied: py>=1.5.0 in /usr/local/lib/python3.6/dist-packages (from pytest->pyLDAvis->pycaret) (1.8.1)\n",
            "Requirement already satisfied: attrs>=17.4.0 in /usr/local/lib/python3.6/dist-packages (from pytest->pyLDAvis->pycaret) (19.3.0)\n",
            "Requirement already satisfied: boto in /usr/local/lib/python3.6/dist-packages (from smart-open>=1.2.1->gensim->pycaret) (2.49.0)\n",
            "Requirement already satisfied: boto3 in /usr/local/lib/python3.6/dist-packages (from smart-open>=1.2.1->gensim->pycaret) (1.13.19)\n",
            "Requirement already satisfied: llvmlite<0.32.0,>=0.31.0dev0 in /usr/local/lib/python3.6/dist-packages (from numba!=0.47,>=0.46->umap-learn->pycaret) (0.31.0)\n",
            "Requirement already satisfied: importlib-metadata>=0.20; python_version < \"3.8\" in /usr/local/lib/python3.6/dist-packages (from catalogue<1.1.0,>=0.0.7->spacy->pycaret) (1.6.0)\n",
            "Requirement already satisfied: certifi>=2017.4.17 in /usr/local/lib/python3.6/dist-packages (from requests<3.0.0,>=2.13.0->spacy->pycaret) (2020.4.5.1)\n",
            "Requirement already satisfied: idna<3,>=2.5 in /usr/local/lib/python3.6/dist-packages (from requests<3.0.0,>=2.13.0->spacy->pycaret) (2.9)\n",
            "Requirement already satisfied: urllib3!=1.25.0,!=1.25.1,<1.26,>=1.21.1 in /usr/local/lib/python3.6/dist-packages (from requests<3.0.0,>=2.13.0->spacy->pycaret) (1.24.3)\n",
            "Requirement already satisfied: chardet<4,>=3.0.2 in /usr/local/lib/python3.6/dist-packages (from requests<3.0.0,>=2.13.0->spacy->pycaret) (3.0.4)\n",
            "Requirement already satisfied: jmespath<1.0.0,>=0.7.1 in /usr/local/lib/python3.6/dist-packages (from botocore==1.16.24->awscli->pycaret) (0.10.0)\n",
            "Requirement already satisfied: pyasn1>=0.1.3 in /usr/local/lib/python3.6/dist-packages (from rsa<=3.5.0,>=3.1.2->awscli->pycaret) (0.4.8)\n",
            "Requirement already satisfied: ptyprocess>=0.5 in /usr/local/lib/python3.6/dist-packages (from pexpect; sys_platform != \"win32\"->IPython->pycaret) (0.6.0)\n",
            "Requirement already satisfied: wcwidth in /usr/local/lib/python3.6/dist-packages (from prompt-toolkit<2.0.0,>=1.0.4->IPython->pycaret) (0.2.2)\n",
            "Requirement already satisfied: pyzmq>=13 in /usr/local/lib/python3.6/dist-packages (from jupyter-client->ipykernel>=4.5.1->ipywidgets->pycaret) (19.0.1)\n",
            "Requirement already satisfied: terminado>=0.3.3; sys_platform != \"win32\" in /usr/local/lib/python3.6/dist-packages (from notebook>=4.4.1->widgetsnbextension~=3.5.0->ipywidgets->pycaret) (0.8.3)\n",
            "Requirement already satisfied: nbconvert in /usr/local/lib/python3.6/dist-packages (from notebook>=4.4.1->widgetsnbextension~=3.5.0->ipywidgets->pycaret) (5.6.1)\n",
            "Requirement already satisfied: zipp>=0.5 in /usr/local/lib/python3.6/dist-packages (from importlib-metadata>=0.20; python_version < \"3.8\"->catalogue<1.1.0,>=0.0.7->spacy->pycaret) (3.1.0)\n",
            "Requirement already satisfied: entrypoints>=0.2.2 in /usr/local/lib/python3.6/dist-packages (from nbconvert->notebook>=4.4.1->widgetsnbextension~=3.5.0->ipywidgets->pycaret) (0.3)\n",
            "Requirement already satisfied: testpath in /usr/local/lib/python3.6/dist-packages (from nbconvert->notebook>=4.4.1->widgetsnbextension~=3.5.0->ipywidgets->pycaret) (0.4.4)\n",
            "Requirement already satisfied: bleach in /usr/local/lib/python3.6/dist-packages (from nbconvert->notebook>=4.4.1->widgetsnbextension~=3.5.0->ipywidgets->pycaret) (3.1.5)\n",
            "Requirement already satisfied: pandocfilters>=1.4.1 in /usr/local/lib/python3.6/dist-packages (from nbconvert->notebook>=4.4.1->widgetsnbextension~=3.5.0->ipywidgets->pycaret) (1.4.2)\n",
            "Requirement already satisfied: mistune<2,>=0.8.1 in /usr/local/lib/python3.6/dist-packages (from nbconvert->notebook>=4.4.1->widgetsnbextension~=3.5.0->ipywidgets->pycaret) (0.8.4)\n",
            "Requirement already satisfied: defusedxml in /usr/local/lib/python3.6/dist-packages (from nbconvert->notebook>=4.4.1->widgetsnbextension~=3.5.0->ipywidgets->pycaret) (0.6.0)\n",
            "Requirement already satisfied: webencodings in /usr/local/lib/python3.6/dist-packages (from bleach->nbconvert->notebook>=4.4.1->widgetsnbextension~=3.5.0->ipywidgets->pycaret) (0.5.1)\n",
            "Requirement already satisfied: packaging in /usr/local/lib/python3.6/dist-packages (from bleach->nbconvert->notebook>=4.4.1->widgetsnbextension~=3.5.0->ipywidgets->pycaret) (20.4)\n",
            "Building wheels for collected packages: pandas-profiling, pyLDAvis, shap, pyod, cufflinks, htmlmin, confuse, funcy, combo, suod\n",
            "  Building wheel for pandas-profiling (setup.py) ... \u001b[?25l\u001b[?25hdone\n",
            "  Created wheel for pandas-profiling: filename=pandas_profiling-2.3.0-py2.py3-none-any.whl size=145035 sha256=6c97ed7398d13eaa2224ca1c04c38ad24a6d3910fd438dfeb3e340e79b06b034\n",
            "  Stored in directory: /root/.cache/pip/wheels/ce/c7/f1/dbfef4848ebb048cb1d4a22d1ed0c62d8ff2523747235e19fe\n",
            "  Building wheel for pyLDAvis (setup.py) ... \u001b[?25l\u001b[?25hdone\n",
            "  Created wheel for pyLDAvis: filename=pyLDAvis-2.1.2-py2.py3-none-any.whl size=97711 sha256=0e002ac0582fc962466bdc976a1904fa9843ae35d2918038eb1d29dc83cd2d71\n",
            "  Stored in directory: /root/.cache/pip/wheels/98/71/24/513a99e58bb6b8465bae4d2d5e9dba8f0bef8179e3051ac414\n",
            "  Building wheel for shap (setup.py) ... \u001b[?25l\u001b[?25hdone\n",
            "  Created wheel for shap: filename=shap-0.32.1-cp36-cp36m-linux_x86_64.whl size=376806 sha256=5db2729c67ff9f57c2a0150d0c618054e3eab3e7b226b519a16ee020310a5c0b\n",
            "  Stored in directory: /root/.cache/pip/wheels/8e/b2/50/8fadb5a59789cb5bdeb01b800223be540651ae92915172050b\n",
            "  Building wheel for pyod (setup.py) ... \u001b[?25l\u001b[?25hdone\n",
            "  Created wheel for pyod: filename=pyod-0.8.0-cp36-none-any.whl size=105563 sha256=fe5daf5193536a88879883d7566d7cfb410361937e4866f5b87b734cad64142d\n",
            "  Stored in directory: /root/.cache/pip/wheels/ba/a6/81/2dd042e240090f3603a686b897d03402219a86e3f61bc71184\n",
            "  Building wheel for cufflinks (setup.py) ... \u001b[?25l\u001b[?25hdone\n",
            "  Created wheel for cufflinks: filename=cufflinks-0.17.0-cp36-none-any.whl size=67744 sha256=43f3fb7d2ab68acf1efc70f214dae6d97e3439344a9b9d4c81bc1b1cff3f579a\n",
            "  Stored in directory: /root/.cache/pip/wheels/44/d7/dc/e830ab00bc2dd3b2731295103baa070f8cbdda8891f71a7a8d\n",
            "  Building wheel for htmlmin (setup.py) ... \u001b[?25l\u001b[?25hdone\n",
            "  Created wheel for htmlmin: filename=htmlmin-0.1.12-cp36-none-any.whl size=27084 sha256=bcfcc7b83fa1a8ebba7050d301365c1da488c262144d16c1398948d7ec0a6e21\n",
            "  Stored in directory: /root/.cache/pip/wheels/43/07/ac/7c5a9d708d65247ac1f94066cf1db075540b85716c30255459\n",
            "  Building wheel for confuse (setup.py) ... \u001b[?25l\u001b[?25hdone\n",
            "  Created wheel for confuse: filename=confuse-1.1.0-cp36-none-any.whl size=17574 sha256=4ee63aaaccc2b2f2a81ba4d4882f3e0fb95fff1e754ecab93115ac1dffac2d42\n",
            "  Stored in directory: /root/.cache/pip/wheels/f6/8b/23/41a1b516f6d8d4cc81f5bdb55394a47cdbe9659c53668d3c9e\n",
            "  Building wheel for funcy (setup.py) ... \u001b[?25l\u001b[?25hdone\n",
            "  Created wheel for funcy: filename=funcy-1.14-py2.py3-none-any.whl size=32042 sha256=0e3e884eddd8ab8540699f51a84b31835e568d0d1e3e0d23e4c3d687b5b3cf02\n",
            "  Stored in directory: /root/.cache/pip/wheels/20/5a/d8/1d875df03deae6f178dfdf70238cca33f948ef8a6f5209f2eb\n",
            "  Building wheel for combo (setup.py) ... \u001b[?25l\u001b[?25hdone\n",
            "  Created wheel for combo: filename=combo-0.1.0-cp36-none-any.whl size=42043 sha256=fa6aac5f5b354f7e2506ff03168daf0dd7576e0ff3a650a8d121ef1066993c3f\n",
            "  Stored in directory: /root/.cache/pip/wheels/00/fd/6c/8da495ef08ce61844a646df2423c2b8ecda377a89c90ecd88e\n",
            "  Building wheel for suod (setup.py) ... \u001b[?25l\u001b[?25hdone\n",
            "  Created wheel for suod: filename=suod-0.0.4-cp36-none-any.whl size=2167157 sha256=6fb6115f437540acfaef5b2756c0b708d69805a80da603e8059d2e304b27a435\n",
            "  Stored in directory: /root/.cache/pip/wheels/57/55/e5/a4fca65bba231f6d0115059b589148774b41faea25b3f2aa27\n",
            "Successfully built pandas-profiling pyLDAvis shap pyod cufflinks htmlmin confuse funcy combo suod\n",
            "Installing collected packages: scikit-learn, kmodes, htmlmin, phik, confuse, pandas-profiling, lightgbm, funcy, pyLDAvis, shap, catboost, yellowbrick, zope.interface, DateTime, datefinder, botocore, colorama, rsa, awscli, combo, suod, pyod, chart-studio, cufflinks, pycaret\n",
            "  Found existing installation: scikit-learn 0.22.2.post1\n",
            "    Uninstalling scikit-learn-0.22.2.post1:\n",
            "      Successfully uninstalled scikit-learn-0.22.2.post1\n",
            "  Found existing installation: pandas-profiling 1.4.1\n",
            "    Uninstalling pandas-profiling-1.4.1:\n",
            "      Successfully uninstalled pandas-profiling-1.4.1\n",
            "  Found existing installation: lightgbm 2.2.3\n",
            "    Uninstalling lightgbm-2.2.3:\n",
            "      Successfully uninstalled lightgbm-2.2.3\n",
            "  Found existing installation: yellowbrick 0.9.1\n",
            "    Uninstalling yellowbrick-0.9.1:\n",
            "      Successfully uninstalled yellowbrick-0.9.1\n",
            "  Found existing installation: botocore 1.16.19\n",
            "    Uninstalling botocore-1.16.19:\n",
            "      Successfully uninstalled botocore-1.16.19\n",
            "  Found existing installation: rsa 4.0\n",
            "    Uninstalling rsa-4.0:\n",
            "      Successfully uninstalled rsa-4.0\n",
            "  Found existing installation: cufflinks 0.17.3\n",
            "    Uninstalling cufflinks-0.17.3:\n",
            "      Successfully uninstalled cufflinks-0.17.3\n",
            "Successfully installed DateTime-4.3 awscli-1.18.74 botocore-1.16.24 catboost-0.20.2 chart-studio-1.1.0 colorama-0.4.3 combo-0.1.0 confuse-1.1.0 cufflinks-0.17.0 datefinder-0.7.0 funcy-1.14 htmlmin-0.1.12 kmodes-0.10.1 lightgbm-2.3.1 pandas-profiling-2.3.0 phik-0.10.0 pyLDAvis-2.1.2 pycaret-1.0.0 pyod-0.8.0 rsa-3.4.2 scikit-learn-0.22 shap-0.32.1 suod-0.0.4 yellowbrick-1.0.1 zope.interface-5.1.0\n"
          ],
          "name": "stdout"
        },
        {
          "output_type": "display_data",
          "data": {
            "application/vnd.colab-display-data+json": {
              "pip_warning": {
                "packages": [
                  "rsa",
                  "sklearn"
                ]
              }
            }
          },
          "metadata": {
            "tags": []
          }
        }
      ]
    },
    {
      "cell_type": "code",
      "metadata": {
        "id": "Y71EzfNngwIA",
        "colab_type": "code",
        "colab": {
          "base_uri": "https://localhost:8080/",
          "height": 943,
          "referenced_widgets": [
            "491be0756e3044988998ed272be6b8ef",
            "55920f88c2624099a31cb1242f3dfb24",
            "34f5a06d357342d6ad485d2d55de7be1",
            "7ca78d61282541bda8855aa84ac01a04",
            "51c8e771931a424ea6b4a101b5ed3a69",
            "1ed19058fd144085b1c7fbb2f5320272"
          ]
        },
        "outputId": "b6b51bb3-0c7f-4579-a5ef-60ea4e8841d8"
      },
      "source": [
        "from pycaret.classification import *\n",
        "#intialize the setup\n",
        "emp_clf = setup(train, target = 'target')"
      ],
      "execution_count": 48,
      "outputs": [
        {
          "output_type": "stream",
          "text": [
            " \n",
            "Setup Succesfully Completed!\n"
          ],
          "name": "stdout"
        },
        {
          "output_type": "display_data",
          "data": {
            "text/html": [
              "<style  type=\"text/css\" >\n",
              "</style><table id=\"T_24a2d836_a97b_11ea_8b29_0242ac1c0002\" ><thead>    <tr>        <th class=\"blank level0\" ></th>        <th class=\"col_heading level0 col0\" >Description</th>        <th class=\"col_heading level0 col1\" >Value</th>    </tr></thead><tbody>\n",
              "                <tr>\n",
              "                        <th id=\"T_24a2d836_a97b_11ea_8b29_0242ac1c0002level0_row0\" class=\"row_heading level0 row0\" >0</th>\n",
              "                        <td id=\"T_24a2d836_a97b_11ea_8b29_0242ac1c0002row0_col0\" class=\"data row0 col0\" >session_id</td>\n",
              "                        <td id=\"T_24a2d836_a97b_11ea_8b29_0242ac1c0002row0_col1\" class=\"data row0 col1\" >8072</td>\n",
              "            </tr>\n",
              "            <tr>\n",
              "                        <th id=\"T_24a2d836_a97b_11ea_8b29_0242ac1c0002level0_row1\" class=\"row_heading level0 row1\" >1</th>\n",
              "                        <td id=\"T_24a2d836_a97b_11ea_8b29_0242ac1c0002row1_col0\" class=\"data row1 col0\" >Target Type</td>\n",
              "                        <td id=\"T_24a2d836_a97b_11ea_8b29_0242ac1c0002row1_col1\" class=\"data row1 col1\" >Binary</td>\n",
              "            </tr>\n",
              "            <tr>\n",
              "                        <th id=\"T_24a2d836_a97b_11ea_8b29_0242ac1c0002level0_row2\" class=\"row_heading level0 row2\" >2</th>\n",
              "                        <td id=\"T_24a2d836_a97b_11ea_8b29_0242ac1c0002row2_col0\" class=\"data row2 col0\" >Label Encoded</td>\n",
              "                        <td id=\"T_24a2d836_a97b_11ea_8b29_0242ac1c0002row2_col1\" class=\"data row2 col1\" >None</td>\n",
              "            </tr>\n",
              "            <tr>\n",
              "                        <th id=\"T_24a2d836_a97b_11ea_8b29_0242ac1c0002level0_row3\" class=\"row_heading level0 row3\" >3</th>\n",
              "                        <td id=\"T_24a2d836_a97b_11ea_8b29_0242ac1c0002row3_col0\" class=\"data row3 col0\" >Original Data</td>\n",
              "                        <td id=\"T_24a2d836_a97b_11ea_8b29_0242ac1c0002row3_col1\" class=\"data row3 col1\" >(18359, 14)</td>\n",
              "            </tr>\n",
              "            <tr>\n",
              "                        <th id=\"T_24a2d836_a97b_11ea_8b29_0242ac1c0002level0_row4\" class=\"row_heading level0 row4\" >4</th>\n",
              "                        <td id=\"T_24a2d836_a97b_11ea_8b29_0242ac1c0002row4_col0\" class=\"data row4 col0\" >Missing Values </td>\n",
              "                        <td id=\"T_24a2d836_a97b_11ea_8b29_0242ac1c0002row4_col1\" class=\"data row4 col1\" >False</td>\n",
              "            </tr>\n",
              "            <tr>\n",
              "                        <th id=\"T_24a2d836_a97b_11ea_8b29_0242ac1c0002level0_row5\" class=\"row_heading level0 row5\" >5</th>\n",
              "                        <td id=\"T_24a2d836_a97b_11ea_8b29_0242ac1c0002row5_col0\" class=\"data row5 col0\" >Numeric Features </td>\n",
              "                        <td id=\"T_24a2d836_a97b_11ea_8b29_0242ac1c0002row5_col1\" class=\"data row5 col1\" >3</td>\n",
              "            </tr>\n",
              "            <tr>\n",
              "                        <th id=\"T_24a2d836_a97b_11ea_8b29_0242ac1c0002level0_row6\" class=\"row_heading level0 row6\" >6</th>\n",
              "                        <td id=\"T_24a2d836_a97b_11ea_8b29_0242ac1c0002row6_col0\" class=\"data row6 col0\" >Categorical Features </td>\n",
              "                        <td id=\"T_24a2d836_a97b_11ea_8b29_0242ac1c0002row6_col1\" class=\"data row6 col1\" >10</td>\n",
              "            </tr>\n",
              "            <tr>\n",
              "                        <th id=\"T_24a2d836_a97b_11ea_8b29_0242ac1c0002level0_row7\" class=\"row_heading level0 row7\" >7</th>\n",
              "                        <td id=\"T_24a2d836_a97b_11ea_8b29_0242ac1c0002row7_col0\" class=\"data row7 col0\" >Ordinal Features </td>\n",
              "                        <td id=\"T_24a2d836_a97b_11ea_8b29_0242ac1c0002row7_col1\" class=\"data row7 col1\" >False</td>\n",
              "            </tr>\n",
              "            <tr>\n",
              "                        <th id=\"T_24a2d836_a97b_11ea_8b29_0242ac1c0002level0_row8\" class=\"row_heading level0 row8\" >8</th>\n",
              "                        <td id=\"T_24a2d836_a97b_11ea_8b29_0242ac1c0002row8_col0\" class=\"data row8 col0\" >High Cardinality Features </td>\n",
              "                        <td id=\"T_24a2d836_a97b_11ea_8b29_0242ac1c0002row8_col1\" class=\"data row8 col1\" >False</td>\n",
              "            </tr>\n",
              "            <tr>\n",
              "                        <th id=\"T_24a2d836_a97b_11ea_8b29_0242ac1c0002level0_row9\" class=\"row_heading level0 row9\" >9</th>\n",
              "                        <td id=\"T_24a2d836_a97b_11ea_8b29_0242ac1c0002row9_col0\" class=\"data row9 col0\" >High Cardinality Method </td>\n",
              "                        <td id=\"T_24a2d836_a97b_11ea_8b29_0242ac1c0002row9_col1\" class=\"data row9 col1\" >None</td>\n",
              "            </tr>\n",
              "            <tr>\n",
              "                        <th id=\"T_24a2d836_a97b_11ea_8b29_0242ac1c0002level0_row10\" class=\"row_heading level0 row10\" >10</th>\n",
              "                        <td id=\"T_24a2d836_a97b_11ea_8b29_0242ac1c0002row10_col0\" class=\"data row10 col0\" >Sampled Data</td>\n",
              "                        <td id=\"T_24a2d836_a97b_11ea_8b29_0242ac1c0002row10_col1\" class=\"data row10 col1\" >(18359, 14)</td>\n",
              "            </tr>\n",
              "            <tr>\n",
              "                        <th id=\"T_24a2d836_a97b_11ea_8b29_0242ac1c0002level0_row11\" class=\"row_heading level0 row11\" >11</th>\n",
              "                        <td id=\"T_24a2d836_a97b_11ea_8b29_0242ac1c0002row11_col0\" class=\"data row11 col0\" >Transformed Train Set</td>\n",
              "                        <td id=\"T_24a2d836_a97b_11ea_8b29_0242ac1c0002row11_col1\" class=\"data row11 col1\" >(12851, 170)</td>\n",
              "            </tr>\n",
              "            <tr>\n",
              "                        <th id=\"T_24a2d836_a97b_11ea_8b29_0242ac1c0002level0_row12\" class=\"row_heading level0 row12\" >12</th>\n",
              "                        <td id=\"T_24a2d836_a97b_11ea_8b29_0242ac1c0002row12_col0\" class=\"data row12 col0\" >Transformed Test Set</td>\n",
              "                        <td id=\"T_24a2d836_a97b_11ea_8b29_0242ac1c0002row12_col1\" class=\"data row12 col1\" >(5508, 170)</td>\n",
              "            </tr>\n",
              "            <tr>\n",
              "                        <th id=\"T_24a2d836_a97b_11ea_8b29_0242ac1c0002level0_row13\" class=\"row_heading level0 row13\" >13</th>\n",
              "                        <td id=\"T_24a2d836_a97b_11ea_8b29_0242ac1c0002row13_col0\" class=\"data row13 col0\" >Numeric Imputer </td>\n",
              "                        <td id=\"T_24a2d836_a97b_11ea_8b29_0242ac1c0002row13_col1\" class=\"data row13 col1\" >mean</td>\n",
              "            </tr>\n",
              "            <tr>\n",
              "                        <th id=\"T_24a2d836_a97b_11ea_8b29_0242ac1c0002level0_row14\" class=\"row_heading level0 row14\" >14</th>\n",
              "                        <td id=\"T_24a2d836_a97b_11ea_8b29_0242ac1c0002row14_col0\" class=\"data row14 col0\" >Categorical Imputer </td>\n",
              "                        <td id=\"T_24a2d836_a97b_11ea_8b29_0242ac1c0002row14_col1\" class=\"data row14 col1\" >constant</td>\n",
              "            </tr>\n",
              "            <tr>\n",
              "                        <th id=\"T_24a2d836_a97b_11ea_8b29_0242ac1c0002level0_row15\" class=\"row_heading level0 row15\" >15</th>\n",
              "                        <td id=\"T_24a2d836_a97b_11ea_8b29_0242ac1c0002row15_col0\" class=\"data row15 col0\" >Normalize </td>\n",
              "                        <td id=\"T_24a2d836_a97b_11ea_8b29_0242ac1c0002row15_col1\" class=\"data row15 col1\" >False</td>\n",
              "            </tr>\n",
              "            <tr>\n",
              "                        <th id=\"T_24a2d836_a97b_11ea_8b29_0242ac1c0002level0_row16\" class=\"row_heading level0 row16\" >16</th>\n",
              "                        <td id=\"T_24a2d836_a97b_11ea_8b29_0242ac1c0002row16_col0\" class=\"data row16 col0\" >Normalize Method </td>\n",
              "                        <td id=\"T_24a2d836_a97b_11ea_8b29_0242ac1c0002row16_col1\" class=\"data row16 col1\" >None</td>\n",
              "            </tr>\n",
              "            <tr>\n",
              "                        <th id=\"T_24a2d836_a97b_11ea_8b29_0242ac1c0002level0_row17\" class=\"row_heading level0 row17\" >17</th>\n",
              "                        <td id=\"T_24a2d836_a97b_11ea_8b29_0242ac1c0002row17_col0\" class=\"data row17 col0\" >Transformation </td>\n",
              "                        <td id=\"T_24a2d836_a97b_11ea_8b29_0242ac1c0002row17_col1\" class=\"data row17 col1\" >False</td>\n",
              "            </tr>\n",
              "            <tr>\n",
              "                        <th id=\"T_24a2d836_a97b_11ea_8b29_0242ac1c0002level0_row18\" class=\"row_heading level0 row18\" >18</th>\n",
              "                        <td id=\"T_24a2d836_a97b_11ea_8b29_0242ac1c0002row18_col0\" class=\"data row18 col0\" >Transformation Method </td>\n",
              "                        <td id=\"T_24a2d836_a97b_11ea_8b29_0242ac1c0002row18_col1\" class=\"data row18 col1\" >None</td>\n",
              "            </tr>\n",
              "            <tr>\n",
              "                        <th id=\"T_24a2d836_a97b_11ea_8b29_0242ac1c0002level0_row19\" class=\"row_heading level0 row19\" >19</th>\n",
              "                        <td id=\"T_24a2d836_a97b_11ea_8b29_0242ac1c0002row19_col0\" class=\"data row19 col0\" >PCA </td>\n",
              "                        <td id=\"T_24a2d836_a97b_11ea_8b29_0242ac1c0002row19_col1\" class=\"data row19 col1\" >False</td>\n",
              "            </tr>\n",
              "            <tr>\n",
              "                        <th id=\"T_24a2d836_a97b_11ea_8b29_0242ac1c0002level0_row20\" class=\"row_heading level0 row20\" >20</th>\n",
              "                        <td id=\"T_24a2d836_a97b_11ea_8b29_0242ac1c0002row20_col0\" class=\"data row20 col0\" >PCA Method </td>\n",
              "                        <td id=\"T_24a2d836_a97b_11ea_8b29_0242ac1c0002row20_col1\" class=\"data row20 col1\" >None</td>\n",
              "            </tr>\n",
              "            <tr>\n",
              "                        <th id=\"T_24a2d836_a97b_11ea_8b29_0242ac1c0002level0_row21\" class=\"row_heading level0 row21\" >21</th>\n",
              "                        <td id=\"T_24a2d836_a97b_11ea_8b29_0242ac1c0002row21_col0\" class=\"data row21 col0\" >PCA Components </td>\n",
              "                        <td id=\"T_24a2d836_a97b_11ea_8b29_0242ac1c0002row21_col1\" class=\"data row21 col1\" >None</td>\n",
              "            </tr>\n",
              "            <tr>\n",
              "                        <th id=\"T_24a2d836_a97b_11ea_8b29_0242ac1c0002level0_row22\" class=\"row_heading level0 row22\" >22</th>\n",
              "                        <td id=\"T_24a2d836_a97b_11ea_8b29_0242ac1c0002row22_col0\" class=\"data row22 col0\" >Ignore Low Variance </td>\n",
              "                        <td id=\"T_24a2d836_a97b_11ea_8b29_0242ac1c0002row22_col1\" class=\"data row22 col1\" >False</td>\n",
              "            </tr>\n",
              "            <tr>\n",
              "                        <th id=\"T_24a2d836_a97b_11ea_8b29_0242ac1c0002level0_row23\" class=\"row_heading level0 row23\" >23</th>\n",
              "                        <td id=\"T_24a2d836_a97b_11ea_8b29_0242ac1c0002row23_col0\" class=\"data row23 col0\" >Combine Rare Levels </td>\n",
              "                        <td id=\"T_24a2d836_a97b_11ea_8b29_0242ac1c0002row23_col1\" class=\"data row23 col1\" >False</td>\n",
              "            </tr>\n",
              "            <tr>\n",
              "                        <th id=\"T_24a2d836_a97b_11ea_8b29_0242ac1c0002level0_row24\" class=\"row_heading level0 row24\" >24</th>\n",
              "                        <td id=\"T_24a2d836_a97b_11ea_8b29_0242ac1c0002row24_col0\" class=\"data row24 col0\" >Rare Level Threshold </td>\n",
              "                        <td id=\"T_24a2d836_a97b_11ea_8b29_0242ac1c0002row24_col1\" class=\"data row24 col1\" >None</td>\n",
              "            </tr>\n",
              "            <tr>\n",
              "                        <th id=\"T_24a2d836_a97b_11ea_8b29_0242ac1c0002level0_row25\" class=\"row_heading level0 row25\" >25</th>\n",
              "                        <td id=\"T_24a2d836_a97b_11ea_8b29_0242ac1c0002row25_col0\" class=\"data row25 col0\" >Numeric Binning </td>\n",
              "                        <td id=\"T_24a2d836_a97b_11ea_8b29_0242ac1c0002row25_col1\" class=\"data row25 col1\" >False</td>\n",
              "            </tr>\n",
              "            <tr>\n",
              "                        <th id=\"T_24a2d836_a97b_11ea_8b29_0242ac1c0002level0_row26\" class=\"row_heading level0 row26\" >26</th>\n",
              "                        <td id=\"T_24a2d836_a97b_11ea_8b29_0242ac1c0002row26_col0\" class=\"data row26 col0\" >Remove Outliers </td>\n",
              "                        <td id=\"T_24a2d836_a97b_11ea_8b29_0242ac1c0002row26_col1\" class=\"data row26 col1\" >False</td>\n",
              "            </tr>\n",
              "            <tr>\n",
              "                        <th id=\"T_24a2d836_a97b_11ea_8b29_0242ac1c0002level0_row27\" class=\"row_heading level0 row27\" >27</th>\n",
              "                        <td id=\"T_24a2d836_a97b_11ea_8b29_0242ac1c0002row27_col0\" class=\"data row27 col0\" >Outliers Threshold </td>\n",
              "                        <td id=\"T_24a2d836_a97b_11ea_8b29_0242ac1c0002row27_col1\" class=\"data row27 col1\" >None</td>\n",
              "            </tr>\n",
              "            <tr>\n",
              "                        <th id=\"T_24a2d836_a97b_11ea_8b29_0242ac1c0002level0_row28\" class=\"row_heading level0 row28\" >28</th>\n",
              "                        <td id=\"T_24a2d836_a97b_11ea_8b29_0242ac1c0002row28_col0\" class=\"data row28 col0\" >Remove Multicollinearity </td>\n",
              "                        <td id=\"T_24a2d836_a97b_11ea_8b29_0242ac1c0002row28_col1\" class=\"data row28 col1\" >False</td>\n",
              "            </tr>\n",
              "            <tr>\n",
              "                        <th id=\"T_24a2d836_a97b_11ea_8b29_0242ac1c0002level0_row29\" class=\"row_heading level0 row29\" >29</th>\n",
              "                        <td id=\"T_24a2d836_a97b_11ea_8b29_0242ac1c0002row29_col0\" class=\"data row29 col0\" >Multicollinearity Threshold </td>\n",
              "                        <td id=\"T_24a2d836_a97b_11ea_8b29_0242ac1c0002row29_col1\" class=\"data row29 col1\" >None</td>\n",
              "            </tr>\n",
              "            <tr>\n",
              "                        <th id=\"T_24a2d836_a97b_11ea_8b29_0242ac1c0002level0_row30\" class=\"row_heading level0 row30\" >30</th>\n",
              "                        <td id=\"T_24a2d836_a97b_11ea_8b29_0242ac1c0002row30_col0\" class=\"data row30 col0\" >Clustering </td>\n",
              "                        <td id=\"T_24a2d836_a97b_11ea_8b29_0242ac1c0002row30_col1\" class=\"data row30 col1\" >False</td>\n",
              "            </tr>\n",
              "            <tr>\n",
              "                        <th id=\"T_24a2d836_a97b_11ea_8b29_0242ac1c0002level0_row31\" class=\"row_heading level0 row31\" >31</th>\n",
              "                        <td id=\"T_24a2d836_a97b_11ea_8b29_0242ac1c0002row31_col0\" class=\"data row31 col0\" >Clustering Iteration </td>\n",
              "                        <td id=\"T_24a2d836_a97b_11ea_8b29_0242ac1c0002row31_col1\" class=\"data row31 col1\" >None</td>\n",
              "            </tr>\n",
              "            <tr>\n",
              "                        <th id=\"T_24a2d836_a97b_11ea_8b29_0242ac1c0002level0_row32\" class=\"row_heading level0 row32\" >32</th>\n",
              "                        <td id=\"T_24a2d836_a97b_11ea_8b29_0242ac1c0002row32_col0\" class=\"data row32 col0\" >Polynomial Features </td>\n",
              "                        <td id=\"T_24a2d836_a97b_11ea_8b29_0242ac1c0002row32_col1\" class=\"data row32 col1\" >False</td>\n",
              "            </tr>\n",
              "            <tr>\n",
              "                        <th id=\"T_24a2d836_a97b_11ea_8b29_0242ac1c0002level0_row33\" class=\"row_heading level0 row33\" >33</th>\n",
              "                        <td id=\"T_24a2d836_a97b_11ea_8b29_0242ac1c0002row33_col0\" class=\"data row33 col0\" >Polynomial Degree </td>\n",
              "                        <td id=\"T_24a2d836_a97b_11ea_8b29_0242ac1c0002row33_col1\" class=\"data row33 col1\" >None</td>\n",
              "            </tr>\n",
              "            <tr>\n",
              "                        <th id=\"T_24a2d836_a97b_11ea_8b29_0242ac1c0002level0_row34\" class=\"row_heading level0 row34\" >34</th>\n",
              "                        <td id=\"T_24a2d836_a97b_11ea_8b29_0242ac1c0002row34_col0\" class=\"data row34 col0\" >Trignometry Features </td>\n",
              "                        <td id=\"T_24a2d836_a97b_11ea_8b29_0242ac1c0002row34_col1\" class=\"data row34 col1\" >False</td>\n",
              "            </tr>\n",
              "            <tr>\n",
              "                        <th id=\"T_24a2d836_a97b_11ea_8b29_0242ac1c0002level0_row35\" class=\"row_heading level0 row35\" >35</th>\n",
              "                        <td id=\"T_24a2d836_a97b_11ea_8b29_0242ac1c0002row35_col0\" class=\"data row35 col0\" >Polynomial Threshold </td>\n",
              "                        <td id=\"T_24a2d836_a97b_11ea_8b29_0242ac1c0002row35_col1\" class=\"data row35 col1\" >None</td>\n",
              "            </tr>\n",
              "            <tr>\n",
              "                        <th id=\"T_24a2d836_a97b_11ea_8b29_0242ac1c0002level0_row36\" class=\"row_heading level0 row36\" >36</th>\n",
              "                        <td id=\"T_24a2d836_a97b_11ea_8b29_0242ac1c0002row36_col0\" class=\"data row36 col0\" >Group Features </td>\n",
              "                        <td id=\"T_24a2d836_a97b_11ea_8b29_0242ac1c0002row36_col1\" class=\"data row36 col1\" >False</td>\n",
              "            </tr>\n",
              "            <tr>\n",
              "                        <th id=\"T_24a2d836_a97b_11ea_8b29_0242ac1c0002level0_row37\" class=\"row_heading level0 row37\" >37</th>\n",
              "                        <td id=\"T_24a2d836_a97b_11ea_8b29_0242ac1c0002row37_col0\" class=\"data row37 col0\" >Feature Selection </td>\n",
              "                        <td id=\"T_24a2d836_a97b_11ea_8b29_0242ac1c0002row37_col1\" class=\"data row37 col1\" >False</td>\n",
              "            </tr>\n",
              "            <tr>\n",
              "                        <th id=\"T_24a2d836_a97b_11ea_8b29_0242ac1c0002level0_row38\" class=\"row_heading level0 row38\" >38</th>\n",
              "                        <td id=\"T_24a2d836_a97b_11ea_8b29_0242ac1c0002row38_col0\" class=\"data row38 col0\" >Features Selection Threshold </td>\n",
              "                        <td id=\"T_24a2d836_a97b_11ea_8b29_0242ac1c0002row38_col1\" class=\"data row38 col1\" >None</td>\n",
              "            </tr>\n",
              "            <tr>\n",
              "                        <th id=\"T_24a2d836_a97b_11ea_8b29_0242ac1c0002level0_row39\" class=\"row_heading level0 row39\" >39</th>\n",
              "                        <td id=\"T_24a2d836_a97b_11ea_8b29_0242ac1c0002row39_col0\" class=\"data row39 col0\" >Feature Interaction </td>\n",
              "                        <td id=\"T_24a2d836_a97b_11ea_8b29_0242ac1c0002row39_col1\" class=\"data row39 col1\" >False</td>\n",
              "            </tr>\n",
              "            <tr>\n",
              "                        <th id=\"T_24a2d836_a97b_11ea_8b29_0242ac1c0002level0_row40\" class=\"row_heading level0 row40\" >40</th>\n",
              "                        <td id=\"T_24a2d836_a97b_11ea_8b29_0242ac1c0002row40_col0\" class=\"data row40 col0\" >Feature Ratio </td>\n",
              "                        <td id=\"T_24a2d836_a97b_11ea_8b29_0242ac1c0002row40_col1\" class=\"data row40 col1\" >False</td>\n",
              "            </tr>\n",
              "            <tr>\n",
              "                        <th id=\"T_24a2d836_a97b_11ea_8b29_0242ac1c0002level0_row41\" class=\"row_heading level0 row41\" >41</th>\n",
              "                        <td id=\"T_24a2d836_a97b_11ea_8b29_0242ac1c0002row41_col0\" class=\"data row41 col0\" >Interaction Threshold </td>\n",
              "                        <td id=\"T_24a2d836_a97b_11ea_8b29_0242ac1c0002row41_col1\" class=\"data row41 col1\" >None</td>\n",
              "            </tr>\n",
              "    </tbody></table>"
            ],
            "text/plain": [
              "<pandas.io.formats.style.Styler at 0x7f4357752c50>"
            ]
          },
          "metadata": {
            "tags": []
          }
        }
      ]
    },
    {
      "cell_type": "code",
      "metadata": {
        "id": "4UEGPTgkrM2n",
        "colab_type": "code",
        "colab": {
          "base_uri": "https://localhost:8080/",
          "height": 350,
          "referenced_widgets": [
            "0f4bd49c0def450193598a6019d56396",
            "ed0260438850465f97b2cc53d5c1e818",
            "d09d2caca80946379dca6ae5edfd8eff"
          ]
        },
        "outputId": "3e57de02-d3aa-4b71-c110-e122f3963daf"
      },
      "source": [
        "compare_models(fold = 10,  round = 4,  sort = 'Accuracy', turbo = True)"
      ],
      "execution_count": 51,
      "outputs": [
        {
          "output_type": "execute_result",
          "data": {
            "text/html": [
              "<style  type=\"text/css\" >\n",
              "    #T_247e57f8_a97c_11ea_8b29_0242ac1c0002 th {\n",
              "          text-align: left;\n",
              "    }    #T_247e57f8_a97c_11ea_8b29_0242ac1c0002row0_col0 {\n",
              "            text-align:  left;\n",
              "        }    #T_247e57f8_a97c_11ea_8b29_0242ac1c0002row0_col1 {\n",
              "            background-color:  yellow;\n",
              "            text-align:  left;\n",
              "        }    #T_247e57f8_a97c_11ea_8b29_0242ac1c0002row0_col2 {\n",
              "            : ;\n",
              "            text-align:  left;\n",
              "        }    #T_247e57f8_a97c_11ea_8b29_0242ac1c0002row0_col3 {\n",
              "            : ;\n",
              "            text-align:  left;\n",
              "        }    #T_247e57f8_a97c_11ea_8b29_0242ac1c0002row0_col4 {\n",
              "            : ;\n",
              "            text-align:  left;\n",
              "        }    #T_247e57f8_a97c_11ea_8b29_0242ac1c0002row0_col5 {\n",
              "            : ;\n",
              "            text-align:  left;\n",
              "        }    #T_247e57f8_a97c_11ea_8b29_0242ac1c0002row0_col6 {\n",
              "            : ;\n",
              "            text-align:  left;\n",
              "        }    #T_247e57f8_a97c_11ea_8b29_0242ac1c0002row1_col0 {\n",
              "            text-align:  left;\n",
              "        }    #T_247e57f8_a97c_11ea_8b29_0242ac1c0002row1_col1 {\n",
              "            : ;\n",
              "            text-align:  left;\n",
              "        }    #T_247e57f8_a97c_11ea_8b29_0242ac1c0002row1_col2 {\n",
              "            background-color:  yellow;\n",
              "            text-align:  left;\n",
              "        }    #T_247e57f8_a97c_11ea_8b29_0242ac1c0002row1_col3 {\n",
              "            : ;\n",
              "            text-align:  left;\n",
              "        }    #T_247e57f8_a97c_11ea_8b29_0242ac1c0002row1_col4 {\n",
              "            : ;\n",
              "            text-align:  left;\n",
              "        }    #T_247e57f8_a97c_11ea_8b29_0242ac1c0002row1_col5 {\n",
              "            : ;\n",
              "            text-align:  left;\n",
              "        }    #T_247e57f8_a97c_11ea_8b29_0242ac1c0002row1_col6 {\n",
              "            : ;\n",
              "            text-align:  left;\n",
              "        }    #T_247e57f8_a97c_11ea_8b29_0242ac1c0002row2_col0 {\n",
              "            text-align:  left;\n",
              "        }    #T_247e57f8_a97c_11ea_8b29_0242ac1c0002row2_col1 {\n",
              "            : ;\n",
              "            text-align:  left;\n",
              "        }    #T_247e57f8_a97c_11ea_8b29_0242ac1c0002row2_col2 {\n",
              "            : ;\n",
              "            text-align:  left;\n",
              "        }    #T_247e57f8_a97c_11ea_8b29_0242ac1c0002row2_col3 {\n",
              "            : ;\n",
              "            text-align:  left;\n",
              "        }    #T_247e57f8_a97c_11ea_8b29_0242ac1c0002row2_col4 {\n",
              "            : ;\n",
              "            text-align:  left;\n",
              "        }    #T_247e57f8_a97c_11ea_8b29_0242ac1c0002row2_col5 {\n",
              "            : ;\n",
              "            text-align:  left;\n",
              "        }    #T_247e57f8_a97c_11ea_8b29_0242ac1c0002row2_col6 {\n",
              "            : ;\n",
              "            text-align:  left;\n",
              "        }    #T_247e57f8_a97c_11ea_8b29_0242ac1c0002row3_col0 {\n",
              "            text-align:  left;\n",
              "        }    #T_247e57f8_a97c_11ea_8b29_0242ac1c0002row3_col1 {\n",
              "            : ;\n",
              "            text-align:  left;\n",
              "        }    #T_247e57f8_a97c_11ea_8b29_0242ac1c0002row3_col2 {\n",
              "            : ;\n",
              "            text-align:  left;\n",
              "        }    #T_247e57f8_a97c_11ea_8b29_0242ac1c0002row3_col3 {\n",
              "            : ;\n",
              "            text-align:  left;\n",
              "        }    #T_247e57f8_a97c_11ea_8b29_0242ac1c0002row3_col4 {\n",
              "            : ;\n",
              "            text-align:  left;\n",
              "        }    #T_247e57f8_a97c_11ea_8b29_0242ac1c0002row3_col5 {\n",
              "            : ;\n",
              "            text-align:  left;\n",
              "        }    #T_247e57f8_a97c_11ea_8b29_0242ac1c0002row3_col6 {\n",
              "            : ;\n",
              "            text-align:  left;\n",
              "        }    #T_247e57f8_a97c_11ea_8b29_0242ac1c0002row4_col0 {\n",
              "            text-align:  left;\n",
              "        }    #T_247e57f8_a97c_11ea_8b29_0242ac1c0002row4_col1 {\n",
              "            : ;\n",
              "            text-align:  left;\n",
              "        }    #T_247e57f8_a97c_11ea_8b29_0242ac1c0002row4_col2 {\n",
              "            : ;\n",
              "            text-align:  left;\n",
              "        }    #T_247e57f8_a97c_11ea_8b29_0242ac1c0002row4_col3 {\n",
              "            : ;\n",
              "            text-align:  left;\n",
              "        }    #T_247e57f8_a97c_11ea_8b29_0242ac1c0002row4_col4 {\n",
              "            : ;\n",
              "            text-align:  left;\n",
              "        }    #T_247e57f8_a97c_11ea_8b29_0242ac1c0002row4_col5 {\n",
              "            : ;\n",
              "            text-align:  left;\n",
              "        }    #T_247e57f8_a97c_11ea_8b29_0242ac1c0002row4_col6 {\n",
              "            : ;\n",
              "            text-align:  left;\n",
              "        }    #T_247e57f8_a97c_11ea_8b29_0242ac1c0002row5_col0 {\n",
              "            text-align:  left;\n",
              "        }    #T_247e57f8_a97c_11ea_8b29_0242ac1c0002row5_col1 {\n",
              "            : ;\n",
              "            text-align:  left;\n",
              "        }    #T_247e57f8_a97c_11ea_8b29_0242ac1c0002row5_col2 {\n",
              "            : ;\n",
              "            text-align:  left;\n",
              "        }    #T_247e57f8_a97c_11ea_8b29_0242ac1c0002row5_col3 {\n",
              "            : ;\n",
              "            text-align:  left;\n",
              "        }    #T_247e57f8_a97c_11ea_8b29_0242ac1c0002row5_col4 {\n",
              "            background-color:  yellow;\n",
              "            text-align:  left;\n",
              "        }    #T_247e57f8_a97c_11ea_8b29_0242ac1c0002row5_col5 {\n",
              "            : ;\n",
              "            text-align:  left;\n",
              "        }    #T_247e57f8_a97c_11ea_8b29_0242ac1c0002row5_col6 {\n",
              "            : ;\n",
              "            text-align:  left;\n",
              "        }    #T_247e57f8_a97c_11ea_8b29_0242ac1c0002row6_col0 {\n",
              "            text-align:  left;\n",
              "        }    #T_247e57f8_a97c_11ea_8b29_0242ac1c0002row6_col1 {\n",
              "            : ;\n",
              "            text-align:  left;\n",
              "        }    #T_247e57f8_a97c_11ea_8b29_0242ac1c0002row6_col2 {\n",
              "            : ;\n",
              "            text-align:  left;\n",
              "        }    #T_247e57f8_a97c_11ea_8b29_0242ac1c0002row6_col3 {\n",
              "            : ;\n",
              "            text-align:  left;\n",
              "        }    #T_247e57f8_a97c_11ea_8b29_0242ac1c0002row6_col4 {\n",
              "            : ;\n",
              "            text-align:  left;\n",
              "        }    #T_247e57f8_a97c_11ea_8b29_0242ac1c0002row6_col5 {\n",
              "            : ;\n",
              "            text-align:  left;\n",
              "        }    #T_247e57f8_a97c_11ea_8b29_0242ac1c0002row6_col6 {\n",
              "            : ;\n",
              "            text-align:  left;\n",
              "        }    #T_247e57f8_a97c_11ea_8b29_0242ac1c0002row7_col0 {\n",
              "            text-align:  left;\n",
              "        }    #T_247e57f8_a97c_11ea_8b29_0242ac1c0002row7_col1 {\n",
              "            : ;\n",
              "            text-align:  left;\n",
              "        }    #T_247e57f8_a97c_11ea_8b29_0242ac1c0002row7_col2 {\n",
              "            : ;\n",
              "            text-align:  left;\n",
              "        }    #T_247e57f8_a97c_11ea_8b29_0242ac1c0002row7_col3 {\n",
              "            : ;\n",
              "            text-align:  left;\n",
              "        }    #T_247e57f8_a97c_11ea_8b29_0242ac1c0002row7_col4 {\n",
              "            : ;\n",
              "            text-align:  left;\n",
              "        }    #T_247e57f8_a97c_11ea_8b29_0242ac1c0002row7_col5 {\n",
              "            : ;\n",
              "            text-align:  left;\n",
              "        }    #T_247e57f8_a97c_11ea_8b29_0242ac1c0002row7_col6 {\n",
              "            : ;\n",
              "            text-align:  left;\n",
              "        }    #T_247e57f8_a97c_11ea_8b29_0242ac1c0002row8_col0 {\n",
              "            text-align:  left;\n",
              "        }    #T_247e57f8_a97c_11ea_8b29_0242ac1c0002row8_col1 {\n",
              "            : ;\n",
              "            text-align:  left;\n",
              "        }    #T_247e57f8_a97c_11ea_8b29_0242ac1c0002row8_col2 {\n",
              "            : ;\n",
              "            text-align:  left;\n",
              "        }    #T_247e57f8_a97c_11ea_8b29_0242ac1c0002row8_col3 {\n",
              "            : ;\n",
              "            text-align:  left;\n",
              "        }    #T_247e57f8_a97c_11ea_8b29_0242ac1c0002row8_col4 {\n",
              "            : ;\n",
              "            text-align:  left;\n",
              "        }    #T_247e57f8_a97c_11ea_8b29_0242ac1c0002row8_col5 {\n",
              "            : ;\n",
              "            text-align:  left;\n",
              "        }    #T_247e57f8_a97c_11ea_8b29_0242ac1c0002row8_col6 {\n",
              "            : ;\n",
              "            text-align:  left;\n",
              "        }    #T_247e57f8_a97c_11ea_8b29_0242ac1c0002row9_col0 {\n",
              "            text-align:  left;\n",
              "        }    #T_247e57f8_a97c_11ea_8b29_0242ac1c0002row9_col1 {\n",
              "            : ;\n",
              "            text-align:  left;\n",
              "        }    #T_247e57f8_a97c_11ea_8b29_0242ac1c0002row9_col2 {\n",
              "            : ;\n",
              "            text-align:  left;\n",
              "        }    #T_247e57f8_a97c_11ea_8b29_0242ac1c0002row9_col3 {\n",
              "            : ;\n",
              "            text-align:  left;\n",
              "        }    #T_247e57f8_a97c_11ea_8b29_0242ac1c0002row9_col4 {\n",
              "            : ;\n",
              "            text-align:  left;\n",
              "        }    #T_247e57f8_a97c_11ea_8b29_0242ac1c0002row9_col5 {\n",
              "            : ;\n",
              "            text-align:  left;\n",
              "        }    #T_247e57f8_a97c_11ea_8b29_0242ac1c0002row9_col6 {\n",
              "            : ;\n",
              "            text-align:  left;\n",
              "        }    #T_247e57f8_a97c_11ea_8b29_0242ac1c0002row10_col0 {\n",
              "            text-align:  left;\n",
              "        }    #T_247e57f8_a97c_11ea_8b29_0242ac1c0002row10_col1 {\n",
              "            : ;\n",
              "            text-align:  left;\n",
              "        }    #T_247e57f8_a97c_11ea_8b29_0242ac1c0002row10_col2 {\n",
              "            : ;\n",
              "            text-align:  left;\n",
              "        }    #T_247e57f8_a97c_11ea_8b29_0242ac1c0002row10_col3 {\n",
              "            : ;\n",
              "            text-align:  left;\n",
              "        }    #T_247e57f8_a97c_11ea_8b29_0242ac1c0002row10_col4 {\n",
              "            : ;\n",
              "            text-align:  left;\n",
              "        }    #T_247e57f8_a97c_11ea_8b29_0242ac1c0002row10_col5 {\n",
              "            : ;\n",
              "            text-align:  left;\n",
              "        }    #T_247e57f8_a97c_11ea_8b29_0242ac1c0002row10_col6 {\n",
              "            : ;\n",
              "            text-align:  left;\n",
              "        }    #T_247e57f8_a97c_11ea_8b29_0242ac1c0002row11_col0 {\n",
              "            text-align:  left;\n",
              "        }    #T_247e57f8_a97c_11ea_8b29_0242ac1c0002row11_col1 {\n",
              "            : ;\n",
              "            text-align:  left;\n",
              "        }    #T_247e57f8_a97c_11ea_8b29_0242ac1c0002row11_col2 {\n",
              "            : ;\n",
              "            text-align:  left;\n",
              "        }    #T_247e57f8_a97c_11ea_8b29_0242ac1c0002row11_col3 {\n",
              "            : ;\n",
              "            text-align:  left;\n",
              "        }    #T_247e57f8_a97c_11ea_8b29_0242ac1c0002row11_col4 {\n",
              "            : ;\n",
              "            text-align:  left;\n",
              "        }    #T_247e57f8_a97c_11ea_8b29_0242ac1c0002row11_col5 {\n",
              "            : ;\n",
              "            text-align:  left;\n",
              "        }    #T_247e57f8_a97c_11ea_8b29_0242ac1c0002row11_col6 {\n",
              "            background-color:  yellow;\n",
              "            text-align:  left;\n",
              "        }    #T_247e57f8_a97c_11ea_8b29_0242ac1c0002row12_col0 {\n",
              "            text-align:  left;\n",
              "        }    #T_247e57f8_a97c_11ea_8b29_0242ac1c0002row12_col1 {\n",
              "            : ;\n",
              "            text-align:  left;\n",
              "        }    #T_247e57f8_a97c_11ea_8b29_0242ac1c0002row12_col2 {\n",
              "            : ;\n",
              "            text-align:  left;\n",
              "        }    #T_247e57f8_a97c_11ea_8b29_0242ac1c0002row12_col3 {\n",
              "            : ;\n",
              "            text-align:  left;\n",
              "        }    #T_247e57f8_a97c_11ea_8b29_0242ac1c0002row12_col4 {\n",
              "            : ;\n",
              "            text-align:  left;\n",
              "        }    #T_247e57f8_a97c_11ea_8b29_0242ac1c0002row12_col5 {\n",
              "            : ;\n",
              "            text-align:  left;\n",
              "        }    #T_247e57f8_a97c_11ea_8b29_0242ac1c0002row12_col6 {\n",
              "            : ;\n",
              "            text-align:  left;\n",
              "        }    #T_247e57f8_a97c_11ea_8b29_0242ac1c0002row13_col0 {\n",
              "            text-align:  left;\n",
              "        }    #T_247e57f8_a97c_11ea_8b29_0242ac1c0002row13_col1 {\n",
              "            : ;\n",
              "            text-align:  left;\n",
              "        }    #T_247e57f8_a97c_11ea_8b29_0242ac1c0002row13_col2 {\n",
              "            : ;\n",
              "            text-align:  left;\n",
              "        }    #T_247e57f8_a97c_11ea_8b29_0242ac1c0002row13_col3 {\n",
              "            : ;\n",
              "            text-align:  left;\n",
              "        }    #T_247e57f8_a97c_11ea_8b29_0242ac1c0002row13_col4 {\n",
              "            : ;\n",
              "            text-align:  left;\n",
              "        }    #T_247e57f8_a97c_11ea_8b29_0242ac1c0002row13_col5 {\n",
              "            : ;\n",
              "            text-align:  left;\n",
              "        }    #T_247e57f8_a97c_11ea_8b29_0242ac1c0002row13_col6 {\n",
              "            : ;\n",
              "            text-align:  left;\n",
              "        }    #T_247e57f8_a97c_11ea_8b29_0242ac1c0002row14_col0 {\n",
              "            text-align:  left;\n",
              "        }    #T_247e57f8_a97c_11ea_8b29_0242ac1c0002row14_col1 {\n",
              "            : ;\n",
              "            text-align:  left;\n",
              "        }    #T_247e57f8_a97c_11ea_8b29_0242ac1c0002row14_col2 {\n",
              "            : ;\n",
              "            text-align:  left;\n",
              "        }    #T_247e57f8_a97c_11ea_8b29_0242ac1c0002row14_col3 {\n",
              "            background-color:  yellow;\n",
              "            text-align:  left;\n",
              "        }    #T_247e57f8_a97c_11ea_8b29_0242ac1c0002row14_col4 {\n",
              "            : ;\n",
              "            text-align:  left;\n",
              "        }    #T_247e57f8_a97c_11ea_8b29_0242ac1c0002row14_col5 {\n",
              "            background-color:  yellow;\n",
              "            text-align:  left;\n",
              "        }    #T_247e57f8_a97c_11ea_8b29_0242ac1c0002row14_col6 {\n",
              "            : ;\n",
              "            text-align:  left;\n",
              "        }</style><table id=\"T_247e57f8_a97c_11ea_8b29_0242ac1c0002\" ><thead>    <tr>        <th class=\"blank level0\" ></th>        <th class=\"col_heading level0 col0\" >Model</th>        <th class=\"col_heading level0 col1\" >Accuracy</th>        <th class=\"col_heading level0 col2\" >AUC</th>        <th class=\"col_heading level0 col3\" >Recall</th>        <th class=\"col_heading level0 col4\" >Prec.</th>        <th class=\"col_heading level0 col5\" >F1</th>        <th class=\"col_heading level0 col6\" >Kappa</th>    </tr></thead><tbody>\n",
              "                <tr>\n",
              "                        <th id=\"T_247e57f8_a97c_11ea_8b29_0242ac1c0002level0_row0\" class=\"row_heading level0 row0\" >0</th>\n",
              "                        <td id=\"T_247e57f8_a97c_11ea_8b29_0242ac1c0002row0_col0\" class=\"data row0 col0\" >Logistic Regression</td>\n",
              "                        <td id=\"T_247e57f8_a97c_11ea_8b29_0242ac1c0002row0_col1\" class=\"data row0 col1\" >0.867900</td>\n",
              "                        <td id=\"T_247e57f8_a97c_11ea_8b29_0242ac1c0002row0_col2\" class=\"data row0 col2\" >0.611600</td>\n",
              "                        <td id=\"T_247e57f8_a97c_11ea_8b29_0242ac1c0002row0_col3\" class=\"data row0 col3\" >0.000600</td>\n",
              "                        <td id=\"T_247e57f8_a97c_11ea_8b29_0242ac1c0002row0_col4\" class=\"data row0 col4\" >0.050000</td>\n",
              "                        <td id=\"T_247e57f8_a97c_11ea_8b29_0242ac1c0002row0_col5\" class=\"data row0 col5\" >0.001200</td>\n",
              "                        <td id=\"T_247e57f8_a97c_11ea_8b29_0242ac1c0002row0_col6\" class=\"data row0 col6\" >0.000900</td>\n",
              "            </tr>\n",
              "            <tr>\n",
              "                        <th id=\"T_247e57f8_a97c_11ea_8b29_0242ac1c0002level0_row1\" class=\"row_heading level0 row1\" >1</th>\n",
              "                        <td id=\"T_247e57f8_a97c_11ea_8b29_0242ac1c0002row1_col0\" class=\"data row1 col0\" >Extreme Gradient Boosting</td>\n",
              "                        <td id=\"T_247e57f8_a97c_11ea_8b29_0242ac1c0002row1_col1\" class=\"data row1 col1\" >0.867800</td>\n",
              "                        <td id=\"T_247e57f8_a97c_11ea_8b29_0242ac1c0002row1_col2\" class=\"data row1 col2\" >0.664200</td>\n",
              "                        <td id=\"T_247e57f8_a97c_11ea_8b29_0242ac1c0002row1_col3\" class=\"data row1 col3\" >0.001200</td>\n",
              "                        <td id=\"T_247e57f8_a97c_11ea_8b29_0242ac1c0002row1_col4\" class=\"data row1 col4\" >0.150000</td>\n",
              "                        <td id=\"T_247e57f8_a97c_11ea_8b29_0242ac1c0002row1_col5\" class=\"data row1 col5\" >0.002300</td>\n",
              "                        <td id=\"T_247e57f8_a97c_11ea_8b29_0242ac1c0002row1_col6\" class=\"data row1 col6\" >0.001400</td>\n",
              "            </tr>\n",
              "            <tr>\n",
              "                        <th id=\"T_247e57f8_a97c_11ea_8b29_0242ac1c0002level0_row2\" class=\"row_heading level0 row2\" >2</th>\n",
              "                        <td id=\"T_247e57f8_a97c_11ea_8b29_0242ac1c0002row2_col0\" class=\"data row2 col0\" >Ridge Classifier</td>\n",
              "                        <td id=\"T_247e57f8_a97c_11ea_8b29_0242ac1c0002row2_col1\" class=\"data row2 col1\" >0.867100</td>\n",
              "                        <td id=\"T_247e57f8_a97c_11ea_8b29_0242ac1c0002row2_col2\" class=\"data row2 col2\" >0.000000</td>\n",
              "                        <td id=\"T_247e57f8_a97c_11ea_8b29_0242ac1c0002row2_col3\" class=\"data row2 col3\" >0.001200</td>\n",
              "                        <td id=\"T_247e57f8_a97c_11ea_8b29_0242ac1c0002row2_col4\" class=\"data row2 col4\" >0.075000</td>\n",
              "                        <td id=\"T_247e57f8_a97c_11ea_8b29_0242ac1c0002row2_col5\" class=\"data row2 col5\" >0.002300</td>\n",
              "                        <td id=\"T_247e57f8_a97c_11ea_8b29_0242ac1c0002row2_col6\" class=\"data row2 col6\" >0.000000</td>\n",
              "            </tr>\n",
              "            <tr>\n",
              "                        <th id=\"T_247e57f8_a97c_11ea_8b29_0242ac1c0002level0_row3\" class=\"row_heading level0 row3\" >3</th>\n",
              "                        <td id=\"T_247e57f8_a97c_11ea_8b29_0242ac1c0002row3_col0\" class=\"data row3 col0\" >Gradient Boosting Classifier</td>\n",
              "                        <td id=\"T_247e57f8_a97c_11ea_8b29_0242ac1c0002row3_col1\" class=\"data row3 col1\" >0.867100</td>\n",
              "                        <td id=\"T_247e57f8_a97c_11ea_8b29_0242ac1c0002row3_col2\" class=\"data row3 col2\" >0.661700</td>\n",
              "                        <td id=\"T_247e57f8_a97c_11ea_8b29_0242ac1c0002row3_col3\" class=\"data row3 col3\" >0.002400</td>\n",
              "                        <td id=\"T_247e57f8_a97c_11ea_8b29_0242ac1c0002row3_col4\" class=\"data row3 col4\" >0.200000</td>\n",
              "                        <td id=\"T_247e57f8_a97c_11ea_8b29_0242ac1c0002row3_col5\" class=\"data row3 col5\" >0.004600</td>\n",
              "                        <td id=\"T_247e57f8_a97c_11ea_8b29_0242ac1c0002row3_col6\" class=\"data row3 col6\" >0.001700</td>\n",
              "            </tr>\n",
              "            <tr>\n",
              "                        <th id=\"T_247e57f8_a97c_11ea_8b29_0242ac1c0002level0_row4\" class=\"row_heading level0 row4\" >4</th>\n",
              "                        <td id=\"T_247e57f8_a97c_11ea_8b29_0242ac1c0002row4_col0\" class=\"data row4 col0\" >Ada Boost Classifier</td>\n",
              "                        <td id=\"T_247e57f8_a97c_11ea_8b29_0242ac1c0002row4_col1\" class=\"data row4 col1\" >0.866900</td>\n",
              "                        <td id=\"T_247e57f8_a97c_11ea_8b29_0242ac1c0002row4_col2\" class=\"data row4 col2\" >0.644900</td>\n",
              "                        <td id=\"T_247e57f8_a97c_11ea_8b29_0242ac1c0002row4_col3\" class=\"data row4 col3\" >0.005900</td>\n",
              "                        <td id=\"T_247e57f8_a97c_11ea_8b29_0242ac1c0002row4_col4\" class=\"data row4 col4\" >0.241000</td>\n",
              "                        <td id=\"T_247e57f8_a97c_11ea_8b29_0242ac1c0002row4_col5\" class=\"data row4 col5\" >0.011500</td>\n",
              "                        <td id=\"T_247e57f8_a97c_11ea_8b29_0242ac1c0002row4_col6\" class=\"data row4 col6\" >0.006500</td>\n",
              "            </tr>\n",
              "            <tr>\n",
              "                        <th id=\"T_247e57f8_a97c_11ea_8b29_0242ac1c0002level0_row5\" class=\"row_heading level0 row5\" >5</th>\n",
              "                        <td id=\"T_247e57f8_a97c_11ea_8b29_0242ac1c0002row5_col0\" class=\"data row5 col0\" >Light Gradient Boosting Machine</td>\n",
              "                        <td id=\"T_247e57f8_a97c_11ea_8b29_0242ac1c0002row5_col1\" class=\"data row5 col1\" >0.866300</td>\n",
              "                        <td id=\"T_247e57f8_a97c_11ea_8b29_0242ac1c0002row5_col2\" class=\"data row5 col2\" >0.642900</td>\n",
              "                        <td id=\"T_247e57f8_a97c_11ea_8b29_0242ac1c0002row5_col3\" class=\"data row5 col3\" >0.011200</td>\n",
              "                        <td id=\"T_247e57f8_a97c_11ea_8b29_0242ac1c0002row5_col4\" class=\"data row5 col4\" >0.389300</td>\n",
              "                        <td id=\"T_247e57f8_a97c_11ea_8b29_0242ac1c0002row5_col5\" class=\"data row5 col5\" >0.021600</td>\n",
              "                        <td id=\"T_247e57f8_a97c_11ea_8b29_0242ac1c0002row5_col6\" class=\"data row5 col6\" >0.012900</td>\n",
              "            </tr>\n",
              "            <tr>\n",
              "                        <th id=\"T_247e57f8_a97c_11ea_8b29_0242ac1c0002level0_row6\" class=\"row_heading level0 row6\" >6</th>\n",
              "                        <td id=\"T_247e57f8_a97c_11ea_8b29_0242ac1c0002row6_col0\" class=\"data row6 col0\" >CatBoost Classifier</td>\n",
              "                        <td id=\"T_247e57f8_a97c_11ea_8b29_0242ac1c0002row6_col1\" class=\"data row6 col1\" >0.866000</td>\n",
              "                        <td id=\"T_247e57f8_a97c_11ea_8b29_0242ac1c0002row6_col2\" class=\"data row6 col2\" >0.649100</td>\n",
              "                        <td id=\"T_247e57f8_a97c_11ea_8b29_0242ac1c0002row6_col3\" class=\"data row6 col3\" >0.003500</td>\n",
              "                        <td id=\"T_247e57f8_a97c_11ea_8b29_0242ac1c0002row6_col4\" class=\"data row6 col4\" >0.140000</td>\n",
              "                        <td id=\"T_247e57f8_a97c_11ea_8b29_0242ac1c0002row6_col5\" class=\"data row6 col5\" >0.006900</td>\n",
              "                        <td id=\"T_247e57f8_a97c_11ea_8b29_0242ac1c0002row6_col6\" class=\"data row6 col6\" >0.001300</td>\n",
              "            </tr>\n",
              "            <tr>\n",
              "                        <th id=\"T_247e57f8_a97c_11ea_8b29_0242ac1c0002level0_row7\" class=\"row_heading level0 row7\" >7</th>\n",
              "                        <td id=\"T_247e57f8_a97c_11ea_8b29_0242ac1c0002row7_col0\" class=\"data row7 col0\" >Linear Discriminant Analysis</td>\n",
              "                        <td id=\"T_247e57f8_a97c_11ea_8b29_0242ac1c0002row7_col1\" class=\"data row7 col1\" >0.864800</td>\n",
              "                        <td id=\"T_247e57f8_a97c_11ea_8b29_0242ac1c0002row7_col2\" class=\"data row7 col2\" >0.643700</td>\n",
              "                        <td id=\"T_247e57f8_a97c_11ea_8b29_0242ac1c0002row7_col3\" class=\"data row7 col3\" >0.020000</td>\n",
              "                        <td id=\"T_247e57f8_a97c_11ea_8b29_0242ac1c0002row7_col4\" class=\"data row7 col4\" >0.308300</td>\n",
              "                        <td id=\"T_247e57f8_a97c_11ea_8b29_0242ac1c0002row7_col5\" class=\"data row7 col5\" >0.037400</td>\n",
              "                        <td id=\"T_247e57f8_a97c_11ea_8b29_0242ac1c0002row7_col6\" class=\"data row7 col6\" >0.022000</td>\n",
              "            </tr>\n",
              "            <tr>\n",
              "                        <th id=\"T_247e57f8_a97c_11ea_8b29_0242ac1c0002level0_row8\" class=\"row_heading level0 row8\" >8</th>\n",
              "                        <td id=\"T_247e57f8_a97c_11ea_8b29_0242ac1c0002row8_col0\" class=\"data row8 col0\" >Random Forest Classifier</td>\n",
              "                        <td id=\"T_247e57f8_a97c_11ea_8b29_0242ac1c0002row8_col1\" class=\"data row8 col1\" >0.856900</td>\n",
              "                        <td id=\"T_247e57f8_a97c_11ea_8b29_0242ac1c0002row8_col2\" class=\"data row8 col2\" >0.582600</td>\n",
              "                        <td id=\"T_247e57f8_a97c_11ea_8b29_0242ac1c0002row8_col3\" class=\"data row8 col3\" >0.037100</td>\n",
              "                        <td id=\"T_247e57f8_a97c_11ea_8b29_0242ac1c0002row8_col4\" class=\"data row8 col4\" >0.230800</td>\n",
              "                        <td id=\"T_247e57f8_a97c_11ea_8b29_0242ac1c0002row8_col5\" class=\"data row8 col5\" >0.063600</td>\n",
              "                        <td id=\"T_247e57f8_a97c_11ea_8b29_0242ac1c0002row8_col6\" class=\"data row8 col6\" >0.028900</td>\n",
              "            </tr>\n",
              "            <tr>\n",
              "                        <th id=\"T_247e57f8_a97c_11ea_8b29_0242ac1c0002level0_row9\" class=\"row_heading level0 row9\" >9</th>\n",
              "                        <td id=\"T_247e57f8_a97c_11ea_8b29_0242ac1c0002row9_col0\" class=\"data row9 col0\" >K Neighbors Classifier</td>\n",
              "                        <td id=\"T_247e57f8_a97c_11ea_8b29_0242ac1c0002row9_col1\" class=\"data row9 col1\" >0.855100</td>\n",
              "                        <td id=\"T_247e57f8_a97c_11ea_8b29_0242ac1c0002row9_col2\" class=\"data row9 col2\" >0.491600</td>\n",
              "                        <td id=\"T_247e57f8_a97c_11ea_8b29_0242ac1c0002row9_col3\" class=\"data row9 col3\" >0.019400</td>\n",
              "                        <td id=\"T_247e57f8_a97c_11ea_8b29_0242ac1c0002row9_col4\" class=\"data row9 col4\" >0.137900</td>\n",
              "                        <td id=\"T_247e57f8_a97c_11ea_8b29_0242ac1c0002row9_col5\" class=\"data row9 col5\" >0.034000</td>\n",
              "                        <td id=\"T_247e57f8_a97c_11ea_8b29_0242ac1c0002row9_col6\" class=\"data row9 col6\" >0.002600</td>\n",
              "            </tr>\n",
              "            <tr>\n",
              "                        <th id=\"T_247e57f8_a97c_11ea_8b29_0242ac1c0002level0_row10\" class=\"row_heading level0 row10\" >10</th>\n",
              "                        <td id=\"T_247e57f8_a97c_11ea_8b29_0242ac1c0002row10_col0\" class=\"data row10 col0\" >Extra Trees Classifier</td>\n",
              "                        <td id=\"T_247e57f8_a97c_11ea_8b29_0242ac1c0002row10_col1\" class=\"data row10 col1\" >0.844400</td>\n",
              "                        <td id=\"T_247e57f8_a97c_11ea_8b29_0242ac1c0002row10_col2\" class=\"data row10 col2\" >0.596200</td>\n",
              "                        <td id=\"T_247e57f8_a97c_11ea_8b29_0242ac1c0002row10_col3\" class=\"data row10 col3\" >0.066600</td>\n",
              "                        <td id=\"T_247e57f8_a97c_11ea_8b29_0242ac1c0002row10_col4\" class=\"data row10 col4\" >0.214800</td>\n",
              "                        <td id=\"T_247e57f8_a97c_11ea_8b29_0242ac1c0002row10_col5\" class=\"data row10 col5\" >0.101400</td>\n",
              "                        <td id=\"T_247e57f8_a97c_11ea_8b29_0242ac1c0002row10_col6\" class=\"data row10 col6\" >0.041400</td>\n",
              "            </tr>\n",
              "            <tr>\n",
              "                        <th id=\"T_247e57f8_a97c_11ea_8b29_0242ac1c0002level0_row11\" class=\"row_heading level0 row11\" >11</th>\n",
              "                        <td id=\"T_247e57f8_a97c_11ea_8b29_0242ac1c0002row11_col0\" class=\"data row11 col0\" >Naive Bayes</td>\n",
              "                        <td id=\"T_247e57f8_a97c_11ea_8b29_0242ac1c0002row11_col1\" class=\"data row11 col1\" >0.821300</td>\n",
              "                        <td id=\"T_247e57f8_a97c_11ea_8b29_0242ac1c0002row11_col2\" class=\"data row11 col2\" >0.640100</td>\n",
              "                        <td id=\"T_247e57f8_a97c_11ea_8b29_0242ac1c0002row11_col3\" class=\"data row11 col3\" >0.173800</td>\n",
              "                        <td id=\"T_247e57f8_a97c_11ea_8b29_0242ac1c0002row11_col4\" class=\"data row11 col4\" >0.247900</td>\n",
              "                        <td id=\"T_247e57f8_a97c_11ea_8b29_0242ac1c0002row11_col5\" class=\"data row11 col5\" >0.203900</td>\n",
              "                        <td id=\"T_247e57f8_a97c_11ea_8b29_0242ac1c0002row11_col6\" class=\"data row11 col6\" >0.107000</td>\n",
              "            </tr>\n",
              "            <tr>\n",
              "                        <th id=\"T_247e57f8_a97c_11ea_8b29_0242ac1c0002level0_row12\" class=\"row_heading level0 row12\" >12</th>\n",
              "                        <td id=\"T_247e57f8_a97c_11ea_8b29_0242ac1c0002row12_col0\" class=\"data row12 col0\" >Decision Tree Classifier</td>\n",
              "                        <td id=\"T_247e57f8_a97c_11ea_8b29_0242ac1c0002row12_col1\" class=\"data row12 col1\" >0.778200</td>\n",
              "                        <td id=\"T_247e57f8_a97c_11ea_8b29_0242ac1c0002row12_col2\" class=\"data row12 col2\" >0.532700</td>\n",
              "                        <td id=\"T_247e57f8_a97c_11ea_8b29_0242ac1c0002row12_col3\" class=\"data row12 col3\" >0.199200</td>\n",
              "                        <td id=\"T_247e57f8_a97c_11ea_8b29_0242ac1c0002row12_col4\" class=\"data row12 col4\" >0.184800</td>\n",
              "                        <td id=\"T_247e57f8_a97c_11ea_8b29_0242ac1c0002row12_col5\" class=\"data row12 col5\" >0.191600</td>\n",
              "                        <td id=\"T_247e57f8_a97c_11ea_8b29_0242ac1c0002row12_col6\" class=\"data row12 col6\" >0.063400</td>\n",
              "            </tr>\n",
              "            <tr>\n",
              "                        <th id=\"T_247e57f8_a97c_11ea_8b29_0242ac1c0002level0_row13\" class=\"row_heading level0 row13\" >13</th>\n",
              "                        <td id=\"T_247e57f8_a97c_11ea_8b29_0242ac1c0002row13_col0\" class=\"data row13 col0\" >SVM - Linear Kernel</td>\n",
              "                        <td id=\"T_247e57f8_a97c_11ea_8b29_0242ac1c0002row13_col1\" class=\"data row13 col1\" >0.722300</td>\n",
              "                        <td id=\"T_247e57f8_a97c_11ea_8b29_0242ac1c0002row13_col2\" class=\"data row13 col2\" >0.000000</td>\n",
              "                        <td id=\"T_247e57f8_a97c_11ea_8b29_0242ac1c0002row13_col3\" class=\"data row13 col3\" >0.197600</td>\n",
              "                        <td id=\"T_247e57f8_a97c_11ea_8b29_0242ac1c0002row13_col4\" class=\"data row13 col4\" >0.026400</td>\n",
              "                        <td id=\"T_247e57f8_a97c_11ea_8b29_0242ac1c0002row13_col5\" class=\"data row13 col5\" >0.046500</td>\n",
              "                        <td id=\"T_247e57f8_a97c_11ea_8b29_0242ac1c0002row13_col6\" class=\"data row13 col6\" >-0.000000</td>\n",
              "            </tr>\n",
              "            <tr>\n",
              "                        <th id=\"T_247e57f8_a97c_11ea_8b29_0242ac1c0002level0_row14\" class=\"row_heading level0 row14\" >14</th>\n",
              "                        <td id=\"T_247e57f8_a97c_11ea_8b29_0242ac1c0002row14_col0\" class=\"data row14 col0\" >Quadratic Discriminant Analysis</td>\n",
              "                        <td id=\"T_247e57f8_a97c_11ea_8b29_0242ac1c0002row14_col1\" class=\"data row14 col1\" >0.183300</td>\n",
              "                        <td id=\"T_247e57f8_a97c_11ea_8b29_0242ac1c0002row14_col2\" class=\"data row14 col2\" >0.495100</td>\n",
              "                        <td id=\"T_247e57f8_a97c_11ea_8b29_0242ac1c0002row14_col3\" class=\"data row14 col3\" >0.920300</td>\n",
              "                        <td id=\"T_247e57f8_a97c_11ea_8b29_0242ac1c0002row14_col4\" class=\"data row14 col4\" >0.131000</td>\n",
              "                        <td id=\"T_247e57f8_a97c_11ea_8b29_0242ac1c0002row14_col5\" class=\"data row14 col5\" >0.229200</td>\n",
              "                        <td id=\"T_247e57f8_a97c_11ea_8b29_0242ac1c0002row14_col6\" class=\"data row14 col6\" >-0.002300</td>\n",
              "            </tr>\n",
              "    </tbody></table>"
            ],
            "text/plain": [
              "<pandas.io.formats.style.Styler at 0x7f4357aae470>"
            ]
          },
          "metadata": {
            "tags": []
          },
          "execution_count": 51
        }
      ]
    },
    {
      "cell_type": "code",
      "metadata": {
        "id": "YGZCi2--d4PF",
        "colab_type": "code",
        "colab": {}
      },
      "source": [
        "kf = StratifiedKFold(n_splits=5,shuffle=False,random_state=42)\n",
        "pred_test_full = np.zeros(test.shape[0])\n",
        "cv_score =[]\n",
        "i=1\n",
        "for train_index,test_index in kf.split(X,y):\n",
        "    X_Train,X_Val = X.loc[train_index],X.loc[test_index]\n",
        "    y_Train,y_Val = y.loc[train_index],y.loc[test_index]\n",
        "    \n",
        "    #model\n",
        "    cls = RandomForestClassifier(n_estimators=200,n_jobs=-1,random_state=42,class_weight='balanced',max_features=0.5,max_depth=6,min_samples_leaf=7,min_samples_split=10)\n",
        "    cls.fit(X_Train,y_Train)\n",
        "    \n",
        "    score_train = roc_auc_score(y_Train,cls.predict_proba(X_Train)[:,1])\n",
        "    score_val = roc_auc_score(y_Val,cls.predict_proba(X_Val)[:,1])\n",
        "    print('{} of KFold {}'.format(i,kf.n_splits))\n",
        "    print('Training ROC AUC score:',score_train)\n",
        "    print('Validation ROC AUC score:',score_val)\n",
        "    print(\"-----------------------------------\")\n",
        "    cv_score.append(score_val)    \n",
        "    pred_test_full += cls.predict_proba(test)[:, 1] / kf.n_splits\n",
        "    i+=1\n",
        "print (\"Mean Cross Validation ROC AUC Score:{}\".format(np.array(cv_score).mean()))"
      ],
      "execution_count": 0,
      "outputs": []
    },
    {
      "cell_type": "code",
      "metadata": {
        "id": "9qJIwWfId3_V",
        "colab_type": "code",
        "colab": {}
      },
      "source": [
        ""
      ],
      "execution_count": 0,
      "outputs": []
    },
    {
      "cell_type": "markdown",
      "metadata": {
        "id": "oSu_elaUP-dT",
        "colab_type": "text"
      },
      "source": [
        "### Feature Engineering\n",
        "-- Groupby"
      ]
    },
    {
      "cell_type": "code",
      "metadata": {
        "id": "upkikHjFP-dV",
        "colab_type": "code",
        "colab": {}
      },
      "source": [
        ""
      ],
      "execution_count": 0,
      "outputs": []
    },
    {
      "cell_type": "code",
      "metadata": {
        "id": "6rHtB9ZGP-dc",
        "colab_type": "code",
        "colab": {}
      },
      "source": [
        "company_size_dict = { '<10':1 ,'10-49':2, '50-99':3, '100-500':4 ,'500-999':5 ,'1000-4999':6 ,'5000-9999':7 ,'10000+':8 }\n"
      ],
      "execution_count": 0,
      "outputs": []
    },
    {
      "cell_type": "markdown",
      "metadata": {
        "id": "KKWptIiGdd4J",
        "colab_type": "text"
      },
      "source": [
        ""
      ]
    }
  ]
}