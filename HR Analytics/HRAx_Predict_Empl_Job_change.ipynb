{
  "nbformat": 4,
  "nbformat_minor": 0,
  "metadata": {
    "kernelspec": {
      "display_name": "Python 3",
      "language": "python",
      "name": "python3"
    },
    "language_info": {
      "codemirror_mode": {
        "name": "ipython",
        "version": 3
      },
      "file_extension": ".py",
      "mimetype": "text/x-python",
      "name": "python",
      "nbconvert_exporter": "python",
      "pygments_lexer": "ipython3",
      "version": "3.7.3"
    },
    "colab": {
      "name": "HRAx-Predict Empl Job change.ipynb",
      "provenance": [],
      "collapsed_sections": [
        "voeIdwbkQwY1",
        "6w-JKsQtSii9",
        "0Aj9SM3eP-as",
        "vTdQ4NAKSyC4",
        "KkPFuYXVP-bR"
      ]
    },
    "widgets": {
      "application/vnd.jupyter.widget-state+json": {
        "aa6662eb514e49f9ba6d450c7b0fbfc5": {
          "model_module": "@jupyter-widgets/controls",
          "model_name": "IntProgressModel",
          "state": {
            "_view_name": "ProgressView",
            "style": "IPY_MODEL_c067a6e95e0f4e2b91ac985cc1e0c5cb",
            "_dom_classes": [],
            "description": "Processing: ",
            "_model_name": "IntProgressModel",
            "bar_style": "",
            "max": 13,
            "_view_module": "@jupyter-widgets/controls",
            "_model_module_version": "1.5.0",
            "value": 3,
            "_view_count": null,
            "_view_module_version": "1.5.0",
            "orientation": "horizontal",
            "min": 0,
            "description_tooltip": null,
            "_model_module": "@jupyter-widgets/controls",
            "layout": "IPY_MODEL_edae6bcdbd1a4f6286f0a56434db943e"
          }
        },
        "c067a6e95e0f4e2b91ac985cc1e0c5cb": {
          "model_module": "@jupyter-widgets/controls",
          "model_name": "ProgressStyleModel",
          "state": {
            "_view_name": "StyleView",
            "_model_name": "ProgressStyleModel",
            "description_width": "",
            "_view_module": "@jupyter-widgets/base",
            "_model_module_version": "1.5.0",
            "_view_count": null,
            "_view_module_version": "1.2.0",
            "bar_color": null,
            "_model_module": "@jupyter-widgets/controls"
          }
        },
        "edae6bcdbd1a4f6286f0a56434db943e": {
          "model_module": "@jupyter-widgets/base",
          "model_name": "LayoutModel",
          "state": {
            "_view_name": "LayoutView",
            "grid_template_rows": null,
            "right": null,
            "justify_content": null,
            "_view_module": "@jupyter-widgets/base",
            "overflow": null,
            "_model_module_version": "1.2.0",
            "_view_count": null,
            "flex_flow": null,
            "width": null,
            "min_width": null,
            "border": null,
            "align_items": null,
            "bottom": null,
            "_model_module": "@jupyter-widgets/base",
            "top": null,
            "grid_column": null,
            "overflow_y": null,
            "overflow_x": null,
            "grid_auto_flow": null,
            "grid_area": null,
            "grid_template_columns": null,
            "flex": null,
            "_model_name": "LayoutModel",
            "justify_items": null,
            "grid_row": null,
            "max_height": null,
            "align_content": null,
            "visibility": null,
            "align_self": null,
            "height": null,
            "min_height": null,
            "padding": null,
            "grid_auto_rows": null,
            "grid_gap": null,
            "max_width": null,
            "order": null,
            "_view_module_version": "1.2.0",
            "grid_template_areas": null,
            "object_position": null,
            "object_fit": null,
            "grid_auto_columns": null,
            "margin": null,
            "display": null,
            "left": null
          }
        },
        "8df6ac8171be47d19fab4457b7c775ad": {
          "model_module": "@jupyter-widgets/controls",
          "model_name": "TextModel",
          "state": {
            "_view_name": "TextView",
            "style": "IPY_MODEL_7bb95d97ae7f4bd0b87468fff7e2c542",
            "_dom_classes": [],
            "description": "",
            "_model_name": "TextModel",
            "placeholder": "​",
            "_view_module": "@jupyter-widgets/controls",
            "_model_module_version": "1.5.0",
            "value": "Following data types have been inferred automatically, if they are correct press enter to continue or type 'quit' otherwise.",
            "_view_count": null,
            "disabled": false,
            "_view_module_version": "1.5.0",
            "continuous_update": true,
            "description_tooltip": null,
            "_model_module": "@jupyter-widgets/controls",
            "layout": "IPY_MODEL_1b3b92399a474c838d189a9f6855e79c"
          }
        },
        "7bb95d97ae7f4bd0b87468fff7e2c542": {
          "model_module": "@jupyter-widgets/controls",
          "model_name": "DescriptionStyleModel",
          "state": {
            "_view_name": "StyleView",
            "_model_name": "DescriptionStyleModel",
            "description_width": "",
            "_view_module": "@jupyter-widgets/base",
            "_model_module_version": "1.5.0",
            "_view_count": null,
            "_view_module_version": "1.2.0",
            "_model_module": "@jupyter-widgets/controls"
          }
        },
        "1b3b92399a474c838d189a9f6855e79c": {
          "model_module": "@jupyter-widgets/base",
          "model_name": "LayoutModel",
          "state": {
            "_view_name": "LayoutView",
            "grid_template_rows": null,
            "right": null,
            "justify_content": null,
            "_view_module": "@jupyter-widgets/base",
            "overflow": null,
            "_model_module_version": "1.2.0",
            "_view_count": null,
            "flex_flow": null,
            "width": "100%",
            "min_width": null,
            "border": null,
            "align_items": null,
            "bottom": null,
            "_model_module": "@jupyter-widgets/base",
            "top": null,
            "grid_column": null,
            "overflow_y": null,
            "overflow_x": null,
            "grid_auto_flow": null,
            "grid_area": null,
            "grid_template_columns": null,
            "flex": null,
            "_model_name": "LayoutModel",
            "justify_items": null,
            "grid_row": null,
            "max_height": null,
            "align_content": null,
            "visibility": null,
            "align_self": null,
            "height": null,
            "min_height": null,
            "padding": null,
            "grid_auto_rows": null,
            "grid_gap": null,
            "max_width": null,
            "order": null,
            "_view_module_version": "1.2.0",
            "grid_template_areas": null,
            "object_position": null,
            "object_fit": null,
            "grid_auto_columns": null,
            "margin": null,
            "display": null,
            "left": null
          }
        },
        "f7b87314779b4bc39581f79e255a34da": {
          "model_module": "@jupyter-widgets/controls",
          "model_name": "IntProgressModel",
          "state": {
            "_view_name": "ProgressView",
            "style": "IPY_MODEL_53be13a18cc64de2aa2b7a26df190c85",
            "_dom_classes": [],
            "description": "Processing: ",
            "_model_name": "IntProgressModel",
            "bar_style": "",
            "max": 95,
            "_view_module": "@jupyter-widgets/controls",
            "_model_module_version": "1.5.0",
            "value": 95,
            "_view_count": null,
            "_view_module_version": "1.5.0",
            "orientation": "horizontal",
            "min": 0,
            "description_tooltip": null,
            "_model_module": "@jupyter-widgets/controls",
            "layout": "IPY_MODEL_d13f5cb027214a46b567d2be1c6a867c"
          }
        },
        "53be13a18cc64de2aa2b7a26df190c85": {
          "model_module": "@jupyter-widgets/controls",
          "model_name": "ProgressStyleModel",
          "state": {
            "_view_name": "StyleView",
            "_model_name": "ProgressStyleModel",
            "description_width": "",
            "_view_module": "@jupyter-widgets/base",
            "_model_module_version": "1.5.0",
            "_view_count": null,
            "_view_module_version": "1.2.0",
            "bar_color": null,
            "_model_module": "@jupyter-widgets/controls"
          }
        },
        "d13f5cb027214a46b567d2be1c6a867c": {
          "model_module": "@jupyter-widgets/base",
          "model_name": "LayoutModel",
          "state": {
            "_view_name": "LayoutView",
            "grid_template_rows": null,
            "right": null,
            "justify_content": null,
            "_view_module": "@jupyter-widgets/base",
            "overflow": null,
            "_model_module_version": "1.2.0",
            "_view_count": null,
            "flex_flow": null,
            "width": null,
            "min_width": null,
            "border": null,
            "align_items": null,
            "bottom": null,
            "_model_module": "@jupyter-widgets/base",
            "top": null,
            "grid_column": null,
            "overflow_y": null,
            "overflow_x": null,
            "grid_auto_flow": null,
            "grid_area": null,
            "grid_template_columns": null,
            "flex": null,
            "_model_name": "LayoutModel",
            "justify_items": null,
            "grid_row": null,
            "max_height": null,
            "align_content": null,
            "visibility": null,
            "align_self": null,
            "height": null,
            "min_height": null,
            "padding": null,
            "grid_auto_rows": null,
            "grid_gap": null,
            "max_width": null,
            "order": null,
            "_view_module_version": "1.2.0",
            "grid_template_areas": null,
            "object_position": null,
            "object_fit": null,
            "grid_auto_columns": null,
            "margin": null,
            "display": null,
            "left": null
          }
        },
        "c968587eb8374858b298f3204e28beac": {
          "model_module": "@jupyter-widgets/controls",
          "model_name": "IntProgressModel",
          "state": {
            "_view_name": "ProgressView",
            "style": "IPY_MODEL_4ceef09e6a9d4f8f9d5a4959e0b1bf5f",
            "_dom_classes": [],
            "description": "Processing: ",
            "_model_name": "IntProgressModel",
            "bar_style": "",
            "max": 13,
            "_view_module": "@jupyter-widgets/controls",
            "_model_module_version": "1.5.0",
            "value": 3,
            "_view_count": null,
            "_view_module_version": "1.5.0",
            "orientation": "horizontal",
            "min": 0,
            "description_tooltip": null,
            "_model_module": "@jupyter-widgets/controls",
            "layout": "IPY_MODEL_45fc8fc4acb54fd59e88b24c0b120501"
          }
        },
        "4ceef09e6a9d4f8f9d5a4959e0b1bf5f": {
          "model_module": "@jupyter-widgets/controls",
          "model_name": "ProgressStyleModel",
          "state": {
            "_view_name": "StyleView",
            "_model_name": "ProgressStyleModel",
            "description_width": "",
            "_view_module": "@jupyter-widgets/base",
            "_model_module_version": "1.5.0",
            "_view_count": null,
            "_view_module_version": "1.2.0",
            "bar_color": null,
            "_model_module": "@jupyter-widgets/controls"
          }
        },
        "45fc8fc4acb54fd59e88b24c0b120501": {
          "model_module": "@jupyter-widgets/base",
          "model_name": "LayoutModel",
          "state": {
            "_view_name": "LayoutView",
            "grid_template_rows": null,
            "right": null,
            "justify_content": null,
            "_view_module": "@jupyter-widgets/base",
            "overflow": null,
            "_model_module_version": "1.2.0",
            "_view_count": null,
            "flex_flow": null,
            "width": null,
            "min_width": null,
            "border": null,
            "align_items": null,
            "bottom": null,
            "_model_module": "@jupyter-widgets/base",
            "top": null,
            "grid_column": null,
            "overflow_y": null,
            "overflow_x": null,
            "grid_auto_flow": null,
            "grid_area": null,
            "grid_template_columns": null,
            "flex": null,
            "_model_name": "LayoutModel",
            "justify_items": null,
            "grid_row": null,
            "max_height": null,
            "align_content": null,
            "visibility": null,
            "align_self": null,
            "height": null,
            "min_height": null,
            "padding": null,
            "grid_auto_rows": null,
            "grid_gap": null,
            "max_width": null,
            "order": null,
            "_view_module_version": "1.2.0",
            "grid_template_areas": null,
            "object_position": null,
            "object_fit": null,
            "grid_auto_columns": null,
            "margin": null,
            "display": null,
            "left": null
          }
        },
        "50d6d7a94e884c1d8827993d2e2d5905": {
          "model_module": "@jupyter-widgets/controls",
          "model_name": "TextModel",
          "state": {
            "_view_name": "TextView",
            "style": "IPY_MODEL_162d44df713849238c862416fe71e612",
            "_dom_classes": [],
            "description": "",
            "_model_name": "TextModel",
            "placeholder": "​",
            "_view_module": "@jupyter-widgets/controls",
            "_model_module_version": "1.5.0",
            "value": "Following data types have been inferred automatically, if they are correct press enter to continue or type 'quit' otherwise.",
            "_view_count": null,
            "disabled": false,
            "_view_module_version": "1.5.0",
            "continuous_update": true,
            "description_tooltip": null,
            "_model_module": "@jupyter-widgets/controls",
            "layout": "IPY_MODEL_c22405a2eb5a461b9e33ffb1134f4565"
          }
        },
        "162d44df713849238c862416fe71e612": {
          "model_module": "@jupyter-widgets/controls",
          "model_name": "DescriptionStyleModel",
          "state": {
            "_view_name": "StyleView",
            "_model_name": "DescriptionStyleModel",
            "description_width": "",
            "_view_module": "@jupyter-widgets/base",
            "_model_module_version": "1.5.0",
            "_view_count": null,
            "_view_module_version": "1.2.0",
            "_model_module": "@jupyter-widgets/controls"
          }
        },
        "c22405a2eb5a461b9e33ffb1134f4565": {
          "model_module": "@jupyter-widgets/base",
          "model_name": "LayoutModel",
          "state": {
            "_view_name": "LayoutView",
            "grid_template_rows": null,
            "right": null,
            "justify_content": null,
            "_view_module": "@jupyter-widgets/base",
            "overflow": null,
            "_model_module_version": "1.2.0",
            "_view_count": null,
            "flex_flow": null,
            "width": "100%",
            "min_width": null,
            "border": null,
            "align_items": null,
            "bottom": null,
            "_model_module": "@jupyter-widgets/base",
            "top": null,
            "grid_column": null,
            "overflow_y": null,
            "overflow_x": null,
            "grid_auto_flow": null,
            "grid_area": null,
            "grid_template_columns": null,
            "flex": null,
            "_model_name": "LayoutModel",
            "justify_items": null,
            "grid_row": null,
            "max_height": null,
            "align_content": null,
            "visibility": null,
            "align_self": null,
            "height": null,
            "min_height": null,
            "padding": null,
            "grid_auto_rows": null,
            "grid_gap": null,
            "max_width": null,
            "order": null,
            "_view_module_version": "1.2.0",
            "grid_template_areas": null,
            "object_position": null,
            "object_fit": null,
            "grid_auto_columns": null,
            "margin": null,
            "display": null,
            "left": null
          }
        },
        "8e8245023e204be9a1ad0ef2dfd91d98": {
          "model_module": "@jupyter-widgets/controls",
          "model_name": "IntProgressModel",
          "state": {
            "_view_name": "ProgressView",
            "style": "IPY_MODEL_ce1f434f38e7472792bcf2d89c4c0472",
            "_dom_classes": [],
            "description": "Processing: ",
            "_model_name": "IntProgressModel",
            "bar_style": "",
            "max": 95,
            "_view_module": "@jupyter-widgets/controls",
            "_model_module_version": "1.5.0",
            "value": 95,
            "_view_count": null,
            "_view_module_version": "1.5.0",
            "orientation": "horizontal",
            "min": 0,
            "description_tooltip": null,
            "_model_module": "@jupyter-widgets/controls",
            "layout": "IPY_MODEL_21b8aeb1693c4cb4a187edbea3d542ab"
          }
        },
        "ce1f434f38e7472792bcf2d89c4c0472": {
          "model_module": "@jupyter-widgets/controls",
          "model_name": "ProgressStyleModel",
          "state": {
            "_view_name": "StyleView",
            "_model_name": "ProgressStyleModel",
            "description_width": "",
            "_view_module": "@jupyter-widgets/base",
            "_model_module_version": "1.5.0",
            "_view_count": null,
            "_view_module_version": "1.2.0",
            "bar_color": null,
            "_model_module": "@jupyter-widgets/controls"
          }
        },
        "21b8aeb1693c4cb4a187edbea3d542ab": {
          "model_module": "@jupyter-widgets/base",
          "model_name": "LayoutModel",
          "state": {
            "_view_name": "LayoutView",
            "grid_template_rows": null,
            "right": null,
            "justify_content": null,
            "_view_module": "@jupyter-widgets/base",
            "overflow": null,
            "_model_module_version": "1.2.0",
            "_view_count": null,
            "flex_flow": null,
            "width": null,
            "min_width": null,
            "border": null,
            "align_items": null,
            "bottom": null,
            "_model_module": "@jupyter-widgets/base",
            "top": null,
            "grid_column": null,
            "overflow_y": null,
            "overflow_x": null,
            "grid_auto_flow": null,
            "grid_area": null,
            "grid_template_columns": null,
            "flex": null,
            "_model_name": "LayoutModel",
            "justify_items": null,
            "grid_row": null,
            "max_height": null,
            "align_content": null,
            "visibility": null,
            "align_self": null,
            "height": null,
            "min_height": null,
            "padding": null,
            "grid_auto_rows": null,
            "grid_gap": null,
            "max_width": null,
            "order": null,
            "_view_module_version": "1.2.0",
            "grid_template_areas": null,
            "object_position": null,
            "object_fit": null,
            "grid_auto_columns": null,
            "margin": null,
            "display": null,
            "left": null
          }
        },
        "04cb53192dd040e38aaedd0b25635201": {
          "model_module": "@jupyter-widgets/controls",
          "model_name": "IntProgressModel",
          "state": {
            "_view_name": "ProgressView",
            "style": "IPY_MODEL_3c52946399c644cbb74402466dbe755e",
            "_dom_classes": [],
            "description": "Processing: ",
            "_model_name": "IntProgressModel",
            "bar_style": "",
            "max": 14,
            "_view_module": "@jupyter-widgets/controls",
            "_model_module_version": "1.5.0",
            "value": 14,
            "_view_count": null,
            "_view_module_version": "1.5.0",
            "orientation": "horizontal",
            "min": 0,
            "description_tooltip": null,
            "_model_module": "@jupyter-widgets/controls",
            "layout": "IPY_MODEL_7959eb2dfd954be39d9a5ed3bc4635ec"
          }
        },
        "3c52946399c644cbb74402466dbe755e": {
          "model_module": "@jupyter-widgets/controls",
          "model_name": "ProgressStyleModel",
          "state": {
            "_view_name": "StyleView",
            "_model_name": "ProgressStyleModel",
            "description_width": "",
            "_view_module": "@jupyter-widgets/base",
            "_model_module_version": "1.5.0",
            "_view_count": null,
            "_view_module_version": "1.2.0",
            "bar_color": null,
            "_model_module": "@jupyter-widgets/controls"
          }
        },
        "7959eb2dfd954be39d9a5ed3bc4635ec": {
          "model_module": "@jupyter-widgets/base",
          "model_name": "LayoutModel",
          "state": {
            "_view_name": "LayoutView",
            "grid_template_rows": null,
            "right": null,
            "justify_content": null,
            "_view_module": "@jupyter-widgets/base",
            "overflow": null,
            "_model_module_version": "1.2.0",
            "_view_count": null,
            "flex_flow": null,
            "width": null,
            "min_width": null,
            "border": null,
            "align_items": null,
            "bottom": null,
            "_model_module": "@jupyter-widgets/base",
            "top": null,
            "grid_column": null,
            "overflow_y": null,
            "overflow_x": null,
            "grid_auto_flow": null,
            "grid_area": null,
            "grid_template_columns": null,
            "flex": null,
            "_model_name": "LayoutModel",
            "justify_items": null,
            "grid_row": null,
            "max_height": null,
            "align_content": null,
            "visibility": null,
            "align_self": null,
            "height": null,
            "min_height": null,
            "padding": null,
            "grid_auto_rows": null,
            "grid_gap": null,
            "max_width": null,
            "order": null,
            "_view_module_version": "1.2.0",
            "grid_template_areas": null,
            "object_position": null,
            "object_fit": null,
            "grid_auto_columns": null,
            "margin": null,
            "display": null,
            "left": null
          }
        },
        "98094cf7ad814d40bd7b8ae6e9c824e2": {
          "model_module": "@jupyter-widgets/controls",
          "model_name": "IntProgressModel",
          "state": {
            "_view_name": "ProgressView",
            "style": "IPY_MODEL_b5afe3528dd34860ba09a6f649a39b03",
            "_dom_classes": [],
            "description": "Processing: ",
            "_model_name": "IntProgressModel",
            "bar_style": "",
            "max": 5,
            "_view_module": "@jupyter-widgets/controls",
            "_model_module_version": "1.5.0",
            "value": 5,
            "_view_count": null,
            "_view_module_version": "1.5.0",
            "orientation": "horizontal",
            "min": 0,
            "description_tooltip": null,
            "_model_module": "@jupyter-widgets/controls",
            "layout": "IPY_MODEL_aecd5117453f4bfc97ffd7ef37e21ec2"
          }
        },
        "a191c5028a604e0996b3e146bbfb8db7": {
          "model_module": "@jupyter-widgets/controls",
          "model_name": "IntProgressModel",
          "state": {
            "_view_name": "ProgressView",
            "style": "IPY_MODEL_7ee78edb4c0a450fafa01e2a7c31ba4a",
            "_dom_classes": [],
            "description": "Processing: ",
            "_model_name": "IntProgressModel",
            "bar_style": "",
            "max": 14,
            "_view_module": "@jupyter-widgets/controls",
            "_model_module_version": "1.5.0",
            "value": 14,
            "_view_count": null,
            "_view_module_version": "1.5.0",
            "orientation": "horizontal",
            "min": 0,
            "description_tooltip": null,
            "_model_module": "@jupyter-widgets/controls",
            "layout": "IPY_MODEL_d9480865ed934134bd02d67f3e5757ce"
          }
        },
        "7ee78edb4c0a450fafa01e2a7c31ba4a": {
          "model_module": "@jupyter-widgets/controls",
          "model_name": "ProgressStyleModel",
          "state": {
            "_view_name": "StyleView",
            "_model_name": "ProgressStyleModel",
            "description_width": "",
            "_view_module": "@jupyter-widgets/base",
            "_model_module_version": "1.5.0",
            "_view_count": null,
            "_view_module_version": "1.2.0",
            "bar_color": null,
            "_model_module": "@jupyter-widgets/controls"
          }
        },
        "d9480865ed934134bd02d67f3e5757ce": {
          "model_module": "@jupyter-widgets/base",
          "model_name": "LayoutModel",
          "state": {
            "_view_name": "LayoutView",
            "grid_template_rows": null,
            "right": null,
            "justify_content": null,
            "_view_module": "@jupyter-widgets/base",
            "overflow": null,
            "_model_module_version": "1.2.0",
            "_view_count": null,
            "flex_flow": null,
            "width": null,
            "min_width": null,
            "border": null,
            "align_items": null,
            "bottom": null,
            "_model_module": "@jupyter-widgets/base",
            "top": null,
            "grid_column": null,
            "overflow_y": null,
            "overflow_x": null,
            "grid_auto_flow": null,
            "grid_area": null,
            "grid_template_columns": null,
            "flex": null,
            "_model_name": "LayoutModel",
            "justify_items": null,
            "grid_row": null,
            "max_height": null,
            "align_content": null,
            "visibility": null,
            "align_self": null,
            "height": null,
            "min_height": null,
            "padding": null,
            "grid_auto_rows": null,
            "grid_gap": null,
            "max_width": null,
            "order": null,
            "_view_module_version": "1.2.0",
            "grid_template_areas": null,
            "object_position": null,
            "object_fit": null,
            "grid_auto_columns": null,
            "margin": null,
            "display": null,
            "left": null
          }
        },
        "fe698fd8f5ea4c07a8b17d67c5a64291": {
          "model_module": "@jupyter-widgets/controls",
          "model_name": "IntProgressModel",
          "state": {
            "_view_name": "ProgressView",
            "style": "IPY_MODEL_0abc031fb8904fe7ac7ea6ca63ef2e37",
            "_dom_classes": [],
            "description": "Processing: ",
            "_model_name": "IntProgressModel",
            "bar_style": "",
            "max": 14,
            "_view_module": "@jupyter-widgets/controls",
            "_model_module_version": "1.5.0",
            "value": 14,
            "_view_count": null,
            "_view_module_version": "1.5.0",
            "orientation": "horizontal",
            "min": 0,
            "description_tooltip": null,
            "_model_module": "@jupyter-widgets/controls",
            "layout": "IPY_MODEL_46a0f07b7aa34e079176d69cc2e5fc29"
          }
        },
        "0abc031fb8904fe7ac7ea6ca63ef2e37": {
          "model_module": "@jupyter-widgets/controls",
          "model_name": "ProgressStyleModel",
          "state": {
            "_view_name": "StyleView",
            "_model_name": "ProgressStyleModel",
            "description_width": "",
            "_view_module": "@jupyter-widgets/base",
            "_model_module_version": "1.5.0",
            "_view_count": null,
            "_view_module_version": "1.2.0",
            "bar_color": null,
            "_model_module": "@jupyter-widgets/controls"
          }
        },
        "46a0f07b7aa34e079176d69cc2e5fc29": {
          "model_module": "@jupyter-widgets/base",
          "model_name": "LayoutModel",
          "state": {
            "_view_name": "LayoutView",
            "grid_template_rows": null,
            "right": null,
            "justify_content": null,
            "_view_module": "@jupyter-widgets/base",
            "overflow": null,
            "_model_module_version": "1.2.0",
            "_view_count": null,
            "flex_flow": null,
            "width": null,
            "min_width": null,
            "border": null,
            "align_items": null,
            "bottom": null,
            "_model_module": "@jupyter-widgets/base",
            "top": null,
            "grid_column": null,
            "overflow_y": null,
            "overflow_x": null,
            "grid_auto_flow": null,
            "grid_area": null,
            "grid_template_columns": null,
            "flex": null,
            "_model_name": "LayoutModel",
            "justify_items": null,
            "grid_row": null,
            "max_height": null,
            "align_content": null,
            "visibility": null,
            "align_self": null,
            "height": null,
            "min_height": null,
            "padding": null,
            "grid_auto_rows": null,
            "grid_gap": null,
            "max_width": null,
            "order": null,
            "_view_module_version": "1.2.0",
            "grid_template_areas": null,
            "object_position": null,
            "object_fit": null,
            "grid_auto_columns": null,
            "margin": null,
            "display": null,
            "left": null
          }
        }
      }
    }
  },
  "cells": [
    {
      "cell_type": "markdown",
      "metadata": {
        "id": "voeIdwbkQwY1",
        "colab_type": "text"
      },
      "source": [
        "### Classification problem"
      ]
    },
    {
      "cell_type": "markdown",
      "metadata": {
        "id": "YQ04cxDtQjTw",
        "colab_type": "text"
      },
      "source": [
        "#### To design a model that uses the current credentials/demographics/experience to predict the probability of an enrollee to look for a new job.\n",
        "\n",
        "Data Dictionary \n",
        "Variable\n",
        "\n",
        "Description\n",
        "\n",
        "enrollee_id\n",
        "-Unique ID for enrollee\n",
        "\n",
        "city\n",
        "-City code\n",
        "\n",
        "city_development_index\n",
        "-Developement index of the city (scaled)\n",
        "\n",
        "gender\n",
        "-Gender\n",
        "\n",
        "relevent_experience\n",
        "-Relevent experience\n",
        "\n",
        "enrolled_university\n",
        "-Type of University course enrolled if any\n",
        "\n",
        "education_level\n",
        "-Education level\n",
        "\n",
        "major_discipline\n",
        "-Major discipline\n",
        "\n",
        "experience\n",
        "-Total experience in years\n",
        "\n",
        "company_size\n",
        "-No of employees in current employer's company\n",
        "\n",
        "company_type\n",
        "-Type of current employer\n",
        "\n",
        "last_new_job\n",
        "-Difference in years between previous job and current job\n",
        "\n",
        "training_hours\n",
        "-training hours completed\n",
        "\n",
        "target\n",
        "\n",
        "0 – Not looking for job change, 1 – Looking for a job change\n",
        "\n",
        " \n",
        "\n",
        "Note that the dataset has a number of missing values and must be treated accordingly before fitting any model. You can refer to this article for a primer on how to deal with missing values.\n",
        "\n",
        "sample_submission.csv\n",
        "\n",
        "\n",
        "Column Name\tDescription\n",
        "enrollee_id\n",
        "\n",
        "Unique ID for enrollee\n",
        "\n",
        "\n",
        "target\n",
        "\n",
        "\n",
        "probability of an enrollee looking for a job change\n",
        "\n",
        "Evaluation Metric\n",
        "The evaluation metric for this competition is AUC-ROC score.\n",
        "\n"
      ]
    },
    {
      "cell_type": "markdown",
      "metadata": {
        "id": "uNT6T8IISaPr",
        "colab_type": "text"
      },
      "source": [
        "## Importing dataset"
      ]
    },
    {
      "cell_type": "code",
      "metadata": {
        "id": "9bdfwqyEiVhV",
        "colab_type": "code",
        "outputId": "4a3cd274-580f-4ece-96d3-51238a403bff",
        "colab": {
          "base_uri": "https://localhost:8080/",
          "height": 55
        }
      },
      "source": [
        "from google.colab import drive\n",
        "drive.mount('/content/drive')"
      ],
      "execution_count": 1,
      "outputs": [
        {
          "output_type": "stream",
          "text": [
            "Drive already mounted at /content/drive; to attempt to forcibly remount, call drive.mount(\"/content/drive\", force_remount=True).\n"
          ],
          "name": "stdout"
        }
      ]
    },
    {
      "cell_type": "code",
      "metadata": {
        "id": "1L7unlipP-YY",
        "colab_type": "code",
        "outputId": "3848234c-04d6-491e-97e4-5850e51d7589",
        "colab": {
          "base_uri": "https://localhost:8080/",
          "height": 72
        }
      },
      "source": [
        "import pandas as pd\n",
        "import numpy as np\n",
        "import matplotlib.pyplot as plt\n",
        "%matplotlib inline\n",
        "import seaborn as sns\n",
        "plt.style.use('ggplot')\n",
        "import os\n",
        "import warnings\n",
        "warnings.filterwarnings('ignore')"
      ],
      "execution_count": 2,
      "outputs": [
        {
          "output_type": "stream",
          "text": [
            "/usr/local/lib/python3.6/dist-packages/statsmodels/tools/_testing.py:19: FutureWarning: pandas.util.testing is deprecated. Use the functions in the public API at pandas.testing instead.\n",
            "  import pandas.util.testing as tm\n"
          ],
          "name": "stderr"
        }
      ]
    },
    {
      "cell_type": "code",
      "metadata": {
        "id": "BE80dn5VP-Yt",
        "colab_type": "code",
        "colab": {}
      },
      "source": [
        "\n",
        "pd.options.display.max_columns = 100\n",
        "pd.options.display.max_rows = 200"
      ],
      "execution_count": 0,
      "outputs": []
    },
    {
      "cell_type": "code",
      "metadata": {
        "id": "IIdxiXSWP-Y5",
        "colab_type": "code",
        "colab": {}
      },
      "source": [
        "#path2 = 'D:/Programming/Python/Jupyter Notebook Files/Competitions/HR Analytics/JanataHack/'\n",
        "path = '/content/drive/My Drive/Colab Notebooks/Datasets/HR Analytics/'\n",
        "os.chdir(path)\n"
      ],
      "execution_count": 0,
      "outputs": []
    },
    {
      "cell_type": "code",
      "metadata": {
        "id": "0ZlVMbxPP-ZH",
        "colab_type": "code",
        "colab": {}
      },
      "source": [
        "train = pd.read_csv(path+'train_jqd04QH.csv')\n",
        "test = pd.read_csv(path+'test_KaymcHn.csv')"
      ],
      "execution_count": 0,
      "outputs": []
    },
    {
      "cell_type": "code",
      "metadata": {
        "id": "iwVh6v3hP-ZW",
        "colab_type": "code",
        "outputId": "eacfd073-6aa2-484c-ff8b-ec523ffa5143",
        "colab": {
          "base_uri": "https://localhost:8080/",
          "height": 291
        }
      },
      "source": [
        "train.head()"
      ],
      "execution_count": 6,
      "outputs": [
        {
          "output_type": "execute_result",
          "data": {
            "text/html": [
              "<div>\n",
              "<style scoped>\n",
              "    .dataframe tbody tr th:only-of-type {\n",
              "        vertical-align: middle;\n",
              "    }\n",
              "\n",
              "    .dataframe tbody tr th {\n",
              "        vertical-align: top;\n",
              "    }\n",
              "\n",
              "    .dataframe thead th {\n",
              "        text-align: right;\n",
              "    }\n",
              "</style>\n",
              "<table border=\"1\" class=\"dataframe\">\n",
              "  <thead>\n",
              "    <tr style=\"text-align: right;\">\n",
              "      <th></th>\n",
              "      <th>enrollee_id</th>\n",
              "      <th>city</th>\n",
              "      <th>city_development_index</th>\n",
              "      <th>gender</th>\n",
              "      <th>relevent_experience</th>\n",
              "      <th>enrolled_university</th>\n",
              "      <th>education_level</th>\n",
              "      <th>major_discipline</th>\n",
              "      <th>experience</th>\n",
              "      <th>company_size</th>\n",
              "      <th>company_type</th>\n",
              "      <th>last_new_job</th>\n",
              "      <th>training_hours</th>\n",
              "      <th>target</th>\n",
              "    </tr>\n",
              "  </thead>\n",
              "  <tbody>\n",
              "    <tr>\n",
              "      <th>0</th>\n",
              "      <td>23798</td>\n",
              "      <td>city_149</td>\n",
              "      <td>0.689</td>\n",
              "      <td>Male</td>\n",
              "      <td>Has relevent experience</td>\n",
              "      <td>no_enrollment</td>\n",
              "      <td>Graduate</td>\n",
              "      <td>STEM</td>\n",
              "      <td>3</td>\n",
              "      <td>100-500</td>\n",
              "      <td>Pvt Ltd</td>\n",
              "      <td>1</td>\n",
              "      <td>106</td>\n",
              "      <td>0</td>\n",
              "    </tr>\n",
              "    <tr>\n",
              "      <th>1</th>\n",
              "      <td>29166</td>\n",
              "      <td>city_83</td>\n",
              "      <td>0.923</td>\n",
              "      <td>Male</td>\n",
              "      <td>Has relevent experience</td>\n",
              "      <td>no_enrollment</td>\n",
              "      <td>Graduate</td>\n",
              "      <td>STEM</td>\n",
              "      <td>14</td>\n",
              "      <td>&lt;10</td>\n",
              "      <td>Funded Startup</td>\n",
              "      <td>1</td>\n",
              "      <td>69</td>\n",
              "      <td>0</td>\n",
              "    </tr>\n",
              "    <tr>\n",
              "      <th>2</th>\n",
              "      <td>46</td>\n",
              "      <td>city_16</td>\n",
              "      <td>0.910</td>\n",
              "      <td>NaN</td>\n",
              "      <td>Has relevent experience</td>\n",
              "      <td>no_enrollment</td>\n",
              "      <td>Graduate</td>\n",
              "      <td>STEM</td>\n",
              "      <td>6</td>\n",
              "      <td>50-99</td>\n",
              "      <td>Public Sector</td>\n",
              "      <td>2</td>\n",
              "      <td>4</td>\n",
              "      <td>0</td>\n",
              "    </tr>\n",
              "    <tr>\n",
              "      <th>3</th>\n",
              "      <td>18527</td>\n",
              "      <td>city_64</td>\n",
              "      <td>0.666</td>\n",
              "      <td>Male</td>\n",
              "      <td>Has relevent experience</td>\n",
              "      <td>no_enrollment</td>\n",
              "      <td>Graduate</td>\n",
              "      <td>STEM</td>\n",
              "      <td>14</td>\n",
              "      <td>50-99</td>\n",
              "      <td>Pvt Ltd</td>\n",
              "      <td>1</td>\n",
              "      <td>26</td>\n",
              "      <td>0</td>\n",
              "    </tr>\n",
              "    <tr>\n",
              "      <th>4</th>\n",
              "      <td>21751</td>\n",
              "      <td>city_100</td>\n",
              "      <td>0.887</td>\n",
              "      <td>NaN</td>\n",
              "      <td>No relevent experience</td>\n",
              "      <td>no_enrollment</td>\n",
              "      <td>Masters</td>\n",
              "      <td>STEM</td>\n",
              "      <td>8</td>\n",
              "      <td>NaN</td>\n",
              "      <td>NaN</td>\n",
              "      <td>2</td>\n",
              "      <td>88</td>\n",
              "      <td>1</td>\n",
              "    </tr>\n",
              "  </tbody>\n",
              "</table>\n",
              "</div>"
            ],
            "text/plain": [
              "   enrollee_id      city  city_development_index gender  \\\n",
              "0        23798  city_149                   0.689   Male   \n",
              "1        29166   city_83                   0.923   Male   \n",
              "2           46   city_16                   0.910    NaN   \n",
              "3        18527   city_64                   0.666   Male   \n",
              "4        21751  city_100                   0.887    NaN   \n",
              "\n",
              "       relevent_experience enrolled_university education_level  \\\n",
              "0  Has relevent experience       no_enrollment        Graduate   \n",
              "1  Has relevent experience       no_enrollment        Graduate   \n",
              "2  Has relevent experience       no_enrollment        Graduate   \n",
              "3  Has relevent experience       no_enrollment        Graduate   \n",
              "4   No relevent experience       no_enrollment         Masters   \n",
              "\n",
              "  major_discipline experience company_size    company_type last_new_job  \\\n",
              "0             STEM          3      100-500         Pvt Ltd            1   \n",
              "1             STEM         14          <10  Funded Startup            1   \n",
              "2             STEM          6        50-99   Public Sector            2   \n",
              "3             STEM         14        50-99         Pvt Ltd            1   \n",
              "4             STEM          8          NaN             NaN            2   \n",
              "\n",
              "   training_hours  target  \n",
              "0             106       0  \n",
              "1              69       0  \n",
              "2               4       0  \n",
              "3              26       0  \n",
              "4              88       1  "
            ]
          },
          "metadata": {
            "tags": []
          },
          "execution_count": 6
        }
      ]
    },
    {
      "cell_type": "code",
      "metadata": {
        "id": "-M3ptCs9P-Zu",
        "colab_type": "code",
        "outputId": "01cec852-6145-4061-f992-7d00de41516d",
        "colab": {
          "base_uri": "https://localhost:8080/",
          "height": 239
        }
      },
      "source": [
        "test.head()"
      ],
      "execution_count": 7,
      "outputs": [
        {
          "output_type": "execute_result",
          "data": {
            "text/html": [
              "<div>\n",
              "<style scoped>\n",
              "    .dataframe tbody tr th:only-of-type {\n",
              "        vertical-align: middle;\n",
              "    }\n",
              "\n",
              "    .dataframe tbody tr th {\n",
              "        vertical-align: top;\n",
              "    }\n",
              "\n",
              "    .dataframe thead th {\n",
              "        text-align: right;\n",
              "    }\n",
              "</style>\n",
              "<table border=\"1\" class=\"dataframe\">\n",
              "  <thead>\n",
              "    <tr style=\"text-align: right;\">\n",
              "      <th></th>\n",
              "      <th>enrollee_id</th>\n",
              "      <th>city</th>\n",
              "      <th>city_development_index</th>\n",
              "      <th>gender</th>\n",
              "      <th>relevent_experience</th>\n",
              "      <th>enrolled_university</th>\n",
              "      <th>education_level</th>\n",
              "      <th>major_discipline</th>\n",
              "      <th>experience</th>\n",
              "      <th>company_size</th>\n",
              "      <th>company_type</th>\n",
              "      <th>last_new_job</th>\n",
              "      <th>training_hours</th>\n",
              "    </tr>\n",
              "  </thead>\n",
              "  <tbody>\n",
              "    <tr>\n",
              "      <th>0</th>\n",
              "      <td>16548</td>\n",
              "      <td>city_33</td>\n",
              "      <td>0.448</td>\n",
              "      <td>NaN</td>\n",
              "      <td>No relevent experience</td>\n",
              "      <td>Full time course</td>\n",
              "      <td>Graduate</td>\n",
              "      <td>STEM</td>\n",
              "      <td>&lt;1</td>\n",
              "      <td>1000-4999</td>\n",
              "      <td>Public Sector</td>\n",
              "      <td>NaN</td>\n",
              "      <td>15</td>\n",
              "    </tr>\n",
              "    <tr>\n",
              "      <th>1</th>\n",
              "      <td>12036</td>\n",
              "      <td>city_28</td>\n",
              "      <td>0.939</td>\n",
              "      <td>Male</td>\n",
              "      <td>No relevent experience</td>\n",
              "      <td>no_enrollment</td>\n",
              "      <td>Graduate</td>\n",
              "      <td>STEM</td>\n",
              "      <td>&gt;20</td>\n",
              "      <td>50-99</td>\n",
              "      <td>Pvt Ltd</td>\n",
              "      <td>1</td>\n",
              "      <td>94</td>\n",
              "    </tr>\n",
              "    <tr>\n",
              "      <th>2</th>\n",
              "      <td>11061</td>\n",
              "      <td>city_103</td>\n",
              "      <td>0.920</td>\n",
              "      <td>Male</td>\n",
              "      <td>No relevent experience</td>\n",
              "      <td>Full time course</td>\n",
              "      <td>Graduate</td>\n",
              "      <td>STEM</td>\n",
              "      <td>3</td>\n",
              "      <td>NaN</td>\n",
              "      <td>NaN</td>\n",
              "      <td>1</td>\n",
              "      <td>17</td>\n",
              "    </tr>\n",
              "    <tr>\n",
              "      <th>3</th>\n",
              "      <td>5032</td>\n",
              "      <td>city_104</td>\n",
              "      <td>0.924</td>\n",
              "      <td>Male</td>\n",
              "      <td>No relevent experience</td>\n",
              "      <td>no_enrollment</td>\n",
              "      <td>Phd</td>\n",
              "      <td>STEM</td>\n",
              "      <td>&gt;20</td>\n",
              "      <td>50-99</td>\n",
              "      <td>Pvt Ltd</td>\n",
              "      <td>2</td>\n",
              "      <td>76</td>\n",
              "    </tr>\n",
              "    <tr>\n",
              "      <th>4</th>\n",
              "      <td>17599</td>\n",
              "      <td>city_77</td>\n",
              "      <td>0.830</td>\n",
              "      <td>Male</td>\n",
              "      <td>Has relevent experience</td>\n",
              "      <td>no_enrollment</td>\n",
              "      <td>Graduate</td>\n",
              "      <td>STEM</td>\n",
              "      <td>6</td>\n",
              "      <td>&lt;10</td>\n",
              "      <td>Pvt Ltd</td>\n",
              "      <td>2</td>\n",
              "      <td>65</td>\n",
              "    </tr>\n",
              "  </tbody>\n",
              "</table>\n",
              "</div>"
            ],
            "text/plain": [
              "   enrollee_id      city  city_development_index gender  \\\n",
              "0        16548   city_33                   0.448    NaN   \n",
              "1        12036   city_28                   0.939   Male   \n",
              "2        11061  city_103                   0.920   Male   \n",
              "3         5032  city_104                   0.924   Male   \n",
              "4        17599   city_77                   0.830   Male   \n",
              "\n",
              "       relevent_experience enrolled_university education_level  \\\n",
              "0   No relevent experience    Full time course        Graduate   \n",
              "1   No relevent experience       no_enrollment        Graduate   \n",
              "2   No relevent experience    Full time course        Graduate   \n",
              "3   No relevent experience       no_enrollment             Phd   \n",
              "4  Has relevent experience       no_enrollment        Graduate   \n",
              "\n",
              "  major_discipline experience company_size   company_type last_new_job  \\\n",
              "0             STEM         <1    1000-4999  Public Sector          NaN   \n",
              "1             STEM        >20        50-99        Pvt Ltd            1   \n",
              "2             STEM          3          NaN            NaN            1   \n",
              "3             STEM        >20        50-99        Pvt Ltd            2   \n",
              "4             STEM          6          <10        Pvt Ltd            2   \n",
              "\n",
              "   training_hours  \n",
              "0              15  \n",
              "1              94  \n",
              "2              17  \n",
              "3              76  \n",
              "4              65  "
            ]
          },
          "metadata": {
            "tags": []
          },
          "execution_count": 7
        }
      ]
    },
    {
      "cell_type": "code",
      "metadata": {
        "id": "u5998nFNP-Z9",
        "colab_type": "code",
        "outputId": "3dd77068-8839-4040-a505-5c8631fa9f7b",
        "colab": {
          "base_uri": "https://localhost:8080/",
          "height": 381
        }
      },
      "source": [
        "train.info()"
      ],
      "execution_count": 8,
      "outputs": [
        {
          "output_type": "stream",
          "text": [
            "<class 'pandas.core.frame.DataFrame'>\n",
            "RangeIndex: 18359 entries, 0 to 18358\n",
            "Data columns (total 14 columns):\n",
            " #   Column                  Non-Null Count  Dtype  \n",
            "---  ------                  --------------  -----  \n",
            " 0   enrollee_id             18359 non-null  int64  \n",
            " 1   city                    18359 non-null  object \n",
            " 2   city_development_index  18359 non-null  float64\n",
            " 3   gender                  14261 non-null  object \n",
            " 4   relevent_experience     18359 non-null  object \n",
            " 5   enrolled_university     18017 non-null  object \n",
            " 6   education_level         17902 non-null  object \n",
            " 7   major_discipline        15521 non-null  object \n",
            " 8   experience              18300 non-null  object \n",
            " 9   company_size            13580 non-null  object \n",
            " 10  company_type            13320 non-null  object \n",
            " 11  last_new_job            17992 non-null  object \n",
            " 12  training_hours          18359 non-null  int64  \n",
            " 13  target                  18359 non-null  int64  \n",
            "dtypes: float64(1), int64(3), object(10)\n",
            "memory usage: 2.0+ MB\n"
          ],
          "name": "stdout"
        }
      ]
    },
    {
      "cell_type": "code",
      "metadata": {
        "id": "UU96MP1jP-aN",
        "colab_type": "code",
        "outputId": "18f1227f-79bc-4295-9ced-d0146495d8c4",
        "colab": {
          "base_uri": "https://localhost:8080/",
          "height": 364
        }
      },
      "source": [
        "test.info()"
      ],
      "execution_count": 9,
      "outputs": [
        {
          "output_type": "stream",
          "text": [
            "<class 'pandas.core.frame.DataFrame'>\n",
            "RangeIndex: 15021 entries, 0 to 15020\n",
            "Data columns (total 13 columns):\n",
            " #   Column                  Non-Null Count  Dtype  \n",
            "---  ------                  --------------  -----  \n",
            " 0   enrollee_id             15021 non-null  int64  \n",
            " 1   city                    15021 non-null  object \n",
            " 2   city_development_index  15021 non-null  float64\n",
            " 3   gender                  11633 non-null  object \n",
            " 4   relevent_experience     15021 non-null  object \n",
            " 5   enrolled_university     14742 non-null  object \n",
            " 6   education_level         14626 non-null  object \n",
            " 7   major_discipline        12628 non-null  object \n",
            " 8   experience              14977 non-null  object \n",
            " 9   company_size            10970 non-null  object \n",
            " 10  company_type            10691 non-null  object \n",
            " 11  last_new_job            14717 non-null  object \n",
            " 12  training_hours          15021 non-null  int64  \n",
            "dtypes: float64(1), int64(2), object(10)\n",
            "memory usage: 1.5+ MB\n"
          ],
          "name": "stdout"
        }
      ]
    },
    {
      "cell_type": "code",
      "metadata": {
        "id": "-Dpeme4FP-aX",
        "colab_type": "code",
        "outputId": "b3f77eb5-e4c5-45f1-df36-cc966126831c",
        "colab": {
          "base_uri": "https://localhost:8080/",
          "height": 294
        }
      },
      "source": [
        "train.describe()"
      ],
      "execution_count": 10,
      "outputs": [
        {
          "output_type": "execute_result",
          "data": {
            "text/html": [
              "<div>\n",
              "<style scoped>\n",
              "    .dataframe tbody tr th:only-of-type {\n",
              "        vertical-align: middle;\n",
              "    }\n",
              "\n",
              "    .dataframe tbody tr th {\n",
              "        vertical-align: top;\n",
              "    }\n",
              "\n",
              "    .dataframe thead th {\n",
              "        text-align: right;\n",
              "    }\n",
              "</style>\n",
              "<table border=\"1\" class=\"dataframe\">\n",
              "  <thead>\n",
              "    <tr style=\"text-align: right;\">\n",
              "      <th></th>\n",
              "      <th>enrollee_id</th>\n",
              "      <th>city_development_index</th>\n",
              "      <th>training_hours</th>\n",
              "      <th>target</th>\n",
              "    </tr>\n",
              "  </thead>\n",
              "  <tbody>\n",
              "    <tr>\n",
              "      <th>count</th>\n",
              "      <td>18359.000000</td>\n",
              "      <td>18359.000000</td>\n",
              "      <td>18359.000000</td>\n",
              "      <td>18359.000000</td>\n",
              "    </tr>\n",
              "    <tr>\n",
              "      <th>mean</th>\n",
              "      <td>16729.360096</td>\n",
              "      <td>0.847140</td>\n",
              "      <td>65.899014</td>\n",
              "      <td>0.132088</td>\n",
              "    </tr>\n",
              "    <tr>\n",
              "      <th>std</th>\n",
              "      <td>9643.749725</td>\n",
              "      <td>0.110189</td>\n",
              "      <td>60.885300</td>\n",
              "      <td>0.338595</td>\n",
              "    </tr>\n",
              "    <tr>\n",
              "      <th>min</th>\n",
              "      <td>1.000000</td>\n",
              "      <td>0.448000</td>\n",
              "      <td>1.000000</td>\n",
              "      <td>0.000000</td>\n",
              "    </tr>\n",
              "    <tr>\n",
              "      <th>25%</th>\n",
              "      <td>8378.500000</td>\n",
              "      <td>0.796000</td>\n",
              "      <td>23.000000</td>\n",
              "      <td>0.000000</td>\n",
              "    </tr>\n",
              "    <tr>\n",
              "      <th>50%</th>\n",
              "      <td>16706.000000</td>\n",
              "      <td>0.910000</td>\n",
              "      <td>47.000000</td>\n",
              "      <td>0.000000</td>\n",
              "    </tr>\n",
              "    <tr>\n",
              "      <th>75%</th>\n",
              "      <td>25148.500000</td>\n",
              "      <td>0.920000</td>\n",
              "      <td>89.000000</td>\n",
              "      <td>0.000000</td>\n",
              "    </tr>\n",
              "    <tr>\n",
              "      <th>max</th>\n",
              "      <td>33380.000000</td>\n",
              "      <td>0.949000</td>\n",
              "      <td>336.000000</td>\n",
              "      <td>1.000000</td>\n",
              "    </tr>\n",
              "  </tbody>\n",
              "</table>\n",
              "</div>"
            ],
            "text/plain": [
              "        enrollee_id  city_development_index  training_hours        target\n",
              "count  18359.000000            18359.000000    18359.000000  18359.000000\n",
              "mean   16729.360096                0.847140       65.899014      0.132088\n",
              "std     9643.749725                0.110189       60.885300      0.338595\n",
              "min        1.000000                0.448000        1.000000      0.000000\n",
              "25%     8378.500000                0.796000       23.000000      0.000000\n",
              "50%    16706.000000                0.910000       47.000000      0.000000\n",
              "75%    25148.500000                0.920000       89.000000      0.000000\n",
              "max    33380.000000                0.949000      336.000000      1.000000"
            ]
          },
          "metadata": {
            "tags": []
          },
          "execution_count": 10
        }
      ]
    },
    {
      "cell_type": "markdown",
      "metadata": {
        "id": "6w-JKsQtSii9",
        "colab_type": "text"
      },
      "source": [
        "## Missing values\n",
        "As there are missing values in the dataset, we will find out which features have missing values and the percentage of missing values"
      ]
    },
    {
      "cell_type": "code",
      "metadata": {
        "id": "jiHSsyXUP-ae",
        "colab_type": "code",
        "colab": {}
      },
      "source": [
        "def missing_values_table(df):\n",
        "    mis_val = df.isnull().sum()\n",
        "    mis_val_percent = 100 * df.isnull().mean()\n",
        "    mis_val_table = pd.concat([mis_val, mis_val_percent], axis=1)\n",
        "    mis_val_table_ren_columns = mis_val_table.rename(columns = {0 : 'Missing Values', 1 : '% of Total Values'})\n",
        "    mis_val_table_ren_columns = mis_val_table_ren_columns[mis_val_table_ren_columns.iloc[:,1] != 0].sort_values(\n",
        "                                                            '% of Total Values', ascending=False).round(3)\n",
        "    print (\"Your selected dataframe has \" + str(df.shape[1]) + \" columns.\\n\"     \n",
        "            \"There are \" + str(mis_val_table_ren_columns.shape[0]) + \" columns that have missing values.\")\n",
        "    return mis_val_table_ren_columns"
      ],
      "execution_count": 0,
      "outputs": []
    },
    {
      "cell_type": "code",
      "metadata": {
        "id": "voeTO3VzP-am",
        "colab_type": "code",
        "outputId": "ed02f7c6-a3ec-4f4b-d9e6-4c79df20b931",
        "colab": {
          "base_uri": "https://localhost:8080/",
          "height": 0
        }
      },
      "source": [
        "missing_values_table(train)"
      ],
      "execution_count": 12,
      "outputs": [
        {
          "output_type": "stream",
          "text": [
            "Your selected dataframe has 14 columns.\n",
            "There are 8 columns that have missing values.\n"
          ],
          "name": "stdout"
        },
        {
          "output_type": "execute_result",
          "data": {
            "text/html": [
              "<div>\n",
              "<style scoped>\n",
              "    .dataframe tbody tr th:only-of-type {\n",
              "        vertical-align: middle;\n",
              "    }\n",
              "\n",
              "    .dataframe tbody tr th {\n",
              "        vertical-align: top;\n",
              "    }\n",
              "\n",
              "    .dataframe thead th {\n",
              "        text-align: right;\n",
              "    }\n",
              "</style>\n",
              "<table border=\"1\" class=\"dataframe\">\n",
              "  <thead>\n",
              "    <tr style=\"text-align: right;\">\n",
              "      <th></th>\n",
              "      <th>Missing Values</th>\n",
              "      <th>% of Total Values</th>\n",
              "    </tr>\n",
              "  </thead>\n",
              "  <tbody>\n",
              "    <tr>\n",
              "      <th>company_type</th>\n",
              "      <td>5039</td>\n",
              "      <td>27.447</td>\n",
              "    </tr>\n",
              "    <tr>\n",
              "      <th>company_size</th>\n",
              "      <td>4779</td>\n",
              "      <td>26.031</td>\n",
              "    </tr>\n",
              "    <tr>\n",
              "      <th>gender</th>\n",
              "      <td>4098</td>\n",
              "      <td>22.321</td>\n",
              "    </tr>\n",
              "    <tr>\n",
              "      <th>major_discipline</th>\n",
              "      <td>2838</td>\n",
              "      <td>15.458</td>\n",
              "    </tr>\n",
              "    <tr>\n",
              "      <th>education_level</th>\n",
              "      <td>457</td>\n",
              "      <td>2.489</td>\n",
              "    </tr>\n",
              "    <tr>\n",
              "      <th>last_new_job</th>\n",
              "      <td>367</td>\n",
              "      <td>1.999</td>\n",
              "    </tr>\n",
              "    <tr>\n",
              "      <th>enrolled_university</th>\n",
              "      <td>342</td>\n",
              "      <td>1.863</td>\n",
              "    </tr>\n",
              "    <tr>\n",
              "      <th>experience</th>\n",
              "      <td>59</td>\n",
              "      <td>0.321</td>\n",
              "    </tr>\n",
              "  </tbody>\n",
              "</table>\n",
              "</div>"
            ],
            "text/plain": [
              "                     Missing Values  % of Total Values\n",
              "company_type                   5039             27.447\n",
              "company_size                   4779             26.031\n",
              "gender                         4098             22.321\n",
              "major_discipline               2838             15.458\n",
              "education_level                 457              2.489\n",
              "last_new_job                    367              1.999\n",
              "enrolled_university             342              1.863\n",
              "experience                       59              0.321"
            ]
          },
          "metadata": {
            "tags": []
          },
          "execution_count": 12
        }
      ]
    },
    {
      "cell_type": "code",
      "metadata": {
        "id": "mfm0LWsnlROR",
        "colab_type": "code",
        "outputId": "83cf796c-9c90-4b27-8ebb-f3d7ea4306f1",
        "colab": {
          "base_uri": "https://localhost:8080/",
          "height": 0
        }
      },
      "source": [
        "missing_values_table(test)"
      ],
      "execution_count": 13,
      "outputs": [
        {
          "output_type": "stream",
          "text": [
            "Your selected dataframe has 13 columns.\n",
            "There are 8 columns that have missing values.\n"
          ],
          "name": "stdout"
        },
        {
          "output_type": "execute_result",
          "data": {
            "text/html": [
              "<div>\n",
              "<style scoped>\n",
              "    .dataframe tbody tr th:only-of-type {\n",
              "        vertical-align: middle;\n",
              "    }\n",
              "\n",
              "    .dataframe tbody tr th {\n",
              "        vertical-align: top;\n",
              "    }\n",
              "\n",
              "    .dataframe thead th {\n",
              "        text-align: right;\n",
              "    }\n",
              "</style>\n",
              "<table border=\"1\" class=\"dataframe\">\n",
              "  <thead>\n",
              "    <tr style=\"text-align: right;\">\n",
              "      <th></th>\n",
              "      <th>Missing Values</th>\n",
              "      <th>% of Total Values</th>\n",
              "    </tr>\n",
              "  </thead>\n",
              "  <tbody>\n",
              "    <tr>\n",
              "      <th>company_type</th>\n",
              "      <td>4330</td>\n",
              "      <td>28.826</td>\n",
              "    </tr>\n",
              "    <tr>\n",
              "      <th>company_size</th>\n",
              "      <td>4051</td>\n",
              "      <td>26.969</td>\n",
              "    </tr>\n",
              "    <tr>\n",
              "      <th>gender</th>\n",
              "      <td>3388</td>\n",
              "      <td>22.555</td>\n",
              "    </tr>\n",
              "    <tr>\n",
              "      <th>major_discipline</th>\n",
              "      <td>2393</td>\n",
              "      <td>15.931</td>\n",
              "    </tr>\n",
              "    <tr>\n",
              "      <th>education_level</th>\n",
              "      <td>395</td>\n",
              "      <td>2.630</td>\n",
              "    </tr>\n",
              "    <tr>\n",
              "      <th>last_new_job</th>\n",
              "      <td>304</td>\n",
              "      <td>2.024</td>\n",
              "    </tr>\n",
              "    <tr>\n",
              "      <th>enrolled_university</th>\n",
              "      <td>279</td>\n",
              "      <td>1.857</td>\n",
              "    </tr>\n",
              "    <tr>\n",
              "      <th>experience</th>\n",
              "      <td>44</td>\n",
              "      <td>0.293</td>\n",
              "    </tr>\n",
              "  </tbody>\n",
              "</table>\n",
              "</div>"
            ],
            "text/plain": [
              "                     Missing Values  % of Total Values\n",
              "company_type                   4330             28.826\n",
              "company_size                   4051             26.969\n",
              "gender                         3388             22.555\n",
              "major_discipline               2393             15.931\n",
              "education_level                 395              2.630\n",
              "last_new_job                    304              2.024\n",
              "enrolled_university             279              1.857\n",
              "experience                       44              0.293"
            ]
          },
          "metadata": {
            "tags": []
          },
          "execution_count": 13
        }
      ]
    },
    {
      "cell_type": "markdown",
      "metadata": {
        "id": "0Aj9SM3eP-as",
        "colab_type": "text"
      },
      "source": [
        "## Exploratory data analysis"
      ]
    },
    {
      "cell_type": "markdown",
      "metadata": {
        "id": "vTdQ4NAKSyC4",
        "colab_type": "text"
      },
      "source": [
        "### Target variable"
      ]
    },
    {
      "cell_type": "code",
      "metadata": {
        "id": "J2h2PwxuP-au",
        "colab_type": "code",
        "outputId": "8d2509c7-fe21-4362-84b1-41fc8b3c5ee1",
        "colab": {
          "base_uri": "https://localhost:8080/",
          "height": 0
        }
      },
      "source": [
        "sns.countplot(train['target']);\n",
        "plt.title(\"Distribution of Target Variable\");"
      ],
      "execution_count": 14,
      "outputs": [
        {
          "output_type": "display_data",
          "data": {
            "image/png": "[encoded data removed]",
            "text/plain": [
              "<Figure size 432x288 with 1 Axes>"
            ]
          },
          "metadata": {
            "tags": []
          }
        }
      ]
    },
    {
      "cell_type": "code",
      "metadata": {
        "id": "152xmICZP-a2",
        "colab_type": "code",
        "outputId": "51dc24ec-9065-443d-ab55-209d82b77410",
        "colab": {
          "base_uri": "https://localhost:8080/",
          "height": 0
        }
      },
      "source": [
        "train['target'].value_counts(dropna=False)/len(train)"
      ],
      "execution_count": 15,
      "outputs": [
        {
          "output_type": "execute_result",
          "data": {
            "text/plain": [
              "0    0.867912\n",
              "1    0.132088\n",
              "Name: target, dtype: float64"
            ]
          },
          "metadata": {
            "tags": []
          },
          "execution_count": 15
        }
      ]
    },
    {
      "cell_type": "code",
      "metadata": {
        "id": "d0SLkdD3P-a8",
        "colab_type": "code",
        "outputId": "e260724c-af19-4e3a-adf2-c6ae4ab2b770",
        "colab": {
          "base_uri": "https://localhost:8080/",
          "height": 0
        }
      },
      "source": [
        "sns.countplot(train['city']);\n",
        "plt.title(\"Distribution of City Variable\");"
      ],
      "execution_count": 16,
      "outputs": [
        {
          "output_type": "display_data",
          "data": {
            "image/png": "[encoded data removed]",
            "text/plain": [
              "<Figure size 432x288 with 1 Axes>"
            ]
          },
          "metadata": {
            "tags": []
          }
        }
      ]
    },
    {
      "cell_type": "markdown",
      "metadata": {
        "id": "hNInvsg1P-bD",
        "colab_type": "text"
      },
      "source": [
        "Making a better plot"
      ]
    },
    {
      "cell_type": "code",
      "metadata": {
        "id": "zNsY-JDOP-bE",
        "colab_type": "code",
        "outputId": "8d404478-a745-4f2f-949e-3953909eb4f2",
        "colab": {
          "base_uri": "https://localhost:8080/",
          "height": 0
        }
      },
      "source": [
        "plt.figure(figsize=(16,6));\n",
        "sns.barplot(x=train['city'].value_counts(dropna=False).index.values,y=train['city'].value_counts(dropna=False).values);\n",
        "plt.xticks(rotation=90);\n",
        "plt.xlabel(\"City_Id\");\n",
        "plt.ylabel(\"Count\");\n",
        "plt.title(\"Count of City_Id's\");"
      ],
      "execution_count": 17,
      "outputs": [
        {
          "output_type": "display_data",
          "data": {
            "image/png": "[encoded data removed]",
            "text/plain": [
              "<Figure size 1152x432 with 1 Axes>"
            ]
          },
          "metadata": {
            "tags": []
          }
        }
      ]
    },
    {
      "cell_type": "code",
      "metadata": {
        "id": "0hWtuHrgP-bK",
        "colab_type": "code",
        "outputId": "180727b2-4972-42c9-ae7f-81eeb4a4ca72",
        "colab": {
          "base_uri": "https://localhost:8080/",
          "height": 0
        }
      },
      "source": [
        "y = 'target'\n",
        "cols = [ i for i in train.columns if train.dtypes[i] != 'object']\n",
        "cols.remove(y)\n",
        "\n",
        "final = pd.melt(train, id_vars=y, value_vars=cols)\n",
        "gph = sns.FacetGrid(final, col=\"variable\", col_wrap=5, sharex=False, sharey=False, hue=y,palette='husl' )\n",
        "gph = gph.map(sns.distplot,\"value\", kde=True).add_legend()"
      ],
      "execution_count": 18,
      "outputs": [
        {
          "output_type": "display_data",
          "data": {
            "image/png": "[encoded data removed]",
            "text/plain": [
              "<Figure size 1122.38x216 with 3 Axes>"
            ]
          },
          "metadata": {
            "tags": []
          }
        }
      ]
    },
    {
      "cell_type": "markdown",
      "metadata": {
        "id": "nYXQhiGnS52p",
        "colab_type": "text"
      },
      "source": [
        "The training hours variable needs furthur analysis as it has values more than 200 hours which does not make sense."
      ]
    },
    {
      "cell_type": "code",
      "metadata": {
        "id": "JuAe4GrmVJ5u",
        "colab_type": "code",
        "outputId": "1b84a309-c0ef-49c7-efa3-4045cad4c296",
        "colab": {
          "base_uri": "https://localhost:8080/",
          "height": 0
        }
      },
      "source": [
        "train['training_hours'].describe()"
      ],
      "execution_count": 19,
      "outputs": [
        {
          "output_type": "execute_result",
          "data": {
            "text/plain": [
              "count    18359.000000\n",
              "mean        65.899014\n",
              "std         60.885300\n",
              "min          1.000000\n",
              "25%         23.000000\n",
              "50%         47.000000\n",
              "75%         89.000000\n",
              "max        336.000000\n",
              "Name: training_hours, dtype: float64"
            ]
          },
          "metadata": {
            "tags": []
          },
          "execution_count": 19
        }
      ]
    },
    {
      "cell_type": "code",
      "metadata": {
        "id": "g31Icx2DVJm-",
        "colab_type": "code",
        "outputId": "05daeb11-5d78-49e6-fd4f-e17f5501ded6",
        "colab": {
          "base_uri": "https://localhost:8080/",
          "height": 0
        }
      },
      "source": [
        "sns.distplot(train['training_hours'])"
      ],
      "execution_count": 20,
      "outputs": [
        {
          "output_type": "execute_result",
          "data": {
            "text/plain": [
              "<matplotlib.axes._subplots.AxesSubplot at 0x7fe21df59860>"
            ]
          },
          "metadata": {
            "tags": []
          },
          "execution_count": 20
        },
        {
          "output_type": "display_data",
          "data": {
            "image/png": "[encoded data removed]",
            "text/plain": [
              "<Figure size 432x288 with 1 Axes>"
            ]
          },
          "metadata": {
            "tags": []
          }
        }
      ]
    },
    {
      "cell_type": "code",
      "metadata": {
        "id": "dwCMQdsAVSeg",
        "colab_type": "code",
        "outputId": "72c9e5d5-dd2d-4336-e5d7-c017103f4c1a",
        "colab": {
          "base_uri": "https://localhost:8080/",
          "height": 0
        }
      },
      "source": [
        "sns.boxplot(train['training_hours'])"
      ],
      "execution_count": 21,
      "outputs": [
        {
          "output_type": "execute_result",
          "data": {
            "text/plain": [
              "<matplotlib.axes._subplots.AxesSubplot at 0x7fe21dfd8ef0>"
            ]
          },
          "metadata": {
            "tags": []
          },
          "execution_count": 21
        },
        {
          "output_type": "display_data",
          "data": {
            "image/png": "[encoded data removed]",
            "text/plain": [
              "<Figure size 432x288 with 1 Axes>"
            ]
          },
          "metadata": {
            "tags": []
          }
        }
      ]
    },
    {
      "cell_type": "markdown",
      "metadata": {
        "id": "VIuNdMyPVkaP",
        "colab_type": "text"
      },
      "source": [
        "We need to scale down the values above ~180 hours as they might distort our classification model"
      ]
    },
    {
      "cell_type": "code",
      "metadata": {
        "id": "98JTkwVUFqik",
        "colab_type": "code",
        "outputId": "1b1ea876-e093-4d56-e1ea-79a8596b0b4a",
        "colab": {
          "base_uri": "https://localhost:8080/",
          "height": 0
        }
      },
      "source": [
        "sns.boxplot(test['training_hours'])"
      ],
      "execution_count": 22,
      "outputs": [
        {
          "output_type": "execute_result",
          "data": {
            "text/plain": [
              "<matplotlib.axes._subplots.AxesSubplot at 0x7fe21e20c4e0>"
            ]
          },
          "metadata": {
            "tags": []
          },
          "execution_count": 22
        },
        {
          "output_type": "display_data",
          "data": {
            "image/png": "[encoded data removed]",
            "text/plain": [
              "<Figure size 432x288 with 1 Axes>"
            ]
          },
          "metadata": {
            "tags": []
          }
        }
      ]
    },
    {
      "cell_type": "code",
      "metadata": {
        "id": "X7Ou-5N_FyAg",
        "colab_type": "code",
        "colab": {}
      },
      "source": [
        "from sklearn.preprocessing import MinMaxScaler\n",
        "scaler = MinMaxScaler()\n",
        "train[['training_hours']] = scaler.fit_transform(train[['training_hours']])\n",
        "test[['training_hours']] = scaler.fit_transform(test[['training_hours']])"
      ],
      "execution_count": 0,
      "outputs": []
    },
    {
      "cell_type": "code",
      "metadata": {
        "id": "s8BbXeK5P-bN",
        "colab_type": "code",
        "outputId": "8e1da748-360e-4431-fa40-763fac766928",
        "colab": {
          "base_uri": "https://localhost:8080/",
          "height": 0
        }
      },
      "source": [
        "for x in train.columns:\n",
        "    print(x+':')\n",
        "    print(train[x].unique())"
      ],
      "execution_count": 24,
      "outputs": [
        {
          "output_type": "stream",
          "text": [
            "enrollee_id:\n",
            "[23798 29166    46 ... 11514  1689  5995]\n",
            "city:\n",
            "['city_149' 'city_83' 'city_16' 'city_64' 'city_100' 'city_21' 'city_114'\n",
            " 'city_103' 'city_97' 'city_160' 'city_65' 'city_90' 'city_75' 'city_136'\n",
            " 'city_159' 'city_67' 'city_28' 'city_10' 'city_73' 'city_76' 'city_104'\n",
            " 'city_27' 'city_30' 'city_61' 'city_99' 'city_41' 'city_142' 'city_9'\n",
            " 'city_116' 'city_128' 'city_74' 'city_69' 'city_1' 'city_176' 'city_40'\n",
            " 'city_123' 'city_152' 'city_165' 'city_89' 'city_36' 'city_44' 'city_46'\n",
            " 'city_45' 'city_134' 'city_93' 'city_180' 'city_162' 'city_84' 'city_138'\n",
            " 'city_173' 'city_19' 'city_71' 'city_158' 'city_23' 'city_102' 'city_105'\n",
            " 'city_91' 'city_11' 'city_13' 'city_57' 'city_20' 'city_14' 'city_37'\n",
            " 'city_115' 'city_50' 'city_167' 'city_12' 'city_143' 'city_126' 'city_77'\n",
            " 'city_101' 'city_150' 'city_179' 'city_107' 'city_175' 'city_146'\n",
            " 'city_98' 'city_166' 'city_118' 'city_129' 'city_127' 'city_24' 'city_81'\n",
            " 'city_26' 'city_139' 'city_94' 'city_70' 'city_145' 'city_157' 'city_111'\n",
            " 'city_78' 'city_80' 'city_33' 'city_7' 'city_72' 'city_43' 'city_144'\n",
            " 'city_39' 'city_59' 'city_48' 'city_131' 'city_121' 'city_141' 'city_42'\n",
            " 'city_117' 'city_55' 'city_54' 'city_8' 'city_62' 'city_53' 'city_106'\n",
            " 'city_155' 'city_133' 'city_171' 'city_2' 'city_120' 'city_18' 'city_79'\n",
            " 'city_31' 'city_109' 'city_25' 'city_82' 'city_140']\n",
            "city_development_index:\n",
            "[0.689 0.923 0.91  0.666 0.887 0.624 0.926 0.92  0.925 0.802 0.698 0.939\n",
            " 0.897 0.843 0.855 0.895 0.754 0.924 0.848 0.913 0.915 0.827 0.727 0.743\n",
            " 0.527 0.579 0.856 0.847 0.764 0.776 0.738 0.903 0.893 0.725 0.762 0.89\n",
            " 0.865 0.767 0.836 0.878 0.682 0.884 0.766 0.899 0.804 0.794 0.691 0.55\n",
            " 0.866 0.796 0.789 0.896 0.921 0.64  0.74  0.479 0.83  0.558 0.512 0.518\n",
            " 0.735 0.949 0.649 0.722 0.625 0.745 0.73  0.487 0.555 0.769 0.448 0.647\n",
            " 0.795 0.516 0.84  0.898 0.775 0.493 0.68  0.781 0.763 0.563 0.739 0.645\n",
            " 0.556 0.742 0.664 0.788 0.78  0.824 0.807 0.701 0.693]\n",
            "gender:\n",
            "['Male' nan 'Female' 'Other']\n",
            "relevent_experience:\n",
            "['Has relevent experience' 'No relevent experience']\n",
            "enrolled_university:\n",
            "['no_enrollment' 'Full time course' 'Part time course' nan]\n",
            "education_level:\n",
            "['Graduate' 'Masters' 'High School' 'Phd' nan 'Primary School']\n",
            "major_discipline:\n",
            "['STEM' 'Other' 'No Major' nan 'Business Degree' 'Arts' 'Humanities']\n",
            "experience:\n",
            "['3' '14' '6' '8' '>20' '4' '9' '15' '10' '1' '5' '16' '11' '12' '7' '2'\n",
            " '13' '<1' '19' '18' '17' nan '20']\n",
            "company_size:\n",
            "['100-500' '<10' '50-99' nan '5000-9999' '10000+' '1000-4999' '500-999'\n",
            " '10/49']\n",
            "company_type:\n",
            "['Pvt Ltd' 'Funded Startup' 'Public Sector' nan 'Early Stage Startup'\n",
            " 'NGO' 'Other']\n",
            "last_new_job:\n",
            "['1' '2' '3' '>4' 'never' '4' nan]\n",
            "training_hours:\n",
            "[0.31343284 0.20298507 0.00895522 0.07462687 0.25970149 0.09850746\n",
            " 0.06567164 0.02089552 0.02686567 0.25074627 0.16119403 0.0358209\n",
            " 0.14925373 0.08059701 0.10149254 0.12238806 0.13134328 0.02985075\n",
            " 0.03283582 0.15820896 0.26268657 0.11940299 0.88656716 0.29850746\n",
            " 0.33731343 0.30746269 0.15522388 0.11343284 0.05671642 0.32238806\n",
            " 0.00597015 0.2        0.77910448 0.04477612 0.06268657 0.19701493\n",
            " 0.12537313 0.01791045 0.08656716 0.0238806  0.33134328 0.05970149\n",
            " 0.49253731 0.32537313 0.05074627 0.23283582 0.28955224 0.19104478\n",
            " 0.17910448 0.12835821 0.50447761 0.39104478 0.42985075 0.14029851\n",
            " 0.13432836 0.10746269 0.25373134 0.28358209 0.09552239 0.45074627\n",
            " 0.49850746 0.37910448 0.30149254 0.01492537 0.14626866 0.10447761\n",
            " 0.26567164 0.48656716 0.1641791  0.09253731 0.04776119 0.37313433\n",
            " 0.2119403  0.04179104 0.2358209  0.07164179 0.08955224 0.47462687\n",
            " 0.19402985 0.06865672 0.59402985 0.13731343 0.24477612 0.17014925\n",
            " 0.08358209 0.6119403  0.03880597 0.31044776 0.26865672 0.64776119\n",
            " 0.22089552 0.16716418 0.05373134 0.42686567 0.27164179 0.27761194\n",
            " 0.54626866 0.18208955 0.41492537 0.15223881 0.76716418 0.52835821\n",
            " 0.80298507 0.31940299 0.46567164 0.46268657 0.3641791  0.17313433\n",
            " 0.24179104 0.1761194  0.00298507 0.58208955 0.28059701 0.24776119\n",
            " 0.0119403  0.43283582 0.6        0.29552239 0.32835821 0.75522388\n",
            " 0.07761194 1.         0.1880597  0.31641791 0.2238806  0.11044776\n",
            " 0.39701493 0.98208955 0.60597015 0.95223881 0.21791045 0.21492537\n",
            " 0.11641791 0.25671642 0.94029851 0.34925373 0.36119403 0.83880597\n",
            " 0.73731343 0.45373134 0.4358209  0.20597015 0.3880597  0.33432836\n",
            " 0.64179104 0.86865672 0.23880597 0.52238806 0.22985075 0.65970149\n",
            " 0.48358209 0.18507463 0.83283582 0.6238806  0.87462687 0.78507463\n",
            " 0.45970149 0.22686567 0.28656716 0.66567164 0.53432836 0.70149254\n",
            " 0.37014925 0.48059701 0.34328358 0.46865672 0.76119403 0.14328358\n",
            " 0.20895522 0.97014925 0.         0.70746269 0.36716418 0.79701493\n",
            " 0.6358209  0.57014925 0.68955224 0.82089552 0.48955224 0.40895522\n",
            " 0.92238806 0.49552239 0.85671642 0.34626866 0.29253731 0.5880597\n",
            " 0.71343284 0.35223881 0.40298507 0.4119403  0.44477612 0.79104478\n",
            " 0.65373134 0.51044776 0.39402985 0.84477612 0.80895522 0.92835821\n",
            " 0.91044776 0.38507463 0.45671642 0.55820896 0.51641791 0.54029851\n",
            " 0.9880597  0.86268657 0.35522388 0.35820896 0.9761194  0.5641791\n",
            " 0.91641791 0.82686567 0.95820896 0.72537313 0.9641791  0.4238806\n",
            " 0.5761194  0.38208955 0.30447761 0.73134328 0.3761194  0.42089552\n",
            " 0.44776119 0.62985075 0.89253731 0.93432836 0.4        0.74328358\n",
            " 0.69552239 0.44179104 0.41791045 0.47761194 0.43880597 0.71940299\n",
            " 0.67164179 0.90447761 0.67761194 0.77313433 0.85074627 0.89850746\n",
            " 0.99402985]\n",
            "target:\n",
            "[0 1]\n"
          ],
          "name": "stdout"
        }
      ]
    },
    {
      "cell_type": "markdown",
      "metadata": {
        "id": "KkPFuYXVP-bR",
        "colab_type": "text"
      },
      "source": [
        "## Preprocessing"
      ]
    },
    {
      "cell_type": "code",
      "metadata": {
        "id": "eYOyAfIpP-bS",
        "colab_type": "code",
        "outputId": "075f1913-5d4e-4b61-9271-5a8f24d7fd68",
        "colab": {
          "base_uri": "https://localhost:8080/",
          "height": 0
        }
      },
      "source": [
        "sns.countplot(train['gender']);\n",
        "plt.title(\"Distribution of Gender Variable\");"
      ],
      "execution_count": 25,
      "outputs": [
        {
          "output_type": "display_data",
          "data": {
            "image/png": "[encoded data removed]",
            "text/plain": [
              "<Figure size 432x288 with 1 Axes>"
            ]
          },
          "metadata": {
            "tags": []
          }
        }
      ]
    },
    {
      "cell_type": "code",
      "metadata": {
        "id": "pq_nx1moWVJX",
        "colab_type": "code",
        "outputId": "bc5865ec-ab6f-4554-9dff-943c0ecfdf17",
        "colab": {
          "base_uri": "https://localhost:8080/",
          "height": 0
        }
      },
      "source": [
        "train['gender'].value_counts(dropna=False)/len(train)"
      ],
      "execution_count": 26,
      "outputs": [
        {
          "output_type": "execute_result",
          "data": {
            "text/plain": [
              "Male      0.701781\n",
              "NaN       0.223215\n",
              "Female    0.064709\n",
              "Other     0.010295\n",
              "Name: gender, dtype: float64"
            ]
          },
          "metadata": {
            "tags": []
          },
          "execution_count": 26
        }
      ]
    },
    {
      "cell_type": "code",
      "metadata": {
        "id": "-V-JO00HP-bY",
        "colab_type": "code",
        "colab": {}
      },
      "source": [
        "train['gender'].fillna('Female',inplace=True)\n",
        "test['gender'].fillna('Female',inplace=True)\n",
        "\n",
        "gender_dict = {'Other':0,'Female':1,'Male':2} \n",
        "#Giving higher weightage to Males as they are in highest proportion\n",
        "train['gender'] = train['gender'].apply(lambda x: gender_dict[x])\n",
        "test['gender'] = test['gender'].apply(lambda x: gender_dict[x])"
      ],
      "execution_count": 0,
      "outputs": []
    },
    {
      "cell_type": "code",
      "metadata": {
        "id": "oZZX747PP-bb",
        "colab_type": "code",
        "outputId": "8205c7dd-2211-4272-d466-54af00c1ca7a",
        "colab": {
          "base_uri": "https://localhost:8080/",
          "height": 0
        }
      },
      "source": [
        "train['enrolled_university'].value_counts(dropna=False)/len(train)"
      ],
      "execution_count": 28,
      "outputs": [
        {
          "output_type": "execute_result",
          "data": {
            "text/plain": [
              "no_enrollment       0.743995\n",
              "Full time course    0.173593\n",
              "Part time course    0.063783\n",
              "NaN                 0.018628\n",
              "Name: enrolled_university, dtype: float64"
            ]
          },
          "metadata": {
            "tags": []
          },
          "execution_count": 28
        }
      ]
    },
    {
      "cell_type": "code",
      "metadata": {
        "id": "zd5EvotlP-bg",
        "colab_type": "code",
        "colab": {}
      },
      "source": [
        "train['enrolled_university'].fillna('Missing',inplace=True)\n",
        "test['enrolled_university'].fillna('Missing',inplace=True)\n",
        "\n",
        "enrolled_university_dict = {'Missing':0,'no_enrollment':1,'Part time course':2, 'Full time course':3} \n",
        "train['enrolled_university'] = train['enrolled_university'].apply(lambda x: enrolled_university_dict[x])\n",
        "test['enrolled_university'] = test['enrolled_university'].apply(lambda x: enrolled_university_dict[x])"
      ],
      "execution_count": 0,
      "outputs": []
    },
    {
      "cell_type": "code",
      "metadata": {
        "id": "Uc4V6ZAAP-bl",
        "colab_type": "code",
        "outputId": "4e16c968-7ca6-42fc-8d0e-d1962a866fdc",
        "colab": {
          "base_uri": "https://localhost:8080/",
          "height": 0
        }
      },
      "source": [
        "train['education_level'].value_counts(dropna=False)/len(train)"
      ],
      "execution_count": 30,
      "outputs": [
        {
          "output_type": "execute_result",
          "data": {
            "text/plain": [
              "Graduate          0.586579\n",
              "Masters           0.235252\n",
              "High School       0.110681\n",
              "Phd               0.025001\n",
              "NaN               0.024892\n",
              "Primary School    0.017594\n",
              "Name: education_level, dtype: float64"
            ]
          },
          "metadata": {
            "tags": []
          },
          "execution_count": 30
        }
      ]
    },
    {
      "cell_type": "code",
      "metadata": {
        "id": "djKuTYD-P-bp",
        "colab_type": "code",
        "colab": {}
      },
      "source": [
        "train['education_level'].fillna('Missing',inplace=True)\n",
        "test['education_level'].fillna('Missing',inplace=True)\n",
        "\n",
        "education_level_dict = {'Missing':0,'Primary School':1,'High School':2, 'Graduate':3, 'Masters':4, 'Phd':5} \n",
        "train['education_level'] = train['education_level'].apply(lambda x: education_level_dict[x])\n",
        "test['education_level'] = test['education_level'].apply(lambda x: education_level_dict[x])"
      ],
      "execution_count": 0,
      "outputs": []
    },
    {
      "cell_type": "code",
      "metadata": {
        "id": "S5zDs4AHP-bs",
        "colab_type": "code",
        "outputId": "3a58757c-bc4d-42c9-80dc-25679fcb9024",
        "colab": {
          "base_uri": "https://localhost:8080/",
          "height": 0
        }
      },
      "source": [
        "train['major_discipline'].value_counts(dropna=False)/len(train)"
      ],
      "execution_count": 32,
      "outputs": [
        {
          "output_type": "execute_result",
          "data": {
            "text/plain": [
              "STEM               0.748298\n",
              "NaN                0.154584\n",
              "Humanities         0.037475\n",
              "Other              0.018683\n",
              "Business Degree    0.016722\n",
              "Arts               0.013018\n",
              "No Major           0.011221\n",
              "Name: major_discipline, dtype: float64"
            ]
          },
          "metadata": {
            "tags": []
          },
          "execution_count": 32
        }
      ]
    },
    {
      "cell_type": "code",
      "metadata": {
        "id": "J924bS9DP-bw",
        "colab_type": "code",
        "colab": {}
      },
      "source": [
        "train['major_discipline'].fillna('Missing',inplace=True)\n",
        "test['major_discipline'].fillna('Missing',inplace=True)\n",
        "\n",
        "education_level_dict = {'Missing':0,'No Major':1,'Other':2, 'Humanities':3, 'Arts':4, 'Business Degree':5, 'STEM':6} \n",
        "train['major_discipline'] = train['major_discipline'].apply(lambda x: education_level_dict[x])\n",
        "test['major_discipline'] = test['major_discipline'].apply(lambda x: education_level_dict[x])"
      ],
      "execution_count": 0,
      "outputs": []
    },
    {
      "cell_type": "code",
      "metadata": {
        "id": "1bTf1Q7LP-b3",
        "colab_type": "code",
        "outputId": "b9a5a3a5-ff5b-4f2f-dfd5-f0c9b21ecfb7",
        "colab": {
          "base_uri": "https://localhost:8080/",
          "height": 0
        }
      },
      "source": [
        "train['company_size'].value_counts(dropna=False)/len(train)"
      ],
      "execution_count": 34,
      "outputs": [
        {
          "output_type": "execute_result",
          "data": {
            "text/plain": [
              "NaN          0.260308\n",
              "50-99        0.169944\n",
              "100-500      0.146958\n",
              "10000+       0.111335\n",
              "10/49        0.079852\n",
              "1000-4999    0.076202\n",
              "<10          0.074078\n",
              "500-999      0.049131\n",
              "5000-9999    0.032191\n",
              "Name: company_size, dtype: float64"
            ]
          },
          "metadata": {
            "tags": []
          },
          "execution_count": 34
        }
      ]
    },
    {
      "cell_type": "code",
      "metadata": {
        "id": "UJK6a5YfP-b8",
        "colab_type": "code",
        "colab": {}
      },
      "source": [
        "train['company_size'].replace({\"10/49\":\"10-49\"},inplace=True)"
      ],
      "execution_count": 0,
      "outputs": []
    },
    {
      "cell_type": "code",
      "metadata": {
        "id": "G-To03bwk5RY",
        "colab_type": "code",
        "outputId": "51fc6f4f-35ef-42d8-83ff-891a706b48f1",
        "colab": {
          "base_uri": "https://localhost:8080/",
          "height": 0
        }
      },
      "source": [
        "test['company_size'].value_counts(dropna=False)/len(test)"
      ],
      "execution_count": 36,
      "outputs": [
        {
          "output_type": "execute_result",
          "data": {
            "text/plain": [
              "NaN          0.269689\n",
              "50-99        0.171560\n",
              "100-500      0.142933\n",
              "10000+       0.107982\n",
              "10/49        0.079755\n",
              "1000-4999    0.074163\n",
              "<10          0.073497\n",
              "500-999      0.049065\n",
              "5000-9999    0.031356\n",
              "Name: company_size, dtype: float64"
            ]
          },
          "metadata": {
            "tags": []
          },
          "execution_count": 36
        }
      ]
    },
    {
      "cell_type": "code",
      "metadata": {
        "id": "1pUgSwpAP-cB",
        "colab_type": "code",
        "outputId": "6877f3f1-ab0d-442c-899c-69fa57b92816",
        "colab": {
          "base_uri": "https://localhost:8080/",
          "height": 0
        }
      },
      "source": [
        "train['company_size'].value_counts(dropna=False)/len(train)"
      ],
      "execution_count": 37,
      "outputs": [
        {
          "output_type": "execute_result",
          "data": {
            "text/plain": [
              "NaN          0.260308\n",
              "50-99        0.169944\n",
              "100-500      0.146958\n",
              "10000+       0.111335\n",
              "10-49        0.079852\n",
              "1000-4999    0.076202\n",
              "<10          0.074078\n",
              "500-999      0.049131\n",
              "5000-9999    0.032191\n",
              "Name: company_size, dtype: float64"
            ]
          },
          "metadata": {
            "tags": []
          },
          "execution_count": 37
        }
      ]
    },
    {
      "cell_type": "code",
      "metadata": {
        "id": "gdm_Vfd3P-cG",
        "colab_type": "code",
        "colab": {}
      },
      "source": [
        "def company_size_binning(x):\n",
        "    if x==\"<10\":\n",
        "        return \"Very Small\"\n",
        "    elif x==\"10-49\":\n",
        "        return \"Small\"\n",
        "    elif x==\"50-99\":\n",
        "        return \"Small\"\n",
        "    elif x==\"100-500\":\n",
        "        return \"Small\"\n",
        "    elif x==\"500-999\":\n",
        "        return \"Medium\"\n",
        "    elif x==\"1000-4999\":\n",
        "        return \"Medium\"\n",
        "    elif x==\"5000-9999\":\n",
        "        return \"Large\"\n",
        "    elif x==\"10000+\":\n",
        "        return \"Large\"\n",
        "    else:\n",
        "        return \"Missing\""
      ],
      "execution_count": 0,
      "outputs": []
    },
    {
      "cell_type": "code",
      "metadata": {
        "id": "bCfU1n_hP-cJ",
        "colab_type": "code",
        "colab": {}
      },
      "source": [
        "train['company_size'] = train['company_size'].apply(company_size_binning)\n",
        "test['company_size'] = test['company_size'].apply(company_size_binning)"
      ],
      "execution_count": 0,
      "outputs": []
    },
    {
      "cell_type": "code",
      "metadata": {
        "id": "5qolZtG3P-cP",
        "colab_type": "code",
        "outputId": "3985dbbf-64f9-4bab-c811-49da4bb5d14f",
        "colab": {
          "base_uri": "https://localhost:8080/",
          "height": 0
        }
      },
      "source": [
        "train['company_size'].value_counts(dropna=False)/len(train)"
      ],
      "execution_count": 40,
      "outputs": [
        {
          "output_type": "execute_result",
          "data": {
            "text/plain": [
              "Small         0.396754\n",
              "Missing       0.260308\n",
              "Large         0.143526\n",
              "Medium        0.125334\n",
              "Very Small    0.074078\n",
              "Name: company_size, dtype: float64"
            ]
          },
          "metadata": {
            "tags": []
          },
          "execution_count": 40
        }
      ]
    },
    {
      "cell_type": "code",
      "metadata": {
        "id": "JwZtdpNQP-cT",
        "colab_type": "code",
        "outputId": "7cc7ed36-ba23-45f9-b263-ac436e634b6b",
        "colab": {
          "base_uri": "https://localhost:8080/",
          "height": 0
        }
      },
      "source": [
        "train['company_type'].value_counts(dropna=False)/len(train)"
      ],
      "execution_count": 41,
      "outputs": [
        {
          "output_type": "execute_result",
          "data": {
            "text/plain": [
              "Pvt Ltd                0.547470\n",
              "NaN                    0.274470\n",
              "Funded Startup         0.056539\n",
              "Public Sector          0.054251\n",
              "Early Stage Startup    0.031701\n",
              "NGO                    0.029087\n",
              "Other                  0.006482\n",
              "Name: company_type, dtype: float64"
            ]
          },
          "metadata": {
            "tags": []
          },
          "execution_count": 41
        }
      ]
    },
    {
      "cell_type": "code",
      "metadata": {
        "id": "g3m0mfL6P-cX",
        "colab_type": "code",
        "colab": {}
      },
      "source": [
        "train['company_type'].fillna('Missing',inplace=True)\n",
        "test['company_type'].fillna('Missing',inplace=True)\n",
        "\n",
        "company_type_dict = {'Missing':0,'Other':1,'Public Sector':2, 'Pvt Ltd':3, 'Funded Startup':4, 'Early Stage Startup':5, 'NGO':6} \n",
        "train['company_type'] = train['company_type'].apply(lambda x: company_type_dict[x])\n",
        "test['company_type'] = test['company_type'].apply(lambda x: company_type_dict[x])"
      ],
      "execution_count": 0,
      "outputs": []
    },
    {
      "cell_type": "code",
      "metadata": {
        "id": "KH2NJyHRP-cc",
        "colab_type": "code",
        "outputId": "e90beded-3038-41a9-a970-e3b314f92a68",
        "colab": {
          "base_uri": "https://localhost:8080/",
          "height": 0
        }
      },
      "source": [
        "train['last_new_job'].value_counts(dropna=False)/len(train)"
      ],
      "execution_count": 43,
      "outputs": [
        {
          "output_type": "execute_result",
          "data": {
            "text/plain": [
              "1        0.412168\n",
              ">4       0.181873\n",
              "2        0.154420\n",
              "never    0.119070\n",
              "4        0.056539\n",
              "3        0.055940\n",
              "NaN      0.019990\n",
              "Name: last_new_job, dtype: float64"
            ]
          },
          "metadata": {
            "tags": []
          },
          "execution_count": 43
        }
      ]
    },
    {
      "cell_type": "code",
      "metadata": {
        "id": "csqWJ819P-ci",
        "colab_type": "code",
        "colab": {}
      },
      "source": [
        "def last_new_job_binning(x):\n",
        "    if x==\"never\":\n",
        "        return 0\n",
        "    elif x==\"1\":\n",
        "        return 1\n",
        "    elif x==\"2\":\n",
        "        return 2\n",
        "    elif x==\"3\":\n",
        "        return 3\n",
        "    elif x==\"4\":\n",
        "        return 4\n",
        "    elif x==\">4\":\n",
        "        return 5\n",
        "    else:\n",
        "        return \"Missing\""
      ],
      "execution_count": 0,
      "outputs": []
    },
    {
      "cell_type": "code",
      "metadata": {
        "id": "fTGAAPKEP-cq",
        "colab_type": "code",
        "colab": {}
      },
      "source": [
        "train['last_new_job'] = train['last_new_job'].apply(last_new_job_binning)\n",
        "test['last_new_job'] = test['last_new_job'].apply(last_new_job_binning)"
      ],
      "execution_count": 0,
      "outputs": []
    },
    {
      "cell_type": "code",
      "metadata": {
        "id": "4f6v0cfkP-c7",
        "colab_type": "code",
        "outputId": "61b9385f-b680-41ac-e094-f15e767a1775",
        "colab": {
          "base_uri": "https://localhost:8080/",
          "height": 0
        }
      },
      "source": [
        "(train['experience'].value_counts(dropna=False)/len(train)).sort_values(ascending=False)"
      ],
      "execution_count": 46,
      "outputs": [
        {
          "output_type": "execute_result",
          "data": {
            "text/plain": [
              ">20    0.187211\n",
              "5      0.071300\n",
              "4      0.068086\n",
              "3      0.063130\n",
              "6      0.061278\n",
              "2      0.054033\n",
              "9      0.053325\n",
              "10     0.052672\n",
              "7      0.051746\n",
              "8      0.041124\n",
              "15     0.037856\n",
              "11     0.036331\n",
              "14     0.032790\n",
              "16     0.029904\n",
              "12     0.027071\n",
              "1      0.024620\n",
              "<1     0.022659\n",
              "13     0.022441\n",
              "17     0.018901\n",
              "19     0.016777\n",
              "18     0.015578\n",
              "20     0.007953\n",
              "NaN    0.003214\n",
              "Name: experience, dtype: float64"
            ]
          },
          "metadata": {
            "tags": []
          },
          "execution_count": 46
        }
      ]
    },
    {
      "cell_type": "code",
      "metadata": {
        "id": "Pn0BrgV3MZNt",
        "colab_type": "code",
        "colab": {}
      },
      "source": [
        "train['experience'] = train['experience'].replace({\"<1\":\"0\",\">20\":\"21\"})\n",
        "train['experience'].fillna(\"0\",inplace=True)\n",
        "test['experience'] = test['experience'].replace({\"<1\":\"0\",\">20\":\"21\"})\n",
        "test['experience'].fillna(\"0\",inplace=True)"
      ],
      "execution_count": 0,
      "outputs": []
    },
    {
      "cell_type": "code",
      "metadata": {
        "id": "R9CwhTbOeRCb",
        "colab_type": "code",
        "outputId": "0ee71e6c-d75d-4de2-c691-a2b20495bb3c",
        "colab": {
          "base_uri": "https://localhost:8080/",
          "height": 0
        }
      },
      "source": [
        "train.groupby('experience')['target'].value_counts().unstack().plot(kind='bar',\n",
        "                                                                    title=\"Distribution of Target Variable by Experience\")\n",
        "plt.xlabel(\"experience\")\n",
        "plt.ylabel(\"Count\")\n",
        "plt.xticks(rotation=45)"
      ],
      "execution_count": 48,
      "outputs": [
        {
          "output_type": "execute_result",
          "data": {
            "text/plain": [
              "(array([ 0,  1,  2,  3,  4,  5,  6,  7,  8,  9, 10, 11, 12, 13, 14, 15, 16,\n",
              "        17, 18, 19, 20, 21]), <a list of 22 Text major ticklabel objects>)"
            ]
          },
          "metadata": {
            "tags": []
          },
          "execution_count": 48
        },
        {
          "output_type": "display_data",
          "data": {
            "image/png": "[encoded data removed]",
            "text/plain": [
              "<Figure size 432x288 with 1 Axes>"
            ]
          },
          "metadata": {
            "tags": []
          }
        }
      ]
    },
    {
      "cell_type": "markdown",
      "metadata": {
        "id": "3lfRqAeEeL4E",
        "colab_type": "text"
      },
      "source": [
        "- Candidates with higher experince are less likely to switch. But due to their numbers being the highest, there are more candidates who would switch and are having >20 yrs experience.\n",
        "- Candidates with 11-20 years experience are less in number and can be grouped into one category."
      ]
    },
    {
      "cell_type": "code",
      "metadata": {
        "id": "NRVbgU3sP-dE",
        "colab_type": "code",
        "colab": {}
      },
      "source": [
        "def experience_binning(x):\n",
        "    if (x==21):\n",
        "        return 4\n",
        "    elif (x>2 and x<=10):\n",
        "        return 3\n",
        "    elif (x>11 and x<=20):\n",
        "        return 2    \n",
        "    elif (x>0 and x<=2):\n",
        "        return 1\n",
        "    else:\n",
        "        return 0"
      ],
      "execution_count": 0,
      "outputs": []
    },
    {
      "cell_type": "code",
      "metadata": {
        "id": "hq7IfwdFP-dM",
        "colab_type": "code",
        "outputId": "cfc2585f-ad8a-4d75-ddb2-cce54fbf50c8",
        "colab": {
          "base_uri": "https://localhost:8080/",
          "height": 0
        }
      },
      "source": [
        "train['experience'] = train['experience'].astype(int)\n",
        "train['experience'] = train['experience'].apply(experience_binning)\n",
        "\n",
        "test['experience'] = test['experience'].astype(int)\n",
        "test['experience'] = test['experience'].apply(experience_binning)\n",
        "\n",
        "print(train['experience'].value_counts(dropna=False)/len(train))"
      ],
      "execution_count": 50,
      "outputs": [
        {
          "output_type": "stream",
          "text": [
            "3    0.462661\n",
            "2    0.209271\n",
            "4    0.187211\n",
            "1    0.078654\n",
            "0    0.062204\n",
            "Name: experience, dtype: float64\n"
          ],
          "name": "stdout"
        }
      ]
    },
    {
      "cell_type": "code",
      "metadata": {
        "id": "Au54BqZfOWxF",
        "colab_type": "code",
        "outputId": "b1a3ae06-3602-4190-c7ff-47571e3e3885",
        "colab": {
          "base_uri": "https://localhost:8080/",
          "height": 0
        }
      },
      "source": [
        "train.groupby('experience')['target'].value_counts().unstack().plot(kind='bar',\n",
        "                                                                    title=\"Distribution of Target Variable by Experience\")\n",
        "plt.xlabel(\"experience\")\n",
        "plt.ylabel(\"Count\")\n",
        "plt.xticks(rotation=45)"
      ],
      "execution_count": 51,
      "outputs": [
        {
          "output_type": "execute_result",
          "data": {
            "text/plain": [
              "(array([0, 1, 2, 3, 4]), <a list of 5 Text major ticklabel objects>)"
            ]
          },
          "metadata": {
            "tags": []
          },
          "execution_count": 51
        },
        {
          "output_type": "display_data",
          "data": {
            "image/png": "[encoded data removed]",
            "text/plain": [
              "<Figure size 432x288 with 1 Axes>"
            ]
          },
          "metadata": {
            "tags": []
          }
        }
      ]
    },
    {
      "cell_type": "markdown",
      "metadata": {
        "id": "AeCfys3ywc95",
        "colab_type": "text"
      },
      "source": [
        "### Correlation plot"
      ]
    },
    {
      "cell_type": "code",
      "metadata": {
        "id": "SZiquuC6wamO",
        "colab_type": "code",
        "outputId": "7cf38c60-7911-4e49-8cc4-367efb30f5c8",
        "colab": {
          "base_uri": "https://localhost:8080/",
          "height": 0
        }
      },
      "source": [
        "corr_matrix = train.corr()\n",
        "plt.figure(figsize=(12,10))\n",
        "sns.heatmap(corr_matrix,\n",
        "                square=True,cmap='PuBuGn',\n",
        "            xticklabels=train.columns,\n",
        "            yticklabels=train.columns, annot=True)"
      ],
      "execution_count": 52,
      "outputs": [
        {
          "output_type": "execute_result",
          "data": {
            "text/plain": [
              "<matplotlib.axes._subplots.AxesSubplot at 0x7fe21dd1f978>"
            ]
          },
          "metadata": {
            "tags": []
          },
          "execution_count": 52
        },
        {
          "output_type": "display_data",
          "data": {
            "image/png": "[encoded data removed]",
            "text/plain": [
              "<Figure size 864x720 with 2 Axes>"
            ]
          },
          "metadata": {
            "tags": []
          }
        }
      ]
    },
    {
      "cell_type": "markdown",
      "metadata": {
        "id": "CknwFQ4ZdfoG",
        "colab_type": "text"
      },
      "source": [
        "## Model Building"
      ]
    },
    {
      "cell_type": "markdown",
      "metadata": {
        "id": "xHQoX7J4dfIm",
        "colab_type": "text"
      },
      "source": [
        "We build a model on inital dataset with cleaning up of missing values."
      ]
    },
    {
      "cell_type": "code",
      "metadata": {
        "id": "x7H7vxVarSEr",
        "colab_type": "code",
        "outputId": "ab97d94d-7099-4076-ceaf-ba9b05003e45",
        "colab": {
          "base_uri": "https://localhost:8080/",
          "height": 1000
        }
      },
      "source": [
        "pip install pycaret"
      ],
      "execution_count": 53,
      "outputs": [
        {
          "output_type": "stream",
          "text": [
            "Requirement already satisfied: pycaret in /usr/local/lib/python3.6/dist-packages (1.0.0)\n",
            "Requirement already satisfied: lightgbm==2.3.1 in /usr/local/lib/python3.6/dist-packages (from pycaret) (2.3.1)\n",
            "Requirement already satisfied: pyod in /usr/local/lib/python3.6/dist-packages (from pycaret) (0.8.0)\n",
            "Requirement already satisfied: matplotlib in /usr/local/lib/python3.6/dist-packages (from pycaret) (3.2.1)\n",
            "Requirement already satisfied: nltk in /usr/local/lib/python3.6/dist-packages (from pycaret) (3.2.5)\n",
            "Requirement already satisfied: cufflinks==0.17.0 in /usr/local/lib/python3.6/dist-packages (from pycaret) (0.17.0)\n",
            "Requirement already satisfied: datefinder==0.7.0 in /usr/local/lib/python3.6/dist-packages (from pycaret) (0.7.0)\n",
            "Requirement already satisfied: textblob in /usr/local/lib/python3.6/dist-packages (from pycaret) (0.15.3)\n",
            "Requirement already satisfied: catboost==0.20.2 in /usr/local/lib/python3.6/dist-packages (from pycaret) (0.20.2)\n",
            "Requirement already satisfied: pyLDAvis in /usr/local/lib/python3.6/dist-packages (from pycaret) (2.1.2)\n",
            "Requirement already satisfied: pandas-profiling==2.3.0 in /usr/local/lib/python3.6/dist-packages (from pycaret) (2.3.0)\n",
            "Requirement already satisfied: numpy in /usr/local/lib/python3.6/dist-packages (from pycaret) (1.18.5)\n",
            "Requirement already satisfied: datetime in /usr/local/lib/python3.6/dist-packages (from pycaret) (4.3)\n",
            "Requirement already satisfied: pandas in /usr/local/lib/python3.6/dist-packages (from pycaret) (1.0.4)\n",
            "Requirement already satisfied: wordcloud in /usr/local/lib/python3.6/dist-packages (from pycaret) (1.5.0)\n",
            "Requirement already satisfied: shap==0.32.1 in /usr/local/lib/python3.6/dist-packages (from pycaret) (0.32.1)\n",
            "Requirement already satisfied: awscli in /usr/local/lib/python3.6/dist-packages (from pycaret) (1.18.75)\n",
            "Requirement already satisfied: umap-learn in /usr/local/lib/python3.6/dist-packages (from pycaret) (0.4.4)\n",
            "Requirement already satisfied: plotly==4.4.1 in /usr/local/lib/python3.6/dist-packages (from pycaret) (4.4.1)\n",
            "Requirement already satisfied: joblib in /usr/local/lib/python3.6/dist-packages (from pycaret) (0.15.1)\n",
            "Requirement already satisfied: seaborn in /usr/local/lib/python3.6/dist-packages (from pycaret) (0.10.1)\n",
            "Requirement already satisfied: kmodes==0.10.1 in /usr/local/lib/python3.6/dist-packages (from pycaret) (0.10.1)\n",
            "Requirement already satisfied: gensim in /usr/local/lib/python3.6/dist-packages (from pycaret) (3.6.0)\n",
            "Requirement already satisfied: scikit-learn==0.22 in /usr/local/lib/python3.6/dist-packages (from pycaret) (0.22)\n",
            "Requirement already satisfied: xgboost==0.90 in /usr/local/lib/python3.6/dist-packages (from pycaret) (0.90)\n",
            "Requirement already satisfied: yellowbrick==1.0.1 in /usr/local/lib/python3.6/dist-packages (from pycaret) (1.0.1)\n",
            "Requirement already satisfied: spacy in /usr/local/lib/python3.6/dist-packages (from pycaret) (2.2.4)\n",
            "Requirement already satisfied: mlxtend in /usr/local/lib/python3.6/dist-packages (from pycaret) (0.14.0)\n",
            "Requirement already satisfied: ipywidgets in /usr/local/lib/python3.6/dist-packages (from pycaret) (7.5.1)\n",
            "Requirement already satisfied: IPython in /usr/local/lib/python3.6/dist-packages (from pycaret) (5.5.0)\n",
            "Requirement already satisfied: scipy in /usr/local/lib/python3.6/dist-packages (from lightgbm==2.3.1->pycaret) (1.4.1)\n",
            "Requirement already satisfied: numba>=0.35 in /usr/local/lib/python3.6/dist-packages (from pyod->pycaret) (0.48.0)\n",
            "Requirement already satisfied: six in /usr/local/lib/python3.6/dist-packages (from pyod->pycaret) (1.12.0)\n",
            "Requirement already satisfied: suod in /usr/local/lib/python3.6/dist-packages (from pyod->pycaret) (0.0.4)\n",
            "Requirement already satisfied: combo in /usr/local/lib/python3.6/dist-packages (from pyod->pycaret) (0.1.0)\n",
            "Requirement already satisfied: kiwisolver>=1.0.1 in /usr/local/lib/python3.6/dist-packages (from matplotlib->pycaret) (1.2.0)\n",
            "Requirement already satisfied: cycler>=0.10 in /usr/local/lib/python3.6/dist-packages (from matplotlib->pycaret) (0.10.0)\n",
            "Requirement already satisfied: pyparsing!=2.0.4,!=2.1.2,!=2.1.6,>=2.0.1 in /usr/local/lib/python3.6/dist-packages (from matplotlib->pycaret) (2.4.7)\n",
            "Requirement already satisfied: python-dateutil>=2.1 in /usr/local/lib/python3.6/dist-packages (from matplotlib->pycaret) (2.8.1)\n",
            "Requirement already satisfied: chart-studio>=1.0.0 in /usr/local/lib/python3.6/dist-packages (from cufflinks==0.17.0->pycaret) (1.1.0)\n",
            "Requirement already satisfied: colorlover>=0.2.1 in /usr/local/lib/python3.6/dist-packages (from cufflinks==0.17.0->pycaret) (0.3.0)\n",
            "Requirement already satisfied: setuptools>=34.4.1 in /usr/local/lib/python3.6/dist-packages (from cufflinks==0.17.0->pycaret) (47.1.1)\n",
            "Requirement already satisfied: regex>=2017.02.08 in /usr/local/lib/python3.6/dist-packages (from datefinder==0.7.0->pycaret) (2019.12.20)\n",
            "Requirement already satisfied: pytz in /usr/local/lib/python3.6/dist-packages (from datefinder==0.7.0->pycaret) (2018.9)\n",
            "Requirement already satisfied: graphviz in /usr/local/lib/python3.6/dist-packages (from catboost==0.20.2->pycaret) (0.10.1)\n",
            "Requirement already satisfied: funcy in /usr/local/lib/python3.6/dist-packages (from pyLDAvis->pycaret) (1.14)\n",
            "Requirement already satisfied: pytest in /usr/local/lib/python3.6/dist-packages (from pyLDAvis->pycaret) (3.6.4)\n",
            "Requirement already satisfied: jinja2>=2.7.2 in /usr/local/lib/python3.6/dist-packages (from pyLDAvis->pycaret) (2.11.2)\n",
            "Requirement already satisfied: wheel>=0.23.0 in /usr/local/lib/python3.6/dist-packages (from pyLDAvis->pycaret) (0.34.2)\n",
            "Requirement already satisfied: numexpr in /usr/local/lib/python3.6/dist-packages (from pyLDAvis->pycaret) (2.7.1)\n",
            "Requirement already satisfied: future in /usr/local/lib/python3.6/dist-packages (from pyLDAvis->pycaret) (0.16.0)\n",
            "Requirement already satisfied: htmlmin>=0.1.12 in /usr/local/lib/python3.6/dist-packages (from pandas-profiling==2.3.0->pycaret) (0.1.12)\n",
            "Requirement already satisfied: missingno>=0.4.2 in /usr/local/lib/python3.6/dist-packages (from pandas-profiling==2.3.0->pycaret) (0.4.2)\n",
            "Requirement already satisfied: confuse>=1.0.0 in /usr/local/lib/python3.6/dist-packages (from pandas-profiling==2.3.0->pycaret) (1.1.0)\n",
            "Requirement already satisfied: astropy in /usr/local/lib/python3.6/dist-packages (from pandas-profiling==2.3.0->pycaret) (4.0.1.post1)\n",
            "Requirement already satisfied: phik>=0.9.8 in /usr/local/lib/python3.6/dist-packages (from pandas-profiling==2.3.0->pycaret) (0.10.0)\n",
            "Requirement already satisfied: zope.interface in /usr/local/lib/python3.6/dist-packages (from datetime->pycaret) (5.1.0)\n",
            "Requirement already satisfied: pillow in /usr/local/lib/python3.6/dist-packages (from wordcloud->pycaret) (7.0.0)\n",
            "Requirement already satisfied: tqdm>4.25.0 in /usr/local/lib/python3.6/dist-packages (from shap==0.32.1->pycaret) (4.41.1)\n",
            "Requirement already satisfied: botocore==1.16.25 in /usr/local/lib/python3.6/dist-packages (from awscli->pycaret) (1.16.25)\n",
            "Requirement already satisfied: docutils<0.16,>=0.10 in /usr/local/lib/python3.6/dist-packages (from awscli->pycaret) (0.15.2)\n",
            "Requirement already satisfied: colorama<0.4.4,>=0.2.5 in /usr/local/lib/python3.6/dist-packages (from awscli->pycaret) (0.4.3)\n",
            "Requirement already satisfied: PyYAML<5.4,>=3.10 in /usr/local/lib/python3.6/dist-packages (from awscli->pycaret) (3.13)\n",
            "Requirement already satisfied: s3transfer<0.4.0,>=0.3.0 in /usr/local/lib/python3.6/dist-packages (from awscli->pycaret) (0.3.3)\n",
            "Requirement already satisfied: rsa<=3.5.0,>=3.1.2 in /usr/local/lib/python3.6/dist-packages (from awscli->pycaret) (3.4.2)\n",
            "Requirement already satisfied: tbb in /usr/local/lib/python3.6/dist-packages (from umap-learn->pycaret) (2020.0.133)\n",
            "Requirement already satisfied: retrying>=1.3.3 in /usr/local/lib/python3.6/dist-packages (from plotly==4.4.1->pycaret) (1.3.3)\n",
            "Requirement already satisfied: smart-open>=1.2.1 in /usr/local/lib/python3.6/dist-packages (from gensim->pycaret) (2.0.0)\n",
            "Requirement already satisfied: requests<3.0.0,>=2.13.0 in /usr/local/lib/python3.6/dist-packages (from spacy->pycaret) (2.23.0)\n",
            "Requirement already satisfied: thinc==7.4.0 in /usr/local/lib/python3.6/dist-packages (from spacy->pycaret) (7.4.0)\n",
            "Requirement already satisfied: cymem<2.1.0,>=2.0.2 in /usr/local/lib/python3.6/dist-packages (from spacy->pycaret) (2.0.3)\n",
            "Requirement already satisfied: catalogue<1.1.0,>=0.0.7 in /usr/local/lib/python3.6/dist-packages (from spacy->pycaret) (1.0.0)\n",
            "Requirement already satisfied: plac<1.2.0,>=0.9.6 in /usr/local/lib/python3.6/dist-packages (from spacy->pycaret) (1.1.3)\n",
            "Requirement already satisfied: murmurhash<1.1.0,>=0.28.0 in /usr/local/lib/python3.6/dist-packages (from spacy->pycaret) (1.0.2)\n",
            "Requirement already satisfied: srsly<1.1.0,>=1.0.2 in /usr/local/lib/python3.6/dist-packages (from spacy->pycaret) (1.0.2)\n",
            "Requirement already satisfied: wasabi<1.1.0,>=0.4.0 in /usr/local/lib/python3.6/dist-packages (from spacy->pycaret) (0.6.0)\n",
            "Requirement already satisfied: preshed<3.1.0,>=3.0.2 in /usr/local/lib/python3.6/dist-packages (from spacy->pycaret) (3.0.2)\n",
            "Requirement already satisfied: blis<0.5.0,>=0.4.0 in /usr/local/lib/python3.6/dist-packages (from spacy->pycaret) (0.4.1)\n",
            "Requirement already satisfied: ipykernel>=4.5.1 in /usr/local/lib/python3.6/dist-packages (from ipywidgets->pycaret) (4.10.1)\n",
            "Requirement already satisfied: widgetsnbextension~=3.5.0 in /usr/local/lib/python3.6/dist-packages (from ipywidgets->pycaret) (3.5.1)\n",
            "Requirement already satisfied: traitlets>=4.3.1 in /usr/local/lib/python3.6/dist-packages (from ipywidgets->pycaret) (4.3.3)\n",
            "Requirement already satisfied: nbformat>=4.2.0 in /usr/local/lib/python3.6/dist-packages (from ipywidgets->pycaret) (5.0.6)\n",
            "Requirement already satisfied: pickleshare in /usr/local/lib/python3.6/dist-packages (from IPython->pycaret) (0.7.5)\n",
            "Requirement already satisfied: prompt-toolkit<2.0.0,>=1.0.4 in /usr/local/lib/python3.6/dist-packages (from IPython->pycaret) (1.0.18)\n",
            "Requirement already satisfied: decorator in /usr/local/lib/python3.6/dist-packages (from IPython->pycaret) (4.4.2)\n",
            "Requirement already satisfied: pygments in /usr/local/lib/python3.6/dist-packages (from IPython->pycaret) (2.1.3)\n",
            "Requirement already satisfied: pexpect; sys_platform != \"win32\" in /usr/local/lib/python3.6/dist-packages (from IPython->pycaret) (4.8.0)\n",
            "Requirement already satisfied: simplegeneric>0.8 in /usr/local/lib/python3.6/dist-packages (from IPython->pycaret) (0.8.1)\n",
            "Requirement already satisfied: llvmlite<0.32.0,>=0.31.0dev0 in /usr/local/lib/python3.6/dist-packages (from numba>=0.35->pyod->pycaret) (0.31.0)\n",
            "Requirement already satisfied: py>=1.5.0 in /usr/local/lib/python3.6/dist-packages (from pytest->pyLDAvis->pycaret) (1.8.1)\n",
            "Requirement already satisfied: more-itertools>=4.0.0 in /usr/local/lib/python3.6/dist-packages (from pytest->pyLDAvis->pycaret) (8.3.0)\n",
            "Requirement already satisfied: pluggy<0.8,>=0.5 in /usr/local/lib/python3.6/dist-packages (from pytest->pyLDAvis->pycaret) (0.7.1)\n",
            "Requirement already satisfied: atomicwrites>=1.0 in /usr/local/lib/python3.6/dist-packages (from pytest->pyLDAvis->pycaret) (1.4.0)\n",
            "Requirement already satisfied: attrs>=17.4.0 in /usr/local/lib/python3.6/dist-packages (from pytest->pyLDAvis->pycaret) (19.3.0)\n",
            "Requirement already satisfied: MarkupSafe>=0.23 in /usr/local/lib/python3.6/dist-packages (from jinja2>=2.7.2->pyLDAvis->pycaret) (1.1.1)\n",
            "Requirement already satisfied: urllib3<1.26,>=1.20; python_version != \"3.4\" in /usr/local/lib/python3.6/dist-packages (from botocore==1.16.25->awscli->pycaret) (1.24.3)\n",
            "Requirement already satisfied: jmespath<1.0.0,>=0.7.1 in /usr/local/lib/python3.6/dist-packages (from botocore==1.16.25->awscli->pycaret) (0.10.0)\n",
            "Requirement already satisfied: pyasn1>=0.1.3 in /usr/local/lib/python3.6/dist-packages (from rsa<=3.5.0,>=3.1.2->awscli->pycaret) (0.4.8)\n",
            "Requirement already satisfied: boto in /usr/local/lib/python3.6/dist-packages (from smart-open>=1.2.1->gensim->pycaret) (2.49.0)\n",
            "Requirement already satisfied: boto3 in /usr/local/lib/python3.6/dist-packages (from smart-open>=1.2.1->gensim->pycaret) (1.13.23)\n",
            "Requirement already satisfied: idna<3,>=2.5 in /usr/local/lib/python3.6/dist-packages (from requests<3.0.0,>=2.13.0->spacy->pycaret) (2.9)\n",
            "Requirement already satisfied: chardet<4,>=3.0.2 in /usr/local/lib/python3.6/dist-packages (from requests<3.0.0,>=2.13.0->spacy->pycaret) (3.0.4)\n",
            "Requirement already satisfied: certifi>=2017.4.17 in /usr/local/lib/python3.6/dist-packages (from requests<3.0.0,>=2.13.0->spacy->pycaret) (2020.4.5.1)\n",
            "Requirement already satisfied: importlib-metadata>=0.20; python_version < \"3.8\" in /usr/local/lib/python3.6/dist-packages (from catalogue<1.1.0,>=0.0.7->spacy->pycaret) (1.6.0)\n",
            "Requirement already satisfied: tornado>=4.0 in /usr/local/lib/python3.6/dist-packages (from ipykernel>=4.5.1->ipywidgets->pycaret) (4.5.3)\n",
            "Requirement already satisfied: jupyter-client in /usr/local/lib/python3.6/dist-packages (from ipykernel>=4.5.1->ipywidgets->pycaret) (5.3.4)\n",
            "Requirement already satisfied: notebook>=4.4.1 in /usr/local/lib/python3.6/dist-packages (from widgetsnbextension~=3.5.0->ipywidgets->pycaret) (5.2.2)\n",
            "Requirement already satisfied: ipython-genutils in /usr/local/lib/python3.6/dist-packages (from traitlets>=4.3.1->ipywidgets->pycaret) (0.2.0)\n",
            "Requirement already satisfied: jupyter-core in /usr/local/lib/python3.6/dist-packages (from nbformat>=4.2.0->ipywidgets->pycaret) (4.6.3)\n",
            "Requirement already satisfied: jsonschema!=2.5.0,>=2.4 in /usr/local/lib/python3.6/dist-packages (from nbformat>=4.2.0->ipywidgets->pycaret) (2.6.0)\n",
            "Requirement already satisfied: wcwidth in /usr/local/lib/python3.6/dist-packages (from prompt-toolkit<2.0.0,>=1.0.4->IPython->pycaret) (0.2.3)\n",
            "Requirement already satisfied: ptyprocess>=0.5 in /usr/local/lib/python3.6/dist-packages (from pexpect; sys_platform != \"win32\"->IPython->pycaret) (0.6.0)\n",
            "Requirement already satisfied: zipp>=0.5 in /usr/local/lib/python3.6/dist-packages (from importlib-metadata>=0.20; python_version < \"3.8\"->catalogue<1.1.0,>=0.0.7->spacy->pycaret) (3.1.0)\n",
            "Requirement already satisfied: pyzmq>=13 in /usr/local/lib/python3.6/dist-packages (from jupyter-client->ipykernel>=4.5.1->ipywidgets->pycaret) (19.0.1)\n",
            "Requirement already satisfied: nbconvert in /usr/local/lib/python3.6/dist-packages (from notebook>=4.4.1->widgetsnbextension~=3.5.0->ipywidgets->pycaret) (5.6.1)\n",
            "Requirement already satisfied: terminado>=0.3.3; sys_platform != \"win32\" in /usr/local/lib/python3.6/dist-packages (from notebook>=4.4.1->widgetsnbextension~=3.5.0->ipywidgets->pycaret) (0.8.3)\n",
            "Requirement already satisfied: defusedxml in /usr/local/lib/python3.6/dist-packages (from nbconvert->notebook>=4.4.1->widgetsnbextension~=3.5.0->ipywidgets->pycaret) (0.6.0)\n",
            "Requirement already satisfied: entrypoints>=0.2.2 in /usr/local/lib/python3.6/dist-packages (from nbconvert->notebook>=4.4.1->widgetsnbextension~=3.5.0->ipywidgets->pycaret) (0.3)\n",
            "Requirement already satisfied: testpath in /usr/local/lib/python3.6/dist-packages (from nbconvert->notebook>=4.4.1->widgetsnbextension~=3.5.0->ipywidgets->pycaret) (0.4.4)\n",
            "Requirement already satisfied: bleach in /usr/local/lib/python3.6/dist-packages (from nbconvert->notebook>=4.4.1->widgetsnbextension~=3.5.0->ipywidgets->pycaret) (3.1.5)\n",
            "Requirement already satisfied: pandocfilters>=1.4.1 in /usr/local/lib/python3.6/dist-packages (from nbconvert->notebook>=4.4.1->widgetsnbextension~=3.5.0->ipywidgets->pycaret) (1.4.2)\n",
            "Requirement already satisfied: mistune<2,>=0.8.1 in /usr/local/lib/python3.6/dist-packages (from nbconvert->notebook>=4.4.1->widgetsnbextension~=3.5.0->ipywidgets->pycaret) (0.8.4)\n",
            "Requirement already satisfied: packaging in /usr/local/lib/python3.6/dist-packages (from bleach->nbconvert->notebook>=4.4.1->widgetsnbextension~=3.5.0->ipywidgets->pycaret) (20.4)\n",
            "Requirement already satisfied: webencodings in /usr/local/lib/python3.6/dist-packages (from bleach->nbconvert->notebook>=4.4.1->widgetsnbextension~=3.5.0->ipywidgets->pycaret) (0.5.1)\n"
          ],
          "name": "stdout"
        }
      ]
    },
    {
      "cell_type": "code",
      "metadata": {
        "id": "Y71EzfNngwIA",
        "colab_type": "code",
        "outputId": "d1346b0e-bcfb-4fb4-d4a0-ae61adb10242",
        "colab": {
          "base_uri": "https://localhost:8080/",
          "height": 943,
          "referenced_widgets": [
            "aa6662eb514e49f9ba6d450c7b0fbfc5",
            "c067a6e95e0f4e2b91ac985cc1e0c5cb",
            "edae6bcdbd1a4f6286f0a56434db943e",
            "8df6ac8171be47d19fab4457b7c775ad",
            "7bb95d97ae7f4bd0b87468fff7e2c542",
            "1b3b92399a474c838d189a9f6855e79c"
          ]
        }
      },
      "source": [
        "from pycaret.classification import *\n",
        "#intialize the setup\n",
        "emp_clf1 = setup(data = train, target = 'target', high_cardinality_features = ['city'])"
      ],
      "execution_count": 54,
      "outputs": [
        {
          "output_type": "stream",
          "text": [
            " \n",
            "Setup Succesfully Completed!\n"
          ],
          "name": "stdout"
        },
        {
          "output_type": "display_data",
          "data": {
            "text/html": [
              "<style  type=\"text/css\" >\n",
              "    #T_9c2a1ebc_aa81_11ea_a931_0242ac1c0002row8_col1 {\n",
              "            background-color:  lightgreen;\n",
              "        }</style><table id=\"T_9c2a1ebc_aa81_11ea_a931_0242ac1c0002\" ><thead>    <tr>        <th class=\"blank level0\" ></th>        <th class=\"col_heading level0 col0\" >Description</th>        <th class=\"col_heading level0 col1\" >Value</th>    </tr></thead><tbody>\n",
              "                <tr>\n",
              "                        <th id=\"T_9c2a1ebc_aa81_11ea_a931_0242ac1c0002level0_row0\" class=\"row_heading level0 row0\" >0</th>\n",
              "                        <td id=\"T_9c2a1ebc_aa81_11ea_a931_0242ac1c0002row0_col0\" class=\"data row0 col0\" >session_id</td>\n",
              "                        <td id=\"T_9c2a1ebc_aa81_11ea_a931_0242ac1c0002row0_col1\" class=\"data row0 col1\" >6406</td>\n",
              "            </tr>\n",
              "            <tr>\n",
              "                        <th id=\"T_9c2a1ebc_aa81_11ea_a931_0242ac1c0002level0_row1\" class=\"row_heading level0 row1\" >1</th>\n",
              "                        <td id=\"T_9c2a1ebc_aa81_11ea_a931_0242ac1c0002row1_col0\" class=\"data row1 col0\" >Target Type</td>\n",
              "                        <td id=\"T_9c2a1ebc_aa81_11ea_a931_0242ac1c0002row1_col1\" class=\"data row1 col1\" >Binary</td>\n",
              "            </tr>\n",
              "            <tr>\n",
              "                        <th id=\"T_9c2a1ebc_aa81_11ea_a931_0242ac1c0002level0_row2\" class=\"row_heading level0 row2\" >2</th>\n",
              "                        <td id=\"T_9c2a1ebc_aa81_11ea_a931_0242ac1c0002row2_col0\" class=\"data row2 col0\" >Label Encoded</td>\n",
              "                        <td id=\"T_9c2a1ebc_aa81_11ea_a931_0242ac1c0002row2_col1\" class=\"data row2 col1\" >None</td>\n",
              "            </tr>\n",
              "            <tr>\n",
              "                        <th id=\"T_9c2a1ebc_aa81_11ea_a931_0242ac1c0002level0_row3\" class=\"row_heading level0 row3\" >3</th>\n",
              "                        <td id=\"T_9c2a1ebc_aa81_11ea_a931_0242ac1c0002row3_col0\" class=\"data row3 col0\" >Original Data</td>\n",
              "                        <td id=\"T_9c2a1ebc_aa81_11ea_a931_0242ac1c0002row3_col1\" class=\"data row3 col1\" >(18359, 14)</td>\n",
              "            </tr>\n",
              "            <tr>\n",
              "                        <th id=\"T_9c2a1ebc_aa81_11ea_a931_0242ac1c0002level0_row4\" class=\"row_heading level0 row4\" >4</th>\n",
              "                        <td id=\"T_9c2a1ebc_aa81_11ea_a931_0242ac1c0002row4_col0\" class=\"data row4 col0\" >Missing Values </td>\n",
              "                        <td id=\"T_9c2a1ebc_aa81_11ea_a931_0242ac1c0002row4_col1\" class=\"data row4 col1\" >False</td>\n",
              "            </tr>\n",
              "            <tr>\n",
              "                        <th id=\"T_9c2a1ebc_aa81_11ea_a931_0242ac1c0002level0_row5\" class=\"row_heading level0 row5\" >5</th>\n",
              "                        <td id=\"T_9c2a1ebc_aa81_11ea_a931_0242ac1c0002row5_col0\" class=\"data row5 col0\" >Numeric Features </td>\n",
              "                        <td id=\"T_9c2a1ebc_aa81_11ea_a931_0242ac1c0002row5_col1\" class=\"data row5 col1\" >3</td>\n",
              "            </tr>\n",
              "            <tr>\n",
              "                        <th id=\"T_9c2a1ebc_aa81_11ea_a931_0242ac1c0002level0_row6\" class=\"row_heading level0 row6\" >6</th>\n",
              "                        <td id=\"T_9c2a1ebc_aa81_11ea_a931_0242ac1c0002row6_col0\" class=\"data row6 col0\" >Categorical Features </td>\n",
              "                        <td id=\"T_9c2a1ebc_aa81_11ea_a931_0242ac1c0002row6_col1\" class=\"data row6 col1\" >10</td>\n",
              "            </tr>\n",
              "            <tr>\n",
              "                        <th id=\"T_9c2a1ebc_aa81_11ea_a931_0242ac1c0002level0_row7\" class=\"row_heading level0 row7\" >7</th>\n",
              "                        <td id=\"T_9c2a1ebc_aa81_11ea_a931_0242ac1c0002row7_col0\" class=\"data row7 col0\" >Ordinal Features </td>\n",
              "                        <td id=\"T_9c2a1ebc_aa81_11ea_a931_0242ac1c0002row7_col1\" class=\"data row7 col1\" >False</td>\n",
              "            </tr>\n",
              "            <tr>\n",
              "                        <th id=\"T_9c2a1ebc_aa81_11ea_a931_0242ac1c0002level0_row8\" class=\"row_heading level0 row8\" >8</th>\n",
              "                        <td id=\"T_9c2a1ebc_aa81_11ea_a931_0242ac1c0002row8_col0\" class=\"data row8 col0\" >High Cardinality Features </td>\n",
              "                        <td id=\"T_9c2a1ebc_aa81_11ea_a931_0242ac1c0002row8_col1\" class=\"data row8 col1\" >True</td>\n",
              "            </tr>\n",
              "            <tr>\n",
              "                        <th id=\"T_9c2a1ebc_aa81_11ea_a931_0242ac1c0002level0_row9\" class=\"row_heading level0 row9\" >9</th>\n",
              "                        <td id=\"T_9c2a1ebc_aa81_11ea_a931_0242ac1c0002row9_col0\" class=\"data row9 col0\" >High Cardinality Method </td>\n",
              "                        <td id=\"T_9c2a1ebc_aa81_11ea_a931_0242ac1c0002row9_col1\" class=\"data row9 col1\" >frequency</td>\n",
              "            </tr>\n",
              "            <tr>\n",
              "                        <th id=\"T_9c2a1ebc_aa81_11ea_a931_0242ac1c0002level0_row10\" class=\"row_heading level0 row10\" >10</th>\n",
              "                        <td id=\"T_9c2a1ebc_aa81_11ea_a931_0242ac1c0002row10_col0\" class=\"data row10 col0\" >Sampled Data</td>\n",
              "                        <td id=\"T_9c2a1ebc_aa81_11ea_a931_0242ac1c0002row10_col1\" class=\"data row10 col1\" >(18359, 14)</td>\n",
              "            </tr>\n",
              "            <tr>\n",
              "                        <th id=\"T_9c2a1ebc_aa81_11ea_a931_0242ac1c0002level0_row11\" class=\"row_heading level0 row11\" >11</th>\n",
              "                        <td id=\"T_9c2a1ebc_aa81_11ea_a931_0242ac1c0002row11_col0\" class=\"data row11 col0\" >Transformed Train Set</td>\n",
              "                        <td id=\"T_9c2a1ebc_aa81_11ea_a931_0242ac1c0002row11_col1\" class=\"data row11 col1\" >(12851, 49)</td>\n",
              "            </tr>\n",
              "            <tr>\n",
              "                        <th id=\"T_9c2a1ebc_aa81_11ea_a931_0242ac1c0002level0_row12\" class=\"row_heading level0 row12\" >12</th>\n",
              "                        <td id=\"T_9c2a1ebc_aa81_11ea_a931_0242ac1c0002row12_col0\" class=\"data row12 col0\" >Transformed Test Set</td>\n",
              "                        <td id=\"T_9c2a1ebc_aa81_11ea_a931_0242ac1c0002row12_col1\" class=\"data row12 col1\" >(5508, 49)</td>\n",
              "            </tr>\n",
              "            <tr>\n",
              "                        <th id=\"T_9c2a1ebc_aa81_11ea_a931_0242ac1c0002level0_row13\" class=\"row_heading level0 row13\" >13</th>\n",
              "                        <td id=\"T_9c2a1ebc_aa81_11ea_a931_0242ac1c0002row13_col0\" class=\"data row13 col0\" >Numeric Imputer </td>\n",
              "                        <td id=\"T_9c2a1ebc_aa81_11ea_a931_0242ac1c0002row13_col1\" class=\"data row13 col1\" >mean</td>\n",
              "            </tr>\n",
              "            <tr>\n",
              "                        <th id=\"T_9c2a1ebc_aa81_11ea_a931_0242ac1c0002level0_row14\" class=\"row_heading level0 row14\" >14</th>\n",
              "                        <td id=\"T_9c2a1ebc_aa81_11ea_a931_0242ac1c0002row14_col0\" class=\"data row14 col0\" >Categorical Imputer </td>\n",
              "                        <td id=\"T_9c2a1ebc_aa81_11ea_a931_0242ac1c0002row14_col1\" class=\"data row14 col1\" >constant</td>\n",
              "            </tr>\n",
              "            <tr>\n",
              "                        <th id=\"T_9c2a1ebc_aa81_11ea_a931_0242ac1c0002level0_row15\" class=\"row_heading level0 row15\" >15</th>\n",
              "                        <td id=\"T_9c2a1ebc_aa81_11ea_a931_0242ac1c0002row15_col0\" class=\"data row15 col0\" >Normalize </td>\n",
              "                        <td id=\"T_9c2a1ebc_aa81_11ea_a931_0242ac1c0002row15_col1\" class=\"data row15 col1\" >False</td>\n",
              "            </tr>\n",
              "            <tr>\n",
              "                        <th id=\"T_9c2a1ebc_aa81_11ea_a931_0242ac1c0002level0_row16\" class=\"row_heading level0 row16\" >16</th>\n",
              "                        <td id=\"T_9c2a1ebc_aa81_11ea_a931_0242ac1c0002row16_col0\" class=\"data row16 col0\" >Normalize Method </td>\n",
              "                        <td id=\"T_9c2a1ebc_aa81_11ea_a931_0242ac1c0002row16_col1\" class=\"data row16 col1\" >None</td>\n",
              "            </tr>\n",
              "            <tr>\n",
              "                        <th id=\"T_9c2a1ebc_aa81_11ea_a931_0242ac1c0002level0_row17\" class=\"row_heading level0 row17\" >17</th>\n",
              "                        <td id=\"T_9c2a1ebc_aa81_11ea_a931_0242ac1c0002row17_col0\" class=\"data row17 col0\" >Transformation </td>\n",
              "                        <td id=\"T_9c2a1ebc_aa81_11ea_a931_0242ac1c0002row17_col1\" class=\"data row17 col1\" >False</td>\n",
              "            </tr>\n",
              "            <tr>\n",
              "                        <th id=\"T_9c2a1ebc_aa81_11ea_a931_0242ac1c0002level0_row18\" class=\"row_heading level0 row18\" >18</th>\n",
              "                        <td id=\"T_9c2a1ebc_aa81_11ea_a931_0242ac1c0002row18_col0\" class=\"data row18 col0\" >Transformation Method </td>\n",
              "                        <td id=\"T_9c2a1ebc_aa81_11ea_a931_0242ac1c0002row18_col1\" class=\"data row18 col1\" >None</td>\n",
              "            </tr>\n",
              "            <tr>\n",
              "                        <th id=\"T_9c2a1ebc_aa81_11ea_a931_0242ac1c0002level0_row19\" class=\"row_heading level0 row19\" >19</th>\n",
              "                        <td id=\"T_9c2a1ebc_aa81_11ea_a931_0242ac1c0002row19_col0\" class=\"data row19 col0\" >PCA </td>\n",
              "                        <td id=\"T_9c2a1ebc_aa81_11ea_a931_0242ac1c0002row19_col1\" class=\"data row19 col1\" >False</td>\n",
              "            </tr>\n",
              "            <tr>\n",
              "                        <th id=\"T_9c2a1ebc_aa81_11ea_a931_0242ac1c0002level0_row20\" class=\"row_heading level0 row20\" >20</th>\n",
              "                        <td id=\"T_9c2a1ebc_aa81_11ea_a931_0242ac1c0002row20_col0\" class=\"data row20 col0\" >PCA Method </td>\n",
              "                        <td id=\"T_9c2a1ebc_aa81_11ea_a931_0242ac1c0002row20_col1\" class=\"data row20 col1\" >None</td>\n",
              "            </tr>\n",
              "            <tr>\n",
              "                        <th id=\"T_9c2a1ebc_aa81_11ea_a931_0242ac1c0002level0_row21\" class=\"row_heading level0 row21\" >21</th>\n",
              "                        <td id=\"T_9c2a1ebc_aa81_11ea_a931_0242ac1c0002row21_col0\" class=\"data row21 col0\" >PCA Components </td>\n",
              "                        <td id=\"T_9c2a1ebc_aa81_11ea_a931_0242ac1c0002row21_col1\" class=\"data row21 col1\" >None</td>\n",
              "            </tr>\n",
              "            <tr>\n",
              "                        <th id=\"T_9c2a1ebc_aa81_11ea_a931_0242ac1c0002level0_row22\" class=\"row_heading level0 row22\" >22</th>\n",
              "                        <td id=\"T_9c2a1ebc_aa81_11ea_a931_0242ac1c0002row22_col0\" class=\"data row22 col0\" >Ignore Low Variance </td>\n",
              "                        <td id=\"T_9c2a1ebc_aa81_11ea_a931_0242ac1c0002row22_col1\" class=\"data row22 col1\" >False</td>\n",
              "            </tr>\n",
              "            <tr>\n",
              "                        <th id=\"T_9c2a1ebc_aa81_11ea_a931_0242ac1c0002level0_row23\" class=\"row_heading level0 row23\" >23</th>\n",
              "                        <td id=\"T_9c2a1ebc_aa81_11ea_a931_0242ac1c0002row23_col0\" class=\"data row23 col0\" >Combine Rare Levels </td>\n",
              "                        <td id=\"T_9c2a1ebc_aa81_11ea_a931_0242ac1c0002row23_col1\" class=\"data row23 col1\" >False</td>\n",
              "            </tr>\n",
              "            <tr>\n",
              "                        <th id=\"T_9c2a1ebc_aa81_11ea_a931_0242ac1c0002level0_row24\" class=\"row_heading level0 row24\" >24</th>\n",
              "                        <td id=\"T_9c2a1ebc_aa81_11ea_a931_0242ac1c0002row24_col0\" class=\"data row24 col0\" >Rare Level Threshold </td>\n",
              "                        <td id=\"T_9c2a1ebc_aa81_11ea_a931_0242ac1c0002row24_col1\" class=\"data row24 col1\" >None</td>\n",
              "            </tr>\n",
              "            <tr>\n",
              "                        <th id=\"T_9c2a1ebc_aa81_11ea_a931_0242ac1c0002level0_row25\" class=\"row_heading level0 row25\" >25</th>\n",
              "                        <td id=\"T_9c2a1ebc_aa81_11ea_a931_0242ac1c0002row25_col0\" class=\"data row25 col0\" >Numeric Binning </td>\n",
              "                        <td id=\"T_9c2a1ebc_aa81_11ea_a931_0242ac1c0002row25_col1\" class=\"data row25 col1\" >False</td>\n",
              "            </tr>\n",
              "            <tr>\n",
              "                        <th id=\"T_9c2a1ebc_aa81_11ea_a931_0242ac1c0002level0_row26\" class=\"row_heading level0 row26\" >26</th>\n",
              "                        <td id=\"T_9c2a1ebc_aa81_11ea_a931_0242ac1c0002row26_col0\" class=\"data row26 col0\" >Remove Outliers </td>\n",
              "                        <td id=\"T_9c2a1ebc_aa81_11ea_a931_0242ac1c0002row26_col1\" class=\"data row26 col1\" >False</td>\n",
              "            </tr>\n",
              "            <tr>\n",
              "                        <th id=\"T_9c2a1ebc_aa81_11ea_a931_0242ac1c0002level0_row27\" class=\"row_heading level0 row27\" >27</th>\n",
              "                        <td id=\"T_9c2a1ebc_aa81_11ea_a931_0242ac1c0002row27_col0\" class=\"data row27 col0\" >Outliers Threshold </td>\n",
              "                        <td id=\"T_9c2a1ebc_aa81_11ea_a931_0242ac1c0002row27_col1\" class=\"data row27 col1\" >None</td>\n",
              "            </tr>\n",
              "            <tr>\n",
              "                        <th id=\"T_9c2a1ebc_aa81_11ea_a931_0242ac1c0002level0_row28\" class=\"row_heading level0 row28\" >28</th>\n",
              "                        <td id=\"T_9c2a1ebc_aa81_11ea_a931_0242ac1c0002row28_col0\" class=\"data row28 col0\" >Remove Multicollinearity </td>\n",
              "                        <td id=\"T_9c2a1ebc_aa81_11ea_a931_0242ac1c0002row28_col1\" class=\"data row28 col1\" >False</td>\n",
              "            </tr>\n",
              "            <tr>\n",
              "                        <th id=\"T_9c2a1ebc_aa81_11ea_a931_0242ac1c0002level0_row29\" class=\"row_heading level0 row29\" >29</th>\n",
              "                        <td id=\"T_9c2a1ebc_aa81_11ea_a931_0242ac1c0002row29_col0\" class=\"data row29 col0\" >Multicollinearity Threshold </td>\n",
              "                        <td id=\"T_9c2a1ebc_aa81_11ea_a931_0242ac1c0002row29_col1\" class=\"data row29 col1\" >None</td>\n",
              "            </tr>\n",
              "            <tr>\n",
              "                        <th id=\"T_9c2a1ebc_aa81_11ea_a931_0242ac1c0002level0_row30\" class=\"row_heading level0 row30\" >30</th>\n",
              "                        <td id=\"T_9c2a1ebc_aa81_11ea_a931_0242ac1c0002row30_col0\" class=\"data row30 col0\" >Clustering </td>\n",
              "                        <td id=\"T_9c2a1ebc_aa81_11ea_a931_0242ac1c0002row30_col1\" class=\"data row30 col1\" >False</td>\n",
              "            </tr>\n",
              "            <tr>\n",
              "                        <th id=\"T_9c2a1ebc_aa81_11ea_a931_0242ac1c0002level0_row31\" class=\"row_heading level0 row31\" >31</th>\n",
              "                        <td id=\"T_9c2a1ebc_aa81_11ea_a931_0242ac1c0002row31_col0\" class=\"data row31 col0\" >Clustering Iteration </td>\n",
              "                        <td id=\"T_9c2a1ebc_aa81_11ea_a931_0242ac1c0002row31_col1\" class=\"data row31 col1\" >None</td>\n",
              "            </tr>\n",
              "            <tr>\n",
              "                        <th id=\"T_9c2a1ebc_aa81_11ea_a931_0242ac1c0002level0_row32\" class=\"row_heading level0 row32\" >32</th>\n",
              "                        <td id=\"T_9c2a1ebc_aa81_11ea_a931_0242ac1c0002row32_col0\" class=\"data row32 col0\" >Polynomial Features </td>\n",
              "                        <td id=\"T_9c2a1ebc_aa81_11ea_a931_0242ac1c0002row32_col1\" class=\"data row32 col1\" >False</td>\n",
              "            </tr>\n",
              "            <tr>\n",
              "                        <th id=\"T_9c2a1ebc_aa81_11ea_a931_0242ac1c0002level0_row33\" class=\"row_heading level0 row33\" >33</th>\n",
              "                        <td id=\"T_9c2a1ebc_aa81_11ea_a931_0242ac1c0002row33_col0\" class=\"data row33 col0\" >Polynomial Degree </td>\n",
              "                        <td id=\"T_9c2a1ebc_aa81_11ea_a931_0242ac1c0002row33_col1\" class=\"data row33 col1\" >None</td>\n",
              "            </tr>\n",
              "            <tr>\n",
              "                        <th id=\"T_9c2a1ebc_aa81_11ea_a931_0242ac1c0002level0_row34\" class=\"row_heading level0 row34\" >34</th>\n",
              "                        <td id=\"T_9c2a1ebc_aa81_11ea_a931_0242ac1c0002row34_col0\" class=\"data row34 col0\" >Trignometry Features </td>\n",
              "                        <td id=\"T_9c2a1ebc_aa81_11ea_a931_0242ac1c0002row34_col1\" class=\"data row34 col1\" >False</td>\n",
              "            </tr>\n",
              "            <tr>\n",
              "                        <th id=\"T_9c2a1ebc_aa81_11ea_a931_0242ac1c0002level0_row35\" class=\"row_heading level0 row35\" >35</th>\n",
              "                        <td id=\"T_9c2a1ebc_aa81_11ea_a931_0242ac1c0002row35_col0\" class=\"data row35 col0\" >Polynomial Threshold </td>\n",
              "                        <td id=\"T_9c2a1ebc_aa81_11ea_a931_0242ac1c0002row35_col1\" class=\"data row35 col1\" >None</td>\n",
              "            </tr>\n",
              "            <tr>\n",
              "                        <th id=\"T_9c2a1ebc_aa81_11ea_a931_0242ac1c0002level0_row36\" class=\"row_heading level0 row36\" >36</th>\n",
              "                        <td id=\"T_9c2a1ebc_aa81_11ea_a931_0242ac1c0002row36_col0\" class=\"data row36 col0\" >Group Features </td>\n",
              "                        <td id=\"T_9c2a1ebc_aa81_11ea_a931_0242ac1c0002row36_col1\" class=\"data row36 col1\" >False</td>\n",
              "            </tr>\n",
              "            <tr>\n",
              "                        <th id=\"T_9c2a1ebc_aa81_11ea_a931_0242ac1c0002level0_row37\" class=\"row_heading level0 row37\" >37</th>\n",
              "                        <td id=\"T_9c2a1ebc_aa81_11ea_a931_0242ac1c0002row37_col0\" class=\"data row37 col0\" >Feature Selection </td>\n",
              "                        <td id=\"T_9c2a1ebc_aa81_11ea_a931_0242ac1c0002row37_col1\" class=\"data row37 col1\" >False</td>\n",
              "            </tr>\n",
              "            <tr>\n",
              "                        <th id=\"T_9c2a1ebc_aa81_11ea_a931_0242ac1c0002level0_row38\" class=\"row_heading level0 row38\" >38</th>\n",
              "                        <td id=\"T_9c2a1ebc_aa81_11ea_a931_0242ac1c0002row38_col0\" class=\"data row38 col0\" >Features Selection Threshold </td>\n",
              "                        <td id=\"T_9c2a1ebc_aa81_11ea_a931_0242ac1c0002row38_col1\" class=\"data row38 col1\" >None</td>\n",
              "            </tr>\n",
              "            <tr>\n",
              "                        <th id=\"T_9c2a1ebc_aa81_11ea_a931_0242ac1c0002level0_row39\" class=\"row_heading level0 row39\" >39</th>\n",
              "                        <td id=\"T_9c2a1ebc_aa81_11ea_a931_0242ac1c0002row39_col0\" class=\"data row39 col0\" >Feature Interaction </td>\n",
              "                        <td id=\"T_9c2a1ebc_aa81_11ea_a931_0242ac1c0002row39_col1\" class=\"data row39 col1\" >False</td>\n",
              "            </tr>\n",
              "            <tr>\n",
              "                        <th id=\"T_9c2a1ebc_aa81_11ea_a931_0242ac1c0002level0_row40\" class=\"row_heading level0 row40\" >40</th>\n",
              "                        <td id=\"T_9c2a1ebc_aa81_11ea_a931_0242ac1c0002row40_col0\" class=\"data row40 col0\" >Feature Ratio </td>\n",
              "                        <td id=\"T_9c2a1ebc_aa81_11ea_a931_0242ac1c0002row40_col1\" class=\"data row40 col1\" >False</td>\n",
              "            </tr>\n",
              "            <tr>\n",
              "                        <th id=\"T_9c2a1ebc_aa81_11ea_a931_0242ac1c0002level0_row41\" class=\"row_heading level0 row41\" >41</th>\n",
              "                        <td id=\"T_9c2a1ebc_aa81_11ea_a931_0242ac1c0002row41_col0\" class=\"data row41 col0\" >Interaction Threshold </td>\n",
              "                        <td id=\"T_9c2a1ebc_aa81_11ea_a931_0242ac1c0002row41_col1\" class=\"data row41 col1\" >None</td>\n",
              "            </tr>\n",
              "    </tbody></table>"
            ],
            "text/plain": [
              "<pandas.io.formats.style.Styler at 0x7fe2092fafd0>"
            ]
          },
          "metadata": {
            "tags": []
          }
        }
      ]
    },
    {
      "cell_type": "code",
      "metadata": {
        "id": "4UEGPTgkrM2n",
        "colab_type": "code",
        "outputId": "d9a96041-236b-4f2d-dbc4-f50cf945520f",
        "colab": {
          "base_uri": "https://localhost:8080/",
          "height": 350,
          "referenced_widgets": [
            "f7b87314779b4bc39581f79e255a34da",
            "53be13a18cc64de2aa2b7a26df190c85",
            "d13f5cb027214a46b567d2be1c6a867c"
          ]
        }
      },
      "source": [
        "compare_models(fold = 5,  round = 3,  sort = 'Accuracy', turbo = True)"
      ],
      "execution_count": 55,
      "outputs": [
        {
          "output_type": "execute_result",
          "data": {
            "text/html": [
              "<style  type=\"text/css\" >\n",
              "    #T_ccab78ce_aa81_11ea_a931_0242ac1c0002 th {\n",
              "          text-align: left;\n",
              "    }    #T_ccab78ce_aa81_11ea_a931_0242ac1c0002row0_col0 {\n",
              "            text-align:  left;\n",
              "        }    #T_ccab78ce_aa81_11ea_a931_0242ac1c0002row0_col1 {\n",
              "            background-color:  yellow;\n",
              "            text-align:  left;\n",
              "        }    #T_ccab78ce_aa81_11ea_a931_0242ac1c0002row0_col2 {\n",
              "            : ;\n",
              "            text-align:  left;\n",
              "        }    #T_ccab78ce_aa81_11ea_a931_0242ac1c0002row0_col3 {\n",
              "            : ;\n",
              "            text-align:  left;\n",
              "        }    #T_ccab78ce_aa81_11ea_a931_0242ac1c0002row0_col4 {\n",
              "            : ;\n",
              "            text-align:  left;\n",
              "        }    #T_ccab78ce_aa81_11ea_a931_0242ac1c0002row0_col5 {\n",
              "            : ;\n",
              "            text-align:  left;\n",
              "        }    #T_ccab78ce_aa81_11ea_a931_0242ac1c0002row0_col6 {\n",
              "            : ;\n",
              "            text-align:  left;\n",
              "        }    #T_ccab78ce_aa81_11ea_a931_0242ac1c0002row1_col0 {\n",
              "            text-align:  left;\n",
              "        }    #T_ccab78ce_aa81_11ea_a931_0242ac1c0002row1_col1 {\n",
              "            background-color:  yellow;\n",
              "            text-align:  left;\n",
              "        }    #T_ccab78ce_aa81_11ea_a931_0242ac1c0002row1_col2 {\n",
              "            : ;\n",
              "            text-align:  left;\n",
              "        }    #T_ccab78ce_aa81_11ea_a931_0242ac1c0002row1_col3 {\n",
              "            : ;\n",
              "            text-align:  left;\n",
              "        }    #T_ccab78ce_aa81_11ea_a931_0242ac1c0002row1_col4 {\n",
              "            : ;\n",
              "            text-align:  left;\n",
              "        }    #T_ccab78ce_aa81_11ea_a931_0242ac1c0002row1_col5 {\n",
              "            : ;\n",
              "            text-align:  left;\n",
              "        }    #T_ccab78ce_aa81_11ea_a931_0242ac1c0002row1_col6 {\n",
              "            : ;\n",
              "            text-align:  left;\n",
              "        }    #T_ccab78ce_aa81_11ea_a931_0242ac1c0002row2_col0 {\n",
              "            text-align:  left;\n",
              "        }    #T_ccab78ce_aa81_11ea_a931_0242ac1c0002row2_col1 {\n",
              "            background-color:  yellow;\n",
              "            text-align:  left;\n",
              "        }    #T_ccab78ce_aa81_11ea_a931_0242ac1c0002row2_col2 {\n",
              "            : ;\n",
              "            text-align:  left;\n",
              "        }    #T_ccab78ce_aa81_11ea_a931_0242ac1c0002row2_col3 {\n",
              "            : ;\n",
              "            text-align:  left;\n",
              "        }    #T_ccab78ce_aa81_11ea_a931_0242ac1c0002row2_col4 {\n",
              "            : ;\n",
              "            text-align:  left;\n",
              "        }    #T_ccab78ce_aa81_11ea_a931_0242ac1c0002row2_col5 {\n",
              "            : ;\n",
              "            text-align:  left;\n",
              "        }    #T_ccab78ce_aa81_11ea_a931_0242ac1c0002row2_col6 {\n",
              "            : ;\n",
              "            text-align:  left;\n",
              "        }    #T_ccab78ce_aa81_11ea_a931_0242ac1c0002row3_col0 {\n",
              "            text-align:  left;\n",
              "        }    #T_ccab78ce_aa81_11ea_a931_0242ac1c0002row3_col1 {\n",
              "            : ;\n",
              "            text-align:  left;\n",
              "        }    #T_ccab78ce_aa81_11ea_a931_0242ac1c0002row3_col2 {\n",
              "            background-color:  yellow;\n",
              "            text-align:  left;\n",
              "        }    #T_ccab78ce_aa81_11ea_a931_0242ac1c0002row3_col3 {\n",
              "            : ;\n",
              "            text-align:  left;\n",
              "        }    #T_ccab78ce_aa81_11ea_a931_0242ac1c0002row3_col4 {\n",
              "            : ;\n",
              "            text-align:  left;\n",
              "        }    #T_ccab78ce_aa81_11ea_a931_0242ac1c0002row3_col5 {\n",
              "            : ;\n",
              "            text-align:  left;\n",
              "        }    #T_ccab78ce_aa81_11ea_a931_0242ac1c0002row3_col6 {\n",
              "            : ;\n",
              "            text-align:  left;\n",
              "        }    #T_ccab78ce_aa81_11ea_a931_0242ac1c0002row4_col0 {\n",
              "            text-align:  left;\n",
              "        }    #T_ccab78ce_aa81_11ea_a931_0242ac1c0002row4_col1 {\n",
              "            : ;\n",
              "            text-align:  left;\n",
              "        }    #T_ccab78ce_aa81_11ea_a931_0242ac1c0002row4_col2 {\n",
              "            : ;\n",
              "            text-align:  left;\n",
              "        }    #T_ccab78ce_aa81_11ea_a931_0242ac1c0002row4_col3 {\n",
              "            : ;\n",
              "            text-align:  left;\n",
              "        }    #T_ccab78ce_aa81_11ea_a931_0242ac1c0002row4_col4 {\n",
              "            : ;\n",
              "            text-align:  left;\n",
              "        }    #T_ccab78ce_aa81_11ea_a931_0242ac1c0002row4_col5 {\n",
              "            : ;\n",
              "            text-align:  left;\n",
              "        }    #T_ccab78ce_aa81_11ea_a931_0242ac1c0002row4_col6 {\n",
              "            : ;\n",
              "            text-align:  left;\n",
              "        }    #T_ccab78ce_aa81_11ea_a931_0242ac1c0002row5_col0 {\n",
              "            text-align:  left;\n",
              "        }    #T_ccab78ce_aa81_11ea_a931_0242ac1c0002row5_col1 {\n",
              "            : ;\n",
              "            text-align:  left;\n",
              "        }    #T_ccab78ce_aa81_11ea_a931_0242ac1c0002row5_col2 {\n",
              "            : ;\n",
              "            text-align:  left;\n",
              "        }    #T_ccab78ce_aa81_11ea_a931_0242ac1c0002row5_col3 {\n",
              "            : ;\n",
              "            text-align:  left;\n",
              "        }    #T_ccab78ce_aa81_11ea_a931_0242ac1c0002row5_col4 {\n",
              "            : ;\n",
              "            text-align:  left;\n",
              "        }    #T_ccab78ce_aa81_11ea_a931_0242ac1c0002row5_col5 {\n",
              "            : ;\n",
              "            text-align:  left;\n",
              "        }    #T_ccab78ce_aa81_11ea_a931_0242ac1c0002row5_col6 {\n",
              "            : ;\n",
              "            text-align:  left;\n",
              "        }    #T_ccab78ce_aa81_11ea_a931_0242ac1c0002row6_col0 {\n",
              "            text-align:  left;\n",
              "        }    #T_ccab78ce_aa81_11ea_a931_0242ac1c0002row6_col1 {\n",
              "            : ;\n",
              "            text-align:  left;\n",
              "        }    #T_ccab78ce_aa81_11ea_a931_0242ac1c0002row6_col2 {\n",
              "            : ;\n",
              "            text-align:  left;\n",
              "        }    #T_ccab78ce_aa81_11ea_a931_0242ac1c0002row6_col3 {\n",
              "            : ;\n",
              "            text-align:  left;\n",
              "        }    #T_ccab78ce_aa81_11ea_a931_0242ac1c0002row6_col4 {\n",
              "            : ;\n",
              "            text-align:  left;\n",
              "        }    #T_ccab78ce_aa81_11ea_a931_0242ac1c0002row6_col5 {\n",
              "            : ;\n",
              "            text-align:  left;\n",
              "        }    #T_ccab78ce_aa81_11ea_a931_0242ac1c0002row6_col6 {\n",
              "            : ;\n",
              "            text-align:  left;\n",
              "        }    #T_ccab78ce_aa81_11ea_a931_0242ac1c0002row7_col0 {\n",
              "            text-align:  left;\n",
              "        }    #T_ccab78ce_aa81_11ea_a931_0242ac1c0002row7_col1 {\n",
              "            : ;\n",
              "            text-align:  left;\n",
              "        }    #T_ccab78ce_aa81_11ea_a931_0242ac1c0002row7_col2 {\n",
              "            : ;\n",
              "            text-align:  left;\n",
              "        }    #T_ccab78ce_aa81_11ea_a931_0242ac1c0002row7_col3 {\n",
              "            : ;\n",
              "            text-align:  left;\n",
              "        }    #T_ccab78ce_aa81_11ea_a931_0242ac1c0002row7_col4 {\n",
              "            background-color:  yellow;\n",
              "            text-align:  left;\n",
              "        }    #T_ccab78ce_aa81_11ea_a931_0242ac1c0002row7_col5 {\n",
              "            : ;\n",
              "            text-align:  left;\n",
              "        }    #T_ccab78ce_aa81_11ea_a931_0242ac1c0002row7_col6 {\n",
              "            : ;\n",
              "            text-align:  left;\n",
              "        }    #T_ccab78ce_aa81_11ea_a931_0242ac1c0002row8_col0 {\n",
              "            text-align:  left;\n",
              "        }    #T_ccab78ce_aa81_11ea_a931_0242ac1c0002row8_col1 {\n",
              "            : ;\n",
              "            text-align:  left;\n",
              "        }    #T_ccab78ce_aa81_11ea_a931_0242ac1c0002row8_col2 {\n",
              "            : ;\n",
              "            text-align:  left;\n",
              "        }    #T_ccab78ce_aa81_11ea_a931_0242ac1c0002row8_col3 {\n",
              "            : ;\n",
              "            text-align:  left;\n",
              "        }    #T_ccab78ce_aa81_11ea_a931_0242ac1c0002row8_col4 {\n",
              "            : ;\n",
              "            text-align:  left;\n",
              "        }    #T_ccab78ce_aa81_11ea_a931_0242ac1c0002row8_col5 {\n",
              "            : ;\n",
              "            text-align:  left;\n",
              "        }    #T_ccab78ce_aa81_11ea_a931_0242ac1c0002row8_col6 {\n",
              "            : ;\n",
              "            text-align:  left;\n",
              "        }    #T_ccab78ce_aa81_11ea_a931_0242ac1c0002row9_col0 {\n",
              "            text-align:  left;\n",
              "        }    #T_ccab78ce_aa81_11ea_a931_0242ac1c0002row9_col1 {\n",
              "            : ;\n",
              "            text-align:  left;\n",
              "        }    #T_ccab78ce_aa81_11ea_a931_0242ac1c0002row9_col2 {\n",
              "            : ;\n",
              "            text-align:  left;\n",
              "        }    #T_ccab78ce_aa81_11ea_a931_0242ac1c0002row9_col3 {\n",
              "            : ;\n",
              "            text-align:  left;\n",
              "        }    #T_ccab78ce_aa81_11ea_a931_0242ac1c0002row9_col4 {\n",
              "            : ;\n",
              "            text-align:  left;\n",
              "        }    #T_ccab78ce_aa81_11ea_a931_0242ac1c0002row9_col5 {\n",
              "            : ;\n",
              "            text-align:  left;\n",
              "        }    #T_ccab78ce_aa81_11ea_a931_0242ac1c0002row9_col6 {\n",
              "            : ;\n",
              "            text-align:  left;\n",
              "        }    #T_ccab78ce_aa81_11ea_a931_0242ac1c0002row10_col0 {\n",
              "            text-align:  left;\n",
              "        }    #T_ccab78ce_aa81_11ea_a931_0242ac1c0002row10_col1 {\n",
              "            : ;\n",
              "            text-align:  left;\n",
              "        }    #T_ccab78ce_aa81_11ea_a931_0242ac1c0002row10_col2 {\n",
              "            : ;\n",
              "            text-align:  left;\n",
              "        }    #T_ccab78ce_aa81_11ea_a931_0242ac1c0002row10_col3 {\n",
              "            : ;\n",
              "            text-align:  left;\n",
              "        }    #T_ccab78ce_aa81_11ea_a931_0242ac1c0002row10_col4 {\n",
              "            : ;\n",
              "            text-align:  left;\n",
              "        }    #T_ccab78ce_aa81_11ea_a931_0242ac1c0002row10_col5 {\n",
              "            : ;\n",
              "            text-align:  left;\n",
              "        }    #T_ccab78ce_aa81_11ea_a931_0242ac1c0002row10_col6 {\n",
              "            : ;\n",
              "            text-align:  left;\n",
              "        }    #T_ccab78ce_aa81_11ea_a931_0242ac1c0002row11_col0 {\n",
              "            text-align:  left;\n",
              "        }    #T_ccab78ce_aa81_11ea_a931_0242ac1c0002row11_col1 {\n",
              "            : ;\n",
              "            text-align:  left;\n",
              "        }    #T_ccab78ce_aa81_11ea_a931_0242ac1c0002row11_col2 {\n",
              "            : ;\n",
              "            text-align:  left;\n",
              "        }    #T_ccab78ce_aa81_11ea_a931_0242ac1c0002row11_col3 {\n",
              "            : ;\n",
              "            text-align:  left;\n",
              "        }    #T_ccab78ce_aa81_11ea_a931_0242ac1c0002row11_col4 {\n",
              "            : ;\n",
              "            text-align:  left;\n",
              "        }    #T_ccab78ce_aa81_11ea_a931_0242ac1c0002row11_col5 {\n",
              "            : ;\n",
              "            text-align:  left;\n",
              "        }    #T_ccab78ce_aa81_11ea_a931_0242ac1c0002row11_col6 {\n",
              "            : ;\n",
              "            text-align:  left;\n",
              "        }    #T_ccab78ce_aa81_11ea_a931_0242ac1c0002row12_col0 {\n",
              "            text-align:  left;\n",
              "        }    #T_ccab78ce_aa81_11ea_a931_0242ac1c0002row12_col1 {\n",
              "            : ;\n",
              "            text-align:  left;\n",
              "        }    #T_ccab78ce_aa81_11ea_a931_0242ac1c0002row12_col2 {\n",
              "            : ;\n",
              "            text-align:  left;\n",
              "        }    #T_ccab78ce_aa81_11ea_a931_0242ac1c0002row12_col3 {\n",
              "            : ;\n",
              "            text-align:  left;\n",
              "        }    #T_ccab78ce_aa81_11ea_a931_0242ac1c0002row12_col4 {\n",
              "            : ;\n",
              "            text-align:  left;\n",
              "        }    #T_ccab78ce_aa81_11ea_a931_0242ac1c0002row12_col5 {\n",
              "            : ;\n",
              "            text-align:  left;\n",
              "        }    #T_ccab78ce_aa81_11ea_a931_0242ac1c0002row12_col6 {\n",
              "            : ;\n",
              "            text-align:  left;\n",
              "        }    #T_ccab78ce_aa81_11ea_a931_0242ac1c0002row13_col0 {\n",
              "            text-align:  left;\n",
              "        }    #T_ccab78ce_aa81_11ea_a931_0242ac1c0002row13_col1 {\n",
              "            : ;\n",
              "            text-align:  left;\n",
              "        }    #T_ccab78ce_aa81_11ea_a931_0242ac1c0002row13_col2 {\n",
              "            : ;\n",
              "            text-align:  left;\n",
              "        }    #T_ccab78ce_aa81_11ea_a931_0242ac1c0002row13_col3 {\n",
              "            : ;\n",
              "            text-align:  left;\n",
              "        }    #T_ccab78ce_aa81_11ea_a931_0242ac1c0002row13_col4 {\n",
              "            : ;\n",
              "            text-align:  left;\n",
              "        }    #T_ccab78ce_aa81_11ea_a931_0242ac1c0002row13_col5 {\n",
              "            : ;\n",
              "            text-align:  left;\n",
              "        }    #T_ccab78ce_aa81_11ea_a931_0242ac1c0002row13_col6 {\n",
              "            : ;\n",
              "            text-align:  left;\n",
              "        }    #T_ccab78ce_aa81_11ea_a931_0242ac1c0002row14_col0 {\n",
              "            text-align:  left;\n",
              "        }    #T_ccab78ce_aa81_11ea_a931_0242ac1c0002row14_col1 {\n",
              "            : ;\n",
              "            text-align:  left;\n",
              "        }    #T_ccab78ce_aa81_11ea_a931_0242ac1c0002row14_col2 {\n",
              "            : ;\n",
              "            text-align:  left;\n",
              "        }    #T_ccab78ce_aa81_11ea_a931_0242ac1c0002row14_col3 {\n",
              "            background-color:  yellow;\n",
              "            text-align:  left;\n",
              "        }    #T_ccab78ce_aa81_11ea_a931_0242ac1c0002row14_col4 {\n",
              "            : ;\n",
              "            text-align:  left;\n",
              "        }    #T_ccab78ce_aa81_11ea_a931_0242ac1c0002row14_col5 {\n",
              "            background-color:  yellow;\n",
              "            text-align:  left;\n",
              "        }    #T_ccab78ce_aa81_11ea_a931_0242ac1c0002row14_col6 {\n",
              "            background-color:  yellow;\n",
              "            text-align:  left;\n",
              "        }</style><table id=\"T_ccab78ce_aa81_11ea_a931_0242ac1c0002\" ><thead>    <tr>        <th class=\"blank level0\" ></th>        <th class=\"col_heading level0 col0\" >Model</th>        <th class=\"col_heading level0 col1\" >Accuracy</th>        <th class=\"col_heading level0 col2\" >AUC</th>        <th class=\"col_heading level0 col3\" >Recall</th>        <th class=\"col_heading level0 col4\" >Prec.</th>        <th class=\"col_heading level0 col5\" >F1</th>        <th class=\"col_heading level0 col6\" >Kappa</th>    </tr></thead><tbody>\n",
              "                <tr>\n",
              "                        <th id=\"T_ccab78ce_aa81_11ea_a931_0242ac1c0002level0_row0\" class=\"row_heading level0 row0\" >0</th>\n",
              "                        <td id=\"T_ccab78ce_aa81_11ea_a931_0242ac1c0002row0_col0\" class=\"data row0 col0\" >Logistic Regression</td>\n",
              "                        <td id=\"T_ccab78ce_aa81_11ea_a931_0242ac1c0002row0_col1\" class=\"data row0 col1\" >0.868000</td>\n",
              "                        <td id=\"T_ccab78ce_aa81_11ea_a931_0242ac1c0002row0_col2\" class=\"data row0 col2\" >0.608000</td>\n",
              "                        <td id=\"T_ccab78ce_aa81_11ea_a931_0242ac1c0002row0_col3\" class=\"data row0 col3\" >0.000000</td>\n",
              "                        <td id=\"T_ccab78ce_aa81_11ea_a931_0242ac1c0002row0_col4\" class=\"data row0 col4\" >0.000000</td>\n",
              "                        <td id=\"T_ccab78ce_aa81_11ea_a931_0242ac1c0002row0_col5\" class=\"data row0 col5\" >0.000000</td>\n",
              "                        <td id=\"T_ccab78ce_aa81_11ea_a931_0242ac1c0002row0_col6\" class=\"data row0 col6\" >0.000000</td>\n",
              "            </tr>\n",
              "            <tr>\n",
              "                        <th id=\"T_ccab78ce_aa81_11ea_a931_0242ac1c0002level0_row1\" class=\"row_heading level0 row1\" >1</th>\n",
              "                        <td id=\"T_ccab78ce_aa81_11ea_a931_0242ac1c0002row1_col0\" class=\"data row1 col0\" >Ridge Classifier</td>\n",
              "                        <td id=\"T_ccab78ce_aa81_11ea_a931_0242ac1c0002row1_col1\" class=\"data row1 col1\" >0.868000</td>\n",
              "                        <td id=\"T_ccab78ce_aa81_11ea_a931_0242ac1c0002row1_col2\" class=\"data row1 col2\" >0.000000</td>\n",
              "                        <td id=\"T_ccab78ce_aa81_11ea_a931_0242ac1c0002row1_col3\" class=\"data row1 col3\" >0.000000</td>\n",
              "                        <td id=\"T_ccab78ce_aa81_11ea_a931_0242ac1c0002row1_col4\" class=\"data row1 col4\" >0.000000</td>\n",
              "                        <td id=\"T_ccab78ce_aa81_11ea_a931_0242ac1c0002row1_col5\" class=\"data row1 col5\" >0.000000</td>\n",
              "                        <td id=\"T_ccab78ce_aa81_11ea_a931_0242ac1c0002row1_col6\" class=\"data row1 col6\" >0.000000</td>\n",
              "            </tr>\n",
              "            <tr>\n",
              "                        <th id=\"T_ccab78ce_aa81_11ea_a931_0242ac1c0002level0_row2\" class=\"row_heading level0 row2\" >2</th>\n",
              "                        <td id=\"T_ccab78ce_aa81_11ea_a931_0242ac1c0002row2_col0\" class=\"data row2 col0\" >Extreme Gradient Boosting</td>\n",
              "                        <td id=\"T_ccab78ce_aa81_11ea_a931_0242ac1c0002row2_col1\" class=\"data row2 col1\" >0.868000</td>\n",
              "                        <td id=\"T_ccab78ce_aa81_11ea_a931_0242ac1c0002row2_col2\" class=\"data row2 col2\" >0.655000</td>\n",
              "                        <td id=\"T_ccab78ce_aa81_11ea_a931_0242ac1c0002row2_col3\" class=\"data row2 col3\" >0.000000</td>\n",
              "                        <td id=\"T_ccab78ce_aa81_11ea_a931_0242ac1c0002row2_col4\" class=\"data row2 col4\" >0.000000</td>\n",
              "                        <td id=\"T_ccab78ce_aa81_11ea_a931_0242ac1c0002row2_col5\" class=\"data row2 col5\" >0.000000</td>\n",
              "                        <td id=\"T_ccab78ce_aa81_11ea_a931_0242ac1c0002row2_col6\" class=\"data row2 col6\" >-0.000000</td>\n",
              "            </tr>\n",
              "            <tr>\n",
              "                        <th id=\"T_ccab78ce_aa81_11ea_a931_0242ac1c0002level0_row3\" class=\"row_heading level0 row3\" >3</th>\n",
              "                        <td id=\"T_ccab78ce_aa81_11ea_a931_0242ac1c0002row3_col0\" class=\"data row3 col0\" >Gradient Boosting Classifier</td>\n",
              "                        <td id=\"T_ccab78ce_aa81_11ea_a931_0242ac1c0002row3_col1\" class=\"data row3 col1\" >0.867000</td>\n",
              "                        <td id=\"T_ccab78ce_aa81_11ea_a931_0242ac1c0002row3_col2\" class=\"data row3 col2\" >0.657000</td>\n",
              "                        <td id=\"T_ccab78ce_aa81_11ea_a931_0242ac1c0002row3_col3\" class=\"data row3 col3\" >0.002000</td>\n",
              "                        <td id=\"T_ccab78ce_aa81_11ea_a931_0242ac1c0002row3_col4\" class=\"data row3 col4\" >0.183000</td>\n",
              "                        <td id=\"T_ccab78ce_aa81_11ea_a931_0242ac1c0002row3_col5\" class=\"data row3 col5\" >0.005000</td>\n",
              "                        <td id=\"T_ccab78ce_aa81_11ea_a931_0242ac1c0002row3_col6\" class=\"data row3 col6\" >0.001000</td>\n",
              "            </tr>\n",
              "            <tr>\n",
              "                        <th id=\"T_ccab78ce_aa81_11ea_a931_0242ac1c0002level0_row4\" class=\"row_heading level0 row4\" >4</th>\n",
              "                        <td id=\"T_ccab78ce_aa81_11ea_a931_0242ac1c0002row4_col0\" class=\"data row4 col0\" >SVM - Linear Kernel</td>\n",
              "                        <td id=\"T_ccab78ce_aa81_11ea_a931_0242ac1c0002row4_col1\" class=\"data row4 col1\" >0.866000</td>\n",
              "                        <td id=\"T_ccab78ce_aa81_11ea_a931_0242ac1c0002row4_col2\" class=\"data row4 col2\" >0.000000</td>\n",
              "                        <td id=\"T_ccab78ce_aa81_11ea_a931_0242ac1c0002row4_col3\" class=\"data row4 col3\" >0.002000</td>\n",
              "                        <td id=\"T_ccab78ce_aa81_11ea_a931_0242ac1c0002row4_col4\" class=\"data row4 col4\" >0.016000</td>\n",
              "                        <td id=\"T_ccab78ce_aa81_11ea_a931_0242ac1c0002row4_col5\" class=\"data row4 col5\" >0.003000</td>\n",
              "                        <td id=\"T_ccab78ce_aa81_11ea_a931_0242ac1c0002row4_col6\" class=\"data row4 col6\" >-0.002000</td>\n",
              "            </tr>\n",
              "            <tr>\n",
              "                        <th id=\"T_ccab78ce_aa81_11ea_a931_0242ac1c0002level0_row5\" class=\"row_heading level0 row5\" >5</th>\n",
              "                        <td id=\"T_ccab78ce_aa81_11ea_a931_0242ac1c0002row5_col0\" class=\"data row5 col0\" >Ada Boost Classifier</td>\n",
              "                        <td id=\"T_ccab78ce_aa81_11ea_a931_0242ac1c0002row5_col1\" class=\"data row5 col1\" >0.866000</td>\n",
              "                        <td id=\"T_ccab78ce_aa81_11ea_a931_0242ac1c0002row5_col2\" class=\"data row5 col2\" >0.647000</td>\n",
              "                        <td id=\"T_ccab78ce_aa81_11ea_a931_0242ac1c0002row5_col3\" class=\"data row5 col3\" >0.005000</td>\n",
              "                        <td id=\"T_ccab78ce_aa81_11ea_a931_0242ac1c0002row5_col4\" class=\"data row5 col4\" >0.259000</td>\n",
              "                        <td id=\"T_ccab78ce_aa81_11ea_a931_0242ac1c0002row5_col5\" class=\"data row5 col5\" >0.010000</td>\n",
              "                        <td id=\"T_ccab78ce_aa81_11ea_a931_0242ac1c0002row5_col6\" class=\"data row5 col6\" >0.004000</td>\n",
              "            </tr>\n",
              "            <tr>\n",
              "                        <th id=\"T_ccab78ce_aa81_11ea_a931_0242ac1c0002level0_row6\" class=\"row_heading level0 row6\" >6</th>\n",
              "                        <td id=\"T_ccab78ce_aa81_11ea_a931_0242ac1c0002row6_col0\" class=\"data row6 col0\" >Linear Discriminant Analysis</td>\n",
              "                        <td id=\"T_ccab78ce_aa81_11ea_a931_0242ac1c0002row6_col1\" class=\"data row6 col1\" >0.866000</td>\n",
              "                        <td id=\"T_ccab78ce_aa81_11ea_a931_0242ac1c0002row6_col2\" class=\"data row6 col2\" >0.654000</td>\n",
              "                        <td id=\"T_ccab78ce_aa81_11ea_a931_0242ac1c0002row6_col3\" class=\"data row6 col3\" >0.007000</td>\n",
              "                        <td id=\"T_ccab78ce_aa81_11ea_a931_0242ac1c0002row6_col4\" class=\"data row6 col4\" >0.251000</td>\n",
              "                        <td id=\"T_ccab78ce_aa81_11ea_a931_0242ac1c0002row6_col5\" class=\"data row6 col5\" >0.014000</td>\n",
              "                        <td id=\"T_ccab78ce_aa81_11ea_a931_0242ac1c0002row6_col6\" class=\"data row6 col6\" >0.006000</td>\n",
              "            </tr>\n",
              "            <tr>\n",
              "                        <th id=\"T_ccab78ce_aa81_11ea_a931_0242ac1c0002level0_row7\" class=\"row_heading level0 row7\" >7</th>\n",
              "                        <td id=\"T_ccab78ce_aa81_11ea_a931_0242ac1c0002row7_col0\" class=\"data row7 col0\" >Light Gradient Boosting Machine</td>\n",
              "                        <td id=\"T_ccab78ce_aa81_11ea_a931_0242ac1c0002row7_col1\" class=\"data row7 col1\" >0.866000</td>\n",
              "                        <td id=\"T_ccab78ce_aa81_11ea_a931_0242ac1c0002row7_col2\" class=\"data row7 col2\" >0.636000</td>\n",
              "                        <td id=\"T_ccab78ce_aa81_11ea_a931_0242ac1c0002row7_col3\" class=\"data row7 col3\" >0.013000</td>\n",
              "                        <td id=\"T_ccab78ce_aa81_11ea_a931_0242ac1c0002row7_col4\" class=\"data row7 col4\" >0.279000</td>\n",
              "                        <td id=\"T_ccab78ce_aa81_11ea_a931_0242ac1c0002row7_col5\" class=\"data row7 col5\" >0.025000</td>\n",
              "                        <td id=\"T_ccab78ce_aa81_11ea_a931_0242ac1c0002row7_col6\" class=\"data row7 col6\" >0.015000</td>\n",
              "            </tr>\n",
              "            <tr>\n",
              "                        <th id=\"T_ccab78ce_aa81_11ea_a931_0242ac1c0002level0_row8\" class=\"row_heading level0 row8\" >8</th>\n",
              "                        <td id=\"T_ccab78ce_aa81_11ea_a931_0242ac1c0002row8_col0\" class=\"data row8 col0\" >CatBoost Classifier</td>\n",
              "                        <td id=\"T_ccab78ce_aa81_11ea_a931_0242ac1c0002row8_col1\" class=\"data row8 col1\" >0.865000</td>\n",
              "                        <td id=\"T_ccab78ce_aa81_11ea_a931_0242ac1c0002row8_col2\" class=\"data row8 col2\" >0.636000</td>\n",
              "                        <td id=\"T_ccab78ce_aa81_11ea_a931_0242ac1c0002row8_col3\" class=\"data row8 col3\" >0.008000</td>\n",
              "                        <td id=\"T_ccab78ce_aa81_11ea_a931_0242ac1c0002row8_col4\" class=\"data row8 col4\" >0.187000</td>\n",
              "                        <td id=\"T_ccab78ce_aa81_11ea_a931_0242ac1c0002row8_col5\" class=\"data row8 col5\" >0.016000</td>\n",
              "                        <td id=\"T_ccab78ce_aa81_11ea_a931_0242ac1c0002row8_col6\" class=\"data row8 col6\" >0.006000</td>\n",
              "            </tr>\n",
              "            <tr>\n",
              "                        <th id=\"T_ccab78ce_aa81_11ea_a931_0242ac1c0002level0_row9\" class=\"row_heading level0 row9\" >9</th>\n",
              "                        <td id=\"T_ccab78ce_aa81_11ea_a931_0242ac1c0002row9_col0\" class=\"data row9 col0\" >Random Forest Classifier</td>\n",
              "                        <td id=\"T_ccab78ce_aa81_11ea_a931_0242ac1c0002row9_col1\" class=\"data row9 col1\" >0.858000</td>\n",
              "                        <td id=\"T_ccab78ce_aa81_11ea_a931_0242ac1c0002row9_col2\" class=\"data row9 col2\" >0.589000</td>\n",
              "                        <td id=\"T_ccab78ce_aa81_11ea_a931_0242ac1c0002row9_col3\" class=\"data row9 col3\" >0.033000</td>\n",
              "                        <td id=\"T_ccab78ce_aa81_11ea_a931_0242ac1c0002row9_col4\" class=\"data row9 col4\" >0.234000</td>\n",
              "                        <td id=\"T_ccab78ce_aa81_11ea_a931_0242ac1c0002row9_col5\" class=\"data row9 col5\" >0.058000</td>\n",
              "                        <td id=\"T_ccab78ce_aa81_11ea_a931_0242ac1c0002row9_col6\" class=\"data row9 col6\" >0.026000</td>\n",
              "            </tr>\n",
              "            <tr>\n",
              "                        <th id=\"T_ccab78ce_aa81_11ea_a931_0242ac1c0002level0_row10\" class=\"row_heading level0 row10\" >10</th>\n",
              "                        <td id=\"T_ccab78ce_aa81_11ea_a931_0242ac1c0002row10_col0\" class=\"data row10 col0\" >K Neighbors Classifier</td>\n",
              "                        <td id=\"T_ccab78ce_aa81_11ea_a931_0242ac1c0002row10_col1\" class=\"data row10 col1\" >0.851000</td>\n",
              "                        <td id=\"T_ccab78ce_aa81_11ea_a931_0242ac1c0002row10_col2\" class=\"data row10 col2\" >0.512000</td>\n",
              "                        <td id=\"T_ccab78ce_aa81_11ea_a931_0242ac1c0002row10_col3\" class=\"data row10 col3\" >0.028000</td>\n",
              "                        <td id=\"T_ccab78ce_aa81_11ea_a931_0242ac1c0002row10_col4\" class=\"data row10 col4\" >0.155000</td>\n",
              "                        <td id=\"T_ccab78ce_aa81_11ea_a931_0242ac1c0002row10_col5\" class=\"data row10 col5\" >0.048000</td>\n",
              "                        <td id=\"T_ccab78ce_aa81_11ea_a931_0242ac1c0002row10_col6\" class=\"data row10 col6\" >0.007000</td>\n",
              "            </tr>\n",
              "            <tr>\n",
              "                        <th id=\"T_ccab78ce_aa81_11ea_a931_0242ac1c0002level0_row11\" class=\"row_heading level0 row11\" >11</th>\n",
              "                        <td id=\"T_ccab78ce_aa81_11ea_a931_0242ac1c0002row11_col0\" class=\"data row11 col0\" >Extra Trees Classifier</td>\n",
              "                        <td id=\"T_ccab78ce_aa81_11ea_a931_0242ac1c0002row11_col1\" class=\"data row11 col1\" >0.843000</td>\n",
              "                        <td id=\"T_ccab78ce_aa81_11ea_a931_0242ac1c0002row11_col2\" class=\"data row11 col2\" >0.593000</td>\n",
              "                        <td id=\"T_ccab78ce_aa81_11ea_a931_0242ac1c0002row11_col3\" class=\"data row11 col3\" >0.055000</td>\n",
              "                        <td id=\"T_ccab78ce_aa81_11ea_a931_0242ac1c0002row11_col4\" class=\"data row11 col4\" >0.187000</td>\n",
              "                        <td id=\"T_ccab78ce_aa81_11ea_a931_0242ac1c0002row11_col5\" class=\"data row11 col5\" >0.085000</td>\n",
              "                        <td id=\"T_ccab78ce_aa81_11ea_a931_0242ac1c0002row11_col6\" class=\"data row11 col6\" >0.026000</td>\n",
              "            </tr>\n",
              "            <tr>\n",
              "                        <th id=\"T_ccab78ce_aa81_11ea_a931_0242ac1c0002level0_row12\" class=\"row_heading level0 row12\" >12</th>\n",
              "                        <td id=\"T_ccab78ce_aa81_11ea_a931_0242ac1c0002row12_col0\" class=\"data row12 col0\" >Naive Bayes</td>\n",
              "                        <td id=\"T_ccab78ce_aa81_11ea_a931_0242ac1c0002row12_col1\" class=\"data row12 col1\" >0.832000</td>\n",
              "                        <td id=\"T_ccab78ce_aa81_11ea_a931_0242ac1c0002row12_col2\" class=\"data row12 col2\" >0.618000</td>\n",
              "                        <td id=\"T_ccab78ce_aa81_11ea_a931_0242ac1c0002row12_col3\" class=\"data row12 col3\" >0.141000</td>\n",
              "                        <td id=\"T_ccab78ce_aa81_11ea_a931_0242ac1c0002row12_col4\" class=\"data row12 col4\" >0.253000</td>\n",
              "                        <td id=\"T_ccab78ce_aa81_11ea_a931_0242ac1c0002row12_col5\" class=\"data row12 col5\" >0.181000</td>\n",
              "                        <td id=\"T_ccab78ce_aa81_11ea_a931_0242ac1c0002row12_col6\" class=\"data row12 col6\" >0.096000</td>\n",
              "            </tr>\n",
              "            <tr>\n",
              "                        <th id=\"T_ccab78ce_aa81_11ea_a931_0242ac1c0002level0_row13\" class=\"row_heading level0 row13\" >13</th>\n",
              "                        <td id=\"T_ccab78ce_aa81_11ea_a931_0242ac1c0002row13_col0\" class=\"data row13 col0\" >Decision Tree Classifier</td>\n",
              "                        <td id=\"T_ccab78ce_aa81_11ea_a931_0242ac1c0002row13_col1\" class=\"data row13 col1\" >0.770000</td>\n",
              "                        <td id=\"T_ccab78ce_aa81_11ea_a931_0242ac1c0002row13_col2\" class=\"data row13 col2\" >0.523000</td>\n",
              "                        <td id=\"T_ccab78ce_aa81_11ea_a931_0242ac1c0002row13_col3\" class=\"data row13 col3\" >0.189000</td>\n",
              "                        <td id=\"T_ccab78ce_aa81_11ea_a931_0242ac1c0002row13_col4\" class=\"data row13 col4\" >0.168000</td>\n",
              "                        <td id=\"T_ccab78ce_aa81_11ea_a931_0242ac1c0002row13_col5\" class=\"data row13 col5\" >0.178000</td>\n",
              "                        <td id=\"T_ccab78ce_aa81_11ea_a931_0242ac1c0002row13_col6\" class=\"data row13 col6\" >0.044000</td>\n",
              "            </tr>\n",
              "            <tr>\n",
              "                        <th id=\"T_ccab78ce_aa81_11ea_a931_0242ac1c0002level0_row14\" class=\"row_heading level0 row14\" >14</th>\n",
              "                        <td id=\"T_ccab78ce_aa81_11ea_a931_0242ac1c0002row14_col0\" class=\"data row14 col0\" >Quadratic Discriminant Analysis</td>\n",
              "                        <td id=\"T_ccab78ce_aa81_11ea_a931_0242ac1c0002row14_col1\" class=\"data row14 col1\" >0.755000</td>\n",
              "                        <td id=\"T_ccab78ce_aa81_11ea_a931_0242ac1c0002row14_col2\" class=\"data row14 col2\" >0.616000</td>\n",
              "                        <td id=\"T_ccab78ce_aa81_11ea_a931_0242ac1c0002row14_col3\" class=\"data row14 col3\" >0.325000</td>\n",
              "                        <td id=\"T_ccab78ce_aa81_11ea_a931_0242ac1c0002row14_col4\" class=\"data row14 col4\" >0.216000</td>\n",
              "                        <td id=\"T_ccab78ce_aa81_11ea_a931_0242ac1c0002row14_col5\" class=\"data row14 col5\" >0.258000</td>\n",
              "                        <td id=\"T_ccab78ce_aa81_11ea_a931_0242ac1c0002row14_col6\" class=\"data row14 col6\" >0.119000</td>\n",
              "            </tr>\n",
              "    </tbody></table>"
            ],
            "text/plain": [
              "<pandas.io.formats.style.Styler at 0x7fe209401358>"
            ]
          },
          "metadata": {
            "tags": []
          },
          "execution_count": 55
        }
      ]
    },
    {
      "cell_type": "markdown",
      "metadata": {
        "id": "5nD8wKYnPRHl",
        "colab_type": "text"
      },
      "source": [
        "We will use Gradient boosting classifier as that gives the highest AUC score."
      ]
    },
    {
      "cell_type": "markdown",
      "metadata": {
        "id": "oSu_elaUP-dT",
        "colab_type": "text"
      },
      "source": [
        "### Feature Engineering\n",
        "-- Groupby"
      ]
    },
    {
      "cell_type": "code",
      "metadata": {
        "id": "upkikHjFP-dV",
        "colab_type": "code",
        "colab": {}
      },
      "source": [
        "target_mean_grouped_by_gender = np.round(train.groupby('gender')['target'].mean(),2).to_dict()\n",
        "train['target_mean_grouped_by_gender'] = train['gender'].map(target_mean_grouped_by_gender)\n",
        "\n",
        "target_mean_grouped_by_relevent_exp = np.round(train.groupby('relevent_experience')['target'].mean(),2).to_dict()\n",
        "train['target_mean_grouped_by_relevent_exp'] = train['relevent_experience'].map(target_mean_grouped_by_relevent_exp)\n",
        "\n",
        "target_mean_grouped_by_enrolled_university = np.round(train.groupby('enrolled_university')['target'].mean(),2).to_dict()\n",
        "train['target_mean_grouped_by_enrolled_university'] = train['enrolled_university'].map(target_mean_grouped_by_enrolled_university)\n",
        "\n",
        "target_mean_grouped_by_education_level = np.round(train.groupby('education_level')['target'].mean(),2).to_dict()\n",
        "train['target_mean_grouped_by_education_level'] = train['education_level'].map(target_mean_grouped_by_education_level)\n",
        "\n",
        "target_mean_grouped_by_major_discipline = np.round(train.groupby('major_discipline')['target'].mean(),2).to_dict()\n",
        "train['target_mean_grouped_by_major_discipline'] = train['major_discipline'].map(target_mean_grouped_by_major_discipline)\n",
        "\n",
        "target_mean_grouped_by_experience = np.round(train.groupby('experience')['target'].mean(),2).to_dict()\n",
        "train['target_mean_grouped_by_experience'] = train['experience'].map(target_mean_grouped_by_experience)\n",
        "\n",
        "target_mean_grouped_by_company_size = np.round(train.groupby('company_size')['target'].mean(),2).to_dict()\n",
        "train['target_mean_grouped_by_company_size'] = train['company_size'].map(target_mean_grouped_by_company_size)\n",
        "\n",
        "target_mean_grouped_by_company_type = np.round(train.groupby('company_type')['target'].mean(),2).to_dict()\n",
        "train['target_mean_grouped_by_company_type'] = train['company_type'].map(target_mean_grouped_by_company_type)\n"
      ],
      "execution_count": 0,
      "outputs": []
    },
    {
      "cell_type": "code",
      "metadata": {
        "id": "0N6G3CLFT-U4",
        "colab_type": "code",
        "colab": {}
      },
      "source": [
        "\n",
        "test['target_mean_grouped_by_gender'] = test['gender'].map(target_mean_grouped_by_gender)\n",
        "test['target_mean_grouped_by_relevent_exp'] = test['relevent_experience'].map(target_mean_grouped_by_relevent_exp)\n",
        "test['target_mean_grouped_by_enrolled_university'] = test['enrolled_university'].map(target_mean_grouped_by_enrolled_university)\n",
        "test['target_mean_grouped_by_education_level'] = test['education_level'].map(target_mean_grouped_by_education_level)\n",
        "test['target_mean_grouped_by_major_discipline'] = test['major_discipline'].map(target_mean_grouped_by_major_discipline)\n",
        "test['target_mean_grouped_by_experience'] = test['experience'].map(target_mean_grouped_by_experience)\n",
        "test['target_mean_grouped_by_company_size'] = test['company_size'].map(target_mean_grouped_by_company_size)\n",
        "test['target_mean_grouped_by_company_type'] = test['company_type'].map(target_mean_grouped_by_company_type)"
      ],
      "execution_count": 0,
      "outputs": []
    },
    {
      "cell_type": "code",
      "metadata": {
        "id": "_4kfKfkXVJiP",
        "colab_type": "code",
        "outputId": "e25bb3fd-d1f1-42ab-8420-c21ec33bcc10",
        "colab": {
          "base_uri": "https://localhost:8080/",
          "height": 291
        }
      },
      "source": [
        "train.head()"
      ],
      "execution_count": 58,
      "outputs": [
        {
          "output_type": "execute_result",
          "data": {
            "text/html": [
              "<div>\n",
              "<style scoped>\n",
              "    .dataframe tbody tr th:only-of-type {\n",
              "        vertical-align: middle;\n",
              "    }\n",
              "\n",
              "    .dataframe tbody tr th {\n",
              "        vertical-align: top;\n",
              "    }\n",
              "\n",
              "    .dataframe thead th {\n",
              "        text-align: right;\n",
              "    }\n",
              "</style>\n",
              "<table border=\"1\" class=\"dataframe\">\n",
              "  <thead>\n",
              "    <tr style=\"text-align: right;\">\n",
              "      <th></th>\n",
              "      <th>enrollee_id</th>\n",
              "      <th>city</th>\n",
              "      <th>city_development_index</th>\n",
              "      <th>gender</th>\n",
              "      <th>relevent_experience</th>\n",
              "      <th>enrolled_university</th>\n",
              "      <th>education_level</th>\n",
              "      <th>major_discipline</th>\n",
              "      <th>experience</th>\n",
              "      <th>company_size</th>\n",
              "      <th>company_type</th>\n",
              "      <th>last_new_job</th>\n",
              "      <th>training_hours</th>\n",
              "      <th>target</th>\n",
              "      <th>target_mean_grouped_by_gender</th>\n",
              "      <th>target_mean_grouped_by_relevent_exp</th>\n",
              "      <th>target_mean_grouped_by_enrolled_university</th>\n",
              "      <th>target_mean_grouped_by_education_level</th>\n",
              "      <th>target_mean_grouped_by_major_discipline</th>\n",
              "      <th>target_mean_grouped_by_experience</th>\n",
              "      <th>target_mean_grouped_by_company_size</th>\n",
              "      <th>target_mean_grouped_by_company_type</th>\n",
              "    </tr>\n",
              "  </thead>\n",
              "  <tbody>\n",
              "    <tr>\n",
              "      <th>0</th>\n",
              "      <td>23798</td>\n",
              "      <td>city_149</td>\n",
              "      <td>0.689</td>\n",
              "      <td>2</td>\n",
              "      <td>Has relevent experience</td>\n",
              "      <td>1</td>\n",
              "      <td>3</td>\n",
              "      <td>6</td>\n",
              "      <td>3</td>\n",
              "      <td>Small</td>\n",
              "      <td>3</td>\n",
              "      <td>1</td>\n",
              "      <td>0.313433</td>\n",
              "      <td>0</td>\n",
              "      <td>0.12</td>\n",
              "      <td>0.12</td>\n",
              "      <td>0.12</td>\n",
              "      <td>0.14</td>\n",
              "      <td>0.14</td>\n",
              "      <td>0.14</td>\n",
              "      <td>0.11</td>\n",
              "      <td>0.11</td>\n",
              "    </tr>\n",
              "    <tr>\n",
              "      <th>1</th>\n",
              "      <td>29166</td>\n",
              "      <td>city_83</td>\n",
              "      <td>0.923</td>\n",
              "      <td>2</td>\n",
              "      <td>Has relevent experience</td>\n",
              "      <td>1</td>\n",
              "      <td>3</td>\n",
              "      <td>6</td>\n",
              "      <td>2</td>\n",
              "      <td>Very Small</td>\n",
              "      <td>4</td>\n",
              "      <td>1</td>\n",
              "      <td>0.202985</td>\n",
              "      <td>0</td>\n",
              "      <td>0.12</td>\n",
              "      <td>0.12</td>\n",
              "      <td>0.12</td>\n",
              "      <td>0.14</td>\n",
              "      <td>0.14</td>\n",
              "      <td>0.11</td>\n",
              "      <td>0.11</td>\n",
              "      <td>0.09</td>\n",
              "    </tr>\n",
              "    <tr>\n",
              "      <th>2</th>\n",
              "      <td>46</td>\n",
              "      <td>city_16</td>\n",
              "      <td>0.910</td>\n",
              "      <td>1</td>\n",
              "      <td>Has relevent experience</td>\n",
              "      <td>1</td>\n",
              "      <td>3</td>\n",
              "      <td>6</td>\n",
              "      <td>3</td>\n",
              "      <td>Small</td>\n",
              "      <td>2</td>\n",
              "      <td>2</td>\n",
              "      <td>0.008955</td>\n",
              "      <td>0</td>\n",
              "      <td>0.15</td>\n",
              "      <td>0.12</td>\n",
              "      <td>0.12</td>\n",
              "      <td>0.14</td>\n",
              "      <td>0.14</td>\n",
              "      <td>0.14</td>\n",
              "      <td>0.11</td>\n",
              "      <td>0.15</td>\n",
              "    </tr>\n",
              "    <tr>\n",
              "      <th>3</th>\n",
              "      <td>18527</td>\n",
              "      <td>city_64</td>\n",
              "      <td>0.666</td>\n",
              "      <td>2</td>\n",
              "      <td>Has relevent experience</td>\n",
              "      <td>1</td>\n",
              "      <td>3</td>\n",
              "      <td>6</td>\n",
              "      <td>2</td>\n",
              "      <td>Small</td>\n",
              "      <td>3</td>\n",
              "      <td>1</td>\n",
              "      <td>0.074627</td>\n",
              "      <td>0</td>\n",
              "      <td>0.12</td>\n",
              "      <td>0.12</td>\n",
              "      <td>0.12</td>\n",
              "      <td>0.14</td>\n",
              "      <td>0.14</td>\n",
              "      <td>0.11</td>\n",
              "      <td>0.11</td>\n",
              "      <td>0.11</td>\n",
              "    </tr>\n",
              "    <tr>\n",
              "      <th>4</th>\n",
              "      <td>21751</td>\n",
              "      <td>city_100</td>\n",
              "      <td>0.887</td>\n",
              "      <td>1</td>\n",
              "      <td>No relevent experience</td>\n",
              "      <td>1</td>\n",
              "      <td>4</td>\n",
              "      <td>6</td>\n",
              "      <td>3</td>\n",
              "      <td>Missing</td>\n",
              "      <td>0</td>\n",
              "      <td>2</td>\n",
              "      <td>0.259701</td>\n",
              "      <td>1</td>\n",
              "      <td>0.15</td>\n",
              "      <td>0.17</td>\n",
              "      <td>0.12</td>\n",
              "      <td>0.12</td>\n",
              "      <td>0.14</td>\n",
              "      <td>0.14</td>\n",
              "      <td>0.19</td>\n",
              "      <td>0.18</td>\n",
              "    </tr>\n",
              "  </tbody>\n",
              "</table>\n",
              "</div>"
            ],
            "text/plain": [
              "   enrollee_id  ... target_mean_grouped_by_company_type\n",
              "0        23798  ...                                0.11\n",
              "1        29166  ...                                0.09\n",
              "2           46  ...                                0.15\n",
              "3        18527  ...                                0.11\n",
              "4        21751  ...                                0.18\n",
              "\n",
              "[5 rows x 22 columns]"
            ]
          },
          "metadata": {
            "tags": []
          },
          "execution_count": 58
        }
      ]
    },
    {
      "cell_type": "code",
      "metadata": {
        "id": "yS3quZubVOIt",
        "colab_type": "code",
        "outputId": "d6888422-2968-4eaf-8222-4aa65fa166fd",
        "colab": {
          "base_uri": "https://localhost:8080/",
          "height": 239
        }
      },
      "source": [
        "test.head()"
      ],
      "execution_count": 59,
      "outputs": [
        {
          "output_type": "execute_result",
          "data": {
            "text/html": [
              "<div>\n",
              "<style scoped>\n",
              "    .dataframe tbody tr th:only-of-type {\n",
              "        vertical-align: middle;\n",
              "    }\n",
              "\n",
              "    .dataframe tbody tr th {\n",
              "        vertical-align: top;\n",
              "    }\n",
              "\n",
              "    .dataframe thead th {\n",
              "        text-align: right;\n",
              "    }\n",
              "</style>\n",
              "<table border=\"1\" class=\"dataframe\">\n",
              "  <thead>\n",
              "    <tr style=\"text-align: right;\">\n",
              "      <th></th>\n",
              "      <th>enrollee_id</th>\n",
              "      <th>city</th>\n",
              "      <th>city_development_index</th>\n",
              "      <th>gender</th>\n",
              "      <th>relevent_experience</th>\n",
              "      <th>enrolled_university</th>\n",
              "      <th>education_level</th>\n",
              "      <th>major_discipline</th>\n",
              "      <th>experience</th>\n",
              "      <th>company_size</th>\n",
              "      <th>company_type</th>\n",
              "      <th>last_new_job</th>\n",
              "      <th>training_hours</th>\n",
              "      <th>target_mean_grouped_by_gender</th>\n",
              "      <th>target_mean_grouped_by_relevent_exp</th>\n",
              "      <th>target_mean_grouped_by_enrolled_university</th>\n",
              "      <th>target_mean_grouped_by_education_level</th>\n",
              "      <th>target_mean_grouped_by_major_discipline</th>\n",
              "      <th>target_mean_grouped_by_experience</th>\n",
              "      <th>target_mean_grouped_by_company_size</th>\n",
              "      <th>target_mean_grouped_by_company_type</th>\n",
              "    </tr>\n",
              "  </thead>\n",
              "  <tbody>\n",
              "    <tr>\n",
              "      <th>0</th>\n",
              "      <td>16548</td>\n",
              "      <td>city_33</td>\n",
              "      <td>0.448</td>\n",
              "      <td>1</td>\n",
              "      <td>No relevent experience</td>\n",
              "      <td>3</td>\n",
              "      <td>3</td>\n",
              "      <td>6</td>\n",
              "      <td>0</td>\n",
              "      <td>Medium</td>\n",
              "      <td>2</td>\n",
              "      <td>Missing</td>\n",
              "      <td>0.041791</td>\n",
              "      <td>0.15</td>\n",
              "      <td>0.17</td>\n",
              "      <td>0.19</td>\n",
              "      <td>0.14</td>\n",
              "      <td>0.14</td>\n",
              "      <td>0.17</td>\n",
              "      <td>0.11</td>\n",
              "      <td>0.15</td>\n",
              "    </tr>\n",
              "    <tr>\n",
              "      <th>1</th>\n",
              "      <td>12036</td>\n",
              "      <td>city_28</td>\n",
              "      <td>0.939</td>\n",
              "      <td>2</td>\n",
              "      <td>No relevent experience</td>\n",
              "      <td>1</td>\n",
              "      <td>3</td>\n",
              "      <td>6</td>\n",
              "      <td>4</td>\n",
              "      <td>Small</td>\n",
              "      <td>3</td>\n",
              "      <td>1</td>\n",
              "      <td>0.277612</td>\n",
              "      <td>0.12</td>\n",
              "      <td>0.17</td>\n",
              "      <td>0.12</td>\n",
              "      <td>0.14</td>\n",
              "      <td>0.14</td>\n",
              "      <td>0.10</td>\n",
              "      <td>0.11</td>\n",
              "      <td>0.11</td>\n",
              "    </tr>\n",
              "    <tr>\n",
              "      <th>2</th>\n",
              "      <td>11061</td>\n",
              "      <td>city_103</td>\n",
              "      <td>0.920</td>\n",
              "      <td>2</td>\n",
              "      <td>No relevent experience</td>\n",
              "      <td>3</td>\n",
              "      <td>3</td>\n",
              "      <td>6</td>\n",
              "      <td>3</td>\n",
              "      <td>Missing</td>\n",
              "      <td>0</td>\n",
              "      <td>1</td>\n",
              "      <td>0.047761</td>\n",
              "      <td>0.12</td>\n",
              "      <td>0.17</td>\n",
              "      <td>0.19</td>\n",
              "      <td>0.14</td>\n",
              "      <td>0.14</td>\n",
              "      <td>0.14</td>\n",
              "      <td>0.19</td>\n",
              "      <td>0.18</td>\n",
              "    </tr>\n",
              "    <tr>\n",
              "      <th>3</th>\n",
              "      <td>5032</td>\n",
              "      <td>city_104</td>\n",
              "      <td>0.924</td>\n",
              "      <td>2</td>\n",
              "      <td>No relevent experience</td>\n",
              "      <td>1</td>\n",
              "      <td>5</td>\n",
              "      <td>6</td>\n",
              "      <td>4</td>\n",
              "      <td>Small</td>\n",
              "      <td>3</td>\n",
              "      <td>2</td>\n",
              "      <td>0.223881</td>\n",
              "      <td>0.12</td>\n",
              "      <td>0.17</td>\n",
              "      <td>0.12</td>\n",
              "      <td>0.12</td>\n",
              "      <td>0.14</td>\n",
              "      <td>0.10</td>\n",
              "      <td>0.11</td>\n",
              "      <td>0.11</td>\n",
              "    </tr>\n",
              "    <tr>\n",
              "      <th>4</th>\n",
              "      <td>17599</td>\n",
              "      <td>city_77</td>\n",
              "      <td>0.830</td>\n",
              "      <td>2</td>\n",
              "      <td>Has relevent experience</td>\n",
              "      <td>1</td>\n",
              "      <td>3</td>\n",
              "      <td>6</td>\n",
              "      <td>3</td>\n",
              "      <td>Very Small</td>\n",
              "      <td>3</td>\n",
              "      <td>2</td>\n",
              "      <td>0.191045</td>\n",
              "      <td>0.12</td>\n",
              "      <td>0.12</td>\n",
              "      <td>0.12</td>\n",
              "      <td>0.14</td>\n",
              "      <td>0.14</td>\n",
              "      <td>0.14</td>\n",
              "      <td>0.11</td>\n",
              "      <td>0.11</td>\n",
              "    </tr>\n",
              "  </tbody>\n",
              "</table>\n",
              "</div>"
            ],
            "text/plain": [
              "   enrollee_id  ... target_mean_grouped_by_company_type\n",
              "0        16548  ...                                0.15\n",
              "1        12036  ...                                0.11\n",
              "2        11061  ...                                0.18\n",
              "3         5032  ...                                0.11\n",
              "4        17599  ...                                0.11\n",
              "\n",
              "[5 rows x 21 columns]"
            ]
          },
          "metadata": {
            "tags": []
          },
          "execution_count": 59
        }
      ]
    },
    {
      "cell_type": "markdown",
      "metadata": {
        "id": "jKSdHPg2Vb_H",
        "colab_type": "text"
      },
      "source": [
        "## Making another model"
      ]
    },
    {
      "cell_type": "code",
      "metadata": {
        "id": "eFui1e54VN7j",
        "colab_type": "code",
        "outputId": "b7383f32-40fb-4e1a-845b-8c96d448724a",
        "colab": {
          "base_uri": "https://localhost:8080/",
          "height": 350,
          "referenced_widgets": [
            "c968587eb8374858b298f3204e28beac",
            "4ceef09e6a9d4f8f9d5a4959e0b1bf5f",
            "45fc8fc4acb54fd59e88b24c0b120501",
            "50d6d7a94e884c1d8827993d2e2d5905",
            "162d44df713849238c862416fe71e612",
            "c22405a2eb5a461b9e33ffb1134f4565",
            "8e8245023e204be9a1ad0ef2dfd91d98",
            "ce1f434f38e7472792bcf2d89c4c0472",
            "21b8aeb1693c4cb4a187edbea3d542ab"
          ]
        }
      },
      "source": [
        "emp_clf2 = setup(data = train, target = 'target', high_cardinality_features = ['city'])\n",
        "compare_models(fold = 5, round = 3,  sort = 'Accuracy', turbo = True)"
      ],
      "execution_count": 60,
      "outputs": [
        {
          "output_type": "execute_result",
          "data": {
            "text/html": [
              "<style  type=\"text/css\" >\n",
              "    #T_0412e4fa_aa82_11ea_a931_0242ac1c0002 th {\n",
              "          text-align: left;\n",
              "    }    #T_0412e4fa_aa82_11ea_a931_0242ac1c0002row0_col0 {\n",
              "            text-align:  left;\n",
              "        }    #T_0412e4fa_aa82_11ea_a931_0242ac1c0002row0_col1 {\n",
              "            background-color:  yellow;\n",
              "            text-align:  left;\n",
              "        }    #T_0412e4fa_aa82_11ea_a931_0242ac1c0002row0_col2 {\n",
              "            : ;\n",
              "            text-align:  left;\n",
              "        }    #T_0412e4fa_aa82_11ea_a931_0242ac1c0002row0_col3 {\n",
              "            : ;\n",
              "            text-align:  left;\n",
              "        }    #T_0412e4fa_aa82_11ea_a931_0242ac1c0002row0_col4 {\n",
              "            : ;\n",
              "            text-align:  left;\n",
              "        }    #T_0412e4fa_aa82_11ea_a931_0242ac1c0002row0_col5 {\n",
              "            : ;\n",
              "            text-align:  left;\n",
              "        }    #T_0412e4fa_aa82_11ea_a931_0242ac1c0002row0_col6 {\n",
              "            : ;\n",
              "            text-align:  left;\n",
              "        }    #T_0412e4fa_aa82_11ea_a931_0242ac1c0002row1_col0 {\n",
              "            text-align:  left;\n",
              "        }    #T_0412e4fa_aa82_11ea_a931_0242ac1c0002row1_col1 {\n",
              "            background-color:  yellow;\n",
              "            text-align:  left;\n",
              "        }    #T_0412e4fa_aa82_11ea_a931_0242ac1c0002row1_col2 {\n",
              "            : ;\n",
              "            text-align:  left;\n",
              "        }    #T_0412e4fa_aa82_11ea_a931_0242ac1c0002row1_col3 {\n",
              "            : ;\n",
              "            text-align:  left;\n",
              "        }    #T_0412e4fa_aa82_11ea_a931_0242ac1c0002row1_col4 {\n",
              "            : ;\n",
              "            text-align:  left;\n",
              "        }    #T_0412e4fa_aa82_11ea_a931_0242ac1c0002row1_col5 {\n",
              "            : ;\n",
              "            text-align:  left;\n",
              "        }    #T_0412e4fa_aa82_11ea_a931_0242ac1c0002row1_col6 {\n",
              "            : ;\n",
              "            text-align:  left;\n",
              "        }    #T_0412e4fa_aa82_11ea_a931_0242ac1c0002row2_col0 {\n",
              "            text-align:  left;\n",
              "        }    #T_0412e4fa_aa82_11ea_a931_0242ac1c0002row2_col1 {\n",
              "            : ;\n",
              "            text-align:  left;\n",
              "        }    #T_0412e4fa_aa82_11ea_a931_0242ac1c0002row2_col2 {\n",
              "            background-color:  yellow;\n",
              "            text-align:  left;\n",
              "        }    #T_0412e4fa_aa82_11ea_a931_0242ac1c0002row2_col3 {\n",
              "            : ;\n",
              "            text-align:  left;\n",
              "        }    #T_0412e4fa_aa82_11ea_a931_0242ac1c0002row2_col4 {\n",
              "            : ;\n",
              "            text-align:  left;\n",
              "        }    #T_0412e4fa_aa82_11ea_a931_0242ac1c0002row2_col5 {\n",
              "            : ;\n",
              "            text-align:  left;\n",
              "        }    #T_0412e4fa_aa82_11ea_a931_0242ac1c0002row2_col6 {\n",
              "            : ;\n",
              "            text-align:  left;\n",
              "        }    #T_0412e4fa_aa82_11ea_a931_0242ac1c0002row3_col0 {\n",
              "            text-align:  left;\n",
              "        }    #T_0412e4fa_aa82_11ea_a931_0242ac1c0002row3_col1 {\n",
              "            : ;\n",
              "            text-align:  left;\n",
              "        }    #T_0412e4fa_aa82_11ea_a931_0242ac1c0002row3_col2 {\n",
              "            : ;\n",
              "            text-align:  left;\n",
              "        }    #T_0412e4fa_aa82_11ea_a931_0242ac1c0002row3_col3 {\n",
              "            : ;\n",
              "            text-align:  left;\n",
              "        }    #T_0412e4fa_aa82_11ea_a931_0242ac1c0002row3_col4 {\n",
              "            background-color:  yellow;\n",
              "            text-align:  left;\n",
              "        }    #T_0412e4fa_aa82_11ea_a931_0242ac1c0002row3_col5 {\n",
              "            : ;\n",
              "            text-align:  left;\n",
              "        }    #T_0412e4fa_aa82_11ea_a931_0242ac1c0002row3_col6 {\n",
              "            : ;\n",
              "            text-align:  left;\n",
              "        }    #T_0412e4fa_aa82_11ea_a931_0242ac1c0002row4_col0 {\n",
              "            text-align:  left;\n",
              "        }    #T_0412e4fa_aa82_11ea_a931_0242ac1c0002row4_col1 {\n",
              "            : ;\n",
              "            text-align:  left;\n",
              "        }    #T_0412e4fa_aa82_11ea_a931_0242ac1c0002row4_col2 {\n",
              "            : ;\n",
              "            text-align:  left;\n",
              "        }    #T_0412e4fa_aa82_11ea_a931_0242ac1c0002row4_col3 {\n",
              "            : ;\n",
              "            text-align:  left;\n",
              "        }    #T_0412e4fa_aa82_11ea_a931_0242ac1c0002row4_col4 {\n",
              "            : ;\n",
              "            text-align:  left;\n",
              "        }    #T_0412e4fa_aa82_11ea_a931_0242ac1c0002row4_col5 {\n",
              "            : ;\n",
              "            text-align:  left;\n",
              "        }    #T_0412e4fa_aa82_11ea_a931_0242ac1c0002row4_col6 {\n",
              "            : ;\n",
              "            text-align:  left;\n",
              "        }    #T_0412e4fa_aa82_11ea_a931_0242ac1c0002row5_col0 {\n",
              "            text-align:  left;\n",
              "        }    #T_0412e4fa_aa82_11ea_a931_0242ac1c0002row5_col1 {\n",
              "            : ;\n",
              "            text-align:  left;\n",
              "        }    #T_0412e4fa_aa82_11ea_a931_0242ac1c0002row5_col2 {\n",
              "            : ;\n",
              "            text-align:  left;\n",
              "        }    #T_0412e4fa_aa82_11ea_a931_0242ac1c0002row5_col3 {\n",
              "            : ;\n",
              "            text-align:  left;\n",
              "        }    #T_0412e4fa_aa82_11ea_a931_0242ac1c0002row5_col4 {\n",
              "            : ;\n",
              "            text-align:  left;\n",
              "        }    #T_0412e4fa_aa82_11ea_a931_0242ac1c0002row5_col5 {\n",
              "            : ;\n",
              "            text-align:  left;\n",
              "        }    #T_0412e4fa_aa82_11ea_a931_0242ac1c0002row5_col6 {\n",
              "            : ;\n",
              "            text-align:  left;\n",
              "        }    #T_0412e4fa_aa82_11ea_a931_0242ac1c0002row6_col0 {\n",
              "            text-align:  left;\n",
              "        }    #T_0412e4fa_aa82_11ea_a931_0242ac1c0002row6_col1 {\n",
              "            : ;\n",
              "            text-align:  left;\n",
              "        }    #T_0412e4fa_aa82_11ea_a931_0242ac1c0002row6_col2 {\n",
              "            : ;\n",
              "            text-align:  left;\n",
              "        }    #T_0412e4fa_aa82_11ea_a931_0242ac1c0002row6_col3 {\n",
              "            : ;\n",
              "            text-align:  left;\n",
              "        }    #T_0412e4fa_aa82_11ea_a931_0242ac1c0002row6_col4 {\n",
              "            : ;\n",
              "            text-align:  left;\n",
              "        }    #T_0412e4fa_aa82_11ea_a931_0242ac1c0002row6_col5 {\n",
              "            : ;\n",
              "            text-align:  left;\n",
              "        }    #T_0412e4fa_aa82_11ea_a931_0242ac1c0002row6_col6 {\n",
              "            : ;\n",
              "            text-align:  left;\n",
              "        }    #T_0412e4fa_aa82_11ea_a931_0242ac1c0002row7_col0 {\n",
              "            text-align:  left;\n",
              "        }    #T_0412e4fa_aa82_11ea_a931_0242ac1c0002row7_col1 {\n",
              "            : ;\n",
              "            text-align:  left;\n",
              "        }    #T_0412e4fa_aa82_11ea_a931_0242ac1c0002row7_col2 {\n",
              "            : ;\n",
              "            text-align:  left;\n",
              "        }    #T_0412e4fa_aa82_11ea_a931_0242ac1c0002row7_col3 {\n",
              "            : ;\n",
              "            text-align:  left;\n",
              "        }    #T_0412e4fa_aa82_11ea_a931_0242ac1c0002row7_col4 {\n",
              "            : ;\n",
              "            text-align:  left;\n",
              "        }    #T_0412e4fa_aa82_11ea_a931_0242ac1c0002row7_col5 {\n",
              "            : ;\n",
              "            text-align:  left;\n",
              "        }    #T_0412e4fa_aa82_11ea_a931_0242ac1c0002row7_col6 {\n",
              "            : ;\n",
              "            text-align:  left;\n",
              "        }    #T_0412e4fa_aa82_11ea_a931_0242ac1c0002row8_col0 {\n",
              "            text-align:  left;\n",
              "        }    #T_0412e4fa_aa82_11ea_a931_0242ac1c0002row8_col1 {\n",
              "            : ;\n",
              "            text-align:  left;\n",
              "        }    #T_0412e4fa_aa82_11ea_a931_0242ac1c0002row8_col2 {\n",
              "            : ;\n",
              "            text-align:  left;\n",
              "        }    #T_0412e4fa_aa82_11ea_a931_0242ac1c0002row8_col3 {\n",
              "            : ;\n",
              "            text-align:  left;\n",
              "        }    #T_0412e4fa_aa82_11ea_a931_0242ac1c0002row8_col4 {\n",
              "            : ;\n",
              "            text-align:  left;\n",
              "        }    #T_0412e4fa_aa82_11ea_a931_0242ac1c0002row8_col5 {\n",
              "            : ;\n",
              "            text-align:  left;\n",
              "        }    #T_0412e4fa_aa82_11ea_a931_0242ac1c0002row8_col6 {\n",
              "            : ;\n",
              "            text-align:  left;\n",
              "        }    #T_0412e4fa_aa82_11ea_a931_0242ac1c0002row9_col0 {\n",
              "            text-align:  left;\n",
              "        }    #T_0412e4fa_aa82_11ea_a931_0242ac1c0002row9_col1 {\n",
              "            : ;\n",
              "            text-align:  left;\n",
              "        }    #T_0412e4fa_aa82_11ea_a931_0242ac1c0002row9_col2 {\n",
              "            : ;\n",
              "            text-align:  left;\n",
              "        }    #T_0412e4fa_aa82_11ea_a931_0242ac1c0002row9_col3 {\n",
              "            : ;\n",
              "            text-align:  left;\n",
              "        }    #T_0412e4fa_aa82_11ea_a931_0242ac1c0002row9_col4 {\n",
              "            : ;\n",
              "            text-align:  left;\n",
              "        }    #T_0412e4fa_aa82_11ea_a931_0242ac1c0002row9_col5 {\n",
              "            : ;\n",
              "            text-align:  left;\n",
              "        }    #T_0412e4fa_aa82_11ea_a931_0242ac1c0002row9_col6 {\n",
              "            : ;\n",
              "            text-align:  left;\n",
              "        }    #T_0412e4fa_aa82_11ea_a931_0242ac1c0002row10_col0 {\n",
              "            text-align:  left;\n",
              "        }    #T_0412e4fa_aa82_11ea_a931_0242ac1c0002row10_col1 {\n",
              "            : ;\n",
              "            text-align:  left;\n",
              "        }    #T_0412e4fa_aa82_11ea_a931_0242ac1c0002row10_col2 {\n",
              "            : ;\n",
              "            text-align:  left;\n",
              "        }    #T_0412e4fa_aa82_11ea_a931_0242ac1c0002row10_col3 {\n",
              "            : ;\n",
              "            text-align:  left;\n",
              "        }    #T_0412e4fa_aa82_11ea_a931_0242ac1c0002row10_col4 {\n",
              "            : ;\n",
              "            text-align:  left;\n",
              "        }    #T_0412e4fa_aa82_11ea_a931_0242ac1c0002row10_col5 {\n",
              "            : ;\n",
              "            text-align:  left;\n",
              "        }    #T_0412e4fa_aa82_11ea_a931_0242ac1c0002row10_col6 {\n",
              "            : ;\n",
              "            text-align:  left;\n",
              "        }    #T_0412e4fa_aa82_11ea_a931_0242ac1c0002row11_col0 {\n",
              "            text-align:  left;\n",
              "        }    #T_0412e4fa_aa82_11ea_a931_0242ac1c0002row11_col1 {\n",
              "            : ;\n",
              "            text-align:  left;\n",
              "        }    #T_0412e4fa_aa82_11ea_a931_0242ac1c0002row11_col2 {\n",
              "            : ;\n",
              "            text-align:  left;\n",
              "        }    #T_0412e4fa_aa82_11ea_a931_0242ac1c0002row11_col3 {\n",
              "            : ;\n",
              "            text-align:  left;\n",
              "        }    #T_0412e4fa_aa82_11ea_a931_0242ac1c0002row11_col4 {\n",
              "            : ;\n",
              "            text-align:  left;\n",
              "        }    #T_0412e4fa_aa82_11ea_a931_0242ac1c0002row11_col5 {\n",
              "            : ;\n",
              "            text-align:  left;\n",
              "        }    #T_0412e4fa_aa82_11ea_a931_0242ac1c0002row11_col6 {\n",
              "            : ;\n",
              "            text-align:  left;\n",
              "        }    #T_0412e4fa_aa82_11ea_a931_0242ac1c0002row12_col0 {\n",
              "            text-align:  left;\n",
              "        }    #T_0412e4fa_aa82_11ea_a931_0242ac1c0002row12_col1 {\n",
              "            : ;\n",
              "            text-align:  left;\n",
              "        }    #T_0412e4fa_aa82_11ea_a931_0242ac1c0002row12_col2 {\n",
              "            : ;\n",
              "            text-align:  left;\n",
              "        }    #T_0412e4fa_aa82_11ea_a931_0242ac1c0002row12_col3 {\n",
              "            background-color:  yellow;\n",
              "            text-align:  left;\n",
              "        }    #T_0412e4fa_aa82_11ea_a931_0242ac1c0002row12_col4 {\n",
              "            : ;\n",
              "            text-align:  left;\n",
              "        }    #T_0412e4fa_aa82_11ea_a931_0242ac1c0002row12_col5 {\n",
              "            background-color:  yellow;\n",
              "            text-align:  left;\n",
              "        }    #T_0412e4fa_aa82_11ea_a931_0242ac1c0002row12_col6 {\n",
              "            background-color:  yellow;\n",
              "            text-align:  left;\n",
              "        }    #T_0412e4fa_aa82_11ea_a931_0242ac1c0002row13_col0 {\n",
              "            text-align:  left;\n",
              "        }    #T_0412e4fa_aa82_11ea_a931_0242ac1c0002row13_col1 {\n",
              "            : ;\n",
              "            text-align:  left;\n",
              "        }    #T_0412e4fa_aa82_11ea_a931_0242ac1c0002row13_col2 {\n",
              "            : ;\n",
              "            text-align:  left;\n",
              "        }    #T_0412e4fa_aa82_11ea_a931_0242ac1c0002row13_col3 {\n",
              "            : ;\n",
              "            text-align:  left;\n",
              "        }    #T_0412e4fa_aa82_11ea_a931_0242ac1c0002row13_col4 {\n",
              "            : ;\n",
              "            text-align:  left;\n",
              "        }    #T_0412e4fa_aa82_11ea_a931_0242ac1c0002row13_col5 {\n",
              "            : ;\n",
              "            text-align:  left;\n",
              "        }    #T_0412e4fa_aa82_11ea_a931_0242ac1c0002row13_col6 {\n",
              "            : ;\n",
              "            text-align:  left;\n",
              "        }    #T_0412e4fa_aa82_11ea_a931_0242ac1c0002row14_col0 {\n",
              "            text-align:  left;\n",
              "        }    #T_0412e4fa_aa82_11ea_a931_0242ac1c0002row14_col1 {\n",
              "            : ;\n",
              "            text-align:  left;\n",
              "        }    #T_0412e4fa_aa82_11ea_a931_0242ac1c0002row14_col2 {\n",
              "            : ;\n",
              "            text-align:  left;\n",
              "        }    #T_0412e4fa_aa82_11ea_a931_0242ac1c0002row14_col3 {\n",
              "            : ;\n",
              "            text-align:  left;\n",
              "        }    #T_0412e4fa_aa82_11ea_a931_0242ac1c0002row14_col4 {\n",
              "            : ;\n",
              "            text-align:  left;\n",
              "        }    #T_0412e4fa_aa82_11ea_a931_0242ac1c0002row14_col5 {\n",
              "            : ;\n",
              "            text-align:  left;\n",
              "        }    #T_0412e4fa_aa82_11ea_a931_0242ac1c0002row14_col6 {\n",
              "            : ;\n",
              "            text-align:  left;\n",
              "        }</style><table id=\"T_0412e4fa_aa82_11ea_a931_0242ac1c0002\" ><thead>    <tr>        <th class=\"blank level0\" ></th>        <th class=\"col_heading level0 col0\" >Model</th>        <th class=\"col_heading level0 col1\" >Accuracy</th>        <th class=\"col_heading level0 col2\" >AUC</th>        <th class=\"col_heading level0 col3\" >Recall</th>        <th class=\"col_heading level0 col4\" >Prec.</th>        <th class=\"col_heading level0 col5\" >F1</th>        <th class=\"col_heading level0 col6\" >Kappa</th>    </tr></thead><tbody>\n",
              "                <tr>\n",
              "                        <th id=\"T_0412e4fa_aa82_11ea_a931_0242ac1c0002level0_row0\" class=\"row_heading level0 row0\" >0</th>\n",
              "                        <td id=\"T_0412e4fa_aa82_11ea_a931_0242ac1c0002row0_col0\" class=\"data row0 col0\" >Logistic Regression</td>\n",
              "                        <td id=\"T_0412e4fa_aa82_11ea_a931_0242ac1c0002row0_col1\" class=\"data row0 col1\" >0.868000</td>\n",
              "                        <td id=\"T_0412e4fa_aa82_11ea_a931_0242ac1c0002row0_col2\" class=\"data row0 col2\" >0.603000</td>\n",
              "                        <td id=\"T_0412e4fa_aa82_11ea_a931_0242ac1c0002row0_col3\" class=\"data row0 col3\" >0.000000</td>\n",
              "                        <td id=\"T_0412e4fa_aa82_11ea_a931_0242ac1c0002row0_col4\" class=\"data row0 col4\" >0.000000</td>\n",
              "                        <td id=\"T_0412e4fa_aa82_11ea_a931_0242ac1c0002row0_col5\" class=\"data row0 col5\" >0.000000</td>\n",
              "                        <td id=\"T_0412e4fa_aa82_11ea_a931_0242ac1c0002row0_col6\" class=\"data row0 col6\" >0.000000</td>\n",
              "            </tr>\n",
              "            <tr>\n",
              "                        <th id=\"T_0412e4fa_aa82_11ea_a931_0242ac1c0002level0_row1\" class=\"row_heading level0 row1\" >1</th>\n",
              "                        <td id=\"T_0412e4fa_aa82_11ea_a931_0242ac1c0002row1_col0\" class=\"data row1 col0\" >Ridge Classifier</td>\n",
              "                        <td id=\"T_0412e4fa_aa82_11ea_a931_0242ac1c0002row1_col1\" class=\"data row1 col1\" >0.868000</td>\n",
              "                        <td id=\"T_0412e4fa_aa82_11ea_a931_0242ac1c0002row1_col2\" class=\"data row1 col2\" >0.000000</td>\n",
              "                        <td id=\"T_0412e4fa_aa82_11ea_a931_0242ac1c0002row1_col3\" class=\"data row1 col3\" >0.000000</td>\n",
              "                        <td id=\"T_0412e4fa_aa82_11ea_a931_0242ac1c0002row1_col4\" class=\"data row1 col4\" >0.000000</td>\n",
              "                        <td id=\"T_0412e4fa_aa82_11ea_a931_0242ac1c0002row1_col5\" class=\"data row1 col5\" >0.000000</td>\n",
              "                        <td id=\"T_0412e4fa_aa82_11ea_a931_0242ac1c0002row1_col6\" class=\"data row1 col6\" >0.000000</td>\n",
              "            </tr>\n",
              "            <tr>\n",
              "                        <th id=\"T_0412e4fa_aa82_11ea_a931_0242ac1c0002level0_row2\" class=\"row_heading level0 row2\" >2</th>\n",
              "                        <td id=\"T_0412e4fa_aa82_11ea_a931_0242ac1c0002row2_col0\" class=\"data row2 col0\" >Gradient Boosting Classifier</td>\n",
              "                        <td id=\"T_0412e4fa_aa82_11ea_a931_0242ac1c0002row2_col1\" class=\"data row2 col1\" >0.867000</td>\n",
              "                        <td id=\"T_0412e4fa_aa82_11ea_a931_0242ac1c0002row2_col2\" class=\"data row2 col2\" >0.657000</td>\n",
              "                        <td id=\"T_0412e4fa_aa82_11ea_a931_0242ac1c0002row2_col3\" class=\"data row2 col3\" >0.005000</td>\n",
              "                        <td id=\"T_0412e4fa_aa82_11ea_a931_0242ac1c0002row2_col4\" class=\"data row2 col4\" >0.278000</td>\n",
              "                        <td id=\"T_0412e4fa_aa82_11ea_a931_0242ac1c0002row2_col5\" class=\"data row2 col5\" >0.010000</td>\n",
              "                        <td id=\"T_0412e4fa_aa82_11ea_a931_0242ac1c0002row2_col6\" class=\"data row2 col6\" >0.006000</td>\n",
              "            </tr>\n",
              "            <tr>\n",
              "                        <th id=\"T_0412e4fa_aa82_11ea_a931_0242ac1c0002level0_row3\" class=\"row_heading level0 row3\" >3</th>\n",
              "                        <td id=\"T_0412e4fa_aa82_11ea_a931_0242ac1c0002row3_col0\" class=\"data row3 col0\" >Linear Discriminant Analysis</td>\n",
              "                        <td id=\"T_0412e4fa_aa82_11ea_a931_0242ac1c0002row3_col1\" class=\"data row3 col1\" >0.867000</td>\n",
              "                        <td id=\"T_0412e4fa_aa82_11ea_a931_0242ac1c0002row3_col2\" class=\"data row3 col2\" >0.655000</td>\n",
              "                        <td id=\"T_0412e4fa_aa82_11ea_a931_0242ac1c0002row3_col3\" class=\"data row3 col3\" >0.014000</td>\n",
              "                        <td id=\"T_0412e4fa_aa82_11ea_a931_0242ac1c0002row3_col4\" class=\"data row3 col4\" >0.354000</td>\n",
              "                        <td id=\"T_0412e4fa_aa82_11ea_a931_0242ac1c0002row3_col5\" class=\"data row3 col5\" >0.027000</td>\n",
              "                        <td id=\"T_0412e4fa_aa82_11ea_a931_0242ac1c0002row3_col6\" class=\"data row3 col6\" >0.018000</td>\n",
              "            </tr>\n",
              "            <tr>\n",
              "                        <th id=\"T_0412e4fa_aa82_11ea_a931_0242ac1c0002level0_row4\" class=\"row_heading level0 row4\" >4</th>\n",
              "                        <td id=\"T_0412e4fa_aa82_11ea_a931_0242ac1c0002row4_col0\" class=\"data row4 col0\" >Extreme Gradient Boosting</td>\n",
              "                        <td id=\"T_0412e4fa_aa82_11ea_a931_0242ac1c0002row4_col1\" class=\"data row4 col1\" >0.867000</td>\n",
              "                        <td id=\"T_0412e4fa_aa82_11ea_a931_0242ac1c0002row4_col2\" class=\"data row4 col2\" >0.655000</td>\n",
              "                        <td id=\"T_0412e4fa_aa82_11ea_a931_0242ac1c0002row4_col3\" class=\"data row4 col3\" >0.001000</td>\n",
              "                        <td id=\"T_0412e4fa_aa82_11ea_a931_0242ac1c0002row4_col4\" class=\"data row4 col4\" >0.040000</td>\n",
              "                        <td id=\"T_0412e4fa_aa82_11ea_a931_0242ac1c0002row4_col5\" class=\"data row4 col5\" >0.001000</td>\n",
              "                        <td id=\"T_0412e4fa_aa82_11ea_a931_0242ac1c0002row4_col6\" class=\"data row4 col6\" >-0.000000</td>\n",
              "            </tr>\n",
              "            <tr>\n",
              "                        <th id=\"T_0412e4fa_aa82_11ea_a931_0242ac1c0002level0_row5\" class=\"row_heading level0 row5\" >5</th>\n",
              "                        <td id=\"T_0412e4fa_aa82_11ea_a931_0242ac1c0002row5_col0\" class=\"data row5 col0\" >Ada Boost Classifier</td>\n",
              "                        <td id=\"T_0412e4fa_aa82_11ea_a931_0242ac1c0002row5_col1\" class=\"data row5 col1\" >0.866000</td>\n",
              "                        <td id=\"T_0412e4fa_aa82_11ea_a931_0242ac1c0002row5_col2\" class=\"data row5 col2\" >0.642000</td>\n",
              "                        <td id=\"T_0412e4fa_aa82_11ea_a931_0242ac1c0002row5_col3\" class=\"data row5 col3\" >0.008000</td>\n",
              "                        <td id=\"T_0412e4fa_aa82_11ea_a931_0242ac1c0002row5_col4\" class=\"data row5 col4\" >0.219000</td>\n",
              "                        <td id=\"T_0412e4fa_aa82_11ea_a931_0242ac1c0002row5_col5\" class=\"data row5 col5\" >0.015000</td>\n",
              "                        <td id=\"T_0412e4fa_aa82_11ea_a931_0242ac1c0002row5_col6\" class=\"data row5 col6\" >0.008000</td>\n",
              "            </tr>\n",
              "            <tr>\n",
              "                        <th id=\"T_0412e4fa_aa82_11ea_a931_0242ac1c0002level0_row6\" class=\"row_heading level0 row6\" >6</th>\n",
              "                        <td id=\"T_0412e4fa_aa82_11ea_a931_0242ac1c0002row6_col0\" class=\"data row6 col0\" >Light Gradient Boosting Machine</td>\n",
              "                        <td id=\"T_0412e4fa_aa82_11ea_a931_0242ac1c0002row6_col1\" class=\"data row6 col1\" >0.866000</td>\n",
              "                        <td id=\"T_0412e4fa_aa82_11ea_a931_0242ac1c0002row6_col2\" class=\"data row6 col2\" >0.635000</td>\n",
              "                        <td id=\"T_0412e4fa_aa82_11ea_a931_0242ac1c0002row6_col3\" class=\"data row6 col3\" >0.014000</td>\n",
              "                        <td id=\"T_0412e4fa_aa82_11ea_a931_0242ac1c0002row6_col4\" class=\"data row6 col4\" >0.314000</td>\n",
              "                        <td id=\"T_0412e4fa_aa82_11ea_a931_0242ac1c0002row6_col5\" class=\"data row6 col5\" >0.027000</td>\n",
              "                        <td id=\"T_0412e4fa_aa82_11ea_a931_0242ac1c0002row6_col6\" class=\"data row6 col6\" >0.016000</td>\n",
              "            </tr>\n",
              "            <tr>\n",
              "                        <th id=\"T_0412e4fa_aa82_11ea_a931_0242ac1c0002level0_row7\" class=\"row_heading level0 row7\" >7</th>\n",
              "                        <td id=\"T_0412e4fa_aa82_11ea_a931_0242ac1c0002row7_col0\" class=\"data row7 col0\" >CatBoost Classifier</td>\n",
              "                        <td id=\"T_0412e4fa_aa82_11ea_a931_0242ac1c0002row7_col1\" class=\"data row7 col1\" >0.865000</td>\n",
              "                        <td id=\"T_0412e4fa_aa82_11ea_a931_0242ac1c0002row7_col2\" class=\"data row7 col2\" >0.640000</td>\n",
              "                        <td id=\"T_0412e4fa_aa82_11ea_a931_0242ac1c0002row7_col3\" class=\"data row7 col3\" >0.009000</td>\n",
              "                        <td id=\"T_0412e4fa_aa82_11ea_a931_0242ac1c0002row7_col4\" class=\"data row7 col4\" >0.256000</td>\n",
              "                        <td id=\"T_0412e4fa_aa82_11ea_a931_0242ac1c0002row7_col5\" class=\"data row7 col5\" >0.018000</td>\n",
              "                        <td id=\"T_0412e4fa_aa82_11ea_a931_0242ac1c0002row7_col6\" class=\"data row7 col6\" >0.009000</td>\n",
              "            </tr>\n",
              "            <tr>\n",
              "                        <th id=\"T_0412e4fa_aa82_11ea_a931_0242ac1c0002level0_row8\" class=\"row_heading level0 row8\" >8</th>\n",
              "                        <td id=\"T_0412e4fa_aa82_11ea_a931_0242ac1c0002row8_col0\" class=\"data row8 col0\" >Random Forest Classifier</td>\n",
              "                        <td id=\"T_0412e4fa_aa82_11ea_a931_0242ac1c0002row8_col1\" class=\"data row8 col1\" >0.858000</td>\n",
              "                        <td id=\"T_0412e4fa_aa82_11ea_a931_0242ac1c0002row8_col2\" class=\"data row8 col2\" >0.594000</td>\n",
              "                        <td id=\"T_0412e4fa_aa82_11ea_a931_0242ac1c0002row8_col3\" class=\"data row8 col3\" >0.043000</td>\n",
              "                        <td id=\"T_0412e4fa_aa82_11ea_a931_0242ac1c0002row8_col4\" class=\"data row8 col4\" >0.261000</td>\n",
              "                        <td id=\"T_0412e4fa_aa82_11ea_a931_0242ac1c0002row8_col5\" class=\"data row8 col5\" >0.074000</td>\n",
              "                        <td id=\"T_0412e4fa_aa82_11ea_a931_0242ac1c0002row8_col6\" class=\"data row8 col6\" >0.038000</td>\n",
              "            </tr>\n",
              "            <tr>\n",
              "                        <th id=\"T_0412e4fa_aa82_11ea_a931_0242ac1c0002level0_row9\" class=\"row_heading level0 row9\" >9</th>\n",
              "                        <td id=\"T_0412e4fa_aa82_11ea_a931_0242ac1c0002row9_col0\" class=\"data row9 col0\" >K Neighbors Classifier</td>\n",
              "                        <td id=\"T_0412e4fa_aa82_11ea_a931_0242ac1c0002row9_col1\" class=\"data row9 col1\" >0.853000</td>\n",
              "                        <td id=\"T_0412e4fa_aa82_11ea_a931_0242ac1c0002row9_col2\" class=\"data row9 col2\" >0.508000</td>\n",
              "                        <td id=\"T_0412e4fa_aa82_11ea_a931_0242ac1c0002row9_col3\" class=\"data row9 col3\" >0.024000</td>\n",
              "                        <td id=\"T_0412e4fa_aa82_11ea_a931_0242ac1c0002row9_col4\" class=\"data row9 col4\" >0.153000</td>\n",
              "                        <td id=\"T_0412e4fa_aa82_11ea_a931_0242ac1c0002row9_col5\" class=\"data row9 col5\" >0.042000</td>\n",
              "                        <td id=\"T_0412e4fa_aa82_11ea_a931_0242ac1c0002row9_col6\" class=\"data row9 col6\" >0.005000</td>\n",
              "            </tr>\n",
              "            <tr>\n",
              "                        <th id=\"T_0412e4fa_aa82_11ea_a931_0242ac1c0002level0_row10\" class=\"row_heading level0 row10\" >10</th>\n",
              "                        <td id=\"T_0412e4fa_aa82_11ea_a931_0242ac1c0002row10_col0\" class=\"data row10 col0\" >Naive Bayes</td>\n",
              "                        <td id=\"T_0412e4fa_aa82_11ea_a931_0242ac1c0002row10_col1\" class=\"data row10 col1\" >0.843000</td>\n",
              "                        <td id=\"T_0412e4fa_aa82_11ea_a931_0242ac1c0002row10_col2\" class=\"data row10 col2\" >0.614000</td>\n",
              "                        <td id=\"T_0412e4fa_aa82_11ea_a931_0242ac1c0002row10_col3\" class=\"data row10 col3\" >0.094000</td>\n",
              "                        <td id=\"T_0412e4fa_aa82_11ea_a931_0242ac1c0002row10_col4\" class=\"data row10 col4\" >0.254000</td>\n",
              "                        <td id=\"T_0412e4fa_aa82_11ea_a931_0242ac1c0002row10_col5\" class=\"data row10 col5\" >0.137000</td>\n",
              "                        <td id=\"T_0412e4fa_aa82_11ea_a931_0242ac1c0002row10_col6\" class=\"data row10 col6\" >0.070000</td>\n",
              "            </tr>\n",
              "            <tr>\n",
              "                        <th id=\"T_0412e4fa_aa82_11ea_a931_0242ac1c0002level0_row11\" class=\"row_heading level0 row11\" >11</th>\n",
              "                        <td id=\"T_0412e4fa_aa82_11ea_a931_0242ac1c0002row11_col0\" class=\"data row11 col0\" >Extra Trees Classifier</td>\n",
              "                        <td id=\"T_0412e4fa_aa82_11ea_a931_0242ac1c0002row11_col1\" class=\"data row11 col1\" >0.843000</td>\n",
              "                        <td id=\"T_0412e4fa_aa82_11ea_a931_0242ac1c0002row11_col2\" class=\"data row11 col2\" >0.597000</td>\n",
              "                        <td id=\"T_0412e4fa_aa82_11ea_a931_0242ac1c0002row11_col3\" class=\"data row11 col3\" >0.071000</td>\n",
              "                        <td id=\"T_0412e4fa_aa82_11ea_a931_0242ac1c0002row11_col4\" class=\"data row11 col4\" >0.215000</td>\n",
              "                        <td id=\"T_0412e4fa_aa82_11ea_a931_0242ac1c0002row11_col5\" class=\"data row11 col5\" >0.106000</td>\n",
              "                        <td id=\"T_0412e4fa_aa82_11ea_a931_0242ac1c0002row11_col6\" class=\"data row11 col6\" >0.044000</td>\n",
              "            </tr>\n",
              "            <tr>\n",
              "                        <th id=\"T_0412e4fa_aa82_11ea_a931_0242ac1c0002level0_row12\" class=\"row_heading level0 row12\" >12</th>\n",
              "                        <td id=\"T_0412e4fa_aa82_11ea_a931_0242ac1c0002row12_col0\" class=\"data row12 col0\" >Quadratic Discriminant Analysis</td>\n",
              "                        <td id=\"T_0412e4fa_aa82_11ea_a931_0242ac1c0002row12_col1\" class=\"data row12 col1\" >0.777000</td>\n",
              "                        <td id=\"T_0412e4fa_aa82_11ea_a931_0242ac1c0002row12_col2\" class=\"data row12 col2\" >0.618000</td>\n",
              "                        <td id=\"T_0412e4fa_aa82_11ea_a931_0242ac1c0002row12_col3\" class=\"data row12 col3\" >0.257000</td>\n",
              "                        <td id=\"T_0412e4fa_aa82_11ea_a931_0242ac1c0002row12_col4\" class=\"data row12 col4\" >0.213000</td>\n",
              "                        <td id=\"T_0412e4fa_aa82_11ea_a931_0242ac1c0002row12_col5\" class=\"data row12 col5\" >0.232000</td>\n",
              "                        <td id=\"T_0412e4fa_aa82_11ea_a931_0242ac1c0002row12_col6\" class=\"data row12 col6\" >0.103000</td>\n",
              "            </tr>\n",
              "            <tr>\n",
              "                        <th id=\"T_0412e4fa_aa82_11ea_a931_0242ac1c0002level0_row13\" class=\"row_heading level0 row13\" >13</th>\n",
              "                        <td id=\"T_0412e4fa_aa82_11ea_a931_0242ac1c0002row13_col0\" class=\"data row13 col0\" >Decision Tree Classifier</td>\n",
              "                        <td id=\"T_0412e4fa_aa82_11ea_a931_0242ac1c0002row13_col1\" class=\"data row13 col1\" >0.770000</td>\n",
              "                        <td id=\"T_0412e4fa_aa82_11ea_a931_0242ac1c0002row13_col2\" class=\"data row13 col2\" >0.526000</td>\n",
              "                        <td id=\"T_0412e4fa_aa82_11ea_a931_0242ac1c0002row13_col3\" class=\"data row13 col3\" >0.196000</td>\n",
              "                        <td id=\"T_0412e4fa_aa82_11ea_a931_0242ac1c0002row13_col4\" class=\"data row13 col4\" >0.172000</td>\n",
              "                        <td id=\"T_0412e4fa_aa82_11ea_a931_0242ac1c0002row13_col5\" class=\"data row13 col5\" >0.183000</td>\n",
              "                        <td id=\"T_0412e4fa_aa82_11ea_a931_0242ac1c0002row13_col6\" class=\"data row13 col6\" >0.050000</td>\n",
              "            </tr>\n",
              "            <tr>\n",
              "                        <th id=\"T_0412e4fa_aa82_11ea_a931_0242ac1c0002level0_row14\" class=\"row_heading level0 row14\" >14</th>\n",
              "                        <td id=\"T_0412e4fa_aa82_11ea_a931_0242ac1c0002row14_col0\" class=\"data row14 col0\" >SVM - Linear Kernel</td>\n",
              "                        <td id=\"T_0412e4fa_aa82_11ea_a931_0242ac1c0002row14_col1\" class=\"data row14 col1\" >0.723000</td>\n",
              "                        <td id=\"T_0412e4fa_aa82_11ea_a931_0242ac1c0002row14_col2\" class=\"data row14 col2\" >0.000000</td>\n",
              "                        <td id=\"T_0412e4fa_aa82_11ea_a931_0242ac1c0002row14_col3\" class=\"data row14 col3\" >0.200000</td>\n",
              "                        <td id=\"T_0412e4fa_aa82_11ea_a931_0242ac1c0002row14_col4\" class=\"data row14 col4\" >0.050000</td>\n",
              "                        <td id=\"T_0412e4fa_aa82_11ea_a931_0242ac1c0002row14_col5\" class=\"data row14 col5\" >0.052000</td>\n",
              "                        <td id=\"T_0412e4fa_aa82_11ea_a931_0242ac1c0002row14_col6\" class=\"data row14 col6\" >0.000000</td>\n",
              "            </tr>\n",
              "    </tbody></table>"
            ],
            "text/plain": [
              "<pandas.io.formats.style.Styler at 0x7fe1f5ce4f60>"
            ]
          },
          "metadata": {
            "tags": []
          },
          "execution_count": 60
        }
      ]
    },
    {
      "cell_type": "markdown",
      "metadata": {
        "id": "Ga-fXYljWTIB",
        "colab_type": "text"
      },
      "source": [
        "XG boost performs beeter than Gradeint boosting after feature engineering."
      ]
    },
    {
      "cell_type": "markdown",
      "metadata": {
        "id": "9FoYfBAlWfas",
        "colab_type": "text"
      },
      "source": [
        "## Hyperparameter tuning"
      ]
    },
    {
      "cell_type": "code",
      "metadata": {
        "id": "NxG4R1l9Vp4H",
        "colab_type": "code",
        "colab": {
          "base_uri": "https://localhost:8080/",
          "height": 417,
          "referenced_widgets": [
            "04cb53192dd040e38aaedd0b25635201",
            "3c52946399c644cbb74402466dbe755e",
            "7959eb2dfd954be39d9a5ed3bc4635ec"
          ]
        },
        "outputId": "e6384a43-2b57-45a4-9816-f165b2e7ca26"
      },
      "source": [
        "classification_xgb = create_model('xgboost')"
      ],
      "execution_count": 61,
      "outputs": [
        {
          "output_type": "display_data",
          "data": {
            "text/html": [
              "<div>\n",
              "<style scoped>\n",
              "    .dataframe tbody tr th:only-of-type {\n",
              "        vertical-align: middle;\n",
              "    }\n",
              "\n",
              "    .dataframe tbody tr th {\n",
              "        vertical-align: top;\n",
              "    }\n",
              "\n",
              "    .dataframe thead th {\n",
              "        text-align: right;\n",
              "    }\n",
              "</style>\n",
              "<table border=\"1\" class=\"dataframe\">\n",
              "  <thead>\n",
              "    <tr style=\"text-align: right;\">\n",
              "      <th></th>\n",
              "      <th>Accuracy</th>\n",
              "      <th>AUC</th>\n",
              "      <th>Recall</th>\n",
              "      <th>Prec.</th>\n",
              "      <th>F1</th>\n",
              "      <th>Kappa</th>\n",
              "    </tr>\n",
              "  </thead>\n",
              "  <tbody>\n",
              "    <tr>\n",
              "      <th>0</th>\n",
              "      <td>0.8678</td>\n",
              "      <td>0.6255</td>\n",
              "      <td>0.0000</td>\n",
              "      <td>0.00</td>\n",
              "      <td>0.0000</td>\n",
              "      <td>0.0000</td>\n",
              "    </tr>\n",
              "    <tr>\n",
              "      <th>1</th>\n",
              "      <td>0.8685</td>\n",
              "      <td>0.6520</td>\n",
              "      <td>0.0000</td>\n",
              "      <td>0.00</td>\n",
              "      <td>0.0000</td>\n",
              "      <td>0.0000</td>\n",
              "    </tr>\n",
              "    <tr>\n",
              "      <th>2</th>\n",
              "      <td>0.8685</td>\n",
              "      <td>0.6541</td>\n",
              "      <td>0.0059</td>\n",
              "      <td>0.50</td>\n",
              "      <td>0.0117</td>\n",
              "      <td>0.0086</td>\n",
              "    </tr>\n",
              "    <tr>\n",
              "      <th>3</th>\n",
              "      <td>0.8677</td>\n",
              "      <td>0.6531</td>\n",
              "      <td>0.0000</td>\n",
              "      <td>0.00</td>\n",
              "      <td>0.0000</td>\n",
              "      <td>-0.0015</td>\n",
              "    </tr>\n",
              "    <tr>\n",
              "      <th>4</th>\n",
              "      <td>0.8677</td>\n",
              "      <td>0.6387</td>\n",
              "      <td>0.0000</td>\n",
              "      <td>0.00</td>\n",
              "      <td>0.0000</td>\n",
              "      <td>0.0000</td>\n",
              "    </tr>\n",
              "    <tr>\n",
              "      <th>5</th>\n",
              "      <td>0.8654</td>\n",
              "      <td>0.6613</td>\n",
              "      <td>0.0000</td>\n",
              "      <td>0.00</td>\n",
              "      <td>0.0000</td>\n",
              "      <td>-0.0046</td>\n",
              "    </tr>\n",
              "    <tr>\n",
              "      <th>6</th>\n",
              "      <td>0.8677</td>\n",
              "      <td>0.6790</td>\n",
              "      <td>0.0000</td>\n",
              "      <td>0.00</td>\n",
              "      <td>0.0000</td>\n",
              "      <td>0.0000</td>\n",
              "    </tr>\n",
              "    <tr>\n",
              "      <th>7</th>\n",
              "      <td>0.8677</td>\n",
              "      <td>0.6566</td>\n",
              "      <td>0.0000</td>\n",
              "      <td>0.00</td>\n",
              "      <td>0.0000</td>\n",
              "      <td>0.0000</td>\n",
              "    </tr>\n",
              "    <tr>\n",
              "      <th>8</th>\n",
              "      <td>0.8669</td>\n",
              "      <td>0.6999</td>\n",
              "      <td>0.0000</td>\n",
              "      <td>0.00</td>\n",
              "      <td>0.0000</td>\n",
              "      <td>-0.0015</td>\n",
              "    </tr>\n",
              "    <tr>\n",
              "      <th>9</th>\n",
              "      <td>0.8677</td>\n",
              "      <td>0.6868</td>\n",
              "      <td>0.0000</td>\n",
              "      <td>0.00</td>\n",
              "      <td>0.0000</td>\n",
              "      <td>0.0000</td>\n",
              "    </tr>\n",
              "    <tr>\n",
              "      <th>Mean</th>\n",
              "      <td>0.8676</td>\n",
              "      <td>0.6607</td>\n",
              "      <td>0.0006</td>\n",
              "      <td>0.05</td>\n",
              "      <td>0.0012</td>\n",
              "      <td>0.0001</td>\n",
              "    </tr>\n",
              "    <tr>\n",
              "      <th>SD</th>\n",
              "      <td>0.0008</td>\n",
              "      <td>0.0211</td>\n",
              "      <td>0.0018</td>\n",
              "      <td>0.15</td>\n",
              "      <td>0.0035</td>\n",
              "      <td>0.0032</td>\n",
              "    </tr>\n",
              "  </tbody>\n",
              "</table>\n",
              "</div>"
            ],
            "text/plain": [
              "      Accuracy     AUC  Recall  Prec.      F1   Kappa\n",
              "0       0.8678  0.6255  0.0000   0.00  0.0000  0.0000\n",
              "1       0.8685  0.6520  0.0000   0.00  0.0000  0.0000\n",
              "2       0.8685  0.6541  0.0059   0.50  0.0117  0.0086\n",
              "3       0.8677  0.6531  0.0000   0.00  0.0000 -0.0015\n",
              "4       0.8677  0.6387  0.0000   0.00  0.0000  0.0000\n",
              "5       0.8654  0.6613  0.0000   0.00  0.0000 -0.0046\n",
              "6       0.8677  0.6790  0.0000   0.00  0.0000  0.0000\n",
              "7       0.8677  0.6566  0.0000   0.00  0.0000  0.0000\n",
              "8       0.8669  0.6999  0.0000   0.00  0.0000 -0.0015\n",
              "9       0.8677  0.6868  0.0000   0.00  0.0000  0.0000\n",
              "Mean    0.8676  0.6607  0.0006   0.05  0.0012  0.0001\n",
              "SD      0.0008  0.0211  0.0018   0.15  0.0035  0.0032"
            ]
          },
          "metadata": {
            "tags": []
          }
        }
      ]
    },
    {
      "cell_type": "code",
      "metadata": {
        "id": "ov2Oc_jSZoBh",
        "colab_type": "code",
        "colab": {
          "base_uri": "https://localhost:8080/",
          "height": 376,
          "referenced_widgets": [
            "98094cf7ad814d40bd7b8ae6e9c824e2"
          ]
        },
        "outputId": "0de2d528-0c3a-441e-90cc-ae36468f37c5"
      },
      "source": [
        "plot_model(classification_xgb, plot = 'auc')"
      ],
      "execution_count": 62,
      "outputs": [
        {
          "output_type": "display_data",
          "data": {
            "image/png": "[encoded data removed]",
            "text/plain": [
              "<Figure size 576x396 with 1 Axes>"
            ]
          },
          "metadata": {
            "tags": []
          }
        }
      ]
    },
    {
      "cell_type": "code",
      "metadata": {
        "id": "uQRib7q4ZxNJ",
        "colab_type": "code",
        "colab": {
          "base_uri": "https://localhost:8080/",
          "height": 417,
          "referenced_widgets": [
            "a191c5028a604e0996b3e146bbfb8db7",
            "7ee78edb4c0a450fafa01e2a7c31ba4a",
            "d9480865ed934134bd02d67f3e5757ce"
          ]
        },
        "outputId": "df1459d2-8946-4b0c-a0d8-6b0802511dbb"
      },
      "source": [
        "bagged_xgb = ensemble_model(classification_xgb)"
      ],
      "execution_count": 63,
      "outputs": [
        {
          "output_type": "display_data",
          "data": {
            "text/html": [
              "<div>\n",
              "<style scoped>\n",
              "    .dataframe tbody tr th:only-of-type {\n",
              "        vertical-align: middle;\n",
              "    }\n",
              "\n",
              "    .dataframe tbody tr th {\n",
              "        vertical-align: top;\n",
              "    }\n",
              "\n",
              "    .dataframe thead th {\n",
              "        text-align: right;\n",
              "    }\n",
              "</style>\n",
              "<table border=\"1\" class=\"dataframe\">\n",
              "  <thead>\n",
              "    <tr style=\"text-align: right;\">\n",
              "      <th></th>\n",
              "      <th>Accuracy</th>\n",
              "      <th>AUC</th>\n",
              "      <th>Recall</th>\n",
              "      <th>Prec.</th>\n",
              "      <th>F1</th>\n",
              "      <th>Kappa</th>\n",
              "    </tr>\n",
              "  </thead>\n",
              "  <tbody>\n",
              "    <tr>\n",
              "      <th>0</th>\n",
              "      <td>0.8678</td>\n",
              "      <td>0.6206</td>\n",
              "      <td>0.0</td>\n",
              "      <td>0.0</td>\n",
              "      <td>0.0</td>\n",
              "      <td>0.0000</td>\n",
              "    </tr>\n",
              "    <tr>\n",
              "      <th>1</th>\n",
              "      <td>0.8685</td>\n",
              "      <td>0.6491</td>\n",
              "      <td>0.0</td>\n",
              "      <td>0.0</td>\n",
              "      <td>0.0</td>\n",
              "      <td>0.0000</td>\n",
              "    </tr>\n",
              "    <tr>\n",
              "      <th>2</th>\n",
              "      <td>0.8685</td>\n",
              "      <td>0.6573</td>\n",
              "      <td>0.0</td>\n",
              "      <td>0.0</td>\n",
              "      <td>0.0</td>\n",
              "      <td>0.0000</td>\n",
              "    </tr>\n",
              "    <tr>\n",
              "      <th>3</th>\n",
              "      <td>0.8685</td>\n",
              "      <td>0.6488</td>\n",
              "      <td>0.0</td>\n",
              "      <td>0.0</td>\n",
              "      <td>0.0</td>\n",
              "      <td>0.0000</td>\n",
              "    </tr>\n",
              "    <tr>\n",
              "      <th>4</th>\n",
              "      <td>0.8677</td>\n",
              "      <td>0.6334</td>\n",
              "      <td>0.0</td>\n",
              "      <td>0.0</td>\n",
              "      <td>0.0</td>\n",
              "      <td>0.0000</td>\n",
              "    </tr>\n",
              "    <tr>\n",
              "      <th>5</th>\n",
              "      <td>0.8677</td>\n",
              "      <td>0.6490</td>\n",
              "      <td>0.0</td>\n",
              "      <td>0.0</td>\n",
              "      <td>0.0</td>\n",
              "      <td>0.0000</td>\n",
              "    </tr>\n",
              "    <tr>\n",
              "      <th>6</th>\n",
              "      <td>0.8677</td>\n",
              "      <td>0.6864</td>\n",
              "      <td>0.0</td>\n",
              "      <td>0.0</td>\n",
              "      <td>0.0</td>\n",
              "      <td>0.0000</td>\n",
              "    </tr>\n",
              "    <tr>\n",
              "      <th>7</th>\n",
              "      <td>0.8677</td>\n",
              "      <td>0.6577</td>\n",
              "      <td>0.0</td>\n",
              "      <td>0.0</td>\n",
              "      <td>0.0</td>\n",
              "      <td>0.0000</td>\n",
              "    </tr>\n",
              "    <tr>\n",
              "      <th>8</th>\n",
              "      <td>0.8669</td>\n",
              "      <td>0.7040</td>\n",
              "      <td>0.0</td>\n",
              "      <td>0.0</td>\n",
              "      <td>0.0</td>\n",
              "      <td>-0.0015</td>\n",
              "    </tr>\n",
              "    <tr>\n",
              "      <th>9</th>\n",
              "      <td>0.8677</td>\n",
              "      <td>0.6925</td>\n",
              "      <td>0.0</td>\n",
              "      <td>0.0</td>\n",
              "      <td>0.0</td>\n",
              "      <td>0.0000</td>\n",
              "    </tr>\n",
              "    <tr>\n",
              "      <th>Mean</th>\n",
              "      <td>0.8679</td>\n",
              "      <td>0.6599</td>\n",
              "      <td>0.0</td>\n",
              "      <td>0.0</td>\n",
              "      <td>0.0</td>\n",
              "      <td>-0.0002</td>\n",
              "    </tr>\n",
              "    <tr>\n",
              "      <th>SD</th>\n",
              "      <td>0.0005</td>\n",
              "      <td>0.0251</td>\n",
              "      <td>0.0</td>\n",
              "      <td>0.0</td>\n",
              "      <td>0.0</td>\n",
              "      <td>0.0005</td>\n",
              "    </tr>\n",
              "  </tbody>\n",
              "</table>\n",
              "</div>"
            ],
            "text/plain": [
              "      Accuracy     AUC  Recall  Prec.   F1   Kappa\n",
              "0       0.8678  0.6206     0.0    0.0  0.0  0.0000\n",
              "1       0.8685  0.6491     0.0    0.0  0.0  0.0000\n",
              "2       0.8685  0.6573     0.0    0.0  0.0  0.0000\n",
              "3       0.8685  0.6488     0.0    0.0  0.0  0.0000\n",
              "4       0.8677  0.6334     0.0    0.0  0.0  0.0000\n",
              "5       0.8677  0.6490     0.0    0.0  0.0  0.0000\n",
              "6       0.8677  0.6864     0.0    0.0  0.0  0.0000\n",
              "7       0.8677  0.6577     0.0    0.0  0.0  0.0000\n",
              "8       0.8669  0.7040     0.0    0.0  0.0 -0.0015\n",
              "9       0.8677  0.6925     0.0    0.0  0.0  0.0000\n",
              "Mean    0.8679  0.6599     0.0    0.0  0.0 -0.0002\n",
              "SD      0.0005  0.0251     0.0    0.0  0.0  0.0005"
            ]
          },
          "metadata": {
            "tags": []
          }
        }
      ]
    },
    {
      "cell_type": "code",
      "metadata": {
        "id": "qH4ZI0VoVgZz",
        "colab_type": "code",
        "colab": {
          "base_uri": "https://localhost:8080/",
          "height": 417,
          "referenced_widgets": [
            "fe698fd8f5ea4c07a8b17d67c5a64291",
            "0abc031fb8904fe7ac7ea6ca63ef2e37",
            "46a0f07b7aa34e079176d69cc2e5fc29"
          ]
        },
        "outputId": "7def405c-dff8-43a6-ae17-c03a80985dba"
      },
      "source": [
        "boosting_xgb = ensemble_model(classification_xgb, method= 'Boosting')"
      ],
      "execution_count": 64,
      "outputs": [
        {
          "output_type": "display_data",
          "data": {
            "text/html": [
              "<div>\n",
              "<style scoped>\n",
              "    .dataframe tbody tr th:only-of-type {\n",
              "        vertical-align: middle;\n",
              "    }\n",
              "\n",
              "    .dataframe tbody tr th {\n",
              "        vertical-align: top;\n",
              "    }\n",
              "\n",
              "    .dataframe thead th {\n",
              "        text-align: right;\n",
              "    }\n",
              "</style>\n",
              "<table border=\"1\" class=\"dataframe\">\n",
              "  <thead>\n",
              "    <tr style=\"text-align: right;\">\n",
              "      <th></th>\n",
              "      <th>Accuracy</th>\n",
              "      <th>AUC</th>\n",
              "      <th>Recall</th>\n",
              "      <th>Prec.</th>\n",
              "      <th>F1</th>\n",
              "      <th>Kappa</th>\n",
              "    </tr>\n",
              "  </thead>\n",
              "  <tbody>\n",
              "    <tr>\n",
              "      <th>0</th>\n",
              "      <td>0.8678</td>\n",
              "      <td>0.5</td>\n",
              "      <td>0.0</td>\n",
              "      <td>0.0</td>\n",
              "      <td>0.0</td>\n",
              "      <td>0.0</td>\n",
              "    </tr>\n",
              "    <tr>\n",
              "      <th>1</th>\n",
              "      <td>0.8685</td>\n",
              "      <td>0.5</td>\n",
              "      <td>0.0</td>\n",
              "      <td>0.0</td>\n",
              "      <td>0.0</td>\n",
              "      <td>0.0</td>\n",
              "    </tr>\n",
              "    <tr>\n",
              "      <th>2</th>\n",
              "      <td>0.8685</td>\n",
              "      <td>0.5</td>\n",
              "      <td>0.0</td>\n",
              "      <td>0.0</td>\n",
              "      <td>0.0</td>\n",
              "      <td>0.0</td>\n",
              "    </tr>\n",
              "    <tr>\n",
              "      <th>3</th>\n",
              "      <td>0.8685</td>\n",
              "      <td>0.5</td>\n",
              "      <td>0.0</td>\n",
              "      <td>0.0</td>\n",
              "      <td>0.0</td>\n",
              "      <td>0.0</td>\n",
              "    </tr>\n",
              "    <tr>\n",
              "      <th>4</th>\n",
              "      <td>0.8677</td>\n",
              "      <td>0.5</td>\n",
              "      <td>0.0</td>\n",
              "      <td>0.0</td>\n",
              "      <td>0.0</td>\n",
              "      <td>0.0</td>\n",
              "    </tr>\n",
              "    <tr>\n",
              "      <th>5</th>\n",
              "      <td>0.8677</td>\n",
              "      <td>0.5</td>\n",
              "      <td>0.0</td>\n",
              "      <td>0.0</td>\n",
              "      <td>0.0</td>\n",
              "      <td>0.0</td>\n",
              "    </tr>\n",
              "    <tr>\n",
              "      <th>6</th>\n",
              "      <td>0.8677</td>\n",
              "      <td>0.5</td>\n",
              "      <td>0.0</td>\n",
              "      <td>0.0</td>\n",
              "      <td>0.0</td>\n",
              "      <td>0.0</td>\n",
              "    </tr>\n",
              "    <tr>\n",
              "      <th>7</th>\n",
              "      <td>0.8677</td>\n",
              "      <td>0.5</td>\n",
              "      <td>0.0</td>\n",
              "      <td>0.0</td>\n",
              "      <td>0.0</td>\n",
              "      <td>0.0</td>\n",
              "    </tr>\n",
              "    <tr>\n",
              "      <th>8</th>\n",
              "      <td>0.8677</td>\n",
              "      <td>0.5</td>\n",
              "      <td>0.0</td>\n",
              "      <td>0.0</td>\n",
              "      <td>0.0</td>\n",
              "      <td>0.0</td>\n",
              "    </tr>\n",
              "    <tr>\n",
              "      <th>9</th>\n",
              "      <td>0.8677</td>\n",
              "      <td>0.5</td>\n",
              "      <td>0.0</td>\n",
              "      <td>0.0</td>\n",
              "      <td>0.0</td>\n",
              "      <td>0.0</td>\n",
              "    </tr>\n",
              "    <tr>\n",
              "      <th>Mean</th>\n",
              "      <td>0.8679</td>\n",
              "      <td>0.5</td>\n",
              "      <td>0.0</td>\n",
              "      <td>0.0</td>\n",
              "      <td>0.0</td>\n",
              "      <td>0.0</td>\n",
              "    </tr>\n",
              "    <tr>\n",
              "      <th>SD</th>\n",
              "      <td>0.0004</td>\n",
              "      <td>0.0</td>\n",
              "      <td>0.0</td>\n",
              "      <td>0.0</td>\n",
              "      <td>0.0</td>\n",
              "      <td>0.0</td>\n",
              "    </tr>\n",
              "  </tbody>\n",
              "</table>\n",
              "</div>"
            ],
            "text/plain": [
              "      Accuracy  AUC  Recall  Prec.   F1  Kappa\n",
              "0       0.8678  0.5     0.0    0.0  0.0    0.0\n",
              "1       0.8685  0.5     0.0    0.0  0.0    0.0\n",
              "2       0.8685  0.5     0.0    0.0  0.0    0.0\n",
              "3       0.8685  0.5     0.0    0.0  0.0    0.0\n",
              "4       0.8677  0.5     0.0    0.0  0.0    0.0\n",
              "5       0.8677  0.5     0.0    0.0  0.0    0.0\n",
              "6       0.8677  0.5     0.0    0.0  0.0    0.0\n",
              "7       0.8677  0.5     0.0    0.0  0.0    0.0\n",
              "8       0.8677  0.5     0.0    0.0  0.0    0.0\n",
              "9       0.8677  0.5     0.0    0.0  0.0    0.0\n",
              "Mean    0.8679  0.5     0.0    0.0  0.0    0.0\n",
              "SD      0.0004  0.0     0.0    0.0  0.0    0.0"
            ]
          },
          "metadata": {
            "tags": []
          }
        }
      ]
    },
    {
      "cell_type": "code",
      "metadata": {
        "id": "xo5K4dGDZaVP",
        "colab_type": "code",
        "colab": {}
      },
      "source": [
        "final_xgb = finalize_model(bagged_xgb)"
      ],
      "execution_count": 0,
      "outputs": []
    },
    {
      "cell_type": "code",
      "metadata": {
        "id": "5vfE2zkrVqUN",
        "colab_type": "code",
        "colab": {}
      },
      "source": [
        "test_pred = predict_model(final_xgb, data = test)"
      ],
      "execution_count": 0,
      "outputs": []
    },
    {
      "cell_type": "code",
      "metadata": {
        "id": "mIxrQzdQcowM",
        "colab_type": "code",
        "colab": {
          "base_uri": "https://localhost:8080/",
          "height": 239
        },
        "outputId": "1ab27568-0752-48e2-f055-c382e8730cae"
      },
      "source": [
        "test_pred.head()"
      ],
      "execution_count": 70,
      "outputs": [
        {
          "output_type": "execute_result",
          "data": {
            "text/html": [
              "<div>\n",
              "<style scoped>\n",
              "    .dataframe tbody tr th:only-of-type {\n",
              "        vertical-align: middle;\n",
              "    }\n",
              "\n",
              "    .dataframe tbody tr th {\n",
              "        vertical-align: top;\n",
              "    }\n",
              "\n",
              "    .dataframe thead th {\n",
              "        text-align: right;\n",
              "    }\n",
              "</style>\n",
              "<table border=\"1\" class=\"dataframe\">\n",
              "  <thead>\n",
              "    <tr style=\"text-align: right;\">\n",
              "      <th></th>\n",
              "      <th>enrollee_id</th>\n",
              "      <th>city</th>\n",
              "      <th>city_development_index</th>\n",
              "      <th>gender</th>\n",
              "      <th>relevent_experience</th>\n",
              "      <th>enrolled_university</th>\n",
              "      <th>education_level</th>\n",
              "      <th>major_discipline</th>\n",
              "      <th>experience</th>\n",
              "      <th>company_size</th>\n",
              "      <th>company_type</th>\n",
              "      <th>last_new_job</th>\n",
              "      <th>training_hours</th>\n",
              "      <th>target_mean_grouped_by_gender</th>\n",
              "      <th>target_mean_grouped_by_relevent_exp</th>\n",
              "      <th>target_mean_grouped_by_enrolled_university</th>\n",
              "      <th>target_mean_grouped_by_education_level</th>\n",
              "      <th>target_mean_grouped_by_major_discipline</th>\n",
              "      <th>target_mean_grouped_by_experience</th>\n",
              "      <th>target_mean_grouped_by_company_size</th>\n",
              "      <th>target_mean_grouped_by_company_type</th>\n",
              "      <th>Label</th>\n",
              "      <th>Score</th>\n",
              "    </tr>\n",
              "  </thead>\n",
              "  <tbody>\n",
              "    <tr>\n",
              "      <th>0</th>\n",
              "      <td>16548</td>\n",
              "      <td>city_33</td>\n",
              "      <td>0.448</td>\n",
              "      <td>1</td>\n",
              "      <td>No relevent experience</td>\n",
              "      <td>3</td>\n",
              "      <td>3</td>\n",
              "      <td>6</td>\n",
              "      <td>0</td>\n",
              "      <td>Medium</td>\n",
              "      <td>2</td>\n",
              "      <td>Missing</td>\n",
              "      <td>0.041791</td>\n",
              "      <td>0.15</td>\n",
              "      <td>0.17</td>\n",
              "      <td>0.19</td>\n",
              "      <td>0.14</td>\n",
              "      <td>0.14</td>\n",
              "      <td>0.17</td>\n",
              "      <td>0.11</td>\n",
              "      <td>0.15</td>\n",
              "      <td>1</td>\n",
              "      <td>0.5103</td>\n",
              "    </tr>\n",
              "    <tr>\n",
              "      <th>1</th>\n",
              "      <td>12036</td>\n",
              "      <td>city_28</td>\n",
              "      <td>0.939</td>\n",
              "      <td>2</td>\n",
              "      <td>No relevent experience</td>\n",
              "      <td>1</td>\n",
              "      <td>3</td>\n",
              "      <td>6</td>\n",
              "      <td>4</td>\n",
              "      <td>Small</td>\n",
              "      <td>3</td>\n",
              "      <td>1</td>\n",
              "      <td>0.277612</td>\n",
              "      <td>0.12</td>\n",
              "      <td>0.17</td>\n",
              "      <td>0.12</td>\n",
              "      <td>0.14</td>\n",
              "      <td>0.14</td>\n",
              "      <td>0.10</td>\n",
              "      <td>0.11</td>\n",
              "      <td>0.11</td>\n",
              "      <td>0</td>\n",
              "      <td>0.0740</td>\n",
              "    </tr>\n",
              "    <tr>\n",
              "      <th>2</th>\n",
              "      <td>11061</td>\n",
              "      <td>city_103</td>\n",
              "      <td>0.920</td>\n",
              "      <td>2</td>\n",
              "      <td>No relevent experience</td>\n",
              "      <td>3</td>\n",
              "      <td>3</td>\n",
              "      <td>6</td>\n",
              "      <td>3</td>\n",
              "      <td>Missing</td>\n",
              "      <td>0</td>\n",
              "      <td>1</td>\n",
              "      <td>0.047761</td>\n",
              "      <td>0.12</td>\n",
              "      <td>0.17</td>\n",
              "      <td>0.19</td>\n",
              "      <td>0.14</td>\n",
              "      <td>0.14</td>\n",
              "      <td>0.14</td>\n",
              "      <td>0.19</td>\n",
              "      <td>0.18</td>\n",
              "      <td>0</td>\n",
              "      <td>0.3310</td>\n",
              "    </tr>\n",
              "    <tr>\n",
              "      <th>3</th>\n",
              "      <td>5032</td>\n",
              "      <td>city_104</td>\n",
              "      <td>0.924</td>\n",
              "      <td>2</td>\n",
              "      <td>No relevent experience</td>\n",
              "      <td>1</td>\n",
              "      <td>5</td>\n",
              "      <td>6</td>\n",
              "      <td>4</td>\n",
              "      <td>Small</td>\n",
              "      <td>3</td>\n",
              "      <td>2</td>\n",
              "      <td>0.223881</td>\n",
              "      <td>0.12</td>\n",
              "      <td>0.17</td>\n",
              "      <td>0.12</td>\n",
              "      <td>0.12</td>\n",
              "      <td>0.14</td>\n",
              "      <td>0.10</td>\n",
              "      <td>0.11</td>\n",
              "      <td>0.11</td>\n",
              "      <td>0</td>\n",
              "      <td>0.0793</td>\n",
              "    </tr>\n",
              "    <tr>\n",
              "      <th>4</th>\n",
              "      <td>17599</td>\n",
              "      <td>city_77</td>\n",
              "      <td>0.830</td>\n",
              "      <td>2</td>\n",
              "      <td>Has relevent experience</td>\n",
              "      <td>1</td>\n",
              "      <td>3</td>\n",
              "      <td>6</td>\n",
              "      <td>3</td>\n",
              "      <td>Very Small</td>\n",
              "      <td>3</td>\n",
              "      <td>2</td>\n",
              "      <td>0.191045</td>\n",
              "      <td>0.12</td>\n",
              "      <td>0.12</td>\n",
              "      <td>0.12</td>\n",
              "      <td>0.14</td>\n",
              "      <td>0.14</td>\n",
              "      <td>0.14</td>\n",
              "      <td>0.11</td>\n",
              "      <td>0.11</td>\n",
              "      <td>0</td>\n",
              "      <td>0.1117</td>\n",
              "    </tr>\n",
              "  </tbody>\n",
              "</table>\n",
              "</div>"
            ],
            "text/plain": [
              "   enrollee_id      city  ...  Label   Score\n",
              "0        16548   city_33  ...      1  0.5103\n",
              "1        12036   city_28  ...      0  0.0740\n",
              "2        11061  city_103  ...      0  0.3310\n",
              "3         5032  city_104  ...      0  0.0793\n",
              "4        17599   city_77  ...      0  0.1117\n",
              "\n",
              "[5 rows x 23 columns]"
            ]
          },
          "metadata": {
            "tags": []
          },
          "execution_count": 70
        }
      ]
    },
    {
      "cell_type": "code",
      "metadata": {
        "id": "YNBrpEQicR0t",
        "colab_type": "code",
        "colab": {}
      },
      "source": [
        "submission = pd.DataFrame()\n",
        "submission['enrollee_id'] = test['enrollee_id']\n",
        "submission['target'] = test_pred['Label']\n",
        "submission.to_csv(path+'submission_1.csv',index = False)"
      ],
      "execution_count": 0,
      "outputs": []
    },
    {
      "cell_type": "markdown",
      "metadata": {
        "id": "KKWptIiGdd4J",
        "colab_type": "text"
      },
      "source": [
        ""
      ]
    }
  ]
}